{
 "cells": [
  {
   "cell_type": "code",
   "execution_count": 1,
   "metadata": {
    "slideshow": {
     "slide_type": ""
    },
    "tags": []
   },
   "outputs": [
    {
     "ename": "ModuleNotFoundError",
     "evalue": "No module named 'pybryt'",
     "output_type": "error",
     "traceback": [
      "\u001b[1;31m---------------------------------------------------------------------------\u001b[0m",
      "\u001b[1;31mModuleNotFoundError\u001b[0m                       Traceback (most recent call last)",
      "Cell \u001b[1;32mIn[1], line 1\u001b[0m\n\u001b[1;32m----> 1\u001b[0m \u001b[38;5;28;01mimport\u001b[39;00m \u001b[38;5;21;01mpybryt\u001b[39;00m\n\u001b[0;32m      2\u001b[0m \u001b[38;5;28;01mfrom\u001b[39;00m \u001b[38;5;21;01mlecture\u001b[39;00m \u001b[38;5;28;01mimport\u001b[39;00m pybryt_reference\n",
      "\u001b[1;31mModuleNotFoundError\u001b[0m: No module named 'pybryt'"
     ]
    }
   ],
   "source": [
    "import pybryt\n",
    "from lecture import pybryt_reference"
   ]
  },
  {
   "cell_type": "markdown",
   "metadata": {
    "nbpresent": {
     "id": "82db8e87-ce21-4456-a53a-3f54a2fee020"
    },
    "slideshow": {
     "slide_type": "slide"
    },
    "tags": []
   },
   "source": [
    "# Introduction to Python\n",
    "\n",
    "# Lecture 2"
   ]
  },
  {
   "cell_type": "markdown",
   "metadata": {
    "nbpresent": {
     "id": "c9ae4148-a67c-4845-91ec-d17016071d1f"
    },
    "slideshow": {
     "slide_type": "slide"
    },
    "tags": []
   },
   "source": [
    "## Learning objectives:\n",
    "\n",
    "At the end of this lecture, you will be able to:\n",
    "\n",
    "* Modify elements in a `list`.\n",
    "* Iterate through different combinations of lists.\n",
    "* Use a `tuple` to store data elements and understand how it differs from a `list`.\n",
    "* Explain the difference between locally-scoped and globally-scoped variables.\n",
    "* Use an `if`-statement to execute some code blocks conditionally.\n",
    "* Perform computations using [Numerical Python (*NumPy*)](http://www.numpy.org/).\n",
    "* Handle multidimensional arrays."
   ]
  },
  {
   "cell_type": "markdown",
   "metadata": {
    "nbpresent": {
     "id": "f2af93fa-2e4b-46f7-b762-cf6df11749f8"
    },
    "slideshow": {
     "slide_type": "slide"
    },
    "tags": []
   },
   "source": [
    "# Changing elements in a list\n",
    "Let's say we want to add 2 to all the numbers in a list `v`. To do that, we have to use an index to access and modify its elements:"
   ]
  },
  {
   "cell_type": "code",
   "execution_count": 3,
   "metadata": {
    "nbpresent": {
     "id": "06618fed-61ff-443d-b1f2-0777a4719338"
    },
    "slideshow": {
     "slide_type": "fragment"
    },
    "tags": []
   },
   "outputs": [
    {
     "name": "stdout",
     "output_type": "stream",
     "text": [
      "List before modification: v=[-1, 1, 10]\n",
      "List after modification: v=[-1, 4, 10]\n"
     ]
    }
   ],
   "source": [
    "v = [-1, 1, 10]\n",
    "print(f\"List before modification: {v=}\")\n",
    "\n",
    "v[1] = 4  # assign 4 to the 2nd element (index 1) in v\n",
    "print(f\"List after modification: {v=}\")"
   ]
  },
  {
   "cell_type": "markdown",
   "metadata": {
    "nbpresent": {
     "id": "7ede01a3-9bb3-4a8a-9aa0-a31f76e8b424"
    },
    "slideshow": {
     "slide_type": "subslide"
    },
    "tags": []
   },
   "source": [
    "Please note how we used `{v=}` in f-string to add `v=` in front of the list.\n",
    "\n",
    "Now, to add 2 to all values we need a `for` loop over indices:"
   ]
  },
  {
   "cell_type": "code",
   "execution_count": 5,
   "metadata": {
    "nbpresent": {
     "id": "0358d409-1512-43e9-a94b-147ca8d61701"
    },
    "slideshow": {
     "slide_type": "fragment"
    },
    "tags": []
   },
   "outputs": [
    {
     "name": "stdout",
     "output_type": "stream",
     "text": [
      "[1, 3, 12]\n"
     ]
    }
   ],
   "source": [
    "v = [-1, 1, 10]\n",
    "for i in range(len(v)):\n",
    "    v[i] = v[i] + 2\n",
    "print(v)"
   ]
  },
  {
   "cell_type": "markdown",
   "metadata": {
    "slideshow": {
     "slide_type": ""
    },
    "tags": []
   },
   "source": [
    "Note that this time we iterate over the indices of the list elements\n",
    "\n",
    "```python\n",
    "for i in range(len(v)):\n",
    "    ...\n",
    "```\n",
    "\n",
    "instead of iterating over the values of elements in the list\n",
    "\n",
    "```python\n",
    "for e in v:\n",
    "    ...\n",
    "```"
   ]
  },
  {
   "cell_type": "markdown",
   "metadata": {
    "slideshow": {
     "slide_type": ""
    },
    "tags": []
   },
   "source": [
    "## `enumerate` built-in\n",
    "\n",
    "As we have seen previouly, we often need to use both the value of an element in a sequence and its index. Python provides a convenience built-in function `enumerate` to make this syntax clearer:"
   ]
  },
  {
   "cell_type": "code",
   "execution_count": 7,
   "metadata": {
    "slideshow": {
     "slide_type": ""
    },
    "tags": []
   },
   "outputs": [
    {
     "name": "stdout",
     "output_type": "stream",
     "text": [
      "[1, 3, 12]\n"
     ]
    }
   ],
   "source": [
    "v = [-1, 1, 10]\n",
    "for index, value in enumerate(v):\n",
    "    v[index] = value + 2\n",
    "\n",
    "print(v)"
   ]
  },
  {
   "cell_type": "markdown",
   "metadata": {
    "nbpresent": {
     "id": "e6d3aa98-dde7-4c7e-ae3d-a077d553fb3d"
    },
    "slideshow": {
     "slide_type": ""
    },
    "tags": []
   },
   "source": [
    "## Exercise 2.1: Create a list and modify it.\n",
    "\n",
    "Write a Python function `mult(vector, n)` which takes list `vector` and number `n` as input arguments. The function should multiply each element in the list by `n` using a `for` loop and return the resulting list."
   ]
  },
  {
   "cell_type": "code",
   "execution_count": 9,
   "metadata": {
    "nbpresent": {
     "id": "8183a872-d8d8-4a55-a14e-fd98afa3ecfc"
    },
    "slideshow": {
     "slide_type": ""
    },
    "tags": []
   },
   "outputs": [],
   "source": [
    "# Uncomment and modify the following lines. Do not change any variable names for testing purposes.\n",
    "\n",
    "def mult(vector, n):\n",
    "    for i,value in enumerate(vector):\n",
    "        vector[i]=value*n\n",
    "    return vector\n"
   ]
  },
  {
   "cell_type": "code",
   "execution_count": 13,
   "metadata": {
    "slideshow": {
     "slide_type": ""
    },
    "tags": [
     "pybryt"
    ]
   },
   "outputs": [
    {
     "ename": "AttributeError",
     "evalue": "Can't get attribute 'ReturnValue' on <module 'pybryt.annotations.value' from '/usr/local/lib/python3.10/site-packages/pybryt/annotations/value.py'>",
     "output_type": "error",
     "traceback": [
      "\u001b[0;31m---------------------------------------------------------------------------\u001b[0m",
      "\u001b[0;31mAttributeError\u001b[0m                            Traceback (most recent call last)",
      "Cell \u001b[0;32mIn[13], line 1\u001b[0m\n\u001b[0;32m----> 1\u001b[0m \u001b[38;5;28;01mwith\u001b[39;00m \u001b[43mpybryt\u001b[49m\u001b[38;5;241;43m.\u001b[39;49m\u001b[43mcheck\u001b[49m\u001b[43m(\u001b[49m\u001b[43mpybryt_reference\u001b[49m\u001b[43m(\u001b[49m\u001b[38;5;241;43m2\u001b[39;49m\u001b[43m,\u001b[49m\u001b[43m \u001b[49m\u001b[38;5;241;43m1\u001b[39;49m\u001b[43m)\u001b[49m\u001b[43m)\u001b[49m:\n\u001b[1;32m      2\u001b[0m     mult([\u001b[38;5;241m2.1\u001b[39m, \u001b[38;5;241m99.9\u001b[39m, \u001b[38;5;241m-\u001b[39m\u001b[38;5;241m10\u001b[39m, \u001b[38;5;241m2\u001b[39m], \u001b[38;5;241m3\u001b[39m)\n",
      "File \u001b[0;32m/usr/local/lib/python3.10/site-packages/pybryt/student.py:351\u001b[0m, in \u001b[0;36mcheck.__init__\u001b[0;34m(self, ref, report_on_error, show_only, cache, **kwargs)\u001b[0m\n\u001b[1;32m    346\u001b[0m \u001b[38;5;28;01mdef\u001b[39;00m\u001b[38;5;250m \u001b[39m\u001b[38;5;21m__init__\u001b[39m(\n\u001b[1;32m    347\u001b[0m     \u001b[38;5;28mself\u001b[39m, ref: Union[\u001b[38;5;28mstr\u001b[39m, ReferenceImplementation, List[\u001b[38;5;28mstr\u001b[39m], List[ReferenceImplementation]], \n\u001b[1;32m    348\u001b[0m     report_on_error: \u001b[38;5;28mbool\u001b[39m \u001b[38;5;241m=\u001b[39m \u001b[38;5;28;01mTrue\u001b[39;00m, show_only: Optional[\u001b[38;5;28mstr\u001b[39m] \u001b[38;5;241m=\u001b[39m \u001b[38;5;28;01mNone\u001b[39;00m, cache: \u001b[38;5;28mbool\u001b[39m \u001b[38;5;241m=\u001b[39m \u001b[38;5;28;01mTrue\u001b[39;00m, \u001b[38;5;241m*\u001b[39m\u001b[38;5;241m*\u001b[39mkwargs\n\u001b[1;32m    349\u001b[0m ):\n\u001b[1;32m    350\u001b[0m     \u001b[38;5;28;01mif\u001b[39;00m \u001b[38;5;28misinstance\u001b[39m(ref, \u001b[38;5;28mstr\u001b[39m):\n\u001b[0;32m--> 351\u001b[0m         ref \u001b[38;5;241m=\u001b[39m \u001b[43mReferenceImplementation\u001b[49m\u001b[38;5;241;43m.\u001b[39;49m\u001b[43mload\u001b[49m\u001b[43m(\u001b[49m\u001b[43mref\u001b[49m\u001b[43m)\u001b[49m\n\u001b[1;32m    352\u001b[0m     \u001b[38;5;28;01mif\u001b[39;00m \u001b[38;5;28misinstance\u001b[39m(ref, ReferenceImplementation):\n\u001b[1;32m    353\u001b[0m         ref \u001b[38;5;241m=\u001b[39m [ref]\n",
      "File \u001b[0;32m/usr/local/lib/python3.10/site-packages/pybryt/utils.py:190\u001b[0m, in \u001b[0;36mSerializable.load\u001b[0;34m(cls, file)\u001b[0m\n\u001b[1;32m    180\u001b[0m \u001b[38;5;250m\u001b[39m\u001b[38;5;124;03m\"\"\"\u001b[39;00m\n\u001b[1;32m    181\u001b[0m \u001b[38;5;124;03mUnpickles an object from a file.\u001b[39;00m\n\u001b[1;32m    182\u001b[0m \n\u001b[0;32m   (...)\u001b[0m\n\u001b[1;32m    187\u001b[0m \u001b[38;5;124;03m    ``Serializable``: the unpickled object\u001b[39;00m\n\u001b[1;32m    188\u001b[0m \u001b[38;5;124;03m\"\"\"\u001b[39;00m\n\u001b[1;32m    189\u001b[0m \u001b[38;5;28;01mwith\u001b[39;00m \u001b[38;5;28mopen\u001b[39m(file, \u001b[38;5;124m\"\u001b[39m\u001b[38;5;124mrb\u001b[39m\u001b[38;5;124m\"\u001b[39m) \u001b[38;5;28;01mas\u001b[39;00m f:\n\u001b[0;32m--> 190\u001b[0m     instance \u001b[38;5;241m=\u001b[39m \u001b[43mdill\u001b[49m\u001b[38;5;241;43m.\u001b[39;49m\u001b[43mload\u001b[49m\u001b[43m(\u001b[49m\u001b[43mf\u001b[49m\u001b[43m)\u001b[49m\n\u001b[1;32m    191\u001b[0m \u001b[38;5;28;01mif\u001b[39;00m \u001b[38;5;129;01mnot\u001b[39;00m \u001b[38;5;28misinstance\u001b[39m(instance, \u001b[38;5;28mcls\u001b[39m):\n\u001b[1;32m    192\u001b[0m     \u001b[38;5;28;01mraise\u001b[39;00m \u001b[38;5;167;01mTypeError\u001b[39;00m(\u001b[38;5;124mf\u001b[39m\u001b[38;5;124m\"\u001b[39m\u001b[38;5;124mUnpickled object is not of type \u001b[39m\u001b[38;5;132;01m{\u001b[39;00m\u001b[38;5;28mcls\u001b[39m\u001b[38;5;132;01m}\u001b[39;00m\u001b[38;5;124m\"\u001b[39m)\n",
      "File \u001b[0;32m/usr/local/lib/python3.10/site-packages/dill/_dill.py:297\u001b[0m, in \u001b[0;36mload\u001b[0;34m(file, ignore, **kwds)\u001b[0m\n\u001b[1;32m    291\u001b[0m \u001b[38;5;28;01mdef\u001b[39;00m\u001b[38;5;250m \u001b[39m\u001b[38;5;21mload\u001b[39m(file, ignore\u001b[38;5;241m=\u001b[39m\u001b[38;5;28;01mNone\u001b[39;00m, \u001b[38;5;241m*\u001b[39m\u001b[38;5;241m*\u001b[39mkwds):\n\u001b[1;32m    292\u001b[0m \u001b[38;5;250m    \u001b[39m\u001b[38;5;124;03m\"\"\"\u001b[39;00m\n\u001b[1;32m    293\u001b[0m \u001b[38;5;124;03m    Unpickle an object from a file.\u001b[39;00m\n\u001b[1;32m    294\u001b[0m \n\u001b[1;32m    295\u001b[0m \u001b[38;5;124;03m    See :func:`loads` for keyword arguments.\u001b[39;00m\n\u001b[1;32m    296\u001b[0m \u001b[38;5;124;03m    \"\"\"\u001b[39;00m\n\u001b[0;32m--> 297\u001b[0m     \u001b[38;5;28;01mreturn\u001b[39;00m \u001b[43mUnpickler\u001b[49m\u001b[43m(\u001b[49m\u001b[43mfile\u001b[49m\u001b[43m,\u001b[49m\u001b[43m \u001b[49m\u001b[43mignore\u001b[49m\u001b[38;5;241;43m=\u001b[39;49m\u001b[43mignore\u001b[49m\u001b[43m,\u001b[49m\u001b[43m \u001b[49m\u001b[38;5;241;43m*\u001b[39;49m\u001b[38;5;241;43m*\u001b[39;49m\u001b[43mkwds\u001b[49m\u001b[43m)\u001b[49m\u001b[38;5;241;43m.\u001b[39;49m\u001b[43mload\u001b[49m\u001b[43m(\u001b[49m\u001b[43m)\u001b[49m\n",
      "File \u001b[0;32m/usr/local/lib/python3.10/site-packages/dill/_dill.py:452\u001b[0m, in \u001b[0;36mUnpickler.load\u001b[0;34m(self)\u001b[0m\n\u001b[1;32m    451\u001b[0m \u001b[38;5;28;01mdef\u001b[39;00m\u001b[38;5;250m \u001b[39m\u001b[38;5;21mload\u001b[39m(\u001b[38;5;28mself\u001b[39m): \u001b[38;5;66;03m#NOTE: if settings change, need to update attributes\u001b[39;00m\n\u001b[0;32m--> 452\u001b[0m     obj \u001b[38;5;241m=\u001b[39m \u001b[43mStockUnpickler\u001b[49m\u001b[38;5;241;43m.\u001b[39;49m\u001b[43mload\u001b[49m\u001b[43m(\u001b[49m\u001b[38;5;28;43mself\u001b[39;49m\u001b[43m)\u001b[49m\n\u001b[1;32m    453\u001b[0m     \u001b[38;5;28;01mif\u001b[39;00m \u001b[38;5;28mtype\u001b[39m(obj)\u001b[38;5;241m.\u001b[39m\u001b[38;5;18m__module__\u001b[39m \u001b[38;5;241m==\u001b[39m \u001b[38;5;28mgetattr\u001b[39m(_main_module, \u001b[38;5;124m'\u001b[39m\u001b[38;5;124m__name__\u001b[39m\u001b[38;5;124m'\u001b[39m, \u001b[38;5;124m'\u001b[39m\u001b[38;5;124m__main__\u001b[39m\u001b[38;5;124m'\u001b[39m):\n\u001b[1;32m    454\u001b[0m         \u001b[38;5;28;01mif\u001b[39;00m \u001b[38;5;129;01mnot\u001b[39;00m \u001b[38;5;28mself\u001b[39m\u001b[38;5;241m.\u001b[39m_ignore:\n\u001b[1;32m    455\u001b[0m             \u001b[38;5;66;03m# point obj class to main\u001b[39;00m\n",
      "File \u001b[0;32m/usr/local/lib/python3.10/site-packages/dill/_dill.py:442\u001b[0m, in \u001b[0;36mUnpickler.find_class\u001b[0;34m(self, module, name)\u001b[0m\n\u001b[1;32m    440\u001b[0m     \u001b[38;5;28;01mreturn\u001b[39;00m \u001b[38;5;28mtype\u001b[39m(\u001b[38;5;28;01mNone\u001b[39;00m) \u001b[38;5;66;03m#XXX: special case: NoneType missing\u001b[39;00m\n\u001b[1;32m    441\u001b[0m \u001b[38;5;28;01mif\u001b[39;00m module \u001b[38;5;241m==\u001b[39m \u001b[38;5;124m'\u001b[39m\u001b[38;5;124mdill.dill\u001b[39m\u001b[38;5;124m'\u001b[39m: module \u001b[38;5;241m=\u001b[39m \u001b[38;5;124m'\u001b[39m\u001b[38;5;124mdill._dill\u001b[39m\u001b[38;5;124m'\u001b[39m\n\u001b[0;32m--> 442\u001b[0m \u001b[38;5;28;01mreturn\u001b[39;00m \u001b[43mStockUnpickler\u001b[49m\u001b[38;5;241;43m.\u001b[39;49m\u001b[43mfind_class\u001b[49m\u001b[43m(\u001b[49m\u001b[38;5;28;43mself\u001b[39;49m\u001b[43m,\u001b[49m\u001b[43m \u001b[49m\u001b[43mmodule\u001b[49m\u001b[43m,\u001b[49m\u001b[43m \u001b[49m\u001b[43mname\u001b[49m\u001b[43m)\u001b[49m\n",
      "\u001b[0;31mAttributeError\u001b[0m: Can't get attribute 'ReturnValue' on <module 'pybryt.annotations.value' from '/usr/local/lib/python3.10/site-packages/pybryt/annotations/value.py'>"
     ]
    }
   ],
   "source": [
    "with pybryt.check(pybryt_reference(2, 1)):\n",
    "    mult([2.1, 99.9, -10, 2], 3)"
   ]
  },
  {
   "cell_type": "code",
   "execution_count": 6,
   "metadata": {
    "slideshow": {
     "slide_type": ""
    },
    "tags": [
     "nbgrader"
    ]
   },
   "outputs": [],
   "source": [
    "import numbers\n",
    "import numpy as np\n",
    "\n",
    "res = mult([1, 1.1, 1.11], 4)\n",
    "assert np.allclose(res, [4, 4.4, 4.44])\n",
    "assert isinstance(res, list)\n",
    "assert all([isinstance(i, numbers.Real) for i in res])\n",
    "assert len(res) == 3\n",
    "\n",
    "### BEGIN HIDDEN TESTS\n",
    "assert callable(mult)\n",
    "assert mult([], 5) == []\n",
    "### END HIDDEN TESTS"
   ]
  },
  {
   "cell_type": "markdown",
   "metadata": {
    "nbpresent": {
     "id": "19cc8075-dfee-473f-912e-ec504dcde2f0"
    },
    "slideshow": {
     "slide_type": "slide"
    },
    "tags": []
   },
   "source": [
    "## Traversing multiple lists simultaneously: `zip(list1, list2, ...)`\n",
    "Let us consider how we can loop over elements in both `Cdegrees` and `Fdegrees` at the same time. One approach would be to use list indices:"
   ]
  },
  {
   "cell_type": "code",
   "execution_count": 7,
   "metadata": {
    "nbpresent": {
     "id": "6c699b8c-adcb-4a73-a1fa-b3c9bd61e2d6"
    },
    "slideshow": {
     "slide_type": "fragment"
    },
    "tags": []
   },
   "outputs": [
    {
     "name": "stdout",
     "output_type": "stream",
     "text": [
      "-20 -4.0\n",
      "-15 5.0\n",
      "-10 14.0\n",
      "-5 23.0\n",
      "0 32.0\n",
      "5 41.0\n",
      "10 50.0\n",
      "15 59.0\n",
      "20 68.0\n",
      "25 77.0\n",
      "30 86.0\n",
      "35 95.0\n",
      "40 104.0\n"
     ]
    }
   ],
   "source": [
    "# First, we have to recreate the data from lecture 1.\n",
    "Cdegrees = [deg for deg in range(-20, 41, 5)]\n",
    "Fdegrees = [(9/5)*deg + 32 for deg in Cdegrees]\n",
    "\n",
    "for i in range(len(Cdegrees)):\n",
    "    print(Cdegrees[i], Fdegrees[i])"
   ]
  },
  {
   "cell_type": "markdown",
   "metadata": {
    "nbpresent": {
     "id": "f3a61755-9040-4250-bddf-09ba66d940ad"
    },
    "slideshow": {
     "slide_type": "subslide"
    },
    "tags": []
   },
   "source": [
    "An alternative construct, regarded as more ”Pythonic”, uses the `zip` built-in function:"
   ]
  },
  {
   "cell_type": "code",
   "execution_count": 8,
   "metadata": {
    "nbpresent": {
     "id": "a3b3c9c8-b797-4bcb-8af0-301a0c2e81c1"
    },
    "slideshow": {
     "slide_type": "fragment"
    },
    "tags": []
   },
   "outputs": [
    {
     "name": "stdout",
     "output_type": "stream",
     "text": [
      "-4.0 -20\n",
      "5.0 -15\n",
      "14.0 -10\n",
      "23.0 -5\n",
      "32.0 0\n",
      "41.0 5\n",
      "50.0 10\n",
      "59.0 15\n",
      "68.0 20\n",
      "77.0 25\n",
      "86.0 30\n",
      "95.0 35\n",
      "104.0 40\n",
      "0 1\n"
     ]
    }
   ],
   "source": [
    "\n",
    "for F,C in zip(Cdegrees, Fdegrees):\n",
    "    print(C, F)\n",
    "a = [i for i in range(8)]\n",
    "b=[1]\n",
    "for c,d in zip(a,b):\n",
    "    print(c,d)"
   ]
  },
  {
   "cell_type": "markdown",
   "metadata": {
    "nbpresent": {
     "id": "c38f5999-bdd5-4eba-b8b7-036d6883f1ff"
    },
    "slideshow": {
     "slide_type": "subslide"
    },
    "tags": []
   },
   "source": [
    "Using `zip`, we can also traverse three or more lists simultaneously:"
   ]
  },
  {
   "cell_type": "code",
   "execution_count": 9,
   "metadata": {
    "nbpresent": {
     "id": "dfad409b-2ca3-4c4c-9578-4a3dfb1f1949"
    },
    "slideshow": {
     "slide_type": "fragment"
    },
    "tags": []
   },
   "outputs": [
    {
     "name": "stdout",
     "output_type": "stream",
     "text": [
      "e1 = 3, e2 = 1, e3 = 9\n",
      "e1 = 6, e2 = 1, e3 = 3\n",
      "e1 = 1, e2 = 0, e3 = 2\n"
     ]
    }
   ],
   "source": [
    "l1 = [3, 6, 1]\n",
    "l2 = [1, 1, 0]\n",
    "l3 = [9, 3, 2]\n",
    "\n",
    "for e1, e2, e3 in zip(l1, l2, l3):\n",
    "    print(f\"{e1 = }, {e2 = }, {e3 = }\")"
   ]
  },
  {
   "cell_type": "markdown",
   "metadata": {
    "nbpresent": {
     "id": "87213cfd-ba47-4fab-88e8-917cd5c5f183"
    },
    "slideshow": {
     "slide_type": "subslide"
    },
    "tags": []
   },
   "source": [
    "If the lists are of unequal length, then the loop stops when we reach the end of the shortest list. Experiment with this:"
   ]
  },
  {
   "cell_type": "code",
   "execution_count": 10,
   "metadata": {
    "nbpresent": {
     "id": "720d5ba3-4001-4abe-8956-a125c1f35845"
    },
    "slideshow": {
     "slide_type": "fragment"
    },
    "tags": []
   },
   "outputs": [
    {
     "name": "stdout",
     "output_type": "stream",
     "text": [
      "e1 = 3, e2 = 1, e3 = 9\n",
      "e1 = 6, e2 = 1, e3 = 3\n",
      "e1 = 1, e2 = 0, e3 = 2\n",
      "e1 = 4, e2 = 7, e3 = 0\n"
     ]
    }
   ],
   "source": [
    "l1 = [3, 6, 1, 4, 6]  # len(l1) == 5\n",
    "l2 = [1, 1, 0, 7]     # len(l2) == 4\n",
    "l3 = [9, 3, 2, 0, 9]  # len(l3) == 5\n",
    "\n",
    "for e1, e2, e3 in zip(l1, l2, l3):\n",
    "    print(f\"{e1 = }, {e2 = }, {e3 = }\")"
   ]
  },
  {
   "cell_type": "markdown",
   "metadata": {
    "nbpresent": {
     "id": "8ab146b4-7ec7-45b3-88a4-49860f5b6cc6"
    },
    "slideshow": {
     "slide_type": "slide"
    },
    "tags": []
   },
   "source": [
    "## Nested lists: list of lists\n",
    "A `list` can contain **any** object as its element, including another `list`. To illustrate this, consider storing the conversion table as a single Python list rather than two separate lists:"
   ]
  },
  {
   "cell_type": "code",
   "execution_count": 11,
   "metadata": {
    "nbpresent": {
     "id": "a6fcd4d1-9f61-4b3b-8ec3-12843952ec20"
    },
    "slideshow": {
     "slide_type": "fragment"
    },
    "tags": []
   },
   "outputs": [
    {
     "name": "stdout",
     "output_type": "stream",
     "text": [
      "table1 = [[-20, -15, -10, -5, 0, 5, 10, 15, 20, 25, 30, 35, 40], [-4.0, 5.0, 14.0, 23.0, 32.0, 41.0, 50.0, 59.0, 68.0, 77.0, 86.0, 95.0, 104.0]]\n",
      "table1[0] = [-20, -15, -10, -5, 0, 5, 10, 15, 20, 25, 30, 35, 40]\n",
      "table1[1] = [-4.0, 5.0, 14.0, 23.0, 32.0, 41.0, 50.0, 59.0, 68.0, 77.0, 86.0, 95.0, 104.0]\n",
      "table1[1][3] = 23.0\n"
     ]
    }
   ],
   "source": [
    "Cdegrees = [C for C in range(-20, 41, 5)]\n",
    "Fdegrees = [(9/5)*C + 32 for C in Cdegrees]\n",
    "table1 = [Cdegrees, Fdegrees]  # List of two lists\n",
    "\n",
    "print(f\"{table1 = }\")\n",
    "print(f\"{table1[0] = }\")  # access the first element of list table1 - Cdegrees list\n",
    "print(f\"{table1[1] = }\")  # access the second element of list table1 - Fdegrees list\n",
    "print(f\"{table1[1][3] = }\")  # access 4th element in the 2nd list"
   ]
  },
  {
   "cell_type": "markdown",
   "metadata": {
    "nbpresent": {
     "id": "89a35110-151d-4836-8dde-76da53991134"
    },
    "slideshow": {
     "slide_type": "subslide"
    },
    "tags": []
   },
   "source": [
    "This gives us a table with two rows. How do we create a table of columns instead:"
   ]
  },
  {
   "cell_type": "code",
   "execution_count": 12,
   "metadata": {
    "nbpresent": {
     "id": "950a8775-cf1b-4b7b-a571-b79406b0f1e5"
    },
    "slideshow": {
     "slide_type": "fragment"
    },
    "tags": []
   },
   "outputs": [
    {
     "name": "stdout",
     "output_type": "stream",
     "text": [
      "[[-20, -4.0], [-15, 5.0], [-10, 14.0], [-5, 23.0], [0, 32.0], [5, 41.0], [10, 50.0], [15, 59.0], [20, 68.0], [25, 77.0], [30, 86.0], [35, 95.0], [40, 104.0]]\n"
     ]
    }
   ],
   "source": [
    "table2 = []\n",
    "for C, F in zip(Cdegrees, Fdegrees):\n",
    "    row = [C, F]\n",
    "    table2.append(row)\n",
    "\n",
    "print(table2)"
   ]
  },
  {
   "cell_type": "markdown",
   "metadata": {
    "nbpresent": {
     "id": "51044f5c-75c9-4bdc-be04-0c8953317416"
    },
    "slideshow": {
     "slide_type": "subslide"
    },
    "tags": []
   },
   "source": [
    "We can also use list comprehension to do this more elegantly:"
   ]
  },
  {
   "cell_type": "code",
   "execution_count": 13,
   "metadata": {
    "nbpresent": {
     "id": "c747c897-af59-46a2-b52f-de9dcd1b7762"
    },
    "slideshow": {
     "slide_type": "fragment"
    },
    "tags": []
   },
   "outputs": [
    {
     "name": "stdout",
     "output_type": "stream",
     "text": [
      "[[-20, -4.0], [-15, 5.0], [-10, 14.0], [-5, 23.0], [0, 32.0], [5, 41.0], [10, 50.0], [15, 59.0], [20, 68.0], [25, 77.0], [30, 86.0], [35, 95.0], [40, 104.0]]\n"
     ]
    }
   ],
   "source": [
    "table2 = [[C, F] for C, F in zip(Cdegrees, Fdegrees)]\n",
    "print(table2)"
   ]
  },
  {
   "cell_type": "markdown",
   "metadata": {
    "nbpresent": {
     "id": "b7dd1233-53f8-43ed-ba94-fbca4f4def19"
    },
    "slideshow": {
     "slide_type": "subslide"
    },
    "tags": []
   },
   "source": [
    "And we can loop through this list as before:"
   ]
  },
  {
   "cell_type": "code",
   "execution_count": 14,
   "metadata": {
    "nbpresent": {
     "id": "3eeeb7bf-67f7-49bc-88a3-11ccff9a3a6d"
    },
    "slideshow": {
     "slide_type": "fragment"
    },
    "tags": []
   },
   "outputs": [
    {
     "name": "stdout",
     "output_type": "stream",
     "text": [
      "-20 -4.0\n",
      "-15 5.0\n",
      "-10 14.0\n",
      "-5 23.0\n",
      "0 32.0\n",
      "5 41.0\n",
      "10 50.0\n",
      "15 59.0\n",
      "20 68.0\n",
      "25 77.0\n",
      "30 86.0\n",
      "35 95.0\n",
      "40 104.0\n"
     ]
    }
   ],
   "source": [
    "for C, F in table2:\n",
    "    print(C, F)"
   ]
  },
  {
   "cell_type": "markdown",
   "metadata": {
    "slideshow": {
     "slide_type": ""
    },
    "tags": []
   },
   "source": [
    "Since elements of `table2` are length-2 lists, in each iteration, we *unpack* each of the length-2 elements to `C` and `F`."
   ]
  },
  {
   "cell_type": "markdown",
   "metadata": {
    "nbpresent": {
     "id": "0fc837cc-fdec-435c-8ccf-a22a7a743a0d"
    },
    "slideshow": {
     "slide_type": "slide"
    },
    "tags": []
   },
   "source": [
    "## Tuples: lists that cannot be changed\n",
    "\n",
    "Tuples are **constant** lists, i.e. we can use them in much the same way as lists except we cannot modify them. They are an example of an [**immutable**](http://en.wikipedia.org/wiki/Immutable_object) type."
   ]
  },
  {
   "cell_type": "code",
   "execution_count": 15,
   "metadata": {
    "nbpresent": {
     "id": "0095674c-61c3-4972-a8dd-47a223010482"
    },
    "slideshow": {
     "slide_type": "fragment"
    },
    "tags": []
   },
   "outputs": [],
   "source": [
    "t = (2, 4, 6, \"temp.pdf\")  # Define a tuple.\n",
    "t = 2, 4, 6, \"temp.pdf\"    # Can skip parenthesis as it is assumed in this context."
   ]
  },
  {
   "cell_type": "markdown",
   "metadata": {
    "nbpresent": {
     "id": "032624f9-fdc9-488f-881c-9a1329ca393c"
    },
    "slideshow": {
     "slide_type": "subslide"
    },
    "tags": []
   },
   "source": [
    "Let us see what happens when we try to modify the tuple like we did with a list:"
   ]
  },
  {
   "cell_type": "markdown",
   "metadata": {
    "nbpresent": {
     "id": "56f3d86e-714a-4475-8540-605cf08aadcd"
    },
    "slideshow": {
     "slide_type": "fragment"
    },
    "tags": []
   },
   "source": [
    "```python\n",
    "t[1] = -1\n",
    "\n",
    "---------------------------------------------------------------------------\n",
    "TypeError                                 Traceback (most recent call last)\n",
    "<ipython-input-3-593c03edf054> in <module>()\n",
    "----> 1 t[1] = -1\n",
    "\n",
    "TypeError: 'tuple' object does not support item assignment\n",
    "```"
   ]
  },
  {
   "cell_type": "markdown",
   "metadata": {
    "nbpresent": {
     "id": "dfdb2267-7c95-466a-8bc4-9ebddd4bfd23"
    },
    "slideshow": {
     "slide_type": "subslide"
    },
    "tags": []
   },
   "source": [
    "```python\n",
    "t.append(0)\n",
    "\n",
    "---------------------------------------------------------------------------\n",
    "AttributeError                            Traceback (most recent call last)\n",
    "<ipython-input-19-78592bf72d62> in <module>()\n",
    "----> 1 t.append(0)\n",
    "\n",
    "AttributeError: 'tuple' object has no attribute 'append'\n",
    "```"
   ]
  },
  {
   "cell_type": "markdown",
   "metadata": {
    "nbpresent": {
     "id": "58223f11-d1d1-4857-850b-8d0749d15fc9"
    },
    "slideshow": {
     "slide_type": "subslide"
    },
    "tags": []
   },
   "source": [
    "```python\n",
    "del t[1]\n",
    "\n",
    "---------------------------------------------------------------------------\n",
    "TypeError                                 Traceback (most recent call last)\n",
    "<ipython-input-20-0193a527a912> in <module>()\n",
    "----> 1 del t[1]\n",
    "\n",
    "TypeError: 'tuple' object doesn't support item deletion\n",
    "```"
   ]
  },
  {
   "cell_type": "markdown",
   "metadata": {
    "nbpresent": {
     "id": "6786d3d8-b078-416b-9ea0-4da6945520bd"
    },
    "slideshow": {
     "slide_type": "subslide"
    },
    "tags": []
   },
   "source": [
    "However, we can use the tuple to compose a new tuple:"
   ]
  },
  {
   "cell_type": "code",
   "execution_count": 36,
   "metadata": {
    "nbpresent": {
     "id": "a1b2cfa3-a234-4439-bd21-d717ff867609"
    },
    "slideshow": {
     "slide_type": "fragment"
    },
    "tags": []
   },
   "outputs": [
    {
     "name": "stdout",
     "output_type": "stream",
     "text": [
      "(2, 4, 6, 'temp.pdf', -1.0, -2.0)\n"
     ]
    },
    {
     "data": {
      "text/plain": [
       "7961460777857783572"
      ]
     },
     "execution_count": 36,
     "metadata": {},
     "output_type": "execute_result"
    }
   ],
   "source": [
    "t = t + (-1.0, -2.0)\n",
    "print(t)\n"
   ]
  },
  {
   "cell_type": "markdown",
   "metadata": {
    "nbpresent": {
     "id": "fde43ef7-d6f0-4e00-93c6-0d1df9df3854"
    },
    "slideshow": {
     "slide_type": "subslide"
    },
    "tags": []
   },
   "source": [
    "So, why would we use tuples when lists have more functionality?\n",
    "\n",
    "* Tuples are constant and thus *protected against accidental changes*.\n",
    "* Tuples are *faster* than lists.\n",
    "* Tuples are *widely used* in Python software (so you need to know about tuples to understand other people's code!)\n",
    "* Tuples (but not lists) are hashable and can be used as *keys in dictionaries* (more about dictionaries later)."
   ]
  },
  {
   "cell_type": "markdown",
   "metadata": {
    "slideshow": {
     "slide_type": ""
    },
    "tags": []
   },
   "source": [
    "**WARNING**: Tuples are actually not always immutable. If a tuple contains mutable elements, e.g. `list`, it is possible to change the tuple. Let us have a look at this example:"
   ]
  },
  {
   "cell_type": "code",
   "execution_count": 16,
   "metadata": {
    "slideshow": {
     "slide_type": ""
    },
    "tags": []
   },
   "outputs": [
    {
     "name": "stdout",
     "output_type": "stream",
     "text": [
      "(1, 2, [3, 4, 5])\n"
     ]
    }
   ],
   "source": [
    "t = (1, 2, [3, 4])\n",
    "t[2].append(5)  # we are appending 5 to the list which the tuple holds a reference of\n",
    "print(t)"
   ]
  },
  {
   "cell_type": "markdown",
   "metadata": {
    "slideshow": {
     "slide_type": ""
    },
    "tags": []
   },
   "source": [
    "Therefore, to ensure the tuple is immutable, it is necessary for it to contain only immutable elements. The best way to check if the tuple is actually mutable is to use the `hashable` function."
   ]
  },
  {
   "cell_type": "code",
   "execution_count": 38,
   "metadata": {
    "slideshow": {
     "slide_type": ""
    },
    "tags": []
   },
   "outputs": [
    {
     "name": "stdout",
     "output_type": "stream",
     "text": [
      "Tuple t = (1, 2, [3, 4]) is mutable.\n"
     ]
    }
   ],
   "source": [
    "t = (1, 2, [3, 4])  # tuple contains a list which is a mutable type\n",
    "try:\n",
    "    hash(t)\n",
    "    print(f\"Tuple {t = } is immutable.\")\n",
    "except TypeError:\n",
    "    print(f\"Tuple {t = } is mutable.\")"
   ]
  },
  {
   "cell_type": "code",
   "execution_count": 39,
   "metadata": {
    "slideshow": {
     "slide_type": ""
    },
    "tags": []
   },
   "outputs": [
    {
     "name": "stdout",
     "output_type": "stream",
     "text": [
      "Tuple t = (1, 2, 'abc', (5, 6)) is immutable.\n"
     ]
    }
   ],
   "source": [
    "t = (1, 2, \"abc\", (5, 6))  # tuple contains only immutable types\n",
    "try:\n",
    "    hash(t)\n",
    "    print(f\"Tuple {t = } is immutable.\")\n",
    "except TypeError:\n",
    "    print(f\"Tuple {t = } is mutable.\")"
   ]
  },
  {
   "cell_type": "markdown",
   "metadata": {
    "slideshow": {
     "slide_type": ""
    },
    "tags": []
   },
   "source": [
    "What does it then mean that some types are mutable and some are not? We will talk about this in lecture 4."
   ]
  },
  {
   "cell_type": "markdown",
   "metadata": {
    "nbpresent": {
     "id": "490e889a-3913-458b-8370-2fb16070b37d"
    },
    "slideshow": {
     "slide_type": "slide"
    },
    "tags": []
   },
   "source": [
    "## Exercise 2.2: Make a table (a list of lists) of function values\n",
    "\n",
    "* Write a loop that evaluates the expression $y(t) = v_0 t − {1\\over2}gt^2$ for 11 evenly spaced $t$ values ranging from $0$, to $2v_0/g$ (remember that dividing a range into $n$ intervals results in $n+1$ values). You can assume that $v_0 = 1\\,$ms$^{-1}$ and $g = 9.81\\,$ms$^{-2}$.\n",
    "* Store the time values and displacement ($y$) values as a nested list, i.e.\n",
    "```python\n",
    "tlist = [t0, t1, t2, ...]\n",
    "ylist = [y0, y1, y2, ...]\n",
    "displacement = [tlist, ylist]\n",
    "```\n",
    "* Use the variable names `tlist`, `ylist` and `displacement` as illustrated in the above example for testing purposes."
   ]
  },
  {
   "cell_type": "code",
   "execution_count": 17,
   "metadata": {
    "nbpresent": {
     "id": "270a3317-0720-4cb3-8a81-083445ec3330"
    },
    "slideshow": {
     "slide_type": "subslide"
    },
    "tags": []
   },
   "outputs": [],
   "source": [
    "# Uncomment and modify the following lines. Do not change variable names for testing purposes.\n",
    "v0 = 1\n",
    "g = 9.81\n",
    "ranges=(2*v0/g)\n",
    "interval = ranges/10\n",
    "\n",
    "\n",
    "tlist = [i*interval for i in range(int(11))]\n",
    "\n",
    "ylist = [v0*t-0.5*g*t**2 for t in tlist]\n",
    "displacement = [tlist,ylist]"
   ]
  },
  {
   "cell_type": "code",
   "execution_count": null,
   "metadata": {
    "execution": {
     "iopub.execute_input": "2025-08-13T09:01:54.076853Z",
     "iopub.status.busy": "2025-08-13T09:01:54.076675Z",
     "iopub.status.idle": "2025-08-13T09:01:54.083443Z",
     "shell.execute_reply": "2025-08-13T09:01:54.082873Z"
    },
    "slideshow": {
     "slide_type": ""
    },
    "tags": [
     "pybryt"
    ]
   },
   "outputs": [],
   "source": [
    "with pybryt.check(pybryt_reference(2, 2)):\n",
    "    tlist, ylist, displacement"
   ]
  },
  {
   "cell_type": "code",
   "execution_count": 18,
   "metadata": {
    "slideshow": {
     "slide_type": ""
    },
    "tags": [
     "nbgrader"
    ]
   },
   "outputs": [],
   "source": [
    "import numbers\n",
    "import numpy as np\n",
    "\n",
    "assert isinstance(tlist, list)\n",
    "assert isinstance(ylist, list)\n",
    "assert isinstance(displacement, list)\n",
    "\n",
    "assert np.isclose(tlist[0], 0)\n",
    "assert np.isclose(tlist[-1], 0.2038735983690112)\n",
    "assert np.isclose(ylist[0], 0)\n",
    "assert np.isclose(ylist[-1], 0)\n",
    "\n",
    "assert len(tlist) == len(ylist) == 11\n",
    "\n",
    "\n",
    "### BEGIN HIDDEN TESTS\n",
    "assert all([isinstance(i, numbers.Real) for i in tlist])\n",
    "assert all([isinstance(i, numbers.Real) for i in ylist])\n",
    "\n",
    "assert all([isinstance(i, list) for i in displacement])\n",
    "assert all([isinstance(i, numbers.Real) for i in displacement[0]])\n",
    "assert all([isinstance(i, numbers.Real) for i in displacement[0]])\n",
    "\n",
    "assert np.allclose(displacement[0], tlist)\n",
    "assert np.allclose(displacement[1], ylist)\n",
    "### END HIDDEN TESTS"
   ]
  },
  {
   "cell_type": "markdown",
   "metadata": {
    "nbpresent": {
     "id": "e5c7ed02-153d-409a-a595-93528696a35e"
    },
    "slideshow": {
     "slide_type": "slide"
    },
    "tags": []
   },
   "source": [
    "## The `if` construct\n",
    "Let us consider we need to program the following function:\n",
    "$$\n",
    "f(x)= \n",
    "\\begin{cases}\n",
    "    \\sin(x),& \\text{if } 0 \\leq x \\leq \\pi\\\\\n",
    "    0,              & \\text{otherwise}\n",
    "\\end{cases}\n",
    "$$\n",
    "To do this, we need the `if` construct:"
   ]
  },
  {
   "cell_type": "code",
   "execution_count": 19,
   "metadata": {
    "nbpresent": {
     "id": "b3ce7c44-884a-4602-94b1-e647ddf5ac88"
    },
    "slideshow": {
     "slide_type": "fragment"
    },
    "tags": []
   },
   "outputs": [
    {
     "name": "stdout",
     "output_type": "stream",
     "text": [
      "f(-pi/2) = 0\n",
      "f(pi/2) = 1.0\n",
      "f(3*pi/2) = 0\n"
     ]
    }
   ],
   "source": [
    "from math import sin, pi\n",
    "\n",
    "\n",
    "def f(x):\n",
    "    if 0 <= x <= pi:\n",
    "        return sin(x)\n",
    "    else:\n",
    "        return 0\n",
    "\n",
    "\n",
    "print(f\"{f(-pi/2) = }\")\n",
    "print(f\"{f(pi/2) = }\")\n",
    "print(f\"{f(3*pi/2) = }\")"
   ]
  },
  {
   "cell_type": "markdown",
   "metadata": {
    "nbpresent": {
     "id": "3abe0d4c-8b40-4710-8198-c60707fe67a5"
    },
    "slideshow": {
     "slide_type": "subslide"
    },
    "tags": []
   },
   "source": [
    "Please note the indentations we used to define which statements belong to which condition. Sometimes, it is clearer to write this as a conditional expression:"
   ]
  },
  {
   "cell_type": "code",
   "execution_count": 15,
   "metadata": {
    "nbpresent": {
     "id": "1f47e475-25a2-4a5b-89dd-7f66d2f4b30f"
    },
    "slideshow": {
     "slide_type": "fragment"
    },
    "tags": []
   },
   "outputs": [
    {
     "name": "stdout",
     "output_type": "stream",
     "text": [
      "f(-pi/2) = 0\n",
      "f(pi/2) = 1.0\n",
      "f(3*pi/2) = 0\n"
     ]
    }
   ],
   "source": [
    "def f(x):\n",
    "    return sin(x) if 0 <= x <= pi else 0\n",
    "\n",
    "\n",
    "print(\"f(-pi/2) =\", f(-pi/2))\n",
    "print(\"f(pi/2) =\", f(pi/2))\n",
    "print(\"f(3*pi/2) =\", f(3*pi/2))"
   ]
  },
  {
   "cell_type": "markdown",
   "metadata": {
    "nbpresent": {
     "id": "8f2b5db4-b6d4-460e-a902-a8cbc99fef87"
    },
    "slideshow": {
     "slide_type": "subslide"
    },
    "tags": []
   },
   "source": [
    "The `else` block can be skipped if there are no statements to be executed when `False`. In general, we can put together multiple conditions. Only the first condition that is `True` is executed.\n",
    "\n",
    "```python\n",
    "if condition1:\n",
    "    <block of statements, executed if condition1 is True>\n",
    "elif condition2:\n",
    "    <block of statements, executed if condition1 is False and condition2 is True>\n",
    "elif condition3:\n",
    "    <block of statements, executed if conditions 1 and 2 are False and condition3 is True>\n",
    "else:\n",
    "    <block of statements, executed if conditions 1, 2, and 3 are False>\n",
    "    \n",
    "<next statement of the program>\n",
    "```"
   ]
  },
  {
   "cell_type": "markdown",
   "metadata": {
    "nbpresent": {
     "id": "27c74d2e-711a-4130-85e1-a16a5983c101"
    },
    "slideshow": {
     "slide_type": "slide"
    },
    "tags": []
   },
   "source": [
    "## Exercise 2.3: Express a step (Heaviside) function as a Python function\n",
    "The following \"step\" function is known as the Heaviside function and it is widely used in mathematics:\n",
    "$$\n",
    "H(x)=\n",
    "\\begin{cases}\n",
    "    0, & \\text{if}\\; x < 0\\\\\n",
    "    1, & \\text{if}\\; x \\ge 0.\n",
    "\\end{cases}\n",
    "$$\n",
    "Write a Python function `heaviside(x)` that computes $H(x)$."
   ]
  },
  {
   "cell_type": "code",
   "execution_count": 16,
   "metadata": {
    "nbpresent": {
     "id": "110a818c-1c96-43cb-811b-47340d649582"
    },
    "slideshow": {
     "slide_type": "subslide"
    },
    "tags": []
   },
   "outputs": [],
   "source": [
    "# Uncomment and modify the following lines. Do not change variable names for testing purposes.\n",
    "\n",
    "def heaviside(x):\n",
    "    return 0 if x < 0 else 1"
   ]
  },
  {
   "cell_type": "code",
   "execution_count": null,
   "metadata": {
    "execution": {
     "iopub.execute_input": "2025-08-13T09:01:54.110205Z",
     "iopub.status.busy": "2025-08-13T09:01:54.110050Z",
     "iopub.status.idle": "2025-08-13T09:01:54.116826Z",
     "shell.execute_reply": "2025-08-13T09:01:54.116248Z"
    },
    "slideshow": {
     "slide_type": ""
    },
    "tags": [
     "pybryt"
    ]
   },
   "outputs": [],
   "source": [
    "with pybryt.check(pybryt_reference(2, 3)):\n",
    "    heaviside(-1000), heaviside(1000), heaviside(0)"
   ]
  },
  {
   "cell_type": "code",
   "execution_count": 17,
   "metadata": {
    "slideshow": {
     "slide_type": ""
    },
    "tags": [
     "nbgrader"
    ]
   },
   "outputs": [],
   "source": [
    "import numbers\n",
    "\n",
    "assert heaviside(-5.1) == 0\n",
    "assert heaviside(5.1) == 1\n",
    "assert heaviside(0) == 1\n",
    "\n",
    "### BEGIN HIDDEN TESTS\n",
    "assert callable(heaviside)\n",
    "assert isinstance(heaviside(6), numbers.Real)\n",
    "### END HIDDEN TESTS"
   ]
  },
  {
   "cell_type": "markdown",
   "metadata": {
    "slideshow": {
     "slide_type": ""
    },
    "tags": []
   },
   "source": [
    "## Exercise 2.4: Implement the factorial function\n",
    "\n",
    "The factorial of $n$, written as $n!$, is defined as\n",
    "\n",
    "$$n! = n(n − 1)(n − 2) \\cdot \\ldots \\cdot 2 \\cdot 1,$$\n",
    "\n",
    "with the special cases\n",
    "\n",
    "$$1! = 1, 0! = 1.$$\n",
    "\n",
    "For example, $4! = 4 \\cdot 3 \\cdot 2 \\cdot 1 = 24$, and $2! = 2 \\cdot 1 = 2$.\n",
    "\n",
    "Implement your own factorial function to calculate $n!$. Return $1$ immediately if $n$ is $1$ or $0$; otherwise use a loop to compute $n!$. You can use Python's own [math.factorial(x)](https://docs.python.org/3/library/math.html) to check your code."
   ]
  },
  {
   "cell_type": "code",
   "execution_count": 18,
   "metadata": {
    "slideshow": {
     "slide_type": ""
    },
    "tags": []
   },
   "outputs": [],
   "source": [
    "# Uncomment and complete this code - keep the names the same for testing purposes.\n",
    "\n",
    "def my_factorial(n):\n",
    "    if n == 1 or n==0:\n",
    "        return 1\n",
    "    else:\n",
    "        numbers = [i for i in range(1,n+1)]\n",
    "        fact = 1\n",
    "        for i in numbers:\n",
    "            fact =  fact*i\n",
    "        return fact"
   ]
  },
  {
   "cell_type": "code",
   "execution_count": null,
   "metadata": {
    "execution": {
     "iopub.execute_input": "2025-08-13T09:01:54.131238Z",
     "iopub.status.busy": "2025-08-13T09:01:54.131086Z",
     "iopub.status.idle": "2025-08-13T09:01:54.143069Z",
     "shell.execute_reply": "2025-08-13T09:01:54.142483Z"
    },
    "slideshow": {
     "slide_type": ""
    },
    "tags": [
     "pybryt"
    ]
   },
   "outputs": [],
   "source": [
    "with pybryt.check(pybryt_reference(2, 4)):\n",
    "    my_factorial(10)"
   ]
  },
  {
   "cell_type": "code",
   "execution_count": 19,
   "metadata": {
    "slideshow": {
     "slide_type": ""
    },
    "tags": [
     "nbgrader"
    ]
   },
   "outputs": [],
   "source": [
    "import numbers\n",
    "\n",
    "assert my_factorial(0) == 1\n",
    "assert my_factorial(1) == 1\n",
    "assert my_factorial(2) == 2\n",
    "assert my_factorial(5) == 120\n",
    "\n",
    "### BEGIN HIDDEN TESTS\n",
    "assert isinstance(my_factorial(5), numbers.Real)\n",
    "assert callable(my_factorial)\n",
    "### END HIDDEN TESTS"
   ]
  },
  {
   "cell_type": "markdown",
   "metadata": {
    "slideshow": {
     "slide_type": ""
    },
    "tags": []
   },
   "source": [
    "## Exercise 2.5: Compute the length of a path\n",
    "\n",
    "Some object is moving along a path in the plane. At $n$ points of time, we have recorded the corresponding $(x, y)$ positions of the object:\n",
    "$(x_0, y_0), (x_1, y_1), \\ldots, (x_{n-1}, y_{n-1})$. The total length $L$ of the path from $(x_0, y_0)$ to $(x_{n-1}, y_{n-1})$ is the sum of all the individual line segments $(x_{i-1}, y_{i-1})$ to $(x_i, y_i)$, $i = 1, \\ldots, n-1$:\n",
    "\n",
    "$$L = \\sum_{i=1}^{n-1}{\\sqrt{(x_i - x_{i-1})^2 + (y_i - y_{i-1})^2}}.$$\n",
    "\n",
    "Create a function `path_length(x, y)` for computing $L$ according to the formula. The arguments `x` and `y` are two lists that hold all the $x_0, \\ldots, x_{n-1}$ and $y_0, \\ldots, y_{n-1}$ coordinates, respectively. Test the function on a triangular path with the four points (1, 1), (2, 1), (1, 2), and (1, 1)."
   ]
  },
  {
   "cell_type": "code",
   "execution_count": 91,
   "metadata": {
    "slideshow": {
     "slide_type": ""
    },
    "tags": []
   },
   "outputs": [
    {
     "data": {
      "text/plain": [
       "4.0"
      ]
     },
     "execution_count": 91,
     "metadata": {},
     "output_type": "execute_result"
    }
   ],
   "source": [
    "# Uncomment and complete this code - keep the names the same for testing purposes.\n",
    "from math import sqrt\n",
    "def path_length(x, y):\n",
    "    total = 0\n",
    "    for i in range(1,len(x)):\n",
    "        total+=sqrt((x[i]-x[i-1])**2+(y[i]-y[i-1])**2)\n",
    "    return total\n",
    "path_length([1,2,1,1],[1,1,2,1])\n",
    "    \n"
   ]
  },
  {
   "cell_type": "code",
   "execution_count": null,
   "metadata": {
    "execution": {
     "iopub.execute_input": "2025-08-13T09:01:54.157573Z",
     "iopub.status.busy": "2025-08-13T09:01:54.157418Z",
     "iopub.status.idle": "2025-08-13T09:01:54.166494Z",
     "shell.execute_reply": "2025-08-13T09:01:54.165938Z"
    },
    "slideshow": {
     "slide_type": ""
    },
    "tags": [
     "pybryt"
    ]
   },
   "outputs": [],
   "source": [
    "with pybryt.check(pybryt_reference(2, 5)):\n",
    "    path_length([-100, 200, -561, 231], [11, 1.1, 2.9, 165.4])"
   ]
  },
  {
   "cell_type": "code",
   "execution_count": 90,
   "metadata": {
    "slideshow": {
     "slide_type": ""
    },
    "tags": [
     "nbgrader"
    ]
   },
   "outputs": [],
   "source": [
    "import numbers\n",
    "import numpy as np\n",
    "\n",
    "res = path_length(x=[0, 0, 0, 0, 0], y=[0, 1, 2, 3, 4])\n",
    "assert np.isclose(res, 4)\n",
    "\n",
    "### BEGIN HIDDEN TESTS\n",
    "res = path_length(x=[0, 0, 0, 0, 0], y=[0, 0, 0, 0, 0])\n",
    "assert np.isclose(res, 0)\n",
    "assert isinstance(res, numbers.Real)\n",
    "assert callable(path_length)\n",
    "### END HIDDEN TESTS"
   ]
  },
  {
   "cell_type": "markdown",
   "metadata": {
    "slideshow": {
     "slide_type": ""
    },
    "tags": []
   },
   "source": [
    "## Exercise 2.6: Approximate $\\pi$\n",
    "\n",
    "As you know, the circumference of a circle is $2r\\pi$ where $r$ is the circle's radius. $\\pi$ is therefore the circumference of a circle with $r= \\frac{1}{2}$. We can approximate this circumference by a many-sided polygon through points on the circle. The sum of the lengths of the sides of the polygon will approximate the circumference.\n",
    "\n",
    "Firstly compute $n+1$ points around a circle according to the formulae:\n",
    "\n",
    "$ x_i = \\frac{1}{2} \\cos(\\frac{2 \\pi i}{n}),   y_i = \\frac{1}{2} \\sin(\\frac{2 \\pi i}{n}),   i = 0 \\cdots n$\n",
    "\n",
    "Then use your `path_length` function from the previous exercise to approximate $\\pi$. Name your function for estimating $\\pi$ `approx_pi` for testing purposes."
   ]
  },
  {
   "cell_type": "code",
   "execution_count": 24,
   "metadata": {
    "slideshow": {
     "slide_type": ""
    },
    "tags": []
   },
   "outputs": [],
   "source": [
    "# Uncomment and complete this code - keep the names the same for testing purposes.\n",
    "from math import sin, cos, pi\n",
    "\n",
    "def approx_pi(n):\n",
    "    x_list = [0.5*cos((2*pi*i)/n) for i in range(n+1)]\n",
    "    y_list = [0.5*sin((2*pi*i)/n) for i in range(n+1)]\n",
    "    return path_length(x_list,y_list)\n"
   ]
  },
  {
   "cell_type": "code",
   "execution_count": null,
   "metadata": {
    "execution": {
     "iopub.execute_input": "2025-08-13T09:01:54.181428Z",
     "iopub.status.busy": "2025-08-13T09:01:54.181274Z",
     "iopub.status.idle": "2025-08-13T09:01:54.267440Z",
     "shell.execute_reply": "2025-08-13T09:01:54.266828Z"
    },
    "slideshow": {
     "slide_type": ""
    },
    "tags": [
     "pybryt"
    ]
   },
   "outputs": [],
   "source": [
    "with pybryt.check(pybryt_reference(2, 6)):\n",
    "    approx_pi(100)"
   ]
  },
  {
   "cell_type": "code",
   "execution_count": 25,
   "metadata": {
    "slideshow": {
     "slide_type": ""
    },
    "tags": [
     "nbgrader"
    ]
   },
   "outputs": [],
   "source": [
    "import numbers\n",
    "import numpy as np\n",
    "\n",
    "res = approx_pi(800)\n",
    "assert np.isclose(res, np.pi)\n",
    "\n",
    "### BEGIN HIDDEN TESTS\n",
    "assert isinstance(res, numbers.Real)\n",
    "assert callable(approx_pi)\n",
    "### END HIDDEN TESTS"
   ]
  },
  {
   "cell_type": "markdown",
   "metadata": {
    "slideshow": {
     "slide_type": ""
    },
    "tags": []
   },
   "source": [
    "## Exercise 2.7: Make a list of prime numbers\n",
    "\n",
    "Define a function called `prime_list` that lists all the prime numbers up to a given $n$. \n",
    "\n",
    "**Hint**: Google the *Sieve of Eratosthenes*."
   ]
  },
  {
   "cell_type": "code",
   "execution_count": 20,
   "metadata": {
    "slideshow": {
     "slide_type": ""
    },
    "tags": []
   },
   "outputs": [
    {
     "name": "stdout",
     "output_type": "stream",
     "text": [
      "[2, 3, 5, 7, 11, 13, 17, 19, 23, 29, 31, 37, 41, 43, 47, 53, 59, 61, 67, 71, 73, 79, 83, 89, 97]\n"
     ]
    }
   ],
   "source": [
    "# Uncomment and complete this code - keep the names the same for testing purposes.\n",
    "\n",
    "def prime_list(n):\n",
    "    numbers = [i for i in range(2,n)]\n",
    "    isprime = [True for i in range(len(numbers))]\n",
    "    for i in range(2,len(numbers)):\n",
    "        \n",
    "        if isprime[i-2]:\n",
    "            \n",
    "            for index,number in enumerate(numbers):\n",
    "                if number !=i:\n",
    "                    if number%i == 0:\n",
    "                        isprime[index] = False\n",
    "                    \n",
    "                        \n",
    "\n",
    "    \n",
    "\n",
    "    \n",
    "    primes = []\n",
    "    for i in range(len(isprime)):\n",
    "        if isprime[i]:\n",
    "            primes.append(i+2)\n",
    "            \n",
    "    return primes\n",
    "print(prime_list(100))\n",
    "        "
   ]
  },
  {
   "cell_type": "code",
   "execution_count": null,
   "metadata": {
    "execution": {
     "iopub.execute_input": "2025-08-13T09:01:54.282991Z",
     "iopub.status.busy": "2025-08-13T09:01:54.282834Z",
     "iopub.status.idle": "2025-08-13T09:01:54.433290Z",
     "shell.execute_reply": "2025-08-13T09:01:54.432692Z"
    },
    "slideshow": {
     "slide_type": ""
    },
    "tags": [
     "pybryt"
    ]
   },
   "outputs": [],
   "source": [
    "with pybryt.check(pybryt_reference(2, 7)):\n",
    "    prime_list(100)"
   ]
  },
  {
   "cell_type": "code",
   "execution_count": 21,
   "metadata": {
    "slideshow": {
     "slide_type": ""
    },
    "tags": [
     "nbgrader"
    ]
   },
   "outputs": [],
   "source": [
    "import numbers\n",
    "import numpy as np\n",
    "\n",
    "res = prime_list(100)\n",
    "assert isinstance(res, list)\n",
    "assert len(res) == 25\n",
    "assert prime_list(0) == []\n",
    "\n",
    "### BEGIN HIDDEN TESTS\n",
    "assert callable(prime_list)\n",
    "assert all([isinstance(i, numbers.Real) for i in res])\n",
    "assert np.allclose(prime_list(10), [2, 3, 5, 7])\n",
    "assert prime_list(100) == prime_list(99)\n",
    "### END HIDDEN TESTS"
   ]
  },
  {
   "cell_type": "markdown",
   "metadata": {
    "slideshow": {
     "slide_type": "slide"
    },
    "tags": []
   },
   "source": [
    "## Vectors and arrays\n",
    "\n",
    "You have known **vectors** since high school mathematics, e.g. point $(x, y)$ in the plane, point $(x, y, z)$ in space. In general, we can describe a vector $v$ as an $n$-tuple of numbers: $v=(v_0, \\ldots, v_{n-1})$. One way to store vectors in Python is by using sequences, e.g. *lists* or *tuples*: $v_i$ is stored as `v[i]`."
   ]
  },
  {
   "cell_type": "markdown",
   "metadata": {
    "slideshow": {
     "slide_type": "subslide"
    },
    "tags": []
   },
   "source": [
    "**Arrays** are a generalisation of vectors where we can have multiple indices: $A_{ij}$, $A_{ijk}$. In Python, this is represented as a nested list, accessed as `A[i][j]`, `A[i][j][k]`.\n",
    "\n",
    "**Example**: Matrices, a table of numbers with one index for the row and one for the column\n",
    "$$\n",
    "\\left\\lbrack\\begin{array}{cccc}\n",
    "0 & 12 & -1 & 5q\\cr\n",
    "11 & 5 & 5 & -2\n",
    "\\end{array}\\right\\rbrack\n",
    "\\hspace{1cm}\n",
    "A =\n",
    "\\left\\lbrack\\begin{array}{ccc}\n",
    "A_{0,0} & \\cdots &  A_{0,n-1}\\cr\n",
    "\\vdots & \\ddots &  \\vdots\\cr\n",
    "A_{m-1,0} & \\cdots & A_{m-1,n-1}\n",
    "\\end{array}\\right\\rbrack\n",
    "$$\n",
    "The number of indices in an array is the *number of dimensions*. Using these terms, a vector can be described as a one-dimensional array or dimension-1 array."
   ]
  },
  {
   "cell_type": "markdown",
   "metadata": {
    "slideshow": {
     "slide_type": "subslide"
    },
    "tags": []
   },
   "source": [
    "In practice, we use [Numerical Python (*NumPy*)](http://www.numpy.org/) arrays instead of lists to represent mathematical arrays because it is **much** faster for large arrays.\n",
    "\n",
    "Let us consider an example where we store $(x,y)$ points along a curve in Python lists and numpy arrays:"
   ]
  },
  {
   "cell_type": "code",
   "execution_count": 25,
   "metadata": {
    "execution": {
     "iopub.execute_input": "2025-08-13T09:01:54.440531Z",
     "iopub.status.busy": "2025-08-13T09:01:54.440376Z",
     "iopub.status.idle": "2025-08-13T09:01:54.443610Z",
     "shell.execute_reply": "2025-08-13T09:01:54.443085Z"
    },
    "slideshow": {
     "slide_type": "subslide"
    },
    "tags": []
   },
   "outputs": [],
   "source": [
    "# Sample function\n",
    "def f(x):\n",
    "    return x**3\n",
    "\n",
    "\n",
    "# Generate n points in [0, 1]\n",
    "n = 5\n",
    "dx = 1 / (n-1)  # x spacing\n",
    "\n",
    "X = [i*dx for i in range(n)]  # Python list\n",
    "Y = [f(x) for x in X]\n",
    "# Turn these Python lists into Numerical Python (NumPy) arrays:\n",
    "import numpy as np  # as a convention, we import \"numpy as np\"\n",
    "\n",
    "x2 = np.array(X)\n",
    "y2 = np.array(Y)"
   ]
  },
  {
   "cell_type": "markdown",
   "metadata": {
    "slideshow": {
     "slide_type": "subslide"
    },
    "tags": []
   },
   "source": [
    "Instead of first making lists with $x$ and $y = f (x)$ data, and then turning lists into arrays, we can make NumPy arrays\n",
    "directly:"
   ]
  },
  {
   "cell_type": "code",
   "execution_count": 28,
   "metadata": {
    "execution": {
     "iopub.execute_input": "2025-08-13T09:01:54.445191Z",
     "iopub.status.busy": "2025-08-13T09:01:54.445039Z",
     "iopub.status.idle": "2025-08-13T09:01:54.447961Z",
     "shell.execute_reply": "2025-08-13T09:01:54.447449Z"
    },
    "slideshow": {
     "slide_type": "fragment"
    },
    "tags": []
   },
   "outputs": [
    {
     "name": "stdout",
     "output_type": "stream",
     "text": [
      "[0.   0.25 0.5  0.75 1.  ] [0.       0.015625 0.125    0.421875 1.      ]\n"
     ]
    }
   ],
   "source": [
    "n = 5                        # number of points\n",
    "x2 = np.linspace(0, 1, n)    # generates n points between 0 and 1\n",
    "y2 = np.zeros(n)\n",
    "for i in range(n):\n",
    "    y2[i] = f(x2[i])\n",
    "    \n",
    "print(x2,y2)"
   ]
  },
  {
   "cell_type": "markdown",
   "metadata": {
    "slideshow": {
     "slide_type": "subslide"
    },
    "tags": []
   },
   "source": [
    "List comprehensions create lists, not arrays, but we can do:"
   ]
  },
  {
   "cell_type": "code",
   "execution_count": 30,
   "metadata": {
    "execution": {
     "iopub.execute_input": "2025-08-13T09:01:54.449469Z",
     "iopub.status.busy": "2025-08-13T09:01:54.449317Z",
     "iopub.status.idle": "2025-08-13T09:01:54.451920Z",
     "shell.execute_reply": "2025-08-13T09:01:54.451352Z"
    },
    "slideshow": {
     "slide_type": "fragment"
    },
    "tags": []
   },
   "outputs": [
    {
     "name": "stdout",
     "output_type": "stream",
     "text": [
      "[0.       0.015625 0.125    0.421875 1.      ]\n"
     ]
    }
   ],
   "source": [
    "y2 = np.array([f(xi) for xi in x2])  # list -> array\n",
    "print(y2)"
   ]
  },
  {
   "cell_type": "markdown",
   "metadata": {
    "slideshow": {
     "slide_type": ""
    },
    "tags": []
   },
   "source": [
    "Passing a list as an argument to some other function (like `np.array` in this case) is very common. Therefore, Python allows to omit the square brackets `[]`. This results in passing a *generator expression* which is both faster and more memory efficient."
   ]
  },
  {
   "cell_type": "code",
   "execution_count": null,
   "metadata": {
    "execution": {
     "iopub.execute_input": "2025-08-13T09:01:54.453536Z",
     "iopub.status.busy": "2025-08-13T09:01:54.453376Z",
     "iopub.status.idle": "2025-08-13T09:01:54.456086Z",
     "shell.execute_reply": "2025-08-13T09:01:54.455583Z"
    },
    "slideshow": {
     "slide_type": ""
    },
    "tags": []
   },
   "outputs": [],
   "source": [
    "y2 = np.array(f(xi) for xi in x2)"
   ]
  },
  {
   "cell_type": "markdown",
   "metadata": {
    "slideshow": {
     "slide_type": ""
    },
    "tags": []
   },
   "source": [
    "Since this is not the topic of this introduction to Python lecture series, if you would like to understand more, please refer to [PEP289](https://peps.python.org/pep-0289/)."
   ]
  },
  {
   "cell_type": "markdown",
   "metadata": {
    "slideshow": {
     "slide_type": "slide"
    },
    "tags": []
   },
   "source": [
    "### When and where to use NumPy arrays\n",
    "\n",
    "* Python lists can hold any sequence of any Python objects. However, NumPy arrays can only hold objects of the same type. We refer to NumPy arrays as flat sequences, whereas we refer to lists and tuples as containers (or container sequences).\n",
    "* Arrays are most efficient when the elements are basic number types (*float*, *int*, *complex*).\n",
    "* In that case, arrays are stored efficiently in the computer's memory, and we can compute very efficiently with the array elements.\n",
    "* We can compute mathematical operations on whole arrays without loops in Python. For example,"
   ]
  },
  {
   "cell_type": "code",
   "execution_count": 53,
   "metadata": {
    "execution": {
     "iopub.execute_input": "2025-08-13T09:01:54.457714Z",
     "iopub.status.busy": "2025-08-13T09:01:54.457560Z",
     "iopub.status.idle": "2025-08-13T09:01:54.462639Z",
     "shell.execute_reply": "2025-08-13T09:01:54.462138Z"
    },
    "slideshow": {
     "slide_type": "subslide"
    },
    "tags": []
   },
   "outputs": [
    {
     "name": "stdout",
     "output_type": "stream",
     "text": [
      "<class 'list'>\n"
     ]
    }
   ],
   "source": [
    "import math\n",
    "\n",
    "x = np.linspace(0, 2, 10001)\n",
    "x=list(x)\n",
    "y = np.zeros(10001)\n",
    "for i in range(len(x)):\n",
    "    y[i] = math.sin(x[i])\n",
    "print(type(x))\n"
   ]
  },
  {
   "cell_type": "markdown",
   "metadata": {
    "slideshow": {
     "slide_type": "fragment"
    },
    "tags": []
   },
   "source": [
    "can be coded as"
   ]
  },
  {
   "cell_type": "code",
   "execution_count": 51,
   "metadata": {
    "execution": {
     "iopub.execute_input": "2025-08-13T09:01:54.464287Z",
     "iopub.status.busy": "2025-08-13T09:01:54.464109Z",
     "iopub.status.idle": "2025-08-13T09:01:54.466622Z",
     "shell.execute_reply": "2025-08-13T09:01:54.466123Z"
    },
    "slideshow": {
     "slide_type": "fragment"
    },
    "tags": []
   },
   "outputs": [
    {
     "name": "stdout",
     "output_type": "stream",
     "text": [
      "[0.0, 0.0002, 0.0004, 0.0006000000000000001, 0.0008, 0.001, 0.0012000000000000001, 0.0014, 0.0016, 0.0018000000000000002, 0.002, 0.0022, 0.0024000000000000002, 0.0026000000000000003, 0.0028, 0.003, 0.0032, 0.0034000000000000002, 0.0036000000000000003, 0.0038, 0.004, 0.004200000000000001, 0.0044, 0.0046, 0.0048000000000000004, 0.005, 0.005200000000000001, 0.0054, 0.0056, 0.0058000000000000005, 0.006, 0.006200000000000001, 0.0064, 0.0066, 0.0068000000000000005, 0.007, 0.007200000000000001, 0.0074, 0.0076, 0.0078000000000000005, 0.008, 0.0082, 0.008400000000000001, 0.0086, 0.0088, 0.009000000000000001, 0.0092, 0.0094, 0.009600000000000001, 0.0098, 0.01, 0.0102, 0.010400000000000001, 0.0106, 0.0108, 0.011000000000000001, 0.0112, 0.0114, 0.011600000000000001, 0.0118, 0.012, 0.0122, 0.012400000000000001, 0.0126, 0.0128, 0.013000000000000001, 0.0132, 0.0134, 0.013600000000000001, 0.013800000000000002, 0.014, 0.0142, 0.014400000000000001, 0.0146, 0.0148, 0.015000000000000001, 0.0152, 0.0154, 0.015600000000000001, 0.0158, 0.016, 0.0162, 0.0164, 0.0166, 0.016800000000000002, 0.017, 0.0172, 0.017400000000000002, 0.0176, 0.0178, 0.018000000000000002, 0.0182, 0.0184, 0.018600000000000002, 0.0188, 0.019, 0.019200000000000002, 0.0194, 0.0196, 0.0198, 0.02, 0.020200000000000003, 0.0204, 0.0206, 0.020800000000000003, 0.021, 0.0212, 0.021400000000000002, 0.0216, 0.0218, 0.022000000000000002, 0.0222, 0.0224, 0.022600000000000002, 0.0228, 0.023, 0.023200000000000002, 0.0234, 0.0236, 0.0238, 0.024, 0.024200000000000003, 0.0244, 0.0246, 0.024800000000000003, 0.025, 0.0252, 0.025400000000000002, 0.0256, 0.0258, 0.026000000000000002, 0.0262, 0.0264, 0.026600000000000002, 0.0268, 0.027, 0.027200000000000002, 0.0274, 0.027600000000000003, 0.027800000000000002, 0.028, 0.028200000000000003, 0.0284, 0.0286, 0.028800000000000003, 0.029, 0.0292, 0.029400000000000003, 0.0296, 0.0298, 0.030000000000000002, 0.0302, 0.0304, 0.030600000000000002, 0.0308, 0.031, 0.031200000000000002, 0.031400000000000004, 0.0316, 0.0318, 0.032, 0.0322, 0.0324, 0.032600000000000004, 0.0328, 0.033, 0.0332, 0.0334, 0.033600000000000005, 0.033800000000000004, 0.034, 0.0342, 0.0344, 0.0346, 0.034800000000000005, 0.035, 0.0352, 0.0354, 0.0356, 0.0358, 0.036000000000000004, 0.0362, 0.0364, 0.0366, 0.0368, 0.037000000000000005, 0.037200000000000004, 0.0374, 0.0376, 0.0378, 0.038, 0.038200000000000005, 0.038400000000000004, 0.0386, 0.0388, 0.039, 0.0392, 0.039400000000000004, 0.0396, 0.0398, 0.04, 0.0402, 0.040400000000000005, 0.040600000000000004, 0.0408, 0.041, 0.0412, 0.0414, 0.041600000000000005, 0.041800000000000004, 0.042, 0.0422, 0.0424, 0.0426, 0.042800000000000005, 0.043000000000000003, 0.0432, 0.0434, 0.0436, 0.0438, 0.044000000000000004, 0.0442, 0.0444, 0.0446, 0.0448, 0.045000000000000005, 0.045200000000000004, 0.0454, 0.0456, 0.0458, 0.046, 0.046200000000000005, 0.046400000000000004, 0.0466, 0.0468, 0.047, 0.0472, 0.047400000000000005, 0.0476, 0.0478, 0.048, 0.0482, 0.048400000000000006, 0.048600000000000004, 0.0488, 0.049, 0.0492, 0.0494, 0.049600000000000005, 0.049800000000000004, 0.05, 0.0502, 0.0504, 0.0506, 0.050800000000000005, 0.051000000000000004, 0.0512, 0.0514, 0.0516, 0.051800000000000006, 0.052000000000000005, 0.0522, 0.0524, 0.0526, 0.0528, 0.053000000000000005, 0.053200000000000004, 0.0534, 0.0536, 0.0538, 0.054, 0.054200000000000005, 0.054400000000000004, 0.0546, 0.0548, 0.055, 0.055200000000000006, 0.055400000000000005, 0.055600000000000004, 0.0558, 0.056, 0.0562, 0.056400000000000006, 0.056600000000000004, 0.0568, 0.057, 0.0572, 0.0574, 0.057600000000000005, 0.057800000000000004, 0.058, 0.0582, 0.0584, 0.058600000000000006, 0.058800000000000005, 0.059000000000000004, 0.0592, 0.0594, 0.0596, 0.059800000000000006, 0.060000000000000005, 0.060200000000000004, 0.0604, 0.0606, 0.0608, 0.061000000000000006, 0.061200000000000004, 0.0614, 0.0616, 0.0618, 0.062, 0.062200000000000005, 0.062400000000000004, 0.0626, 0.06280000000000001, 0.063, 0.0632, 0.0634, 0.0636, 0.06380000000000001, 0.064, 0.06420000000000001, 0.0644, 0.0646, 0.0648, 0.065, 0.06520000000000001, 0.0654, 0.0656, 0.0658, 0.066, 0.06620000000000001, 0.0664, 0.0666, 0.0668, 0.067, 0.06720000000000001, 0.0674, 0.06760000000000001, 0.0678, 0.068, 0.0682, 0.0684, 0.06860000000000001, 0.0688, 0.069, 0.0692, 0.0694, 0.06960000000000001, 0.0698, 0.07, 0.0702, 0.0704, 0.07060000000000001, 0.0708, 0.07100000000000001, 0.0712, 0.0714, 0.0716, 0.0718, 0.07200000000000001, 0.0722, 0.0724, 0.0726, 0.0728, 0.07300000000000001, 0.0732, 0.0734, 0.0736, 0.0738, 0.07400000000000001, 0.0742, 0.07440000000000001, 0.0746, 0.0748, 0.075, 0.0752, 0.07540000000000001, 0.0756, 0.0758, 0.076, 0.0762, 0.07640000000000001, 0.0766, 0.07680000000000001, 0.077, 0.0772, 0.07740000000000001, 0.0776, 0.07780000000000001, 0.078, 0.0782, 0.0784, 0.0786, 0.07880000000000001, 0.079, 0.0792, 0.0794, 0.0796, 0.07980000000000001, 0.08, 0.08020000000000001, 0.0804, 0.0806, 0.08080000000000001, 0.081, 0.08120000000000001, 0.0814, 0.0816, 0.0818, 0.082, 0.08220000000000001, 0.0824, 0.0826, 0.0828, 0.083, 0.08320000000000001, 0.0834, 0.08360000000000001, 0.0838, 0.084, 0.08420000000000001, 0.0844, 0.08460000000000001, 0.0848, 0.085, 0.0852, 0.0854, 0.08560000000000001, 0.0858, 0.08600000000000001, 0.0862, 0.0864, 0.08660000000000001, 0.0868, 0.08700000000000001, 0.0872, 0.0874, 0.0876, 0.0878, 0.08800000000000001, 0.0882, 0.0884, 0.0886, 0.0888, 0.08900000000000001, 0.0892, 0.08940000000000001, 0.0896, 0.0898, 0.09000000000000001, 0.0902, 0.09040000000000001, 0.0906, 0.0908, 0.091, 0.0912, 0.09140000000000001, 0.0916, 0.0918, 0.092, 0.0922, 0.09240000000000001, 0.0926, 0.09280000000000001, 0.093, 0.0932, 0.09340000000000001, 0.0936, 0.09380000000000001, 0.094, 0.0942, 0.0944, 0.0946, 0.09480000000000001, 0.095, 0.0952, 0.0954, 0.0956, 0.09580000000000001, 0.096, 0.09620000000000001, 0.0964, 0.0966, 0.09680000000000001, 0.097, 0.09720000000000001, 0.0974, 0.0976, 0.0978, 0.098, 0.09820000000000001, 0.0984, 0.09860000000000001, 0.0988, 0.099, 0.09920000000000001, 0.0994, 0.09960000000000001, 0.0998, 0.1, 0.10020000000000001, 0.1004, 0.10060000000000001, 0.1008, 0.101, 0.1012, 0.1014, 0.10160000000000001, 0.1018, 0.10200000000000001, 0.1022, 0.1024, 0.10260000000000001, 0.1028, 0.10300000000000001, 0.1032, 0.1034, 0.10360000000000001, 0.1038, 0.10400000000000001, 0.1042, 0.1044, 0.1046, 0.1048, 0.10500000000000001, 0.1052, 0.10540000000000001, 0.1056, 0.1058, 0.10600000000000001, 0.1062, 0.10640000000000001, 0.1066, 0.1068, 0.10700000000000001, 0.1072, 0.10740000000000001, 0.1076, 0.1078, 0.108, 0.1082, 0.10840000000000001, 0.1086, 0.10880000000000001, 0.109, 0.1092, 0.10940000000000001, 0.1096, 0.10980000000000001, 0.11, 0.1102, 0.11040000000000001, 0.1106, 0.11080000000000001, 0.111, 0.11120000000000001, 0.1114, 0.1116, 0.11180000000000001, 0.112, 0.11220000000000001, 0.1124, 0.1126, 0.11280000000000001, 0.113, 0.11320000000000001, 0.1134, 0.1136, 0.11380000000000001, 0.114, 0.11420000000000001, 0.1144, 0.11460000000000001, 0.1148, 0.115, 0.11520000000000001, 0.1154, 0.11560000000000001, 0.1158, 0.116, 0.11620000000000001, 0.1164, 0.11660000000000001, 0.1168, 0.117, 0.11720000000000001, 0.1174, 0.11760000000000001, 0.1178, 0.11800000000000001, 0.1182, 0.1184, 0.11860000000000001, 0.1188, 0.11900000000000001, 0.1192, 0.1194, 0.11960000000000001, 0.1198, 0.12000000000000001, 0.1202, 0.12040000000000001, 0.1206, 0.1208, 0.12100000000000001, 0.1212, 0.12140000000000001, 0.1216, 0.1218, 0.12200000000000001, 0.1222, 0.12240000000000001, 0.1226, 0.1228, 0.12300000000000001, 0.1232, 0.12340000000000001, 0.1236, 0.12380000000000001, 0.124, 0.1242, 0.12440000000000001, 0.1246, 0.12480000000000001, 0.125, 0.1252, 0.1254, 0.12560000000000002, 0.1258, 0.126, 0.1262, 0.1264, 0.12660000000000002, 0.1268, 0.127, 0.1272, 0.1274, 0.12760000000000002, 0.1278, 0.128, 0.1282, 0.12840000000000001, 0.12860000000000002, 0.1288, 0.129, 0.1292, 0.12940000000000002, 0.1296, 0.1298, 0.13, 0.1302, 0.13040000000000002, 0.1306, 0.1308, 0.131, 0.1312, 0.13140000000000002, 0.1316, 0.1318, 0.132, 0.1322, 0.13240000000000002, 0.1326, 0.1328, 0.133, 0.1332, 0.13340000000000002, 0.1336, 0.1338, 0.134, 0.1342, 0.13440000000000002, 0.1346, 0.1348, 0.135, 0.13520000000000001, 0.13540000000000002, 0.1356, 0.1358, 0.136, 0.13620000000000002, 0.1364, 0.1366, 0.1368, 0.137, 0.13720000000000002, 0.1374, 0.1376, 0.1378, 0.138, 0.13820000000000002, 0.1384, 0.1386, 0.1388, 0.139, 0.13920000000000002, 0.1394, 0.1396, 0.1398, 0.14, 0.14020000000000002, 0.1404, 0.1406, 0.1408, 0.14100000000000001, 0.14120000000000002, 0.1414, 0.1416, 0.1418, 0.14200000000000002, 0.1422, 0.1424, 0.1426, 0.1428, 0.14300000000000002, 0.1432, 0.1434, 0.1436, 0.1438, 0.14400000000000002, 0.1442, 0.1444, 0.1446, 0.1448, 0.14500000000000002, 0.1452, 0.1454, 0.1456, 0.1458, 0.14600000000000002, 0.1462, 0.1464, 0.1466, 0.1468, 0.14700000000000002, 0.1472, 0.1474, 0.1476, 0.14780000000000001, 0.14800000000000002, 0.1482, 0.1484, 0.1486, 0.14880000000000002, 0.149, 0.1492, 0.1494, 0.1496, 0.14980000000000002, 0.15, 0.1502, 0.1504, 0.1506, 0.15080000000000002, 0.151, 0.1512, 0.1514, 0.1516, 0.15180000000000002, 0.152, 0.1522, 0.1524, 0.1526, 0.15280000000000002, 0.153, 0.1532, 0.1534, 0.15360000000000001, 0.15380000000000002, 0.154, 0.1542, 0.1544, 0.15460000000000002, 0.15480000000000002, 0.155, 0.1552, 0.1554, 0.15560000000000002, 0.1558, 0.156, 0.1562, 0.1564, 0.15660000000000002, 0.1568, 0.157, 0.1572, 0.1574, 0.15760000000000002, 0.1578, 0.158, 0.1582, 0.1584, 0.15860000000000002, 0.1588, 0.159, 0.1592, 0.15940000000000001, 0.15960000000000002, 0.1598, 0.16, 0.1602, 0.16040000000000001, 0.16060000000000002, 0.1608, 0.161, 0.1612, 0.16140000000000002, 0.16160000000000002, 0.1618, 0.162, 0.1622, 0.16240000000000002, 0.1626, 0.1628, 0.163, 0.1632, 0.16340000000000002, 0.1636, 0.1638, 0.164, 0.1642, 0.16440000000000002, 0.1646, 0.1648, 0.165, 0.1652, 0.16540000000000002, 0.1656, 0.1658, 0.166, 0.16620000000000001, 0.16640000000000002, 0.1666, 0.1668, 0.167, 0.16720000000000002, 0.16740000000000002, 0.1676, 0.1678, 0.168, 0.16820000000000002, 0.16840000000000002, 0.1686, 0.1688, 0.169, 0.16920000000000002, 0.1694, 0.1696, 0.1698, 0.17, 0.17020000000000002, 0.1704, 0.1706, 0.1708, 0.171, 0.17120000000000002, 0.1714, 0.1716, 0.1718, 0.17200000000000001, 0.17220000000000002, 0.1724, 0.1726, 0.1728, 0.17300000000000001, 0.17320000000000002, 0.1734, 0.1736, 0.1738, 0.17400000000000002, 0.17420000000000002, 0.1744, 0.1746, 0.1748, 0.17500000000000002, 0.1752, 0.1754, 0.1756, 0.1758, 0.17600000000000002, 0.1762, 0.1764, 0.1766, 0.1768, 0.17700000000000002, 0.1772, 0.1774, 0.1776, 0.1778, 0.17800000000000002, 0.1782, 0.1784, 0.1786, 0.17880000000000001, 0.17900000000000002, 0.1792, 0.1794, 0.1796, 0.17980000000000002, 0.18000000000000002, 0.1802, 0.1804, 0.1806, 0.18080000000000002, 0.18100000000000002, 0.1812, 0.1814, 0.1816, 0.18180000000000002, 0.182, 0.1822, 0.1824, 0.1826, 0.18280000000000002, 0.183, 0.1832, 0.1834, 0.1836, 0.18380000000000002, 0.184, 0.1842, 0.1844, 0.18460000000000001, 0.18480000000000002, 0.185, 0.1852, 0.1854, 0.18560000000000001, 0.18580000000000002, 0.186, 0.1862, 0.1864, 0.18660000000000002, 0.18680000000000002, 0.187, 0.1872, 0.1874, 0.18760000000000002, 0.18780000000000002, 0.188, 0.1882, 0.1884, 0.18860000000000002, 0.1888, 0.189, 0.1892, 0.1894, 0.18960000000000002, 0.1898, 0.19, 0.1902, 0.1904, 0.19060000000000002, 0.1908, 0.191, 0.1912, 0.19140000000000001, 0.19160000000000002, 0.1918, 0.192, 0.1922, 0.19240000000000002, 0.19260000000000002, 0.1928, 0.193, 0.1932, 0.19340000000000002, 0.19360000000000002, 0.1938, 0.194, 0.1942, 0.19440000000000002, 0.19460000000000002, 0.1948, 0.195, 0.1952, 0.19540000000000002, 0.1956, 0.1958, 0.196, 0.1962, 0.19640000000000002, 0.1966, 0.1968, 0.197, 0.19720000000000001, 0.19740000000000002, 0.1976, 0.1978, 0.198, 0.19820000000000002, 0.19840000000000002, 0.1986, 0.1988, 0.199, 0.19920000000000002, 0.19940000000000002, 0.1996, 0.1998, 0.2, 0.20020000000000002, 0.20040000000000002, 0.2006, 0.2008, 0.201, 0.20120000000000002, 0.20140000000000002, 0.2016, 0.2018, 0.202, 0.20220000000000002, 0.2024, 0.2026, 0.2028, 0.203, 0.20320000000000002, 0.2034, 0.2036, 0.2038, 0.20400000000000001, 0.20420000000000002, 0.2044, 0.2046, 0.2048, 0.20500000000000002, 0.20520000000000002, 0.2054, 0.2056, 0.2058, 0.20600000000000002, 0.20620000000000002, 0.2064, 0.2066, 0.2068, 0.20700000000000002, 0.20720000000000002, 0.2074, 0.2076, 0.2078, 0.20800000000000002, 0.2082, 0.2084, 0.2086, 0.2088, 0.20900000000000002, 0.2092, 0.2094, 0.2096, 0.20980000000000001, 0.21000000000000002, 0.2102, 0.2104, 0.2106, 0.21080000000000002, 0.21100000000000002, 0.2112, 0.2114, 0.2116, 0.21180000000000002, 0.21200000000000002, 0.2122, 0.2124, 0.2126, 0.21280000000000002, 0.21300000000000002, 0.2132, 0.2134, 0.2136, 0.21380000000000002, 0.21400000000000002, 0.2142, 0.2144, 0.2146, 0.21480000000000002, 0.215, 0.2152, 0.2154, 0.2156, 0.21580000000000002, 0.216, 0.2162, 0.2164, 0.21660000000000001, 0.21680000000000002, 0.217, 0.2172, 0.2174, 0.21760000000000002, 0.21780000000000002, 0.218, 0.2182, 0.2184, 0.21860000000000002, 0.21880000000000002, 0.219, 0.2192, 0.2194, 0.21960000000000002, 0.21980000000000002, 0.22, 0.2202, 0.2204, 0.22060000000000002, 0.22080000000000002, 0.221, 0.2212, 0.2214, 0.22160000000000002, 0.2218, 0.222, 0.2222, 0.22240000000000001, 0.22260000000000002, 0.2228, 0.223, 0.2232, 0.22340000000000002, 0.22360000000000002, 0.2238, 0.224, 0.2242, 0.22440000000000002, 0.22460000000000002, 0.2248, 0.225, 0.2252, 0.22540000000000002, 0.22560000000000002, 0.2258, 0.226, 0.2262, 0.22640000000000002, 0.22660000000000002, 0.2268, 0.227, 0.2272, 0.22740000000000002, 0.22760000000000002, 0.2278, 0.228, 0.22820000000000001, 0.22840000000000002, 0.2286, 0.2288, 0.229, 0.22920000000000001, 0.22940000000000002, 0.2296, 0.2298, 0.23, 0.23020000000000002, 0.23040000000000002, 0.2306, 0.2308, 0.231, 0.23120000000000002, 0.23140000000000002, 0.2316, 0.2318, 0.232, 0.23220000000000002, 0.23240000000000002, 0.2326, 0.2328, 0.233, 0.23320000000000002, 0.23340000000000002, 0.2336, 0.2338, 0.234, 0.23420000000000002, 0.23440000000000003, 0.2346, 0.2348, 0.23500000000000001, 0.23520000000000002, 0.2354, 0.2356, 0.2358, 0.23600000000000002, 0.23620000000000002, 0.2364, 0.2366, 0.2368, 0.23700000000000002, 0.23720000000000002, 0.2374, 0.2376, 0.2378, 0.23800000000000002, 0.23820000000000002, 0.2384, 0.2386, 0.2388, 0.23900000000000002, 0.23920000000000002, 0.2394, 0.2396, 0.2398, 0.24000000000000002, 0.24020000000000002, 0.2404, 0.2406, 0.24080000000000001, 0.24100000000000002, 0.2412, 0.2414, 0.2416, 0.24180000000000001, 0.24200000000000002, 0.2422, 0.2424, 0.2426, 0.24280000000000002, 0.24300000000000002, 0.2432, 0.2434, 0.2436, 0.24380000000000002, 0.24400000000000002, 0.2442, 0.2444, 0.2446, 0.24480000000000002, 0.24500000000000002, 0.2452, 0.2454, 0.2456, 0.24580000000000002, 0.24600000000000002, 0.2462, 0.2464, 0.2466, 0.24680000000000002, 0.24700000000000003, 0.2472, 0.2474, 0.24760000000000001, 0.24780000000000002, 0.248, 0.2482, 0.2484, 0.24860000000000002, 0.24880000000000002, 0.249, 0.2492, 0.2494, 0.24960000000000002, 0.24980000000000002, 0.25, 0.25020000000000003, 0.2504, 0.2506, 0.2508, 0.251, 0.25120000000000003, 0.2514, 0.2516, 0.2518, 0.252, 0.25220000000000004, 0.2524, 0.2526, 0.2528, 0.253, 0.25320000000000004, 0.2534, 0.2536, 0.2538, 0.254, 0.25420000000000004, 0.2544, 0.2546, 0.2548, 0.255, 0.25520000000000004, 0.2554, 0.2556, 0.2558, 0.256, 0.25620000000000004, 0.2564, 0.2566, 0.25680000000000003, 0.257, 0.25720000000000004, 0.2574, 0.2576, 0.25780000000000003, 0.258, 0.2582, 0.2584, 0.2586, 0.25880000000000003, 0.259, 0.2592, 0.2594, 0.2596, 0.25980000000000003, 0.26, 0.2602, 0.2604, 0.2606, 0.26080000000000003, 0.261, 0.2612, 0.2614, 0.2616, 0.26180000000000003, 0.262, 0.2622, 0.2624, 0.2626, 0.26280000000000003, 0.263, 0.2632, 0.2634, 0.2636, 0.26380000000000003, 0.264, 0.2642, 0.2644, 0.2646, 0.26480000000000004, 0.265, 0.2652, 0.2654, 0.2656, 0.26580000000000004, 0.266, 0.2662, 0.2664, 0.2666, 0.26680000000000004, 0.267, 0.2672, 0.2674, 0.2676, 0.26780000000000004, 0.268, 0.2682, 0.2684, 0.2686, 0.26880000000000004, 0.269, 0.2692, 0.26940000000000003, 0.2696, 0.26980000000000004, 0.27, 0.2702, 0.27040000000000003, 0.2706, 0.27080000000000004, 0.271, 0.2712, 0.27140000000000003, 0.2716, 0.2718, 0.272, 0.2722, 0.27240000000000003, 0.2726, 0.2728, 0.273, 0.2732, 0.27340000000000003, 0.2736, 0.2738, 0.274, 0.2742, 0.27440000000000003, 0.2746, 0.2748, 0.275, 0.2752, 0.27540000000000003, 0.2756, 0.2758, 0.276, 0.2762, 0.27640000000000003, 0.2766, 0.2768, 0.277, 0.2772, 0.27740000000000004, 0.2776, 0.2778, 0.278, 0.2782, 0.27840000000000004, 0.2786, 0.2788, 0.279, 0.2792, 0.27940000000000004, 0.2796, 0.2798, 0.28, 0.2802, 0.28040000000000004, 0.2806, 0.2808, 0.281, 0.2812, 0.28140000000000004, 0.2816, 0.2818, 0.28200000000000003, 0.2822, 0.28240000000000004, 0.2826, 0.2828, 0.28300000000000003, 0.2832, 0.28340000000000004, 0.2836, 0.2838, 0.28400000000000003, 0.2842, 0.2844, 0.2846, 0.2848, 0.28500000000000003, 0.2852, 0.2854, 0.2856, 0.2858, 0.28600000000000003, 0.2862, 0.2864, 0.2866, 0.2868, 0.28700000000000003, 0.2872, 0.2874, 0.2876, 0.2878, 0.28800000000000003, 0.2882, 0.2884, 0.2886, 0.2888, 0.28900000000000003, 0.2892, 0.2894, 0.2896, 0.2898, 0.29000000000000004, 0.2902, 0.2904, 0.2906, 0.2908, 0.29100000000000004, 0.2912, 0.2914, 0.2916, 0.2918, 0.29200000000000004, 0.2922, 0.2924, 0.2926, 0.2928, 0.29300000000000004, 0.2932, 0.2934, 0.2936, 0.2938, 0.29400000000000004, 0.2942, 0.2944, 0.29460000000000003, 0.2948, 0.29500000000000004, 0.2952, 0.2954, 0.29560000000000003, 0.2958, 0.29600000000000004, 0.2962, 0.2964, 0.29660000000000003, 0.2968, 0.29700000000000004, 0.2972, 0.2974, 0.29760000000000003, 0.2978, 0.298, 0.2982, 0.2984, 0.29860000000000003, 0.2988, 0.299, 0.2992, 0.2994, 0.29960000000000003, 0.2998, 0.3, 0.3002, 0.3004, 0.30060000000000003, 0.3008, 0.301, 0.3012, 0.3014, 0.30160000000000003, 0.3018, 0.302, 0.3022, 0.3024, 0.30260000000000004, 0.3028, 0.303, 0.3032, 0.3034, 0.30360000000000004, 0.3038, 0.304, 0.3042, 0.3044, 0.30460000000000004, 0.3048, 0.305, 0.3052, 0.3054, 0.30560000000000004, 0.3058, 0.306, 0.3062, 0.3064, 0.30660000000000004, 0.3068, 0.307, 0.30720000000000003, 0.3074, 0.30760000000000004, 0.3078, 0.308, 0.30820000000000003, 0.3084, 0.30860000000000004, 0.3088, 0.309, 0.30920000000000003, 0.3094, 0.30960000000000004, 0.3098, 0.31, 0.31020000000000003, 0.3104, 0.3106, 0.3108, 0.311, 0.31120000000000003, 0.3114, 0.3116, 0.3118, 0.312, 0.31220000000000003, 0.3124, 0.3126, 0.3128, 0.313, 0.31320000000000003, 0.3134, 0.3136, 0.3138, 0.314, 0.31420000000000003, 0.3144, 0.3146, 0.3148, 0.315, 0.31520000000000004, 0.3154, 0.3156, 0.3158, 0.316, 0.31620000000000004, 0.3164, 0.3166, 0.3168, 0.317, 0.31720000000000004, 0.3174, 0.3176, 0.3178, 0.318, 0.31820000000000004, 0.3184, 0.3186, 0.31880000000000003, 0.319, 0.31920000000000004, 0.3194, 0.3196, 0.31980000000000003, 0.32, 0.32020000000000004, 0.3204, 0.3206, 0.32080000000000003, 0.321, 0.32120000000000004, 0.3214, 0.3216, 0.32180000000000003, 0.322, 0.32220000000000004, 0.3224, 0.3226, 0.32280000000000003, 0.323, 0.32320000000000004, 0.3234, 0.3236, 0.32380000000000003, 0.324, 0.3242, 0.3244, 0.3246, 0.32480000000000003, 0.325, 0.3252, 0.3254, 0.3256, 0.32580000000000003, 0.326, 0.3262, 0.3264, 0.3266, 0.32680000000000003, 0.327, 0.3272, 0.3274, 0.3276, 0.32780000000000004, 0.328, 0.3282, 0.3284, 0.3286, 0.32880000000000004, 0.329, 0.3292, 0.3294, 0.3296, 0.32980000000000004, 0.33, 0.3302, 0.3304, 0.3306, 0.33080000000000004, 0.331, 0.3312, 0.33140000000000003, 0.3316, 0.33180000000000004, 0.332, 0.3322, 0.33240000000000003, 0.3326, 0.33280000000000004, 0.333, 0.3332, 0.33340000000000003, 0.3336, 0.33380000000000004, 0.334, 0.3342, 0.33440000000000003, 0.3346, 0.33480000000000004, 0.335, 0.3352, 0.33540000000000003, 0.3356, 0.33580000000000004, 0.336, 0.3362, 0.33640000000000003, 0.3366, 0.33680000000000004, 0.337, 0.3372, 0.33740000000000003, 0.3376, 0.3378, 0.338, 0.3382, 0.33840000000000003, 0.3386, 0.3388, 0.339, 0.3392, 0.33940000000000003, 0.3396, 0.3398, 0.34, 0.3402, 0.34040000000000004, 0.3406, 0.3408, 0.341, 0.3412, 0.34140000000000004, 0.3416, 0.3418, 0.342, 0.3422, 0.34240000000000004, 0.3426, 0.3428, 0.343, 0.3432, 0.34340000000000004, 0.3436, 0.3438, 0.34400000000000003, 0.3442, 0.34440000000000004, 0.3446, 0.3448, 0.34500000000000003, 0.3452, 0.34540000000000004, 0.3456, 0.3458, 0.34600000000000003, 0.3462, 0.34640000000000004, 0.3466, 0.3468, 0.34700000000000003, 0.3472, 0.34740000000000004, 0.3476, 0.3478, 0.34800000000000003, 0.3482, 0.34840000000000004, 0.3486, 0.3488, 0.34900000000000003, 0.3492, 0.34940000000000004, 0.3496, 0.3498, 0.35000000000000003, 0.3502, 0.3504, 0.3506, 0.3508, 0.35100000000000003, 0.3512, 0.3514, 0.3516, 0.3518, 0.35200000000000004, 0.3522, 0.3524, 0.3526, 0.3528, 0.35300000000000004, 0.3532, 0.3534, 0.3536, 0.3538, 0.35400000000000004, 0.3542, 0.3544, 0.3546, 0.3548, 0.35500000000000004, 0.3552, 0.3554, 0.3556, 0.3558, 0.35600000000000004, 0.3562, 0.3564, 0.35660000000000003, 0.3568, 0.35700000000000004, 0.3572, 0.3574, 0.35760000000000003, 0.3578, 0.35800000000000004, 0.3582, 0.3584, 0.35860000000000003, 0.3588, 0.35900000000000004, 0.3592, 0.3594, 0.35960000000000003, 0.3598, 0.36000000000000004, 0.3602, 0.3604, 0.36060000000000003, 0.3608, 0.36100000000000004, 0.3612, 0.3614, 0.36160000000000003, 0.3618, 0.36200000000000004, 0.3622, 0.3624, 0.36260000000000003, 0.3628, 0.36300000000000004, 0.3632, 0.3634, 0.36360000000000003, 0.3638, 0.364, 0.3642, 0.3644, 0.36460000000000004, 0.3648, 0.365, 0.3652, 0.3654, 0.36560000000000004, 0.3658, 0.366, 0.3662, 0.3664, 0.36660000000000004, 0.3668, 0.367, 0.3672, 0.3674, 0.36760000000000004, 0.3678, 0.368, 0.3682, 0.3684, 0.36860000000000004, 0.3688, 0.369, 0.36920000000000003, 0.3694, 0.36960000000000004, 0.3698, 0.37, 0.37020000000000003, 0.3704, 0.37060000000000004, 0.3708, 0.371, 0.37120000000000003, 0.3714, 0.37160000000000004, 0.3718, 0.372, 0.37220000000000003, 0.3724, 0.37260000000000004, 0.3728, 0.373, 0.37320000000000003, 0.3734, 0.37360000000000004, 0.3738, 0.374, 0.37420000000000003, 0.3744, 0.37460000000000004, 0.3748, 0.375, 0.37520000000000003, 0.3754, 0.37560000000000004, 0.3758, 0.376, 0.37620000000000003, 0.3764, 0.3766, 0.3768, 0.377, 0.37720000000000004, 0.3774, 0.3776, 0.3778, 0.378, 0.37820000000000004, 0.3784, 0.3786, 0.3788, 0.379, 0.37920000000000004, 0.3794, 0.3796, 0.3798, 0.38, 0.38020000000000004, 0.3804, 0.3806, 0.3808, 0.381, 0.38120000000000004, 0.3814, 0.3816, 0.38180000000000003, 0.382, 0.38220000000000004, 0.3824, 0.3826, 0.38280000000000003, 0.383, 0.38320000000000004, 0.3834, 0.3836, 0.38380000000000003, 0.384, 0.38420000000000004, 0.3844, 0.3846, 0.38480000000000003, 0.385, 0.38520000000000004, 0.3854, 0.3856, 0.38580000000000003, 0.386, 0.38620000000000004, 0.3864, 0.3866, 0.38680000000000003, 0.387, 0.38720000000000004, 0.3874, 0.3876, 0.38780000000000003, 0.388, 0.38820000000000005, 0.3884, 0.3886, 0.38880000000000003, 0.389, 0.38920000000000005, 0.3894, 0.3896, 0.38980000000000004, 0.39, 0.3902, 0.3904, 0.3906, 0.39080000000000004, 0.391, 0.3912, 0.3914, 0.3916, 0.39180000000000004, 0.392, 0.3922, 0.3924, 0.3926, 0.39280000000000004, 0.393, 0.3932, 0.3934, 0.3936, 0.39380000000000004, 0.394, 0.3942, 0.39440000000000003, 0.3946, 0.39480000000000004, 0.395, 0.3952, 0.39540000000000003, 0.3956, 0.39580000000000004, 0.396, 0.3962, 0.39640000000000003, 0.3966, 0.39680000000000004, 0.397, 0.3972, 0.39740000000000003, 0.3976, 0.39780000000000004, 0.398, 0.3982, 0.39840000000000003, 0.3986, 0.39880000000000004, 0.399, 0.3992, 0.39940000000000003, 0.3996, 0.39980000000000004, 0.4, 0.4002, 0.40040000000000003, 0.4006, 0.40080000000000005, 0.401, 0.4012, 0.40140000000000003, 0.4016, 0.40180000000000005, 0.402, 0.4022, 0.40240000000000004, 0.4026, 0.40280000000000005, 0.403, 0.4032, 0.40340000000000004, 0.4036, 0.4038, 0.404, 0.4042, 0.40440000000000004, 0.4046, 0.4048, 0.405, 0.4052, 0.40540000000000004, 0.4056, 0.4058, 0.406, 0.4062, 0.40640000000000004, 0.4066, 0.4068, 0.40700000000000003, 0.4072, 0.40740000000000004, 0.4076, 0.4078, 0.40800000000000003, 0.4082, 0.40840000000000004, 0.4086, 0.4088, 0.40900000000000003, 0.4092, 0.40940000000000004, 0.4096, 0.4098, 0.41000000000000003, 0.4102, 0.41040000000000004, 0.4106, 0.4108, 0.41100000000000003, 0.4112, 0.41140000000000004, 0.4116, 0.4118, 0.41200000000000003, 0.4122, 0.41240000000000004, 0.4126, 0.4128, 0.41300000000000003, 0.4132, 0.41340000000000005, 0.4136, 0.4138, 0.41400000000000003, 0.4142, 0.41440000000000005, 0.4146, 0.4148, 0.41500000000000004, 0.4152, 0.41540000000000005, 0.4156, 0.4158, 0.41600000000000004, 0.4162, 0.4164, 0.4166, 0.4168, 0.41700000000000004, 0.4172, 0.4174, 0.4176, 0.4178, 0.41800000000000004, 0.4182, 0.4184, 0.4186, 0.4188, 0.41900000000000004, 0.4192, 0.4194, 0.41960000000000003, 0.4198, 0.42000000000000004, 0.4202, 0.4204, 0.42060000000000003, 0.4208, 0.42100000000000004, 0.4212, 0.4214, 0.42160000000000003, 0.4218, 0.42200000000000004, 0.4222, 0.4224, 0.42260000000000003, 0.4228, 0.42300000000000004, 0.4232, 0.4234, 0.42360000000000003, 0.4238, 0.42400000000000004, 0.4242, 0.4244, 0.42460000000000003, 0.4248, 0.42500000000000004, 0.4252, 0.4254, 0.42560000000000003, 0.4258, 0.42600000000000005, 0.4262, 0.4264, 0.42660000000000003, 0.4268, 0.42700000000000005, 0.4272, 0.4274, 0.42760000000000004, 0.4278, 0.42800000000000005, 0.4282, 0.4284, 0.42860000000000004, 0.4288, 0.42900000000000005, 0.4292, 0.4294, 0.42960000000000004, 0.4298, 0.43, 0.4302, 0.4304, 0.43060000000000004, 0.4308, 0.431, 0.4312, 0.4314, 0.43160000000000004, 0.4318, 0.432, 0.43220000000000003, 0.4324, 0.43260000000000004, 0.4328, 0.433, 0.43320000000000003, 0.4334, 0.43360000000000004, 0.4338, 0.434, 0.43420000000000003, 0.4344, 0.43460000000000004, 0.4348, 0.435, 0.43520000000000003, 0.4354, 0.43560000000000004, 0.4358, 0.436, 0.43620000000000003, 0.4364, 0.43660000000000004, 0.4368, 0.437, 0.43720000000000003, 0.4374, 0.43760000000000004, 0.4378, 0.438, 0.43820000000000003, 0.4384, 0.43860000000000005, 0.4388, 0.439, 0.43920000000000003, 0.4394, 0.43960000000000005, 0.4398, 0.44, 0.44020000000000004, 0.4404, 0.44060000000000005, 0.4408, 0.441, 0.44120000000000004, 0.4414, 0.44160000000000005, 0.4418, 0.442, 0.44220000000000004, 0.4424, 0.44260000000000005, 0.4428, 0.443, 0.44320000000000004, 0.4434, 0.4436, 0.44380000000000003, 0.444, 0.44420000000000004, 0.4444, 0.4446, 0.44480000000000003, 0.445, 0.44520000000000004, 0.4454, 0.4456, 0.44580000000000003, 0.446, 0.44620000000000004, 0.4464, 0.4466, 0.44680000000000003, 0.447, 0.44720000000000004, 0.4474, 0.4476, 0.44780000000000003, 0.448, 0.44820000000000004, 0.4484, 0.4486, 0.44880000000000003, 0.449, 0.44920000000000004, 0.4494, 0.4496, 0.44980000000000003, 0.45, 0.45020000000000004, 0.4504, 0.4506, 0.45080000000000003, 0.451, 0.45120000000000005, 0.4514, 0.4516, 0.45180000000000003, 0.452, 0.45220000000000005, 0.4524, 0.4526, 0.45280000000000004, 0.453, 0.45320000000000005, 0.4534, 0.4536, 0.45380000000000004, 0.454, 0.45420000000000005, 0.4544, 0.4546, 0.45480000000000004, 0.455, 0.45520000000000005, 0.4554, 0.4556, 0.45580000000000004, 0.456, 0.4562, 0.45640000000000003, 0.4566, 0.45680000000000004, 0.457, 0.4572, 0.45740000000000003, 0.4576, 0.45780000000000004, 0.458, 0.4582, 0.45840000000000003, 0.4586, 0.45880000000000004, 0.459, 0.4592, 0.45940000000000003, 0.4596, 0.45980000000000004, 0.46, 0.4602, 0.46040000000000003, 0.4606, 0.46080000000000004, 0.461, 0.4612, 0.46140000000000003, 0.4616, 0.46180000000000004, 0.462, 0.4622, 0.46240000000000003, 0.4626, 0.46280000000000004, 0.463, 0.4632, 0.46340000000000003, 0.4636, 0.46380000000000005, 0.464, 0.4642, 0.46440000000000003, 0.4646, 0.46480000000000005, 0.465, 0.4652, 0.46540000000000004, 0.4656, 0.46580000000000005, 0.466, 0.4662, 0.46640000000000004, 0.4666, 0.46680000000000005, 0.467, 0.4672, 0.46740000000000004, 0.4676, 0.46780000000000005, 0.468, 0.4682, 0.46840000000000004, 0.4686, 0.46880000000000005, 0.46900000000000003, 0.4692, 0.46940000000000004, 0.4696, 0.4698, 0.47000000000000003, 0.4702, 0.47040000000000004, 0.4706, 0.4708, 0.47100000000000003, 0.4712, 0.47140000000000004, 0.4716, 0.4718, 0.47200000000000003, 0.4722, 0.47240000000000004, 0.4726, 0.4728, 0.47300000000000003, 0.4732, 0.47340000000000004, 0.4736, 0.4738, 0.47400000000000003, 0.4742, 0.47440000000000004, 0.4746, 0.4748, 0.47500000000000003, 0.4752, 0.47540000000000004, 0.4756, 0.4758, 0.47600000000000003, 0.4762, 0.47640000000000005, 0.4766, 0.4768, 0.47700000000000004, 0.4772, 0.47740000000000005, 0.4776, 0.4778, 0.47800000000000004, 0.4782, 0.47840000000000005, 0.4786, 0.4788, 0.47900000000000004, 0.4792, 0.47940000000000005, 0.4796, 0.4798, 0.48000000000000004, 0.4802, 0.48040000000000005, 0.4806, 0.4808, 0.48100000000000004, 0.4812, 0.48140000000000005, 0.48160000000000003, 0.4818, 0.48200000000000004, 0.4822, 0.4824, 0.48260000000000003, 0.4828, 0.48300000000000004, 0.4832, 0.4834, 0.48360000000000003, 0.4838, 0.48400000000000004, 0.4842, 0.4844, 0.48460000000000003, 0.4848, 0.48500000000000004, 0.4852, 0.4854, 0.48560000000000003, 0.4858, 0.48600000000000004, 0.4862, 0.4864, 0.48660000000000003, 0.4868, 0.48700000000000004, 0.4872, 0.4874, 0.48760000000000003, 0.4878, 0.48800000000000004, 0.4882, 0.4884, 0.48860000000000003, 0.4888, 0.48900000000000005, 0.4892, 0.4894, 0.48960000000000004, 0.4898, 0.49000000000000005, 0.4902, 0.4904, 0.49060000000000004, 0.4908, 0.49100000000000005, 0.4912, 0.4914, 0.49160000000000004, 0.4918, 0.49200000000000005, 0.4922, 0.4924, 0.49260000000000004, 0.4928, 0.49300000000000005, 0.4932, 0.4934, 0.49360000000000004, 0.4938, 0.49400000000000005, 0.49420000000000003, 0.4944, 0.49460000000000004, 0.4948, 0.49500000000000005, 0.49520000000000003, 0.4954, 0.49560000000000004, 0.4958, 0.496, 0.49620000000000003, 0.4964, 0.49660000000000004, 0.4968, 0.497, 0.49720000000000003, 0.4974, 0.49760000000000004, 0.4978, 0.498, 0.49820000000000003, 0.4984, 0.49860000000000004, 0.4988, 0.499, 0.49920000000000003, 0.4994, 0.49960000000000004, 0.4998, 0.5, 0.5002, 0.5004000000000001, 0.5006, 0.5008, 0.501, 0.5012, 0.5014000000000001, 0.5016, 0.5018, 0.502, 0.5022, 0.5024000000000001, 0.5026, 0.5028, 0.503, 0.5032, 0.5034000000000001, 0.5036, 0.5038, 0.504, 0.5042, 0.5044000000000001, 0.5046, 0.5048, 0.505, 0.5052, 0.5054000000000001, 0.5056, 0.5058, 0.506, 0.5062, 0.5064000000000001, 0.5066, 0.5068, 0.507, 0.5072, 0.5074000000000001, 0.5076, 0.5078, 0.508, 0.5082, 0.5084000000000001, 0.5086, 0.5088, 0.509, 0.5092, 0.5094000000000001, 0.5096, 0.5098, 0.51, 0.5102, 0.5104000000000001, 0.5106, 0.5108, 0.511, 0.5112, 0.5114000000000001, 0.5116, 0.5118, 0.512, 0.5122, 0.5124000000000001, 0.5126000000000001, 0.5128, 0.513, 0.5132, 0.5134000000000001, 0.5136000000000001, 0.5138, 0.514, 0.5142, 0.5144000000000001, 0.5146000000000001, 0.5148, 0.515, 0.5152, 0.5154, 0.5156000000000001, 0.5158, 0.516, 0.5162, 0.5164, 0.5166000000000001, 0.5168, 0.517, 0.5172, 0.5174, 0.5176000000000001, 0.5178, 0.518, 0.5182, 0.5184, 0.5186000000000001, 0.5188, 0.519, 0.5192, 0.5194, 0.5196000000000001, 0.5198, 0.52, 0.5202, 0.5204, 0.5206000000000001, 0.5208, 0.521, 0.5212, 0.5214, 0.5216000000000001, 0.5218, 0.522, 0.5222, 0.5224, 0.5226000000000001, 0.5228, 0.523, 0.5232, 0.5234, 0.5236000000000001, 0.5238, 0.524, 0.5242, 0.5244, 0.5246000000000001, 0.5248, 0.525, 0.5252, 0.5254, 0.5256000000000001, 0.5258, 0.526, 0.5262, 0.5264, 0.5266000000000001, 0.5268, 0.527, 0.5272, 0.5274, 0.5276000000000001, 0.5278, 0.528, 0.5282, 0.5284, 0.5286000000000001, 0.5288, 0.529, 0.5292, 0.5294, 0.5296000000000001, 0.5298, 0.53, 0.5302, 0.5304, 0.5306000000000001, 0.5308, 0.531, 0.5312, 0.5314, 0.5316000000000001, 0.5318, 0.532, 0.5322, 0.5324, 0.5326000000000001, 0.5328, 0.533, 0.5332, 0.5334, 0.5336000000000001, 0.5338, 0.534, 0.5342, 0.5344, 0.5346000000000001, 0.5348, 0.535, 0.5352, 0.5354, 0.5356000000000001, 0.5358, 0.536, 0.5362, 0.5364, 0.5366000000000001, 0.5368, 0.537, 0.5372, 0.5374, 0.5376000000000001, 0.5378000000000001, 0.538, 0.5382, 0.5384, 0.5386000000000001, 0.5388000000000001, 0.539, 0.5392, 0.5394, 0.5396000000000001, 0.5398000000000001, 0.54, 0.5402, 0.5404, 0.5406000000000001, 0.5408000000000001, 0.541, 0.5412, 0.5414, 0.5416000000000001, 0.5418000000000001, 0.542, 0.5422, 0.5424, 0.5426, 0.5428000000000001, 0.543, 0.5432, 0.5434, 0.5436, 0.5438000000000001, 0.544, 0.5442, 0.5444, 0.5446, 0.5448000000000001, 0.545, 0.5452, 0.5454, 0.5456, 0.5458000000000001, 0.546, 0.5462, 0.5464, 0.5466, 0.5468000000000001, 0.547, 0.5472, 0.5474, 0.5476, 0.5478000000000001, 0.548, 0.5482, 0.5484, 0.5486, 0.5488000000000001, 0.549, 0.5492, 0.5494, 0.5496, 0.5498000000000001, 0.55, 0.5502, 0.5504, 0.5506, 0.5508000000000001, 0.551, 0.5512, 0.5514, 0.5516, 0.5518000000000001, 0.552, 0.5522, 0.5524, 0.5526, 0.5528000000000001, 0.553, 0.5532, 0.5534, 0.5536, 0.5538000000000001, 0.554, 0.5542, 0.5544, 0.5546, 0.5548000000000001, 0.555, 0.5552, 0.5554, 0.5556, 0.5558000000000001, 0.556, 0.5562, 0.5564, 0.5566, 0.5568000000000001, 0.557, 0.5572, 0.5574, 0.5576, 0.5578000000000001, 0.558, 0.5582, 0.5584, 0.5586, 0.5588000000000001, 0.559, 0.5592, 0.5594, 0.5596, 0.5598000000000001, 0.56, 0.5602, 0.5604, 0.5606, 0.5608000000000001, 0.561, 0.5612, 0.5614, 0.5616, 0.5618000000000001, 0.562, 0.5622, 0.5624, 0.5626, 0.5628000000000001, 0.5630000000000001, 0.5632, 0.5634, 0.5636, 0.5638000000000001, 0.5640000000000001, 0.5642, 0.5644, 0.5646, 0.5648000000000001, 0.5650000000000001, 0.5652, 0.5654, 0.5656, 0.5658000000000001, 0.5660000000000001, 0.5662, 0.5664, 0.5666, 0.5668000000000001, 0.5670000000000001, 0.5672, 0.5674, 0.5676, 0.5678000000000001, 0.5680000000000001, 0.5682, 0.5684, 0.5686, 0.5688, 0.5690000000000001, 0.5692, 0.5694, 0.5696, 0.5698, 0.5700000000000001, 0.5702, 0.5704, 0.5706, 0.5708, 0.5710000000000001, 0.5712, 0.5714, 0.5716, 0.5718, 0.5720000000000001, 0.5722, 0.5724, 0.5726, 0.5728, 0.5730000000000001, 0.5732, 0.5734, 0.5736, 0.5738, 0.5740000000000001, 0.5742, 0.5744, 0.5746, 0.5748, 0.5750000000000001, 0.5752, 0.5754, 0.5756, 0.5758, 0.5760000000000001, 0.5762, 0.5764, 0.5766, 0.5768, 0.5770000000000001, 0.5772, 0.5774, 0.5776, 0.5778, 0.5780000000000001, 0.5782, 0.5784, 0.5786, 0.5788, 0.5790000000000001, 0.5792, 0.5794, 0.5796, 0.5798, 0.5800000000000001, 0.5802, 0.5804, 0.5806, 0.5808, 0.5810000000000001, 0.5812, 0.5814, 0.5816, 0.5818, 0.5820000000000001, 0.5822, 0.5824, 0.5826, 0.5828, 0.5830000000000001, 0.5832, 0.5834, 0.5836, 0.5838, 0.5840000000000001, 0.5842, 0.5844, 0.5846, 0.5848, 0.5850000000000001, 0.5852, 0.5854, 0.5856, 0.5858, 0.5860000000000001, 0.5862, 0.5864, 0.5866, 0.5868, 0.5870000000000001, 0.5872, 0.5874, 0.5876, 0.5878, 0.5880000000000001, 0.5882000000000001, 0.5884, 0.5886, 0.5888, 0.5890000000000001, 0.5892000000000001, 0.5894, 0.5896, 0.5898, 0.5900000000000001, 0.5902000000000001, 0.5904, 0.5906, 0.5908, 0.5910000000000001, 0.5912000000000001, 0.5914, 0.5916, 0.5918, 0.5920000000000001, 0.5922000000000001, 0.5924, 0.5926, 0.5928, 0.5930000000000001, 0.5932000000000001, 0.5934, 0.5936, 0.5938, 0.5940000000000001, 0.5942000000000001, 0.5944, 0.5946, 0.5948, 0.595, 0.5952000000000001, 0.5954, 0.5956, 0.5958, 0.596, 0.5962000000000001, 0.5964, 0.5966, 0.5968, 0.597, 0.5972000000000001, 0.5974, 0.5976, 0.5978, 0.598, 0.5982000000000001, 0.5984, 0.5986, 0.5988, 0.599, 0.5992000000000001, 0.5994, 0.5996, 0.5998, 0.6, 0.6002000000000001, 0.6004, 0.6006, 0.6008, 0.601, 0.6012000000000001, 0.6014, 0.6016, 0.6018, 0.602, 0.6022000000000001, 0.6024, 0.6026, 0.6028, 0.603, 0.6032000000000001, 0.6034, 0.6036, 0.6038, 0.604, 0.6042000000000001, 0.6044, 0.6046, 0.6048, 0.605, 0.6052000000000001, 0.6054, 0.6056, 0.6058, 0.606, 0.6062000000000001, 0.6064, 0.6066, 0.6068, 0.607, 0.6072000000000001, 0.6074, 0.6076, 0.6078, 0.608, 0.6082000000000001, 0.6084, 0.6086, 0.6088, 0.609, 0.6092000000000001, 0.6094, 0.6096, 0.6098, 0.61, 0.6102000000000001, 0.6104, 0.6106, 0.6108, 0.611, 0.6112000000000001, 0.6114, 0.6116, 0.6118, 0.612, 0.6122000000000001, 0.6124, 0.6126, 0.6128, 0.613, 0.6132000000000001, 0.6134000000000001, 0.6136, 0.6138, 0.614, 0.6142000000000001, 0.6144000000000001, 0.6146, 0.6148, 0.615, 0.6152000000000001, 0.6154000000000001, 0.6156, 0.6158, 0.616, 0.6162000000000001, 0.6164000000000001, 0.6166, 0.6168, 0.617, 0.6172000000000001, 0.6174000000000001, 0.6176, 0.6178, 0.618, 0.6182000000000001, 0.6184000000000001, 0.6186, 0.6188, 0.619, 0.6192000000000001, 0.6194000000000001, 0.6196, 0.6198, 0.62, 0.6202000000000001, 0.6204000000000001, 0.6206, 0.6208, 0.621, 0.6212, 0.6214000000000001, 0.6216, 0.6218, 0.622, 0.6222, 0.6224000000000001, 0.6226, 0.6228, 0.623, 0.6232, 0.6234000000000001, 0.6236, 0.6238, 0.624, 0.6242, 0.6244000000000001, 0.6246, 0.6248, 0.625, 0.6252, 0.6254000000000001, 0.6256, 0.6258, 0.626, 0.6262, 0.6264000000000001, 0.6266, 0.6268, 0.627, 0.6272, 0.6274000000000001, 0.6276, 0.6278, 0.628, 0.6282, 0.6284000000000001, 0.6286, 0.6288, 0.629, 0.6292, 0.6294000000000001, 0.6296, 0.6298, 0.63, 0.6302, 0.6304000000000001, 0.6306, 0.6308, 0.631, 0.6312, 0.6314000000000001, 0.6316, 0.6318, 0.632, 0.6322, 0.6324000000000001, 0.6326, 0.6328, 0.633, 0.6332, 0.6334000000000001, 0.6336, 0.6338, 0.634, 0.6342, 0.6344000000000001, 0.6346, 0.6348, 0.635, 0.6352, 0.6354000000000001, 0.6356, 0.6358, 0.636, 0.6362, 0.6364000000000001, 0.6366, 0.6368, 0.637, 0.6372, 0.6374000000000001, 0.6376000000000001, 0.6378, 0.638, 0.6382, 0.6384000000000001, 0.6386000000000001, 0.6388, 0.639, 0.6392, 0.6394000000000001, 0.6396000000000001, 0.6398, 0.64, 0.6402, 0.6404000000000001, 0.6406000000000001, 0.6408, 0.641, 0.6412, 0.6414000000000001, 0.6416000000000001, 0.6418, 0.642, 0.6422, 0.6424000000000001, 0.6426000000000001, 0.6428, 0.643, 0.6432, 0.6434000000000001, 0.6436000000000001, 0.6438, 0.644, 0.6442, 0.6444000000000001, 0.6446000000000001, 0.6448, 0.645, 0.6452, 0.6454000000000001, 0.6456000000000001, 0.6458, 0.646, 0.6462, 0.6464000000000001, 0.6466000000000001, 0.6468, 0.647, 0.6472, 0.6474000000000001, 0.6476000000000001, 0.6478, 0.648, 0.6482, 0.6484, 0.6486000000000001, 0.6488, 0.649, 0.6492, 0.6494, 0.6496000000000001, 0.6498, 0.65, 0.6502, 0.6504, 0.6506000000000001, 0.6508, 0.651, 0.6512, 0.6514, 0.6516000000000001, 0.6518, 0.652, 0.6522, 0.6524, 0.6526000000000001, 0.6528, 0.653, 0.6532, 0.6534, 0.6536000000000001, 0.6538, 0.654, 0.6542, 0.6544, 0.6546000000000001, 0.6548, 0.655, 0.6552, 0.6554, 0.6556000000000001, 0.6558, 0.656, 0.6562, 0.6564, 0.6566000000000001, 0.6568, 0.657, 0.6572, 0.6574, 0.6576000000000001, 0.6578, 0.658, 0.6582, 0.6584, 0.6586000000000001, 0.6588, 0.659, 0.6592, 0.6594, 0.6596000000000001, 0.6598, 0.66, 0.6602, 0.6604, 0.6606000000000001, 0.6608, 0.661, 0.6612, 0.6614, 0.6616000000000001, 0.6618, 0.662, 0.6622, 0.6624, 0.6626000000000001, 0.6628000000000001, 0.663, 0.6632, 0.6634, 0.6636000000000001, 0.6638000000000001, 0.664, 0.6642, 0.6644, 0.6646000000000001, 0.6648000000000001, 0.665, 0.6652, 0.6654, 0.6656000000000001, 0.6658000000000001, 0.666, 0.6662, 0.6664, 0.6666000000000001, 0.6668000000000001, 0.667, 0.6672, 0.6674, 0.6676000000000001, 0.6678000000000001, 0.668, 0.6682, 0.6684, 0.6686000000000001, 0.6688000000000001, 0.669, 0.6692, 0.6694, 0.6696000000000001, 0.6698000000000001, 0.67, 0.6702, 0.6704, 0.6706000000000001, 0.6708000000000001, 0.671, 0.6712, 0.6714, 0.6716000000000001, 0.6718000000000001, 0.672, 0.6722, 0.6724, 0.6726000000000001, 0.6728000000000001, 0.673, 0.6732, 0.6734, 0.6736000000000001, 0.6738000000000001, 0.674, 0.6742, 0.6744, 0.6746, 0.6748000000000001, 0.675, 0.6752, 0.6754, 0.6756, 0.6758000000000001, 0.676, 0.6762, 0.6764, 0.6766, 0.6768000000000001, 0.677, 0.6772, 0.6774, 0.6776, 0.6778000000000001, 0.678, 0.6782, 0.6784, 0.6786, 0.6788000000000001, 0.679, 0.6792, 0.6794, 0.6796, 0.6798000000000001, 0.68, 0.6802, 0.6804, 0.6806, 0.6808000000000001, 0.681, 0.6812, 0.6814, 0.6816, 0.6818000000000001, 0.682, 0.6822, 0.6824, 0.6826, 0.6828000000000001, 0.683, 0.6832, 0.6834, 0.6836, 0.6838000000000001, 0.684, 0.6842, 0.6844, 0.6846, 0.6848000000000001, 0.685, 0.6852, 0.6854, 0.6856, 0.6858000000000001, 0.686, 0.6862, 0.6864, 0.6866, 0.6868000000000001, 0.687, 0.6872, 0.6874, 0.6876, 0.6878000000000001, 0.6880000000000001, 0.6882, 0.6884, 0.6886, 0.6888000000000001, 0.6890000000000001, 0.6892, 0.6894, 0.6896, 0.6898000000000001, 0.6900000000000001, 0.6902, 0.6904, 0.6906, 0.6908000000000001, 0.6910000000000001, 0.6912, 0.6914, 0.6916, 0.6918000000000001, 0.6920000000000001, 0.6922, 0.6924, 0.6926, 0.6928000000000001, 0.6930000000000001, 0.6932, 0.6934, 0.6936, 0.6938000000000001, 0.6940000000000001, 0.6942, 0.6944, 0.6946, 0.6948000000000001, 0.6950000000000001, 0.6952, 0.6954, 0.6956, 0.6958000000000001, 0.6960000000000001, 0.6962, 0.6964, 0.6966, 0.6968000000000001, 0.6970000000000001, 0.6972, 0.6974, 0.6976, 0.6978000000000001, 0.6980000000000001, 0.6982, 0.6984, 0.6986, 0.6988000000000001, 0.6990000000000001, 0.6992, 0.6994, 0.6996, 0.6998000000000001, 0.7000000000000001, 0.7002, 0.7004, 0.7006, 0.7008, 0.7010000000000001, 0.7012, 0.7014, 0.7016, 0.7018, 0.7020000000000001, 0.7022, 0.7024, 0.7026, 0.7028, 0.7030000000000001, 0.7032, 0.7034, 0.7036, 0.7038, 0.7040000000000001, 0.7042, 0.7044, 0.7046, 0.7048, 0.7050000000000001, 0.7052, 0.7054, 0.7056, 0.7058, 0.7060000000000001, 0.7062, 0.7064, 0.7066, 0.7068, 0.7070000000000001, 0.7072, 0.7074, 0.7076, 0.7078, 0.7080000000000001, 0.7082, 0.7084, 0.7086, 0.7088, 0.7090000000000001, 0.7092, 0.7094, 0.7096, 0.7098, 0.7100000000000001, 0.7102, 0.7104, 0.7106, 0.7108, 0.7110000000000001, 0.7112, 0.7114, 0.7116, 0.7118, 0.7120000000000001, 0.7122, 0.7124, 0.7126, 0.7128, 0.7130000000000001, 0.7132000000000001, 0.7134, 0.7136, 0.7138, 0.7140000000000001, 0.7142000000000001, 0.7144, 0.7146, 0.7148, 0.7150000000000001, 0.7152000000000001, 0.7154, 0.7156, 0.7158, 0.7160000000000001, 0.7162000000000001, 0.7164, 0.7166, 0.7168, 0.7170000000000001, 0.7172000000000001, 0.7174, 0.7176, 0.7178, 0.7180000000000001, 0.7182000000000001, 0.7184, 0.7186, 0.7188, 0.7190000000000001, 0.7192000000000001, 0.7194, 0.7196, 0.7198, 0.7200000000000001, 0.7202000000000001, 0.7204, 0.7206, 0.7208, 0.7210000000000001, 0.7212000000000001, 0.7214, 0.7216, 0.7218, 0.7220000000000001, 0.7222000000000001, 0.7224, 0.7226, 0.7228, 0.7230000000000001, 0.7232000000000001, 0.7234, 0.7236, 0.7238, 0.7240000000000001, 0.7242000000000001, 0.7244, 0.7246, 0.7248, 0.7250000000000001, 0.7252000000000001, 0.7254, 0.7256, 0.7258, 0.7260000000000001, 0.7262000000000001, 0.7264, 0.7266, 0.7268, 0.727, 0.7272000000000001, 0.7274, 0.7276, 0.7278, 0.728, 0.7282000000000001, 0.7284, 0.7286, 0.7288, 0.729, 0.7292000000000001, 0.7294, 0.7296, 0.7298, 0.73, 0.7302000000000001, 0.7304, 0.7306, 0.7308, 0.731, 0.7312000000000001, 0.7314, 0.7316, 0.7318, 0.732, 0.7322000000000001, 0.7324, 0.7326, 0.7328, 0.733, 0.7332000000000001, 0.7334, 0.7336, 0.7338, 0.734, 0.7342000000000001, 0.7344, 0.7346, 0.7348, 0.735, 0.7352000000000001, 0.7354, 0.7356, 0.7358, 0.736, 0.7362000000000001, 0.7364, 0.7366, 0.7368, 0.737, 0.7372000000000001, 0.7374, 0.7376, 0.7378, 0.738, 0.7382000000000001, 0.7384000000000001, 0.7386, 0.7388, 0.739, 0.7392000000000001, 0.7394000000000001, 0.7396, 0.7398, 0.74, 0.7402000000000001, 0.7404000000000001, 0.7406, 0.7408, 0.741, 0.7412000000000001, 0.7414000000000001, 0.7416, 0.7418, 0.742, 0.7422000000000001, 0.7424000000000001, 0.7426, 0.7428, 0.743, 0.7432000000000001, 0.7434000000000001, 0.7436, 0.7438, 0.744, 0.7442000000000001, 0.7444000000000001, 0.7446, 0.7448, 0.745, 0.7452000000000001, 0.7454000000000001, 0.7456, 0.7458, 0.746, 0.7462000000000001, 0.7464000000000001, 0.7466, 0.7468, 0.747, 0.7472000000000001, 0.7474000000000001, 0.7476, 0.7478, 0.748, 0.7482000000000001, 0.7484000000000001, 0.7486, 0.7488, 0.749, 0.7492000000000001, 0.7494000000000001, 0.7496, 0.7498, 0.75, 0.7502000000000001, 0.7504000000000001, 0.7506, 0.7508, 0.751, 0.7512000000000001, 0.7514000000000001, 0.7516, 0.7518, 0.752, 0.7522000000000001, 0.7524000000000001, 0.7526, 0.7528, 0.753, 0.7532, 0.7534000000000001, 0.7536, 0.7538, 0.754, 0.7542, 0.7544000000000001, 0.7546, 0.7548, 0.755, 0.7552, 0.7554000000000001, 0.7556, 0.7558, 0.756, 0.7562, 0.7564000000000001, 0.7566, 0.7568, 0.757, 0.7572, 0.7574000000000001, 0.7576, 0.7578, 0.758, 0.7582, 0.7584000000000001, 0.7586, 0.7588, 0.759, 0.7592, 0.7594000000000001, 0.7596, 0.7598, 0.76, 0.7602, 0.7604000000000001, 0.7606, 0.7608, 0.761, 0.7612, 0.7614000000000001, 0.7616, 0.7618, 0.762, 0.7622, 0.7624000000000001, 0.7626000000000001, 0.7628, 0.763, 0.7632, 0.7634000000000001, 0.7636000000000001, 0.7638, 0.764, 0.7642, 0.7644000000000001, 0.7646000000000001, 0.7648, 0.765, 0.7652, 0.7654000000000001, 0.7656000000000001, 0.7658, 0.766, 0.7662, 0.7664000000000001, 0.7666000000000001, 0.7668, 0.767, 0.7672, 0.7674000000000001, 0.7676000000000001, 0.7678, 0.768, 0.7682, 0.7684000000000001, 0.7686000000000001, 0.7688, 0.769, 0.7692, 0.7694000000000001, 0.7696000000000001, 0.7698, 0.77, 0.7702, 0.7704000000000001, 0.7706000000000001, 0.7708, 0.771, 0.7712, 0.7714000000000001, 0.7716000000000001, 0.7718, 0.772, 0.7722, 0.7724000000000001, 0.7726000000000001, 0.7728, 0.773, 0.7732, 0.7734000000000001, 0.7736000000000001, 0.7738, 0.774, 0.7742, 0.7744000000000001, 0.7746000000000001, 0.7748, 0.775, 0.7752, 0.7754000000000001, 0.7756000000000001, 0.7758, 0.776, 0.7762, 0.7764000000000001, 0.7766000000000001, 0.7768, 0.777, 0.7772, 0.7774000000000001, 0.7776000000000001, 0.7778, 0.778, 0.7782, 0.7784000000000001, 0.7786000000000001, 0.7788, 0.779, 0.7792, 0.7794000000000001, 0.7796000000000001, 0.7798, 0.78, 0.7802, 0.7804, 0.7806000000000001, 0.7808, 0.781, 0.7812, 0.7814, 0.7816000000000001, 0.7818, 0.782, 0.7822, 0.7824, 0.7826000000000001, 0.7828, 0.783, 0.7832, 0.7834, 0.7836000000000001, 0.7838, 0.784, 0.7842, 0.7844, 0.7846000000000001, 0.7848, 0.785, 0.7852, 0.7854, 0.7856000000000001, 0.7858, 0.786, 0.7862, 0.7864, 0.7866000000000001, 0.7868, 0.787, 0.7872, 0.7874, 0.7876000000000001, 0.7878000000000001, 0.788, 0.7882, 0.7884, 0.7886000000000001, 0.7888000000000001, 0.789, 0.7892, 0.7894, 0.7896000000000001, 0.7898000000000001, 0.79, 0.7902, 0.7904, 0.7906000000000001, 0.7908000000000001, 0.791, 0.7912, 0.7914, 0.7916000000000001, 0.7918000000000001, 0.792, 0.7922, 0.7924, 0.7926000000000001, 0.7928000000000001, 0.793, 0.7932, 0.7934, 0.7936000000000001, 0.7938000000000001, 0.794, 0.7942, 0.7944, 0.7946000000000001, 0.7948000000000001, 0.795, 0.7952, 0.7954, 0.7956000000000001, 0.7958000000000001, 0.796, 0.7962, 0.7964, 0.7966000000000001, 0.7968000000000001, 0.797, 0.7972, 0.7974, 0.7976000000000001, 0.7978000000000001, 0.798, 0.7982, 0.7984, 0.7986000000000001, 0.7988000000000001, 0.799, 0.7992, 0.7994, 0.7996000000000001, 0.7998000000000001, 0.8, 0.8002, 0.8004, 0.8006000000000001, 0.8008000000000001, 0.801, 0.8012, 0.8014, 0.8016000000000001, 0.8018000000000001, 0.802, 0.8022, 0.8024, 0.8026000000000001, 0.8028000000000001, 0.803, 0.8032, 0.8034, 0.8036000000000001, 0.8038000000000001, 0.804, 0.8042, 0.8044, 0.8046000000000001, 0.8048000000000001, 0.805, 0.8052, 0.8054, 0.8056000000000001, 0.8058000000000001, 0.806, 0.8062, 0.8064, 0.8066, 0.8068000000000001, 0.807, 0.8072, 0.8074, 0.8076, 0.8078000000000001, 0.808, 0.8082, 0.8084, 0.8086, 0.8088000000000001, 0.809, 0.8092, 0.8094, 0.8096, 0.8098000000000001, 0.81, 0.8102, 0.8104, 0.8106, 0.8108000000000001, 0.811, 0.8112, 0.8114, 0.8116, 0.8118000000000001, 0.812, 0.8122, 0.8124, 0.8126, 0.8128000000000001, 0.8130000000000001, 0.8132, 0.8134, 0.8136, 0.8138000000000001, 0.8140000000000001, 0.8142, 0.8144, 0.8146, 0.8148000000000001, 0.8150000000000001, 0.8152, 0.8154, 0.8156, 0.8158000000000001, 0.8160000000000001, 0.8162, 0.8164, 0.8166, 0.8168000000000001, 0.8170000000000001, 0.8172, 0.8174, 0.8176, 0.8178000000000001, 0.8180000000000001, 0.8182, 0.8184, 0.8186, 0.8188000000000001, 0.8190000000000001, 0.8192, 0.8194, 0.8196, 0.8198000000000001, 0.8200000000000001, 0.8202, 0.8204, 0.8206, 0.8208000000000001, 0.8210000000000001, 0.8212, 0.8214, 0.8216, 0.8218000000000001, 0.8220000000000001, 0.8222, 0.8224, 0.8226, 0.8228000000000001, 0.8230000000000001, 0.8232, 0.8234, 0.8236, 0.8238000000000001, 0.8240000000000001, 0.8242, 0.8244, 0.8246, 0.8248000000000001, 0.8250000000000001, 0.8252, 0.8254, 0.8256, 0.8258000000000001, 0.8260000000000001, 0.8262, 0.8264, 0.8266, 0.8268000000000001, 0.8270000000000001, 0.8272, 0.8274, 0.8276, 0.8278000000000001, 0.8280000000000001, 0.8282, 0.8284, 0.8286, 0.8288000000000001, 0.8290000000000001, 0.8292, 0.8294, 0.8296, 0.8298000000000001, 0.8300000000000001, 0.8302, 0.8304, 0.8306, 0.8308000000000001, 0.8310000000000001, 0.8312, 0.8314, 0.8316, 0.8318000000000001, 0.8320000000000001, 0.8322, 0.8324, 0.8326, 0.8328, 0.8330000000000001, 0.8332, 0.8334, 0.8336, 0.8338, 0.8340000000000001, 0.8342, 0.8344, 0.8346, 0.8348, 0.8350000000000001, 0.8352, 0.8354, 0.8356, 0.8358, 0.8360000000000001, 0.8362, 0.8364, 0.8366, 0.8368, 0.8370000000000001, 0.8372, 0.8374, 0.8376, 0.8378, 0.8380000000000001, 0.8382000000000001, 0.8384, 0.8386, 0.8388, 0.8390000000000001, 0.8392000000000001, 0.8394, 0.8396, 0.8398, 0.8400000000000001, 0.8402000000000001, 0.8404, 0.8406, 0.8408, 0.8410000000000001, 0.8412000000000001, 0.8414, 0.8416, 0.8418, 0.8420000000000001, 0.8422000000000001, 0.8424, 0.8426, 0.8428, 0.8430000000000001, 0.8432000000000001, 0.8434, 0.8436, 0.8438, 0.8440000000000001, 0.8442000000000001, 0.8444, 0.8446, 0.8448, 0.8450000000000001, 0.8452000000000001, 0.8454, 0.8456, 0.8458, 0.8460000000000001, 0.8462000000000001, 0.8464, 0.8466, 0.8468, 0.8470000000000001, 0.8472000000000001, 0.8474, 0.8476, 0.8478, 0.8480000000000001, 0.8482000000000001, 0.8484, 0.8486, 0.8488, 0.8490000000000001, 0.8492000000000001, 0.8494, 0.8496, 0.8498, 0.8500000000000001, 0.8502000000000001, 0.8504, 0.8506, 0.8508, 0.8510000000000001, 0.8512000000000001, 0.8514, 0.8516, 0.8518, 0.8520000000000001, 0.8522000000000001, 0.8524, 0.8526, 0.8528, 0.8530000000000001, 0.8532000000000001, 0.8534, 0.8536, 0.8538, 0.8540000000000001, 0.8542000000000001, 0.8544, 0.8546, 0.8548, 0.8550000000000001, 0.8552000000000001, 0.8554, 0.8556, 0.8558, 0.8560000000000001, 0.8562000000000001, 0.8564, 0.8566, 0.8568, 0.8570000000000001, 0.8572000000000001, 0.8574, 0.8576, 0.8578, 0.8580000000000001, 0.8582000000000001, 0.8584, 0.8586, 0.8588, 0.859, 0.8592000000000001, 0.8594, 0.8596, 0.8598, 0.86, 0.8602000000000001, 0.8604, 0.8606, 0.8608, 0.861, 0.8612000000000001, 0.8614, 0.8616, 0.8618, 0.862, 0.8622000000000001, 0.8624, 0.8626, 0.8628, 0.863, 0.8632000000000001, 0.8634000000000001, 0.8636, 0.8638, 0.864, 0.8642000000000001, 0.8644000000000001, 0.8646, 0.8648, 0.865, 0.8652000000000001, 0.8654000000000001, 0.8656, 0.8658, 0.866, 0.8662000000000001, 0.8664000000000001, 0.8666, 0.8668, 0.867, 0.8672000000000001, 0.8674000000000001, 0.8676, 0.8678, 0.868, 0.8682000000000001, 0.8684000000000001, 0.8686, 0.8688, 0.869, 0.8692000000000001, 0.8694000000000001, 0.8696, 0.8698, 0.87, 0.8702000000000001, 0.8704000000000001, 0.8706, 0.8708, 0.871, 0.8712000000000001, 0.8714000000000001, 0.8716, 0.8718, 0.872, 0.8722000000000001, 0.8724000000000001, 0.8726, 0.8728, 0.873, 0.8732000000000001, 0.8734000000000001, 0.8736, 0.8738, 0.874, 0.8742000000000001, 0.8744000000000001, 0.8746, 0.8748, 0.875, 0.8752000000000001, 0.8754000000000001, 0.8756, 0.8758, 0.876, 0.8762000000000001, 0.8764000000000001, 0.8766, 0.8768, 0.877, 0.8772000000000001, 0.8774000000000001, 0.8776, 0.8778, 0.878, 0.8782000000000001, 0.8784000000000001, 0.8786, 0.8788, 0.879, 0.8792000000000001, 0.8794000000000001, 0.8796, 0.8798, 0.88, 0.8802000000000001, 0.8804000000000001, 0.8806, 0.8808, 0.881, 0.8812000000000001, 0.8814000000000001, 0.8816, 0.8818, 0.882, 0.8822000000000001, 0.8824000000000001, 0.8826, 0.8828, 0.883, 0.8832000000000001, 0.8834000000000001, 0.8836, 0.8838, 0.884, 0.8842000000000001, 0.8844000000000001, 0.8846, 0.8848, 0.885, 0.8852000000000001, 0.8854000000000001, 0.8856, 0.8858, 0.886, 0.8862, 0.8864000000000001, 0.8866, 0.8868, 0.887, 0.8872, 0.8874000000000001, 0.8876000000000001, 0.8878, 0.888, 0.8882, 0.8884000000000001, 0.8886000000000001, 0.8888, 0.889, 0.8892, 0.8894000000000001, 0.8896000000000001, 0.8898, 0.89, 0.8902, 0.8904000000000001, 0.8906000000000001, 0.8908, 0.891, 0.8912, 0.8914000000000001, 0.8916000000000001, 0.8918, 0.892, 0.8922, 0.8924000000000001, 0.8926000000000001, 0.8928, 0.893, 0.8932, 0.8934000000000001, 0.8936000000000001, 0.8938, 0.894, 0.8942, 0.8944000000000001, 0.8946000000000001, 0.8948, 0.895, 0.8952, 0.8954000000000001, 0.8956000000000001, 0.8958, 0.896, 0.8962, 0.8964000000000001, 0.8966000000000001, 0.8968, 0.897, 0.8972, 0.8974000000000001, 0.8976000000000001, 0.8978, 0.898, 0.8982, 0.8984000000000001, 0.8986000000000001, 0.8988, 0.899, 0.8992, 0.8994000000000001, 0.8996000000000001, 0.8998, 0.9, 0.9002, 0.9004000000000001, 0.9006000000000001, 0.9008, 0.901, 0.9012, 0.9014000000000001, 0.9016000000000001, 0.9018, 0.902, 0.9022, 0.9024000000000001, 0.9026000000000001, 0.9028, 0.903, 0.9032, 0.9034000000000001, 0.9036000000000001, 0.9038, 0.904, 0.9042, 0.9044000000000001, 0.9046000000000001, 0.9048, 0.905, 0.9052, 0.9054000000000001, 0.9056000000000001, 0.9058, 0.906, 0.9062, 0.9064000000000001, 0.9066000000000001, 0.9068, 0.907, 0.9072, 0.9074000000000001, 0.9076000000000001, 0.9078, 0.908, 0.9082, 0.9084000000000001, 0.9086000000000001, 0.9088, 0.909, 0.9092, 0.9094000000000001, 0.9096000000000001, 0.9098, 0.91, 0.9102, 0.9104000000000001, 0.9106000000000001, 0.9108, 0.911, 0.9112, 0.9114000000000001, 0.9116000000000001, 0.9118, 0.912, 0.9122, 0.9124, 0.9126000000000001, 0.9128000000000001, 0.913, 0.9132, 0.9134, 0.9136000000000001, 0.9138000000000001, 0.914, 0.9142, 0.9144, 0.9146000000000001, 0.9148000000000001, 0.915, 0.9152, 0.9154, 0.9156000000000001, 0.9158000000000001, 0.916, 0.9162, 0.9164, 0.9166000000000001, 0.9168000000000001, 0.917, 0.9172, 0.9174, 0.9176000000000001, 0.9178000000000001, 0.918, 0.9182, 0.9184, 0.9186000000000001, 0.9188000000000001, 0.919, 0.9192, 0.9194, 0.9196000000000001, 0.9198000000000001, 0.92, 0.9202, 0.9204, 0.9206000000000001, 0.9208000000000001, 0.921, 0.9212, 0.9214, 0.9216000000000001, 0.9218000000000001, 0.922, 0.9222, 0.9224, 0.9226000000000001, 0.9228000000000001, 0.923, 0.9232, 0.9234, 0.9236000000000001, 0.9238000000000001, 0.924, 0.9242, 0.9244, 0.9246000000000001, 0.9248000000000001, 0.925, 0.9252, 0.9254, 0.9256000000000001, 0.9258000000000001, 0.926, 0.9262, 0.9264, 0.9266000000000001, 0.9268000000000001, 0.927, 0.9272, 0.9274, 0.9276000000000001, 0.9278000000000001, 0.928, 0.9282, 0.9284, 0.9286000000000001, 0.9288000000000001, 0.929, 0.9292, 0.9294, 0.9296000000000001, 0.9298000000000001, 0.93, 0.9302, 0.9304, 0.9306000000000001, 0.9308000000000001, 0.931, 0.9312, 0.9314, 0.9316000000000001, 0.9318000000000001, 0.932, 0.9322, 0.9324, 0.9326000000000001, 0.9328000000000001, 0.933, 0.9332, 0.9334, 0.9336000000000001, 0.9338000000000001, 0.934, 0.9342, 0.9344, 0.9346000000000001, 0.9348000000000001, 0.935, 0.9352, 0.9354, 0.9356000000000001, 0.9358000000000001, 0.936, 0.9362, 0.9364, 0.9366000000000001, 0.9368000000000001, 0.937, 0.9372, 0.9374, 0.9376000000000001, 0.9378000000000001, 0.9380000000000001, 0.9382, 0.9384, 0.9386, 0.9388000000000001, 0.9390000000000001, 0.9392, 0.9394, 0.9396, 0.9398000000000001, 0.9400000000000001, 0.9402, 0.9404, 0.9406, 0.9408000000000001, 0.9410000000000001, 0.9412, 0.9414, 0.9416, 0.9418000000000001, 0.9420000000000001, 0.9422, 0.9424, 0.9426, 0.9428000000000001, 0.9430000000000001, 0.9432, 0.9434, 0.9436, 0.9438000000000001, 0.9440000000000001, 0.9442, 0.9444, 0.9446, 0.9448000000000001, 0.9450000000000001, 0.9452, 0.9454, 0.9456, 0.9458000000000001, 0.9460000000000001, 0.9462, 0.9464, 0.9466, 0.9468000000000001, 0.9470000000000001, 0.9472, 0.9474, 0.9476, 0.9478000000000001, 0.9480000000000001, 0.9482, 0.9484, 0.9486, 0.9488000000000001, 0.9490000000000001, 0.9492, 0.9494, 0.9496, 0.9498000000000001, 0.9500000000000001, 0.9502, 0.9504, 0.9506, 0.9508000000000001, 0.9510000000000001, 0.9512, 0.9514, 0.9516, 0.9518000000000001, 0.9520000000000001, 0.9522, 0.9524, 0.9526, 0.9528000000000001, 0.9530000000000001, 0.9532, 0.9534, 0.9536, 0.9538000000000001, 0.9540000000000001, 0.9542, 0.9544, 0.9546, 0.9548000000000001, 0.9550000000000001, 0.9552, 0.9554, 0.9556, 0.9558000000000001, 0.9560000000000001, 0.9562, 0.9564, 0.9566, 0.9568000000000001, 0.9570000000000001, 0.9572, 0.9574, 0.9576, 0.9578000000000001, 0.9580000000000001, 0.9582, 0.9584, 0.9586, 0.9588000000000001, 0.9590000000000001, 0.9592, 0.9594, 0.9596, 0.9598000000000001, 0.9600000000000001, 0.9602, 0.9604, 0.9606, 0.9608000000000001, 0.9610000000000001, 0.9612, 0.9614, 0.9616, 0.9618000000000001, 0.9620000000000001, 0.9622, 0.9624, 0.9626, 0.9628000000000001, 0.9630000000000001, 0.9632000000000001, 0.9634, 0.9636, 0.9638000000000001, 0.9640000000000001, 0.9642000000000001, 0.9644, 0.9646, 0.9648, 0.9650000000000001, 0.9652000000000001, 0.9654, 0.9656, 0.9658, 0.9660000000000001, 0.9662000000000001, 0.9664, 0.9666, 0.9668, 0.9670000000000001, 0.9672000000000001, 0.9674, 0.9676, 0.9678, 0.9680000000000001, 0.9682000000000001, 0.9684, 0.9686, 0.9688, 0.9690000000000001, 0.9692000000000001, 0.9694, 0.9696, 0.9698, 0.9700000000000001, 0.9702000000000001, 0.9704, 0.9706, 0.9708, 0.9710000000000001, 0.9712000000000001, 0.9714, 0.9716, 0.9718, 0.9720000000000001, 0.9722000000000001, 0.9724, 0.9726, 0.9728, 0.9730000000000001, 0.9732000000000001, 0.9734, 0.9736, 0.9738, 0.9740000000000001, 0.9742000000000001, 0.9744, 0.9746, 0.9748, 0.9750000000000001, 0.9752000000000001, 0.9754, 0.9756, 0.9758, 0.9760000000000001, 0.9762000000000001, 0.9764, 0.9766, 0.9768, 0.9770000000000001, 0.9772000000000001, 0.9774, 0.9776, 0.9778, 0.9780000000000001, 0.9782000000000001, 0.9784, 0.9786, 0.9788, 0.9790000000000001, 0.9792000000000001, 0.9794, 0.9796, 0.9798, 0.9800000000000001, 0.9802000000000001, 0.9804, 0.9806, 0.9808, 0.9810000000000001, 0.9812000000000001, 0.9814, 0.9816, 0.9818, 0.9820000000000001, 0.9822000000000001, 0.9824, 0.9826, 0.9828, 0.9830000000000001, 0.9832000000000001, 0.9834, 0.9836, 0.9838, 0.9840000000000001, 0.9842000000000001, 0.9844, 0.9846, 0.9848, 0.9850000000000001, 0.9852000000000001, 0.9854, 0.9856, 0.9858, 0.9860000000000001, 0.9862000000000001, 0.9864, 0.9866, 0.9868, 0.9870000000000001, 0.9872000000000001, 0.9874, 0.9876, 0.9878, 0.9880000000000001, 0.9882000000000001, 0.9884000000000001, 0.9886, 0.9888, 0.9890000000000001, 0.9892000000000001, 0.9894000000000001, 0.9896, 0.9898, 0.9900000000000001, 0.9902000000000001, 0.9904000000000001, 0.9906, 0.9908, 0.991, 0.9912000000000001, 0.9914000000000001, 0.9916, 0.9918, 0.992, 0.9922000000000001, 0.9924000000000001, 0.9926, 0.9928, 0.993, 0.9932000000000001, 0.9934000000000001, 0.9936, 0.9938, 0.994, 0.9942000000000001, 0.9944000000000001, 0.9946, 0.9948, 0.995, 0.9952000000000001, 0.9954000000000001, 0.9956, 0.9958, 0.996, 0.9962000000000001, 0.9964000000000001, 0.9966, 0.9968, 0.997, 0.9972000000000001, 0.9974000000000001, 0.9976, 0.9978, 0.998, 0.9982000000000001, 0.9984000000000001, 0.9986, 0.9988, 0.999, 0.9992000000000001, 0.9994000000000001, 0.9996, 0.9998, 1.0, 1.0002, 1.0004, 1.0006000000000002, 1.0008000000000001, 1.0010000000000001, 1.0012, 1.0014, 1.0016, 1.0018, 1.002, 1.0022, 1.0024, 1.0026000000000002, 1.0028000000000001, 1.0030000000000001, 1.0032, 1.0034, 1.0036, 1.0038, 1.004, 1.0042, 1.0044, 1.0046, 1.0048000000000001, 1.0050000000000001, 1.0052, 1.0054, 1.0056, 1.0058, 1.006, 1.0062, 1.0064, 1.0066, 1.0068000000000001, 1.0070000000000001, 1.0072, 1.0074, 1.0076, 1.0078, 1.008, 1.0082, 1.0084, 1.0086, 1.0088000000000001, 1.0090000000000001, 1.0092, 1.0094, 1.0096, 1.0098, 1.01, 1.0102, 1.0104, 1.0106, 1.0108000000000001, 1.0110000000000001, 1.0112, 1.0114, 1.0116, 1.0118, 1.012, 1.0122, 1.0124, 1.0126, 1.0128000000000001, 1.0130000000000001, 1.0132, 1.0134, 1.0136, 1.0138, 1.014, 1.0142, 1.0144, 1.0146, 1.0148000000000001, 1.0150000000000001, 1.0152, 1.0154, 1.0156, 1.0158, 1.016, 1.0162, 1.0164, 1.0166, 1.0168000000000001, 1.0170000000000001, 1.0172, 1.0174, 1.0176, 1.0178, 1.018, 1.0182, 1.0184, 1.0186, 1.0188000000000001, 1.0190000000000001, 1.0192, 1.0194, 1.0196, 1.0198, 1.02, 1.0202, 1.0204, 1.0206, 1.0208000000000002, 1.0210000000000001, 1.0212, 1.0214, 1.0216, 1.0218, 1.022, 1.0222, 1.0224, 1.0226, 1.0228000000000002, 1.0230000000000001, 1.0232, 1.0234, 1.0236, 1.0238, 1.024, 1.0242, 1.0244, 1.0246, 1.0248000000000002, 1.0250000000000001, 1.0252000000000001, 1.0254, 1.0256, 1.0258, 1.026, 1.0262, 1.0264, 1.0266, 1.0268000000000002, 1.0270000000000001, 1.0272000000000001, 1.0274, 1.0276, 1.0278, 1.028, 1.0282, 1.0284, 1.0286, 1.0288000000000002, 1.0290000000000001, 1.0292000000000001, 1.0294, 1.0296, 1.0298, 1.03, 1.0302, 1.0304, 1.0306, 1.0308, 1.0310000000000001, 1.0312000000000001, 1.0314, 1.0316, 1.0318, 1.032, 1.0322, 1.0324, 1.0326, 1.0328, 1.0330000000000001, 1.0332000000000001, 1.0334, 1.0336, 1.0338, 1.034, 1.0342, 1.0344, 1.0346, 1.0348, 1.0350000000000001, 1.0352000000000001, 1.0354, 1.0356, 1.0358, 1.036, 1.0362, 1.0364, 1.0366, 1.0368, 1.0370000000000001, 1.0372000000000001, 1.0374, 1.0376, 1.0378, 1.038, 1.0382, 1.0384, 1.0386, 1.0388, 1.0390000000000001, 1.0392000000000001, 1.0394, 1.0396, 1.0398, 1.04, 1.0402, 1.0404, 1.0406, 1.0408, 1.0410000000000001, 1.0412000000000001, 1.0414, 1.0416, 1.0418, 1.042, 1.0422, 1.0424, 1.0426, 1.0428, 1.0430000000000001, 1.0432000000000001, 1.0434, 1.0436, 1.0438, 1.044, 1.0442, 1.0444, 1.0446, 1.0448, 1.0450000000000002, 1.0452000000000001, 1.0454, 1.0456, 1.0458, 1.046, 1.0462, 1.0464, 1.0466, 1.0468, 1.0470000000000002, 1.0472000000000001, 1.0474, 1.0476, 1.0478, 1.048, 1.0482, 1.0484, 1.0486, 1.0488, 1.0490000000000002, 1.0492000000000001, 1.0494, 1.0496, 1.0498, 1.05, 1.0502, 1.0504, 1.0506, 1.0508, 1.0510000000000002, 1.0512000000000001, 1.0514000000000001, 1.0516, 1.0518, 1.052, 1.0522, 1.0524, 1.0526, 1.0528, 1.0530000000000002, 1.0532000000000001, 1.0534000000000001, 1.0536, 1.0538, 1.054, 1.0542, 1.0544, 1.0546, 1.0548, 1.0550000000000002, 1.0552000000000001, 1.0554000000000001, 1.0556, 1.0558, 1.056, 1.0562, 1.0564, 1.0566, 1.0568, 1.0570000000000002, 1.0572000000000001, 1.0574000000000001, 1.0576, 1.0578, 1.058, 1.0582, 1.0584, 1.0586, 1.0588, 1.059, 1.0592000000000001, 1.0594000000000001, 1.0596, 1.0598, 1.06, 1.0602, 1.0604, 1.0606, 1.0608, 1.061, 1.0612000000000001, 1.0614000000000001, 1.0616, 1.0618, 1.062, 1.0622, 1.0624, 1.0626, 1.0628, 1.063, 1.0632000000000001, 1.0634000000000001, 1.0636, 1.0638, 1.064, 1.0642, 1.0644, 1.0646, 1.0648, 1.065, 1.0652000000000001, 1.0654000000000001, 1.0656, 1.0658, 1.066, 1.0662, 1.0664, 1.0666, 1.0668, 1.067, 1.0672000000000001, 1.0674000000000001, 1.0676, 1.0678, 1.068, 1.0682, 1.0684, 1.0686, 1.0688, 1.069, 1.0692000000000002, 1.0694000000000001, 1.0696, 1.0698, 1.07, 1.0702, 1.0704, 1.0706, 1.0708, 1.071, 1.0712000000000002, 1.0714000000000001, 1.0716, 1.0718, 1.072, 1.0722, 1.0724, 1.0726, 1.0728, 1.073, 1.0732000000000002, 1.0734000000000001, 1.0736, 1.0738, 1.074, 1.0742, 1.0744, 1.0746, 1.0748, 1.075, 1.0752000000000002, 1.0754000000000001, 1.0756000000000001, 1.0758, 1.076, 1.0762, 1.0764, 1.0766, 1.0768, 1.077, 1.0772000000000002, 1.0774000000000001, 1.0776000000000001, 1.0778, 1.078, 1.0782, 1.0784, 1.0786, 1.0788, 1.079, 1.0792000000000002, 1.0794000000000001, 1.0796000000000001, 1.0798, 1.08, 1.0802, 1.0804, 1.0806, 1.0808, 1.081, 1.0812000000000002, 1.0814000000000001, 1.0816000000000001, 1.0818, 1.082, 1.0822, 1.0824, 1.0826, 1.0828, 1.083, 1.0832000000000002, 1.0834000000000001, 1.0836000000000001, 1.0838, 1.084, 1.0842, 1.0844, 1.0846, 1.0848, 1.085, 1.0852, 1.0854000000000001, 1.0856000000000001, 1.0858, 1.086, 1.0862, 1.0864, 1.0866, 1.0868, 1.087, 1.0872, 1.0874000000000001, 1.0876000000000001, 1.0878, 1.088, 1.0882, 1.0884, 1.0886, 1.0888, 1.089, 1.0892, 1.0894000000000001, 1.0896000000000001, 1.0898, 1.09, 1.0902, 1.0904, 1.0906, 1.0908, 1.091, 1.0912, 1.0914000000000001, 1.0916000000000001, 1.0918, 1.092, 1.0922, 1.0924, 1.0926, 1.0928, 1.093, 1.0932, 1.0934000000000001, 1.0936000000000001, 1.0938, 1.094, 1.0942, 1.0944, 1.0946, 1.0948, 1.095, 1.0952, 1.0954000000000002, 1.0956000000000001, 1.0958, 1.096, 1.0962, 1.0964, 1.0966, 1.0968, 1.097, 1.0972, 1.0974000000000002, 1.0976000000000001, 1.0978, 1.098, 1.0982, 1.0984, 1.0986, 1.0988, 1.099, 1.0992, 1.0994000000000002, 1.0996000000000001, 1.0998, 1.1, 1.1002, 1.1004, 1.1006, 1.1008, 1.101, 1.1012, 1.1014000000000002, 1.1016000000000001, 1.1018000000000001, 1.102, 1.1022, 1.1024, 1.1026, 1.1028, 1.103, 1.1032, 1.1034000000000002, 1.1036000000000001, 1.1038000000000001, 1.104, 1.1042, 1.1044, 1.1046, 1.1048, 1.105, 1.1052, 1.1054000000000002, 1.1056000000000001, 1.1058000000000001, 1.106, 1.1062, 1.1064, 1.1066, 1.1068, 1.107, 1.1072, 1.1074000000000002, 1.1076000000000001, 1.1078000000000001, 1.108, 1.1082, 1.1084, 1.1086, 1.1088, 1.109, 1.1092, 1.1094000000000002, 1.1096000000000001, 1.1098000000000001, 1.11, 1.1102, 1.1104, 1.1106, 1.1108, 1.111, 1.1112, 1.1114, 1.1116000000000001, 1.1118000000000001, 1.112, 1.1122, 1.1124, 1.1126, 1.1128, 1.113, 1.1132, 1.1134, 1.1136000000000001, 1.1138000000000001, 1.114, 1.1142, 1.1144, 1.1146, 1.1148, 1.115, 1.1152, 1.1154, 1.1156000000000001, 1.1158000000000001, 1.116, 1.1162, 1.1164, 1.1166, 1.1168, 1.117, 1.1172, 1.1174, 1.1176000000000001, 1.1178000000000001, 1.118, 1.1182, 1.1184, 1.1186, 1.1188, 1.119, 1.1192, 1.1194, 1.1196000000000002, 1.1198000000000001, 1.12, 1.1202, 1.1204, 1.1206, 1.1208, 1.121, 1.1212, 1.1214, 1.1216000000000002, 1.1218000000000001, 1.122, 1.1222, 1.1224, 1.1226, 1.1228, 1.123, 1.1232, 1.1234, 1.1236000000000002, 1.1238000000000001, 1.124, 1.1242, 1.1244, 1.1246, 1.1248, 1.125, 1.1252, 1.1254, 1.1256000000000002, 1.1258000000000001, 1.1260000000000001, 1.1262, 1.1264, 1.1266, 1.1268, 1.127, 1.1272, 1.1274, 1.1276000000000002, 1.1278000000000001, 1.1280000000000001, 1.1282, 1.1284, 1.1286, 1.1288, 1.129, 1.1292, 1.1294, 1.1296000000000002, 1.1298000000000001, 1.1300000000000001, 1.1302, 1.1304, 1.1306, 1.1308, 1.131, 1.1312, 1.1314, 1.1316000000000002, 1.1318000000000001, 1.1320000000000001, 1.1322, 1.1324, 1.1326, 1.1328, 1.133, 1.1332, 1.1334, 1.1336000000000002, 1.1338000000000001, 1.1340000000000001, 1.1342, 1.1344, 1.1346, 1.1348, 1.135, 1.1352, 1.1354, 1.1356000000000002, 1.1358000000000001, 1.1360000000000001, 1.1362, 1.1364, 1.1366, 1.1368, 1.137, 1.1372, 1.1374, 1.1376, 1.1378000000000001, 1.1380000000000001, 1.1382, 1.1384, 1.1386, 1.1388, 1.139, 1.1392, 1.1394, 1.1396, 1.1398000000000001, 1.1400000000000001, 1.1402, 1.1404, 1.1406, 1.1408, 1.141, 1.1412, 1.1414, 1.1416, 1.1418000000000001, 1.1420000000000001, 1.1422, 1.1424, 1.1426, 1.1428, 1.143, 1.1432, 1.1434, 1.1436, 1.1438000000000001, 1.1440000000000001, 1.1442, 1.1444, 1.1446, 1.1448, 1.145, 1.1452, 1.1454, 1.1456, 1.1458000000000002, 1.1460000000000001, 1.1462, 1.1464, 1.1466, 1.1468, 1.147, 1.1472, 1.1474, 1.1476, 1.1478000000000002, 1.1480000000000001, 1.1482, 1.1484, 1.1486, 1.1488, 1.149, 1.1492, 1.1494, 1.1496, 1.1498000000000002, 1.1500000000000001, 1.1502000000000001, 1.1504, 1.1506, 1.1508, 1.151, 1.1512, 1.1514, 1.1516, 1.1518000000000002, 1.1520000000000001, 1.1522000000000001, 1.1524, 1.1526, 1.1528, 1.153, 1.1532, 1.1534, 1.1536, 1.1538000000000002, 1.1540000000000001, 1.1542000000000001, 1.1544, 1.1546, 1.1548, 1.155, 1.1552, 1.1554, 1.1556, 1.1558000000000002, 1.1560000000000001, 1.1562000000000001, 1.1564, 1.1566, 1.1568, 1.157, 1.1572, 1.1574, 1.1576, 1.1578000000000002, 1.1580000000000001, 1.1582000000000001, 1.1584, 1.1586, 1.1588, 1.159, 1.1592, 1.1594, 1.1596, 1.1598000000000002, 1.1600000000000001, 1.1602000000000001, 1.1604, 1.1606, 1.1608, 1.161, 1.1612, 1.1614, 1.1616, 1.1618000000000002, 1.1620000000000001, 1.1622000000000001, 1.1624, 1.1626, 1.1628, 1.163, 1.1632, 1.1634, 1.1636, 1.1638, 1.1640000000000001, 1.1642000000000001, 1.1644, 1.1646, 1.1648, 1.165, 1.1652, 1.1654, 1.1656, 1.1658, 1.1660000000000001, 1.1662000000000001, 1.1664, 1.1666, 1.1668, 1.167, 1.1672, 1.1674, 1.1676, 1.1678, 1.1680000000000001, 1.1682000000000001, 1.1684, 1.1686, 1.1688, 1.169, 1.1692, 1.1694, 1.1696, 1.1698, 1.1700000000000002, 1.1702000000000001, 1.1704, 1.1706, 1.1708, 1.171, 1.1712, 1.1714, 1.1716, 1.1718, 1.1720000000000002, 1.1722000000000001, 1.1724, 1.1726, 1.1728, 1.173, 1.1732, 1.1734, 1.1736, 1.1738, 1.1740000000000002, 1.1742000000000001, 1.1744, 1.1746, 1.1748, 1.175, 1.1752, 1.1754, 1.1756, 1.1758, 1.1760000000000002, 1.1762000000000001, 1.1764000000000001, 1.1766, 1.1768, 1.177, 1.1772, 1.1774, 1.1776, 1.1778, 1.1780000000000002, 1.1782000000000001, 1.1784000000000001, 1.1786, 1.1788, 1.179, 1.1792, 1.1794, 1.1796, 1.1798, 1.1800000000000002, 1.1802000000000001, 1.1804000000000001, 1.1806, 1.1808, 1.181, 1.1812, 1.1814, 1.1816, 1.1818, 1.1820000000000002, 1.1822000000000001, 1.1824000000000001, 1.1826, 1.1828, 1.183, 1.1832, 1.1834, 1.1836, 1.1838, 1.1840000000000002, 1.1842000000000001, 1.1844000000000001, 1.1846, 1.1848, 1.185, 1.1852, 1.1854, 1.1856, 1.1858, 1.1860000000000002, 1.1862000000000001, 1.1864000000000001, 1.1866, 1.1868, 1.187, 1.1872, 1.1874, 1.1876, 1.1878, 1.1880000000000002, 1.1882000000000001, 1.1884000000000001, 1.1886, 1.1888, 1.189, 1.1892, 1.1894, 1.1896, 1.1898, 1.19, 1.1902000000000001, 1.1904000000000001, 1.1906, 1.1908, 1.191, 1.1912, 1.1914, 1.1916, 1.1918, 1.192, 1.1922000000000001, 1.1924000000000001, 1.1926, 1.1928, 1.193, 1.1932, 1.1934, 1.1936, 1.1938, 1.194, 1.1942000000000002, 1.1944000000000001, 1.1946, 1.1948, 1.195, 1.1952, 1.1954, 1.1956, 1.1958, 1.196, 1.1962000000000002, 1.1964000000000001, 1.1966, 1.1968, 1.197, 1.1972, 1.1974, 1.1976, 1.1978, 1.198, 1.1982000000000002, 1.1984000000000001, 1.1986, 1.1988, 1.199, 1.1992, 1.1994, 1.1996, 1.1998, 1.2, 1.2002000000000002, 1.2004000000000001, 1.2006000000000001, 1.2008, 1.201, 1.2012, 1.2014, 1.2016, 1.2018, 1.202, 1.2022000000000002, 1.2024000000000001, 1.2026000000000001, 1.2028, 1.203, 1.2032, 1.2034, 1.2036, 1.2038, 1.204, 1.2042000000000002, 1.2044000000000001, 1.2046000000000001, 1.2048, 1.205, 1.2052, 1.2054, 1.2056, 1.2058, 1.206, 1.2062000000000002, 1.2064000000000001, 1.2066000000000001, 1.2068, 1.207, 1.2072, 1.2074, 1.2076, 1.2078, 1.208, 1.2082000000000002, 1.2084000000000001, 1.2086000000000001, 1.2088, 1.209, 1.2092, 1.2094, 1.2096, 1.2098, 1.21, 1.2102000000000002, 1.2104000000000001, 1.2106000000000001, 1.2108, 1.211, 1.2112, 1.2114, 1.2116, 1.2118, 1.212, 1.2122000000000002, 1.2124000000000001, 1.2126000000000001, 1.2128, 1.213, 1.2132, 1.2134, 1.2136, 1.2138, 1.214, 1.2142000000000002, 1.2144000000000001, 1.2146000000000001, 1.2148, 1.215, 1.2152, 1.2154, 1.2156, 1.2158, 1.216, 1.2162, 1.2164000000000001, 1.2166000000000001, 1.2168, 1.217, 1.2172, 1.2174, 1.2176, 1.2178, 1.218, 1.2182, 1.2184000000000001, 1.2186000000000001, 1.2188, 1.219, 1.2192, 1.2194, 1.2196, 1.2198, 1.22, 1.2202, 1.2204000000000002, 1.2206000000000001, 1.2208, 1.221, 1.2212, 1.2214, 1.2216, 1.2218, 1.222, 1.2222, 1.2224000000000002, 1.2226000000000001, 1.2228, 1.223, 1.2232, 1.2234, 1.2236, 1.2238, 1.224, 1.2242, 1.2244000000000002, 1.2246000000000001, 1.2248, 1.225, 1.2252, 1.2254, 1.2256, 1.2258, 1.226, 1.2262, 1.2264000000000002, 1.2266000000000001, 1.2268000000000001, 1.227, 1.2272, 1.2274, 1.2276, 1.2278, 1.228, 1.2282, 1.2284000000000002, 1.2286000000000001, 1.2288000000000001, 1.229, 1.2292, 1.2294, 1.2296, 1.2298, 1.23, 1.2302, 1.2304000000000002, 1.2306000000000001, 1.2308000000000001, 1.231, 1.2312, 1.2314, 1.2316, 1.2318, 1.232, 1.2322, 1.2324000000000002, 1.2326000000000001, 1.2328000000000001, 1.233, 1.2332, 1.2334, 1.2336, 1.2338, 1.234, 1.2342, 1.2344000000000002, 1.2346000000000001, 1.2348000000000001, 1.235, 1.2352, 1.2354, 1.2356, 1.2358, 1.236, 1.2362, 1.2364000000000002, 1.2366000000000001, 1.2368000000000001, 1.237, 1.2372, 1.2374, 1.2376, 1.2378, 1.238, 1.2382, 1.2384000000000002, 1.2386000000000001, 1.2388000000000001, 1.239, 1.2392, 1.2394, 1.2396, 1.2398, 1.24, 1.2402, 1.2404000000000002, 1.2406000000000001, 1.2408000000000001, 1.241, 1.2412, 1.2414, 1.2416, 1.2418, 1.242, 1.2422, 1.2424, 1.2426000000000001, 1.2428000000000001, 1.243, 1.2432, 1.2434, 1.2436, 1.2438, 1.244, 1.2442, 1.2444, 1.2446000000000002, 1.2448000000000001, 1.245, 1.2452, 1.2454, 1.2456, 1.2458, 1.246, 1.2462, 1.2464, 1.2466000000000002, 1.2468000000000001, 1.247, 1.2472, 1.2474, 1.2476, 1.2478, 1.248, 1.2482, 1.2484, 1.2486000000000002, 1.2488000000000001, 1.249, 1.2492, 1.2494, 1.2496, 1.2498, 1.25, 1.2502, 1.2504, 1.2506000000000002, 1.2508000000000001, 1.2510000000000001, 1.2512, 1.2514, 1.2516, 1.2518, 1.252, 1.2522, 1.2524, 1.2526000000000002, 1.2528000000000001, 1.2530000000000001, 1.2532, 1.2534, 1.2536, 1.2538, 1.254, 1.2542, 1.2544, 1.2546000000000002, 1.2548000000000001, 1.2550000000000001, 1.2552, 1.2554, 1.2556, 1.2558, 1.256, 1.2562, 1.2564, 1.2566000000000002, 1.2568000000000001, 1.2570000000000001, 1.2572, 1.2574, 1.2576, 1.2578, 1.258, 1.2582, 1.2584, 1.2586000000000002, 1.2588000000000001, 1.2590000000000001, 1.2592, 1.2594, 1.2596, 1.2598, 1.26, 1.2602, 1.2604, 1.2606000000000002, 1.2608000000000001, 1.2610000000000001, 1.2612, 1.2614, 1.2616, 1.2618, 1.262, 1.2622, 1.2624, 1.2626000000000002, 1.2628000000000001, 1.2630000000000001, 1.2632, 1.2634, 1.2636, 1.2638, 1.264, 1.2642, 1.2644, 1.2646000000000002, 1.2648000000000001, 1.2650000000000001, 1.2652, 1.2654, 1.2656, 1.2658, 1.266, 1.2662, 1.2664, 1.2666000000000002, 1.2668000000000001, 1.2670000000000001, 1.2672, 1.2674, 1.2676, 1.2678, 1.268, 1.2682, 1.2684, 1.2686, 1.2688000000000001, 1.2690000000000001, 1.2692, 1.2694, 1.2696, 1.2698, 1.27, 1.2702, 1.2704, 1.2706, 1.2708000000000002, 1.2710000000000001, 1.2712, 1.2714, 1.2716, 1.2718, 1.272, 1.2722, 1.2724, 1.2726, 1.2728000000000002, 1.2730000000000001, 1.2732, 1.2734, 1.2736, 1.2738, 1.274, 1.2742, 1.2744, 1.2746, 1.2748000000000002, 1.2750000000000001, 1.2752000000000001, 1.2754, 1.2756, 1.2758, 1.276, 1.2762, 1.2764, 1.2766, 1.2768000000000002, 1.2770000000000001, 1.2772000000000001, 1.2774, 1.2776, 1.2778, 1.278, 1.2782, 1.2784, 1.2786, 1.2788000000000002, 1.2790000000000001, 1.2792000000000001, 1.2794, 1.2796, 1.2798, 1.28, 1.2802, 1.2804, 1.2806, 1.2808000000000002, 1.2810000000000001, 1.2812000000000001, 1.2814, 1.2816, 1.2818, 1.282, 1.2822, 1.2824, 1.2826, 1.2828000000000002, 1.2830000000000001, 1.2832000000000001, 1.2834, 1.2836, 1.2838, 1.284, 1.2842, 1.2844, 1.2846, 1.2848000000000002, 1.2850000000000001, 1.2852000000000001, 1.2854, 1.2856, 1.2858, 1.286, 1.2862, 1.2864, 1.2866, 1.2868000000000002, 1.2870000000000001, 1.2872000000000001, 1.2874, 1.2876, 1.2878, 1.288, 1.2882, 1.2884, 1.2886, 1.2888000000000002, 1.2890000000000001, 1.2892000000000001, 1.2894, 1.2896, 1.2898, 1.29, 1.2902, 1.2904, 1.2906, 1.2908000000000002, 1.2910000000000001, 1.2912000000000001, 1.2914, 1.2916, 1.2918, 1.292, 1.2922, 1.2924, 1.2926, 1.2928000000000002, 1.2930000000000001, 1.2932000000000001, 1.2934, 1.2936, 1.2938, 1.294, 1.2942, 1.2944, 1.2946, 1.2948000000000002, 1.2950000000000002, 1.2952000000000001, 1.2954, 1.2956, 1.2958, 1.296, 1.2962, 1.2964, 1.2966, 1.2968, 1.2970000000000002, 1.2972000000000001, 1.2974, 1.2976, 1.2978, 1.298, 1.2982, 1.2984, 1.2986, 1.2988, 1.2990000000000002, 1.2992000000000001, 1.2994, 1.2996, 1.2998, 1.3, 1.3002, 1.3004, 1.3006, 1.3008, 1.3010000000000002, 1.3012000000000001, 1.3014000000000001, 1.3016, 1.3018, 1.302, 1.3022, 1.3024, 1.3026, 1.3028, 1.3030000000000002, 1.3032000000000001, 1.3034000000000001, 1.3036, 1.3038, 1.304, 1.3042, 1.3044, 1.3046, 1.3048, 1.3050000000000002, 1.3052000000000001, 1.3054000000000001, 1.3056, 1.3058, 1.306, 1.3062, 1.3064, 1.3066, 1.3068, 1.3070000000000002, 1.3072000000000001, 1.3074000000000001, 1.3076, 1.3078, 1.308, 1.3082, 1.3084, 1.3086, 1.3088, 1.3090000000000002, 1.3092000000000001, 1.3094000000000001, 1.3096, 1.3098, 1.31, 1.3102, 1.3104, 1.3106, 1.3108, 1.3110000000000002, 1.3112000000000001, 1.3114000000000001, 1.3116, 1.3118, 1.312, 1.3122, 1.3124, 1.3126, 1.3128, 1.3130000000000002, 1.3132000000000001, 1.3134000000000001, 1.3136, 1.3138, 1.314, 1.3142, 1.3144, 1.3146, 1.3148, 1.3150000000000002, 1.3152000000000001, 1.3154000000000001, 1.3156, 1.3158, 1.316, 1.3162, 1.3164, 1.3166, 1.3168, 1.3170000000000002, 1.3172000000000001, 1.3174000000000001, 1.3176, 1.3178, 1.318, 1.3182, 1.3184, 1.3186, 1.3188, 1.3190000000000002, 1.3192000000000002, 1.3194000000000001, 1.3196, 1.3198, 1.32, 1.3202, 1.3204, 1.3206, 1.3208, 1.3210000000000002, 1.3212000000000002, 1.3214000000000001, 1.3216, 1.3218, 1.322, 1.3222, 1.3224, 1.3226, 1.3228, 1.323, 1.3232000000000002, 1.3234000000000001, 1.3236, 1.3238, 1.324, 1.3242, 1.3244, 1.3246, 1.3248, 1.325, 1.3252000000000002, 1.3254000000000001, 1.3256000000000001, 1.3258, 1.326, 1.3262, 1.3264, 1.3266, 1.3268, 1.327, 1.3272000000000002, 1.3274000000000001, 1.3276000000000001, 1.3278, 1.328, 1.3282, 1.3284, 1.3286, 1.3288, 1.329, 1.3292000000000002, 1.3294000000000001, 1.3296000000000001, 1.3298, 1.33, 1.3302, 1.3304, 1.3306, 1.3308, 1.331, 1.3312000000000002, 1.3314000000000001, 1.3316000000000001, 1.3318, 1.332, 1.3322, 1.3324, 1.3326, 1.3328, 1.333, 1.3332000000000002, 1.3334000000000001, 1.3336000000000001, 1.3338, 1.334, 1.3342, 1.3344, 1.3346, 1.3348, 1.335, 1.3352000000000002, 1.3354000000000001, 1.3356000000000001, 1.3358, 1.336, 1.3362, 1.3364, 1.3366, 1.3368, 1.337, 1.3372000000000002, 1.3374000000000001, 1.3376000000000001, 1.3378, 1.338, 1.3382, 1.3384, 1.3386, 1.3388, 1.339, 1.3392000000000002, 1.3394000000000001, 1.3396000000000001, 1.3398, 1.34, 1.3402, 1.3404, 1.3406, 1.3408, 1.341, 1.3412000000000002, 1.3414000000000001, 1.3416000000000001, 1.3418, 1.342, 1.3422, 1.3424, 1.3426, 1.3428, 1.343, 1.3432000000000002, 1.3434000000000001, 1.3436000000000001, 1.3438, 1.344, 1.3442, 1.3444, 1.3446, 1.3448, 1.345, 1.3452000000000002, 1.3454000000000002, 1.3456000000000001, 1.3458, 1.346, 1.3462, 1.3464, 1.3466, 1.3468, 1.347, 1.3472000000000002, 1.3474000000000002, 1.3476000000000001, 1.3478, 1.348, 1.3482, 1.3484, 1.3486, 1.3488, 1.349, 1.3492, 1.3494000000000002, 1.3496000000000001, 1.3498, 1.35, 1.3502, 1.3504, 1.3506, 1.3508, 1.351, 1.3512, 1.3514000000000002, 1.3516000000000001, 1.3518000000000001, 1.352, 1.3522, 1.3524, 1.3526, 1.3528, 1.353, 1.3532, 1.3534000000000002, 1.3536000000000001, 1.3538000000000001, 1.354, 1.3542, 1.3544, 1.3546, 1.3548, 1.355, 1.3552, 1.3554000000000002, 1.3556000000000001, 1.3558000000000001, 1.356, 1.3562, 1.3564, 1.3566, 1.3568, 1.357, 1.3572, 1.3574000000000002, 1.3576000000000001, 1.3578000000000001, 1.358, 1.3582, 1.3584, 1.3586, 1.3588, 1.359, 1.3592, 1.3594000000000002, 1.3596000000000001, 1.3598000000000001, 1.36, 1.3602, 1.3604, 1.3606, 1.3608, 1.361, 1.3612, 1.3614000000000002, 1.3616000000000001, 1.3618000000000001, 1.362, 1.3622, 1.3624, 1.3626, 1.3628, 1.363, 1.3632, 1.3634000000000002, 1.3636000000000001, 1.3638000000000001, 1.364, 1.3642, 1.3644, 1.3646, 1.3648, 1.365, 1.3652, 1.3654000000000002, 1.3656000000000001, 1.3658000000000001, 1.366, 1.3662, 1.3664, 1.3666, 1.3668, 1.367, 1.3672, 1.3674000000000002, 1.3676000000000001, 1.3678000000000001, 1.368, 1.3682, 1.3684, 1.3686, 1.3688, 1.369, 1.3692, 1.3694000000000002, 1.3696000000000002, 1.3698000000000001, 1.37, 1.3702, 1.3704, 1.3706, 1.3708, 1.371, 1.3712, 1.3714000000000002, 1.3716000000000002, 1.3718000000000001, 1.372, 1.3722, 1.3724, 1.3726, 1.3728, 1.373, 1.3732, 1.3734000000000002, 1.3736000000000002, 1.3738000000000001, 1.374, 1.3742, 1.3744, 1.3746, 1.3748, 1.375, 1.3752, 1.3754, 1.3756000000000002, 1.3758000000000001, 1.3760000000000001, 1.3762, 1.3764, 1.3766, 1.3768, 1.377, 1.3772, 1.3774, 1.3776000000000002, 1.3778000000000001, 1.3780000000000001, 1.3782, 1.3784, 1.3786, 1.3788, 1.379, 1.3792, 1.3794, 1.3796000000000002, 1.3798000000000001, 1.3800000000000001, 1.3802, 1.3804, 1.3806, 1.3808, 1.381, 1.3812, 1.3814, 1.3816000000000002, 1.3818000000000001, 1.3820000000000001, 1.3822, 1.3824, 1.3826, 1.3828, 1.383, 1.3832, 1.3834, 1.3836000000000002, 1.3838000000000001, 1.3840000000000001, 1.3842, 1.3844, 1.3846, 1.3848, 1.385, 1.3852, 1.3854, 1.3856000000000002, 1.3858000000000001, 1.3860000000000001, 1.3862, 1.3864, 1.3866, 1.3868, 1.387, 1.3872, 1.3874, 1.3876000000000002, 1.3878000000000001, 1.3880000000000001, 1.3882, 1.3884, 1.3886, 1.3888, 1.389, 1.3892, 1.3894, 1.3896000000000002, 1.3898000000000001, 1.3900000000000001, 1.3902, 1.3904, 1.3906, 1.3908, 1.391, 1.3912, 1.3914, 1.3916000000000002, 1.3918000000000001, 1.3920000000000001, 1.3922, 1.3924, 1.3926, 1.3928, 1.393, 1.3932, 1.3934, 1.3936000000000002, 1.3938000000000001, 1.3940000000000001, 1.3942, 1.3944, 1.3946, 1.3948, 1.395, 1.3952, 1.3954, 1.3956000000000002, 1.3958000000000002, 1.3960000000000001, 1.3962, 1.3964, 1.3966, 1.3968, 1.397, 1.3972, 1.3974, 1.3976000000000002, 1.3978000000000002, 1.3980000000000001, 1.3982, 1.3984, 1.3986, 1.3988, 1.399, 1.3992, 1.3994, 1.3996000000000002, 1.3998000000000002, 1.4000000000000001, 1.4002000000000001, 1.4004, 1.4006, 1.4008, 1.401, 1.4012, 1.4014, 1.4016, 1.4018000000000002, 1.4020000000000001, 1.4022000000000001, 1.4024, 1.4026, 1.4028, 1.403, 1.4032, 1.4034, 1.4036, 1.4038000000000002, 1.4040000000000001, 1.4042000000000001, 1.4044, 1.4046, 1.4048, 1.405, 1.4052, 1.4054, 1.4056, 1.4058000000000002, 1.4060000000000001, 1.4062000000000001, 1.4064, 1.4066, 1.4068, 1.407, 1.4072, 1.4074, 1.4076, 1.4078000000000002, 1.4080000000000001, 1.4082000000000001, 1.4084, 1.4086, 1.4088, 1.409, 1.4092, 1.4094, 1.4096, 1.4098000000000002, 1.4100000000000001, 1.4102000000000001, 1.4104, 1.4106, 1.4108, 1.411, 1.4112, 1.4114, 1.4116, 1.4118000000000002, 1.4120000000000001, 1.4122000000000001, 1.4124, 1.4126, 1.4128, 1.413, 1.4132, 1.4134, 1.4136, 1.4138000000000002, 1.4140000000000001, 1.4142000000000001, 1.4144, 1.4146, 1.4148, 1.415, 1.4152, 1.4154, 1.4156, 1.4158000000000002, 1.4160000000000001, 1.4162000000000001, 1.4164, 1.4166, 1.4168, 1.417, 1.4172, 1.4174, 1.4176, 1.4178000000000002, 1.4180000000000001, 1.4182000000000001, 1.4184, 1.4186, 1.4188, 1.419, 1.4192, 1.4194, 1.4196, 1.4198000000000002, 1.4200000000000002, 1.4202000000000001, 1.4204, 1.4206, 1.4208, 1.421, 1.4212, 1.4214, 1.4216, 1.4218000000000002, 1.4220000000000002, 1.4222000000000001, 1.4224, 1.4226, 1.4228, 1.423, 1.4232, 1.4234, 1.4236, 1.4238000000000002, 1.4240000000000002, 1.4242000000000001, 1.4244, 1.4246, 1.4248, 1.425, 1.4252, 1.4254, 1.4256, 1.4258000000000002, 1.4260000000000002, 1.4262000000000001, 1.4264000000000001, 1.4266, 1.4268, 1.427, 1.4272, 1.4274, 1.4276, 1.4278, 1.4280000000000002, 1.4282000000000001, 1.4284000000000001, 1.4286, 1.4288, 1.429, 1.4292, 1.4294, 1.4296, 1.4298, 1.4300000000000002, 1.4302000000000001, 1.4304000000000001, 1.4306, 1.4308, 1.431, 1.4312, 1.4314, 1.4316, 1.4318, 1.4320000000000002, 1.4322000000000001, 1.4324000000000001, 1.4326, 1.4328, 1.433, 1.4332, 1.4334, 1.4336, 1.4338, 1.4340000000000002, 1.4342000000000001, 1.4344000000000001, 1.4346, 1.4348, 1.435, 1.4352, 1.4354, 1.4356, 1.4358, 1.4360000000000002, 1.4362000000000001, 1.4364000000000001, 1.4366, 1.4368, 1.437, 1.4372, 1.4374, 1.4376, 1.4378, 1.4380000000000002, 1.4382000000000001, 1.4384000000000001, 1.4386, 1.4388, 1.439, 1.4392, 1.4394, 1.4396, 1.4398, 1.4400000000000002, 1.4402000000000001, 1.4404000000000001, 1.4406, 1.4408, 1.441, 1.4412, 1.4414, 1.4416, 1.4418, 1.4420000000000002, 1.4422000000000001, 1.4424000000000001, 1.4426, 1.4428, 1.443, 1.4432, 1.4434, 1.4436, 1.4438, 1.4440000000000002, 1.4442000000000002, 1.4444000000000001, 1.4446, 1.4448, 1.445, 1.4452, 1.4454, 1.4456, 1.4458, 1.4460000000000002, 1.4462000000000002, 1.4464000000000001, 1.4466, 1.4468, 1.447, 1.4472, 1.4474, 1.4476, 1.4478, 1.4480000000000002, 1.4482000000000002, 1.4484000000000001, 1.4486, 1.4488, 1.449, 1.4492, 1.4494, 1.4496, 1.4498, 1.4500000000000002, 1.4502000000000002, 1.4504000000000001, 1.4506000000000001, 1.4508, 1.451, 1.4512, 1.4514, 1.4516, 1.4518, 1.4520000000000002, 1.4522000000000002, 1.4524000000000001, 1.4526000000000001, 1.4528, 1.453, 1.4532, 1.4534, 1.4536, 1.4538, 1.454, 1.4542000000000002, 1.4544000000000001, 1.4546000000000001, 1.4548, 1.455, 1.4552, 1.4554, 1.4556, 1.4558, 1.456, 1.4562000000000002, 1.4564000000000001, 1.4566000000000001, 1.4568, 1.457, 1.4572, 1.4574, 1.4576, 1.4578, 1.458, 1.4582000000000002, 1.4584000000000001, 1.4586000000000001, 1.4588, 1.459, 1.4592, 1.4594, 1.4596, 1.4598, 1.46, 1.4602000000000002, 1.4604000000000001, 1.4606000000000001, 1.4608, 1.461, 1.4612, 1.4614, 1.4616, 1.4618, 1.462, 1.4622000000000002, 1.4624000000000001, 1.4626000000000001, 1.4628, 1.463, 1.4632, 1.4634, 1.4636, 1.4638, 1.464, 1.4642000000000002, 1.4644000000000001, 1.4646000000000001, 1.4648, 1.465, 1.4652, 1.4654, 1.4656, 1.4658, 1.466, 1.4662000000000002, 1.4664000000000001, 1.4666000000000001, 1.4668, 1.467, 1.4672, 1.4674, 1.4676, 1.4678, 1.468, 1.4682000000000002, 1.4684000000000001, 1.4686000000000001, 1.4688, 1.469, 1.4692, 1.4694, 1.4696, 1.4698, 1.47, 1.4702000000000002, 1.4704000000000002, 1.4706000000000001, 1.4708, 1.471, 1.4712, 1.4714, 1.4716, 1.4718, 1.472, 1.4722000000000002, 1.4724000000000002, 1.4726000000000001, 1.4728, 1.473, 1.4732, 1.4734, 1.4736, 1.4738, 1.474, 1.4742000000000002, 1.4744000000000002, 1.4746000000000001, 1.4748, 1.475, 1.4752, 1.4754, 1.4756, 1.4758, 1.476, 1.4762000000000002, 1.4764000000000002, 1.4766000000000001, 1.4768000000000001, 1.477, 1.4772, 1.4774, 1.4776, 1.4778, 1.478, 1.4782000000000002, 1.4784000000000002, 1.4786000000000001, 1.4788000000000001, 1.479, 1.4792, 1.4794, 1.4796, 1.4798, 1.48, 1.4802, 1.4804000000000002, 1.4806000000000001, 1.4808000000000001, 1.481, 1.4812, 1.4814, 1.4816, 1.4818, 1.482, 1.4822, 1.4824000000000002, 1.4826000000000001, 1.4828000000000001, 1.483, 1.4832, 1.4834, 1.4836, 1.4838, 1.484, 1.4842, 1.4844000000000002, 1.4846000000000001, 1.4848000000000001, 1.485, 1.4852, 1.4854, 1.4856, 1.4858, 1.486, 1.4862, 1.4864000000000002, 1.4866000000000001, 1.4868000000000001, 1.487, 1.4872, 1.4874, 1.4876, 1.4878, 1.488, 1.4882, 1.4884000000000002, 1.4886000000000001, 1.4888000000000001, 1.489, 1.4892, 1.4894, 1.4896, 1.4898, 1.49, 1.4902, 1.4904000000000002, 1.4906000000000001, 1.4908000000000001, 1.491, 1.4912, 1.4914, 1.4916, 1.4918, 1.492, 1.4922, 1.4924000000000002, 1.4926000000000001, 1.4928000000000001, 1.493, 1.4932, 1.4934, 1.4936, 1.4938, 1.494, 1.4942, 1.4944000000000002, 1.4946000000000002, 1.4948000000000001, 1.495, 1.4952, 1.4954, 1.4956, 1.4958, 1.496, 1.4962, 1.4964000000000002, 1.4966000000000002, 1.4968000000000001, 1.497, 1.4972, 1.4974, 1.4976, 1.4978, 1.498, 1.4982, 1.4984000000000002, 1.4986000000000002, 1.4988000000000001, 1.499, 1.4992, 1.4994, 1.4996, 1.4998, 1.5, 1.5002, 1.5004000000000002, 1.5006000000000002, 1.5008000000000001, 1.5010000000000001, 1.5012, 1.5014, 1.5016, 1.5018, 1.502, 1.5022, 1.5024000000000002, 1.5026000000000002, 1.5028000000000001, 1.5030000000000001, 1.5032, 1.5034, 1.5036, 1.5038, 1.504, 1.5042, 1.5044000000000002, 1.5046000000000002, 1.5048000000000001, 1.5050000000000001, 1.5052, 1.5054, 1.5056, 1.5058, 1.506, 1.5062, 1.5064, 1.5066000000000002, 1.5068000000000001, 1.5070000000000001, 1.5072, 1.5074, 1.5076, 1.5078, 1.508, 1.5082, 1.5084, 1.5086000000000002, 1.5088000000000001, 1.5090000000000001, 1.5092, 1.5094, 1.5096, 1.5098, 1.51, 1.5102, 1.5104, 1.5106000000000002, 1.5108000000000001, 1.5110000000000001, 1.5112, 1.5114, 1.5116, 1.5118, 1.512, 1.5122, 1.5124, 1.5126000000000002, 1.5128000000000001, 1.5130000000000001, 1.5132, 1.5134, 1.5136, 1.5138, 1.514, 1.5142, 1.5144, 1.5146000000000002, 1.5148000000000001, 1.5150000000000001, 1.5152, 1.5154, 1.5156, 1.5158, 1.516, 1.5162, 1.5164, 1.5166000000000002, 1.5168000000000001, 1.5170000000000001, 1.5172, 1.5174, 1.5176, 1.5178, 1.518, 1.5182, 1.5184, 1.5186000000000002, 1.5188000000000001, 1.5190000000000001, 1.5192, 1.5194, 1.5196, 1.5198, 1.52, 1.5202, 1.5204, 1.5206000000000002, 1.5208000000000002, 1.5210000000000001, 1.5212, 1.5214, 1.5216, 1.5218, 1.522, 1.5222, 1.5224, 1.5226000000000002, 1.5228000000000002, 1.5230000000000001, 1.5232, 1.5234, 1.5236, 1.5238, 1.524, 1.5242, 1.5244, 1.5246000000000002, 1.5248000000000002, 1.5250000000000001, 1.5252000000000001, 1.5254, 1.5256, 1.5258, 1.526, 1.5262, 1.5264, 1.5266000000000002, 1.5268000000000002, 1.5270000000000001, 1.5272000000000001, 1.5274, 1.5276, 1.5278, 1.528, 1.5282, 1.5284, 1.5286000000000002, 1.5288000000000002, 1.5290000000000001, 1.5292000000000001, 1.5294, 1.5296, 1.5298, 1.53, 1.5302, 1.5304, 1.5306000000000002, 1.5308000000000002, 1.5310000000000001, 1.5312000000000001, 1.5314, 1.5316, 1.5318, 1.532, 1.5322, 1.5324, 1.5326000000000002, 1.5328000000000002, 1.5330000000000001, 1.5332000000000001, 1.5334, 1.5336, 1.5338, 1.534, 1.5342, 1.5344, 1.5346, 1.5348000000000002, 1.5350000000000001, 1.5352000000000001, 1.5354, 1.5356, 1.5358, 1.536, 1.5362, 1.5364, 1.5366, 1.5368000000000002, 1.5370000000000001, 1.5372000000000001, 1.5374, 1.5376, 1.5378, 1.538, 1.5382, 1.5384, 1.5386, 1.5388000000000002, 1.5390000000000001, 1.5392000000000001, 1.5394, 1.5396, 1.5398, 1.54, 1.5402, 1.5404, 1.5406, 1.5408000000000002, 1.5410000000000001, 1.5412000000000001, 1.5414, 1.5416, 1.5418, 1.542, 1.5422, 1.5424, 1.5426, 1.5428000000000002, 1.5430000000000001, 1.5432000000000001, 1.5434, 1.5436, 1.5438, 1.544, 1.5442, 1.5444, 1.5446, 1.5448000000000002, 1.5450000000000002, 1.5452000000000001, 1.5454, 1.5456, 1.5458, 1.546, 1.5462, 1.5464, 1.5466, 1.5468000000000002, 1.5470000000000002, 1.5472000000000001, 1.5474, 1.5476, 1.5478, 1.548, 1.5482, 1.5484, 1.5486, 1.5488000000000002, 1.5490000000000002, 1.5492000000000001, 1.5494, 1.5496, 1.5498, 1.55, 1.5502, 1.5504, 1.5506, 1.5508000000000002, 1.5510000000000002, 1.5512000000000001, 1.5514000000000001, 1.5516, 1.5518, 1.552, 1.5522, 1.5524, 1.5526, 1.5528000000000002, 1.5530000000000002, 1.5532000000000001, 1.5534000000000001, 1.5536, 1.5538, 1.554, 1.5542, 1.5544, 1.5546, 1.5548000000000002, 1.5550000000000002, 1.5552000000000001, 1.5554000000000001, 1.5556, 1.5558, 1.556, 1.5562, 1.5564, 1.5566, 1.5568000000000002, 1.5570000000000002, 1.5572000000000001, 1.5574000000000001, 1.5576, 1.5578, 1.558, 1.5582, 1.5584, 1.5586, 1.5588000000000002, 1.5590000000000002, 1.5592000000000001, 1.5594000000000001, 1.5596, 1.5598, 1.56, 1.5602, 1.5604, 1.5606, 1.5608, 1.5610000000000002, 1.5612000000000001, 1.5614000000000001, 1.5616, 1.5618, 1.562, 1.5622, 1.5624, 1.5626, 1.5628, 1.5630000000000002, 1.5632000000000001, 1.5634000000000001, 1.5636, 1.5638, 1.564, 1.5642, 1.5644, 1.5646, 1.5648, 1.5650000000000002, 1.5652000000000001, 1.5654000000000001, 1.5656, 1.5658, 1.566, 1.5662, 1.5664, 1.5666, 1.5668, 1.5670000000000002, 1.5672000000000001, 1.5674000000000001, 1.5676, 1.5678, 1.568, 1.5682, 1.5684, 1.5686, 1.5688, 1.5690000000000002, 1.5692000000000002, 1.5694000000000001, 1.5696, 1.5698, 1.57, 1.5702, 1.5704, 1.5706, 1.5708, 1.5710000000000002, 1.5712000000000002, 1.5714000000000001, 1.5716, 1.5718, 1.572, 1.5722, 1.5724, 1.5726, 1.5728, 1.5730000000000002, 1.5732000000000002, 1.5734000000000001, 1.5736, 1.5738, 1.574, 1.5742, 1.5744, 1.5746, 1.5748, 1.5750000000000002, 1.5752000000000002, 1.5754000000000001, 1.5756000000000001, 1.5758, 1.576, 1.5762, 1.5764, 1.5766, 1.5768, 1.5770000000000002, 1.5772000000000002, 1.5774000000000001, 1.5776000000000001, 1.5778, 1.578, 1.5782, 1.5784, 1.5786, 1.5788, 1.5790000000000002, 1.5792000000000002, 1.5794000000000001, 1.5796000000000001, 1.5798, 1.58, 1.5802, 1.5804, 1.5806, 1.5808, 1.5810000000000002, 1.5812000000000002, 1.5814000000000001, 1.5816000000000001, 1.5818, 1.582, 1.5822, 1.5824, 1.5826, 1.5828, 1.5830000000000002, 1.5832000000000002, 1.5834000000000001, 1.5836000000000001, 1.5838, 1.584, 1.5842, 1.5844, 1.5846, 1.5848, 1.5850000000000002, 1.5852000000000002, 1.5854000000000001, 1.5856000000000001, 1.5858, 1.586, 1.5862, 1.5864, 1.5866, 1.5868, 1.587, 1.5872000000000002, 1.5874000000000001, 1.5876000000000001, 1.5878, 1.588, 1.5882, 1.5884, 1.5886, 1.5888, 1.589, 1.5892000000000002, 1.5894000000000001, 1.5896000000000001, 1.5898, 1.59, 1.5902, 1.5904, 1.5906, 1.5908, 1.591, 1.5912000000000002, 1.5914000000000001, 1.5916000000000001, 1.5918, 1.592, 1.5922, 1.5924, 1.5926, 1.5928, 1.593, 1.5932000000000002, 1.5934000000000001, 1.5936000000000001, 1.5938, 1.594, 1.5942, 1.5944, 1.5946, 1.5948, 1.595, 1.5952000000000002, 1.5954000000000002, 1.5956000000000001, 1.5958, 1.596, 1.5962, 1.5964, 1.5966, 1.5968, 1.597, 1.5972000000000002, 1.5974000000000002, 1.5976000000000001, 1.5978, 1.598, 1.5982, 1.5984, 1.5986, 1.5988, 1.599, 1.5992000000000002, 1.5994000000000002, 1.5996000000000001, 1.5998, 1.6, 1.6002, 1.6004, 1.6006, 1.6008, 1.601, 1.6012000000000002, 1.6014000000000002, 1.6016000000000001, 1.6018000000000001, 1.602, 1.6022, 1.6024, 1.6026, 1.6028, 1.603, 1.6032000000000002, 1.6034000000000002, 1.6036000000000001, 1.6038000000000001, 1.604, 1.6042, 1.6044, 1.6046, 1.6048, 1.605, 1.6052000000000002, 1.6054000000000002, 1.6056000000000001, 1.6058000000000001, 1.606, 1.6062, 1.6064, 1.6066, 1.6068, 1.607, 1.6072000000000002, 1.6074000000000002, 1.6076000000000001, 1.6078000000000001, 1.608, 1.6082, 1.6084, 1.6086, 1.6088, 1.609, 1.6092000000000002, 1.6094000000000002, 1.6096000000000001, 1.6098000000000001, 1.61, 1.6102, 1.6104, 1.6106, 1.6108, 1.611, 1.6112000000000002, 1.6114000000000002, 1.6116000000000001, 1.6118000000000001, 1.612, 1.6122, 1.6124, 1.6126, 1.6128, 1.613, 1.6132, 1.6134000000000002, 1.6136000000000001, 1.6138000000000001, 1.614, 1.6142, 1.6144, 1.6146, 1.6148, 1.615, 1.6152, 1.6154000000000002, 1.6156000000000001, 1.6158000000000001, 1.616, 1.6162, 1.6164, 1.6166, 1.6168, 1.617, 1.6172, 1.6174000000000002, 1.6176000000000001, 1.6178000000000001, 1.618, 1.6182, 1.6184, 1.6186, 1.6188, 1.619, 1.6192, 1.6194000000000002, 1.6196000000000002, 1.6198000000000001, 1.62, 1.6202, 1.6204, 1.6206, 1.6208, 1.621, 1.6212, 1.6214000000000002, 1.6216000000000002, 1.6218000000000001, 1.622, 1.6222, 1.6224, 1.6226, 1.6228, 1.623, 1.6232, 1.6234000000000002, 1.6236000000000002, 1.6238000000000001, 1.624, 1.6242, 1.6244, 1.6246, 1.6248, 1.625, 1.6252, 1.6254000000000002, 1.6256000000000002, 1.6258000000000001, 1.6260000000000001, 1.6262, 1.6264, 1.6266, 1.6268, 1.627, 1.6272, 1.6274000000000002, 1.6276000000000002, 1.6278000000000001, 1.6280000000000001, 1.6282, 1.6284, 1.6286, 1.6288, 1.629, 1.6292, 1.6294000000000002, 1.6296000000000002, 1.6298000000000001, 1.6300000000000001, 1.6302, 1.6304, 1.6306, 1.6308, 1.631, 1.6312, 1.6314000000000002, 1.6316000000000002, 1.6318000000000001, 1.6320000000000001, 1.6322, 1.6324, 1.6326, 1.6328, 1.633, 1.6332, 1.6334000000000002, 1.6336000000000002, 1.6338000000000001, 1.6340000000000001, 1.6342, 1.6344, 1.6346, 1.6348, 1.635, 1.6352, 1.6354000000000002, 1.6356000000000002, 1.6358000000000001, 1.6360000000000001, 1.6362, 1.6364, 1.6366, 1.6368, 1.637, 1.6372, 1.6374000000000002, 1.6376000000000002, 1.6378000000000001, 1.6380000000000001, 1.6382, 1.6384, 1.6386, 1.6388, 1.639, 1.6392, 1.6394, 1.6396000000000002, 1.6398000000000001, 1.6400000000000001, 1.6402, 1.6404, 1.6406, 1.6408, 1.641, 1.6412, 1.6414, 1.6416000000000002, 1.6418000000000001, 1.6420000000000001, 1.6422, 1.6424, 1.6426, 1.6428, 1.643, 1.6432, 1.6434, 1.6436000000000002, 1.6438000000000001, 1.6440000000000001, 1.6442, 1.6444, 1.6446, 1.6448, 1.645, 1.6452, 1.6454, 1.6456000000000002, 1.6458000000000002, 1.6460000000000001, 1.6462, 1.6464, 1.6466, 1.6468, 1.647, 1.6472, 1.6474, 1.6476000000000002, 1.6478000000000002, 1.6480000000000001, 1.6482, 1.6484, 1.6486, 1.6488, 1.649, 1.6492, 1.6494, 1.6496000000000002, 1.6498000000000002, 1.6500000000000001, 1.6502000000000001, 1.6504, 1.6506, 1.6508, 1.651, 1.6512, 1.6514, 1.6516000000000002, 1.6518000000000002, 1.6520000000000001, 1.6522000000000001, 1.6524, 1.6526, 1.6528, 1.653, 1.6532, 1.6534, 1.6536000000000002, 1.6538000000000002, 1.6540000000000001, 1.6542000000000001, 1.6544, 1.6546, 1.6548, 1.655, 1.6552, 1.6554, 1.6556000000000002, 1.6558000000000002, 1.6560000000000001, 1.6562000000000001, 1.6564, 1.6566, 1.6568, 1.657, 1.6572, 1.6574, 1.6576000000000002, 1.6578000000000002, 1.6580000000000001, 1.6582000000000001, 1.6584, 1.6586, 1.6588, 1.659, 1.6592, 1.6594, 1.6596000000000002, 1.6598000000000002, 1.6600000000000001, 1.6602000000000001, 1.6604, 1.6606, 1.6608, 1.661, 1.6612, 1.6614, 1.6616000000000002, 1.6618000000000002, 1.6620000000000001, 1.6622000000000001, 1.6624, 1.6626, 1.6628, 1.663, 1.6632, 1.6634, 1.6636000000000002, 1.6638000000000002, 1.6640000000000001, 1.6642000000000001, 1.6644, 1.6646, 1.6648, 1.665, 1.6652, 1.6654, 1.6656, 1.6658000000000002, 1.6660000000000001, 1.6662000000000001, 1.6664, 1.6666, 1.6668, 1.667, 1.6672, 1.6674, 1.6676, 1.6678000000000002, 1.6680000000000001, 1.6682000000000001, 1.6684, 1.6686, 1.6688, 1.669, 1.6692, 1.6694, 1.6696, 1.6698000000000002, 1.6700000000000002, 1.6702000000000001, 1.6704, 1.6706, 1.6708, 1.671, 1.6712, 1.6714, 1.6716, 1.6718000000000002, 1.6720000000000002, 1.6722000000000001, 1.6724, 1.6726, 1.6728, 1.673, 1.6732, 1.6734, 1.6736, 1.6738000000000002, 1.6740000000000002, 1.6742000000000001, 1.6744, 1.6746, 1.6748, 1.675, 1.6752, 1.6754, 1.6756, 1.6758000000000002, 1.6760000000000002, 1.6762000000000001, 1.6764000000000001, 1.6766, 1.6768, 1.677, 1.6772, 1.6774, 1.6776, 1.6778000000000002, 1.6780000000000002, 1.6782000000000001, 1.6784000000000001, 1.6786, 1.6788, 1.679, 1.6792, 1.6794, 1.6796, 1.6798000000000002, 1.6800000000000002, 1.6802000000000001, 1.6804000000000001, 1.6806, 1.6808, 1.681, 1.6812, 1.6814, 1.6816, 1.6818000000000002, 1.6820000000000002, 1.6822000000000001, 1.6824000000000001, 1.6826, 1.6828, 1.683, 1.6832, 1.6834, 1.6836, 1.6838000000000002, 1.6840000000000002, 1.6842000000000001, 1.6844000000000001, 1.6846, 1.6848, 1.685, 1.6852, 1.6854, 1.6856, 1.6858000000000002, 1.6860000000000002, 1.6862000000000001, 1.6864000000000001, 1.6866, 1.6868, 1.687, 1.6872, 1.6874, 1.6876, 1.6878000000000002, 1.6880000000000002, 1.6882000000000001, 1.6884000000000001, 1.6886, 1.6888, 1.689, 1.6892, 1.6894, 1.6896, 1.6898000000000002, 1.6900000000000002, 1.6902000000000001, 1.6904000000000001, 1.6906, 1.6908, 1.691, 1.6912, 1.6914, 1.6916, 1.6918, 1.6920000000000002, 1.6922000000000001, 1.6924000000000001, 1.6926, 1.6928, 1.693, 1.6932, 1.6934, 1.6936, 1.6938, 1.6940000000000002, 1.6942000000000002, 1.6944000000000001, 1.6946, 1.6948, 1.695, 1.6952, 1.6954, 1.6956, 1.6958, 1.6960000000000002, 1.6962000000000002, 1.6964000000000001, 1.6966, 1.6968, 1.697, 1.6972, 1.6974, 1.6976, 1.6978, 1.6980000000000002, 1.6982000000000002, 1.6984000000000001, 1.6986, 1.6988, 1.699, 1.6992, 1.6994, 1.6996, 1.6998, 1.7000000000000002, 1.7002000000000002, 1.7004000000000001, 1.7006000000000001, 1.7008, 1.701, 1.7012, 1.7014, 1.7016, 1.7018, 1.7020000000000002, 1.7022000000000002, 1.7024000000000001, 1.7026000000000001, 1.7028, 1.703, 1.7032, 1.7034, 1.7036, 1.7038, 1.7040000000000002, 1.7042000000000002, 1.7044000000000001, 1.7046000000000001, 1.7048, 1.705, 1.7052, 1.7054, 1.7056, 1.7058, 1.7060000000000002, 1.7062000000000002, 1.7064000000000001, 1.7066000000000001, 1.7068, 1.707, 1.7072, 1.7074, 1.7076, 1.7078, 1.7080000000000002, 1.7082000000000002, 1.7084000000000001, 1.7086000000000001, 1.7088, 1.709, 1.7092, 1.7094, 1.7096, 1.7098, 1.7100000000000002, 1.7102000000000002, 1.7104000000000001, 1.7106000000000001, 1.7108, 1.711, 1.7112, 1.7114, 1.7116, 1.7118, 1.7120000000000002, 1.7122000000000002, 1.7124000000000001, 1.7126000000000001, 1.7128, 1.713, 1.7132, 1.7134, 1.7136, 1.7138, 1.7140000000000002, 1.7142000000000002, 1.7144000000000001, 1.7146000000000001, 1.7148, 1.715, 1.7152, 1.7154, 1.7156, 1.7158, 1.7160000000000002, 1.7162000000000002, 1.7164000000000001, 1.7166000000000001, 1.7168, 1.717, 1.7172, 1.7174, 1.7176, 1.7178, 1.718, 1.7182000000000002, 1.7184000000000001, 1.7186000000000001, 1.7188, 1.719, 1.7192, 1.7194, 1.7196, 1.7198, 1.72, 1.7202000000000002, 1.7204000000000002, 1.7206000000000001, 1.7208, 1.721, 1.7212, 1.7214, 1.7216, 1.7218, 1.722, 1.7222000000000002, 1.7224000000000002, 1.7226000000000001, 1.7228, 1.723, 1.7232, 1.7234, 1.7236, 1.7238, 1.724, 1.7242000000000002, 1.7244000000000002, 1.7246000000000001, 1.7248, 1.725, 1.7252, 1.7254, 1.7256, 1.7258, 1.726, 1.7262000000000002, 1.7264000000000002, 1.7266000000000001, 1.7268000000000001, 1.727, 1.7272, 1.7274, 1.7276, 1.7278, 1.728, 1.7282000000000002, 1.7284000000000002, 1.7286000000000001, 1.7288000000000001, 1.729, 1.7292, 1.7294, 1.7296, 1.7298, 1.73, 1.7302000000000002, 1.7304000000000002, 1.7306000000000001, 1.7308000000000001, 1.731, 1.7312, 1.7314, 1.7316, 1.7318, 1.732, 1.7322000000000002, 1.7324000000000002, 1.7326000000000001, 1.7328000000000001, 1.733, 1.7332, 1.7334, 1.7336, 1.7338, 1.734, 1.7342000000000002, 1.7344000000000002, 1.7346000000000001, 1.7348000000000001, 1.735, 1.7352, 1.7354, 1.7356, 1.7358, 1.736, 1.7362000000000002, 1.7364000000000002, 1.7366000000000001, 1.7368000000000001, 1.737, 1.7372, 1.7374, 1.7376, 1.7378, 1.738, 1.7382000000000002, 1.7384000000000002, 1.7386000000000001, 1.7388000000000001, 1.739, 1.7392, 1.7394, 1.7396, 1.7398, 1.74, 1.7402000000000002, 1.7404000000000002, 1.7406000000000001, 1.7408000000000001, 1.741, 1.7412, 1.7414, 1.7416, 1.7418, 1.742, 1.7422000000000002, 1.7424000000000002, 1.7426000000000001, 1.7428000000000001, 1.743, 1.7432, 1.7434, 1.7436, 1.7438, 1.744, 1.7442, 1.7444000000000002, 1.7446000000000002, 1.7448000000000001, 1.745, 1.7452, 1.7454, 1.7456, 1.7458, 1.746, 1.7462, 1.7464000000000002, 1.7466000000000002, 1.7468000000000001, 1.747, 1.7472, 1.7474, 1.7476, 1.7478, 1.748, 1.7482, 1.7484000000000002, 1.7486000000000002, 1.7488000000000001, 1.749, 1.7492, 1.7494, 1.7496, 1.7498, 1.75, 1.7502, 1.7504000000000002, 1.7506000000000002, 1.7508000000000001, 1.7510000000000001, 1.7512, 1.7514, 1.7516, 1.7518, 1.752, 1.7522, 1.7524000000000002, 1.7526000000000002, 1.7528000000000001, 1.7530000000000001, 1.7532, 1.7534, 1.7536, 1.7538, 1.754, 1.7542, 1.7544000000000002, 1.7546000000000002, 1.7548000000000001, 1.7550000000000001, 1.7552, 1.7554, 1.7556, 1.7558, 1.756, 1.7562, 1.7564000000000002, 1.7566000000000002, 1.7568000000000001, 1.7570000000000001, 1.7572, 1.7574, 1.7576, 1.7578, 1.758, 1.7582, 1.7584000000000002, 1.7586000000000002, 1.7588000000000001, 1.7590000000000001, 1.7592, 1.7594, 1.7596, 1.7598, 1.76, 1.7602, 1.7604000000000002, 1.7606000000000002, 1.7608000000000001, 1.7610000000000001, 1.7612, 1.7614, 1.7616, 1.7618, 1.762, 1.7622, 1.7624000000000002, 1.7626000000000002, 1.7628000000000001, 1.7630000000000001, 1.7632, 1.7634, 1.7636, 1.7638, 1.764, 1.7642, 1.7644000000000002, 1.7646000000000002, 1.7648000000000001, 1.7650000000000001, 1.7652, 1.7654, 1.7656, 1.7658, 1.766, 1.7662, 1.7664000000000002, 1.7666000000000002, 1.7668000000000001, 1.7670000000000001, 1.7672, 1.7674, 1.7676, 1.7678, 1.768, 1.7682, 1.7684000000000002, 1.7686000000000002, 1.7688000000000001, 1.7690000000000001, 1.7692, 1.7694, 1.7696, 1.7698, 1.77, 1.7702, 1.7704000000000002, 1.7706000000000002, 1.7708000000000002, 1.7710000000000001, 1.7712, 1.7714, 1.7716, 1.7718, 1.772, 1.7722, 1.7724, 1.7726000000000002, 1.7728000000000002, 1.7730000000000001, 1.7732, 1.7734, 1.7736, 1.7738, 1.774, 1.7742, 1.7744, 1.7746000000000002, 1.7748000000000002, 1.7750000000000001, 1.7752000000000001, 1.7754, 1.7756, 1.7758, 1.776, 1.7762, 1.7764, 1.7766000000000002, 1.7768000000000002, 1.7770000000000001, 1.7772000000000001, 1.7774, 1.7776, 1.7778, 1.778, 1.7782, 1.7784, 1.7786000000000002, 1.7788000000000002, 1.7790000000000001, 1.7792000000000001, 1.7794, 1.7796, 1.7798, 1.78, 1.7802, 1.7804, 1.7806000000000002, 1.7808000000000002, 1.7810000000000001, 1.7812000000000001, 1.7814, 1.7816, 1.7818, 1.782, 1.7822, 1.7824, 1.7826000000000002, 1.7828000000000002, 1.7830000000000001, 1.7832000000000001, 1.7834, 1.7836, 1.7838, 1.784, 1.7842, 1.7844, 1.7846000000000002, 1.7848000000000002, 1.7850000000000001, 1.7852000000000001, 1.7854, 1.7856, 1.7858, 1.786, 1.7862, 1.7864, 1.7866000000000002, 1.7868000000000002, 1.7870000000000001, 1.7872000000000001, 1.7874, 1.7876, 1.7878, 1.788, 1.7882, 1.7884, 1.7886000000000002, 1.7888000000000002, 1.7890000000000001, 1.7892000000000001, 1.7894, 1.7896, 1.7898, 1.79, 1.7902, 1.7904, 1.7906000000000002, 1.7908000000000002, 1.7910000000000001, 1.7912000000000001, 1.7914, 1.7916, 1.7918, 1.792, 1.7922, 1.7924, 1.7926000000000002, 1.7928000000000002, 1.7930000000000001, 1.7932000000000001, 1.7934, 1.7936, 1.7938, 1.794, 1.7942, 1.7944, 1.7946000000000002, 1.7948000000000002, 1.7950000000000002, 1.7952000000000001, 1.7954, 1.7956, 1.7958, 1.796, 1.7962, 1.7964, 1.7966000000000002, 1.7968000000000002, 1.7970000000000002, 1.7972000000000001, 1.7974, 1.7976, 1.7978, 1.798, 1.7982, 1.7984, 1.7986, 1.7988000000000002, 1.7990000000000002, 1.7992000000000001, 1.7994, 1.7996, 1.7998, 1.8, 1.8002, 1.8004, 1.8006, 1.8008000000000002, 1.8010000000000002, 1.8012000000000001, 1.8014000000000001, 1.8016, 1.8018, 1.802, 1.8022, 1.8024, 1.8026, 1.8028000000000002, 1.8030000000000002, 1.8032000000000001, 1.8034000000000001, 1.8036, 1.8038, 1.804, 1.8042, 1.8044, 1.8046, 1.8048000000000002, 1.8050000000000002, 1.8052000000000001, 1.8054000000000001, 1.8056, 1.8058, 1.806, 1.8062, 1.8064, 1.8066, 1.8068000000000002, 1.8070000000000002, 1.8072000000000001, 1.8074000000000001, 1.8076, 1.8078, 1.808, 1.8082, 1.8084, 1.8086, 1.8088000000000002, 1.8090000000000002, 1.8092000000000001, 1.8094000000000001, 1.8096, 1.8098, 1.81, 1.8102, 1.8104, 1.8106, 1.8108000000000002, 1.8110000000000002, 1.8112000000000001, 1.8114000000000001, 1.8116, 1.8118, 1.812, 1.8122, 1.8124, 1.8126, 1.8128000000000002, 1.8130000000000002, 1.8132000000000001, 1.8134000000000001, 1.8136, 1.8138, 1.814, 1.8142, 1.8144, 1.8146, 1.8148000000000002, 1.8150000000000002, 1.8152000000000001, 1.8154000000000001, 1.8156, 1.8158, 1.816, 1.8162, 1.8164, 1.8166, 1.8168000000000002, 1.8170000000000002, 1.8172000000000001, 1.8174000000000001, 1.8176, 1.8178, 1.818, 1.8182, 1.8184, 1.8186, 1.8188000000000002, 1.8190000000000002, 1.8192000000000002, 1.8194000000000001, 1.8196, 1.8198, 1.82, 1.8202, 1.8204, 1.8206, 1.8208000000000002, 1.8210000000000002, 1.8212000000000002, 1.8214000000000001, 1.8216, 1.8218, 1.822, 1.8222, 1.8224, 1.8226, 1.8228000000000002, 1.8230000000000002, 1.8232000000000002, 1.8234000000000001, 1.8236, 1.8238, 1.824, 1.8242, 1.8244, 1.8246, 1.8248, 1.8250000000000002, 1.8252000000000002, 1.8254000000000001, 1.8256000000000001, 1.8258, 1.826, 1.8262, 1.8264, 1.8266, 1.8268, 1.8270000000000002, 1.8272000000000002, 1.8274000000000001, 1.8276000000000001, 1.8278, 1.828, 1.8282, 1.8284, 1.8286, 1.8288, 1.8290000000000002, 1.8292000000000002, 1.8294000000000001, 1.8296000000000001, 1.8298, 1.83, 1.8302, 1.8304, 1.8306, 1.8308, 1.8310000000000002, 1.8312000000000002, 1.8314000000000001, 1.8316000000000001, 1.8318, 1.832, 1.8322, 1.8324, 1.8326, 1.8328, 1.8330000000000002, 1.8332000000000002, 1.8334000000000001, 1.8336000000000001, 1.8338, 1.834, 1.8342, 1.8344, 1.8346, 1.8348, 1.8350000000000002, 1.8352000000000002, 1.8354000000000001, 1.8356000000000001, 1.8358, 1.836, 1.8362, 1.8364, 1.8366, 1.8368, 1.8370000000000002, 1.8372000000000002, 1.8374000000000001, 1.8376000000000001, 1.8378, 1.838, 1.8382, 1.8384, 1.8386, 1.8388, 1.8390000000000002, 1.8392000000000002, 1.8394000000000001, 1.8396000000000001, 1.8398, 1.84, 1.8402, 1.8404, 1.8406, 1.8408, 1.8410000000000002, 1.8412000000000002, 1.8414000000000001, 1.8416000000000001, 1.8418, 1.842, 1.8422, 1.8424, 1.8426, 1.8428, 1.8430000000000002, 1.8432000000000002, 1.8434000000000001, 1.8436000000000001, 1.8438, 1.844, 1.8442, 1.8444, 1.8446, 1.8448, 1.8450000000000002, 1.8452000000000002, 1.8454000000000002, 1.8456000000000001, 1.8458, 1.846, 1.8462, 1.8464, 1.8466, 1.8468, 1.8470000000000002, 1.8472000000000002, 1.8474000000000002, 1.8476000000000001, 1.8478, 1.848, 1.8482, 1.8484, 1.8486, 1.8488, 1.8490000000000002, 1.8492000000000002, 1.8494000000000002, 1.8496000000000001, 1.8498, 1.85, 1.8502, 1.8504, 1.8506, 1.8508, 1.851, 1.8512000000000002, 1.8514000000000002, 1.8516000000000001, 1.8518000000000001, 1.852, 1.8522, 1.8524, 1.8526, 1.8528, 1.853, 1.8532000000000002, 1.8534000000000002, 1.8536000000000001, 1.8538000000000001, 1.854, 1.8542, 1.8544, 1.8546, 1.8548, 1.855, 1.8552000000000002, 1.8554000000000002, 1.8556000000000001, 1.8558000000000001, 1.856, 1.8562, 1.8564, 1.8566, 1.8568, 1.857, 1.8572000000000002, 1.8574000000000002, 1.8576000000000001, 1.8578000000000001, 1.858, 1.8582, 1.8584, 1.8586, 1.8588, 1.859, 1.8592000000000002, 1.8594000000000002, 1.8596000000000001, 1.8598000000000001, 1.86, 1.8602, 1.8604, 1.8606, 1.8608, 1.861, 1.8612000000000002, 1.8614000000000002, 1.8616000000000001, 1.8618000000000001, 1.862, 1.8622, 1.8624, 1.8626, 1.8628, 1.863, 1.8632000000000002, 1.8634000000000002, 1.8636000000000001, 1.8638000000000001, 1.864, 1.8642, 1.8644, 1.8646, 1.8648, 1.865, 1.8652000000000002, 1.8654000000000002, 1.8656000000000001, 1.8658000000000001, 1.866, 1.8662, 1.8664, 1.8666, 1.8668, 1.867, 1.8672000000000002, 1.8674000000000002, 1.8676000000000001, 1.8678000000000001, 1.868, 1.8682, 1.8684, 1.8686, 1.8688, 1.869, 1.8692000000000002, 1.8694000000000002, 1.8696000000000002, 1.8698000000000001, 1.87, 1.8702, 1.8704, 1.8706, 1.8708, 1.871, 1.8712000000000002, 1.8714000000000002, 1.8716000000000002, 1.8718000000000001, 1.872, 1.8722, 1.8724, 1.8726, 1.8728, 1.873, 1.8732000000000002, 1.8734000000000002, 1.8736000000000002, 1.8738000000000001, 1.874, 1.8742, 1.8744, 1.8746, 1.8748, 1.875, 1.8752000000000002, 1.8754000000000002, 1.8756000000000002, 1.8758000000000001, 1.8760000000000001, 1.8762, 1.8764, 1.8766, 1.8768, 1.877, 1.8772, 1.8774000000000002, 1.8776000000000002, 1.8778000000000001, 1.8780000000000001, 1.8782, 1.8784, 1.8786, 1.8788, 1.879, 1.8792, 1.8794000000000002, 1.8796000000000002, 1.8798000000000001, 1.8800000000000001, 1.8802, 1.8804, 1.8806, 1.8808, 1.881, 1.8812, 1.8814000000000002, 1.8816000000000002, 1.8818000000000001, 1.8820000000000001, 1.8822, 1.8824, 1.8826, 1.8828, 1.883, 1.8832, 1.8834000000000002, 1.8836000000000002, 1.8838000000000001, 1.8840000000000001, 1.8842, 1.8844, 1.8846, 1.8848, 1.885, 1.8852, 1.8854000000000002, 1.8856000000000002, 1.8858000000000001, 1.8860000000000001, 1.8862, 1.8864, 1.8866, 1.8868, 1.887, 1.8872, 1.8874000000000002, 1.8876000000000002, 1.8878000000000001, 1.8880000000000001, 1.8882, 1.8884, 1.8886, 1.8888, 1.889, 1.8892, 1.8894000000000002, 1.8896000000000002, 1.8898000000000001, 1.8900000000000001, 1.8902, 1.8904, 1.8906, 1.8908, 1.891, 1.8912, 1.8914000000000002, 1.8916000000000002, 1.8918000000000001, 1.8920000000000001, 1.8922, 1.8924, 1.8926, 1.8928, 1.893, 1.8932, 1.8934000000000002, 1.8936000000000002, 1.8938000000000001, 1.8940000000000001, 1.8942, 1.8944, 1.8946, 1.8948, 1.895, 1.8952, 1.8954000000000002, 1.8956000000000002, 1.8958000000000002, 1.8960000000000001, 1.8962, 1.8964, 1.8966, 1.8968, 1.897, 1.8972, 1.8974000000000002, 1.8976000000000002, 1.8978000000000002, 1.8980000000000001, 1.8982, 1.8984, 1.8986, 1.8988, 1.899, 1.8992, 1.8994000000000002, 1.8996000000000002, 1.8998000000000002, 1.9000000000000001, 1.9002000000000001, 1.9004, 1.9006, 1.9008, 1.901, 1.9012, 1.9014000000000002, 1.9016000000000002, 1.9018000000000002, 1.9020000000000001, 1.9022000000000001, 1.9024, 1.9026, 1.9028, 1.903, 1.9032, 1.9034, 1.9036000000000002, 1.9038000000000002, 1.9040000000000001, 1.9042000000000001, 1.9044, 1.9046, 1.9048, 1.905, 1.9052, 1.9054, 1.9056000000000002, 1.9058000000000002, 1.9060000000000001, 1.9062000000000001, 1.9064, 1.9066, 1.9068, 1.907, 1.9072, 1.9074, 1.9076000000000002, 1.9078000000000002, 1.9080000000000001, 1.9082000000000001, 1.9084, 1.9086, 1.9088, 1.909, 1.9092, 1.9094, 1.9096000000000002, 1.9098000000000002, 1.9100000000000001, 1.9102000000000001, 1.9104, 1.9106, 1.9108, 1.911, 1.9112, 1.9114, 1.9116000000000002, 1.9118000000000002, 1.9120000000000001, 1.9122000000000001, 1.9124, 1.9126, 1.9128, 1.913, 1.9132, 1.9134, 1.9136000000000002, 1.9138000000000002, 1.9140000000000001, 1.9142000000000001, 1.9144, 1.9146, 1.9148, 1.915, 1.9152, 1.9154, 1.9156000000000002, 1.9158000000000002, 1.9160000000000001, 1.9162000000000001, 1.9164, 1.9166, 1.9168, 1.917, 1.9172, 1.9174, 1.9176000000000002, 1.9178000000000002, 1.9180000000000001, 1.9182000000000001, 1.9184, 1.9186, 1.9188, 1.919, 1.9192, 1.9194, 1.9196000000000002, 1.9198000000000002, 1.9200000000000002, 1.9202000000000001, 1.9204, 1.9206, 1.9208, 1.921, 1.9212, 1.9214, 1.9216000000000002, 1.9218000000000002, 1.9220000000000002, 1.9222000000000001, 1.9224, 1.9226, 1.9228, 1.923, 1.9232, 1.9234, 1.9236000000000002, 1.9238000000000002, 1.9240000000000002, 1.9242000000000001, 1.9244, 1.9246, 1.9248, 1.925, 1.9252, 1.9254, 1.9256000000000002, 1.9258000000000002, 1.9260000000000002, 1.9262000000000001, 1.9264000000000001, 1.9266, 1.9268, 1.927, 1.9272, 1.9274, 1.9276000000000002, 1.9278000000000002, 1.9280000000000002, 1.9282000000000001, 1.9284000000000001, 1.9286, 1.9288, 1.929, 1.9292, 1.9294, 1.9296, 1.9298000000000002, 1.9300000000000002, 1.9302000000000001, 1.9304000000000001, 1.9306, 1.9308, 1.931, 1.9312, 1.9314, 1.9316, 1.9318000000000002, 1.9320000000000002, 1.9322000000000001, 1.9324000000000001, 1.9326, 1.9328, 1.933, 1.9332, 1.9334, 1.9336, 1.9338000000000002, 1.9340000000000002, 1.9342000000000001, 1.9344000000000001, 1.9346, 1.9348, 1.935, 1.9352, 1.9354, 1.9356, 1.9358000000000002, 1.9360000000000002, 1.9362000000000001, 1.9364000000000001, 1.9366, 1.9368, 1.937, 1.9372, 1.9374, 1.9376, 1.9378000000000002, 1.9380000000000002, 1.9382000000000001, 1.9384000000000001, 1.9386, 1.9388, 1.939, 1.9392, 1.9394, 1.9396, 1.9398000000000002, 1.9400000000000002, 1.9402000000000001, 1.9404000000000001, 1.9406, 1.9408, 1.941, 1.9412, 1.9414, 1.9416, 1.9418000000000002, 1.9420000000000002, 1.9422000000000001, 1.9424000000000001, 1.9426, 1.9428, 1.943, 1.9432, 1.9434, 1.9436, 1.9438000000000002, 1.9440000000000002, 1.9442000000000002, 1.9444000000000001, 1.9446, 1.9448, 1.945, 1.9452, 1.9454, 1.9456, 1.9458000000000002, 1.9460000000000002, 1.9462000000000002, 1.9464000000000001, 1.9466, 1.9468, 1.947, 1.9472, 1.9474, 1.9476, 1.9478000000000002, 1.9480000000000002, 1.9482000000000002, 1.9484000000000001, 1.9486, 1.9488, 1.949, 1.9492, 1.9494, 1.9496, 1.9498000000000002, 1.9500000000000002, 1.9502000000000002, 1.9504000000000001, 1.9506000000000001, 1.9508, 1.951, 1.9512, 1.9514, 1.9516, 1.9518000000000002, 1.9520000000000002, 1.9522000000000002, 1.9524000000000001, 1.9526000000000001, 1.9528, 1.953, 1.9532, 1.9534, 1.9536, 1.9538000000000002, 1.9540000000000002, 1.9542000000000002, 1.9544000000000001, 1.9546000000000001, 1.9548, 1.955, 1.9552, 1.9554, 1.9556, 1.9558, 1.9560000000000002, 1.9562000000000002, 1.9564000000000001, 1.9566000000000001, 1.9568, 1.957, 1.9572, 1.9574, 1.9576, 1.9578, 1.9580000000000002, 1.9582000000000002, 1.9584000000000001, 1.9586000000000001, 1.9588, 1.959, 1.9592, 1.9594, 1.9596, 1.9598, 1.9600000000000002, 1.9602000000000002, 1.9604000000000001, 1.9606000000000001, 1.9608, 1.961, 1.9612, 1.9614, 1.9616, 1.9618, 1.9620000000000002, 1.9622000000000002, 1.9624000000000001, 1.9626000000000001, 1.9628, 1.963, 1.9632, 1.9634, 1.9636, 1.9638, 1.9640000000000002, 1.9642000000000002, 1.9644000000000001, 1.9646000000000001, 1.9648, 1.965, 1.9652, 1.9654, 1.9656, 1.9658, 1.9660000000000002, 1.9662000000000002, 1.9664000000000001, 1.9666000000000001, 1.9668, 1.967, 1.9672, 1.9674, 1.9676, 1.9678, 1.9680000000000002, 1.9682000000000002, 1.9684000000000001, 1.9686000000000001, 1.9688, 1.969, 1.9692, 1.9694, 1.9696, 1.9698, 1.9700000000000002, 1.9702000000000002, 1.9704000000000002, 1.9706000000000001, 1.9708, 1.971, 1.9712, 1.9714, 1.9716, 1.9718, 1.9720000000000002, 1.9722000000000002, 1.9724000000000002, 1.9726000000000001, 1.9728, 1.973, 1.9732, 1.9734, 1.9736, 1.9738, 1.9740000000000002, 1.9742000000000002, 1.9744000000000002, 1.9746000000000001, 1.9748, 1.975, 1.9752, 1.9754, 1.9756, 1.9758, 1.9760000000000002, 1.9762000000000002, 1.9764000000000002, 1.9766000000000001, 1.9768000000000001, 1.977, 1.9772, 1.9774, 1.9776, 1.9778, 1.9780000000000002, 1.9782000000000002, 1.9784000000000002, 1.9786000000000001, 1.9788000000000001, 1.979, 1.9792, 1.9794, 1.9796, 1.9798, 1.9800000000000002, 1.9802000000000002, 1.9804000000000002, 1.9806000000000001, 1.9808000000000001, 1.981, 1.9812, 1.9814, 1.9816, 1.9818, 1.982, 1.9822000000000002, 1.9824000000000002, 1.9826000000000001, 1.9828000000000001, 1.983, 1.9832, 1.9834, 1.9836, 1.9838, 1.984, 1.9842000000000002, 1.9844000000000002, 1.9846000000000001, 1.9848000000000001, 1.985, 1.9852, 1.9854, 1.9856, 1.9858, 1.986, 1.9862000000000002, 1.9864000000000002, 1.9866000000000001, 1.9868000000000001, 1.987, 1.9872, 1.9874, 1.9876, 1.9878, 1.988, 1.9882000000000002, 1.9884000000000002, 1.9886000000000001, 1.9888000000000001, 1.989, 1.9892, 1.9894, 1.9896, 1.9898, 1.99, 1.9902000000000002, 1.9904000000000002, 1.9906000000000001, 1.9908000000000001, 1.991, 1.9912, 1.9914, 1.9916, 1.9918, 1.992, 1.9922000000000002, 1.9924000000000002, 1.9926000000000001, 1.9928000000000001, 1.993, 1.9932, 1.9934, 1.9936, 1.9938, 1.994, 1.9942000000000002, 1.9944000000000002, 1.9946000000000002, 1.9948000000000001, 1.995, 1.9952, 1.9954, 1.9956, 1.9958, 1.996, 1.9962000000000002, 1.9964000000000002, 1.9966000000000002, 1.9968000000000001, 1.997, 1.9972, 1.9974, 1.9976, 1.9978, 1.998, 1.9982000000000002, 1.9984000000000002, 1.9986000000000002, 1.9988000000000001, 1.999, 1.9992, 1.9994, 1.9996, 1.9998, 2.0, 0.0, 0.0002, 0.0004, 0.0006000000000000001, 0.0008, 0.001, 0.0012000000000000001, 0.0014, 0.0016, 0.0018000000000000002, 0.002, 0.0022, 0.0024000000000000002, 0.0026000000000000003, 0.0028, 0.003, 0.0032, 0.0034000000000000002, 0.0036000000000000003, 0.0038, 0.004, 0.004200000000000001, 0.0044, 0.0046, 0.0048000000000000004, 0.005, 0.005200000000000001, 0.0054, 0.0056, 0.0058000000000000005, 0.006, 0.006200000000000001, 0.0064, 0.0066, 0.0068000000000000005, 0.007, 0.007200000000000001, 0.0074, 0.0076, 0.0078000000000000005, 0.008, 0.0082, 0.008400000000000001, 0.0086, 0.0088, 0.009000000000000001, 0.0092, 0.0094, 0.009600000000000001, 0.0098, 0.01, 0.0102, 0.010400000000000001, 0.0106, 0.0108, 0.011000000000000001, 0.0112, 0.0114, 0.011600000000000001, 0.0118, 0.012, 0.0122, 0.012400000000000001, 0.0126, 0.0128, 0.013000000000000001, 0.0132, 0.0134, 0.013600000000000001, 0.013800000000000002, 0.014, 0.0142, 0.014400000000000001, 0.0146, 0.0148, 0.015000000000000001, 0.0152, 0.0154, 0.015600000000000001, 0.0158, 0.016, 0.0162, 0.0164, 0.0166, 0.016800000000000002, 0.017, 0.0172, 0.017400000000000002, 0.0176, 0.0178, 0.018000000000000002, 0.0182, 0.0184, 0.018600000000000002, 0.0188, 0.019, 0.019200000000000002, 0.0194, 0.0196, 0.0198, 0.02, 0.020200000000000003, 0.0204, 0.0206, 0.020800000000000003, 0.021, 0.0212, 0.021400000000000002, 0.0216, 0.0218, 0.022000000000000002, 0.0222, 0.0224, 0.022600000000000002, 0.0228, 0.023, 0.023200000000000002, 0.0234, 0.0236, 0.0238, 0.024, 0.024200000000000003, 0.0244, 0.0246, 0.024800000000000003, 0.025, 0.0252, 0.025400000000000002, 0.0256, 0.0258, 0.026000000000000002, 0.0262, 0.0264, 0.026600000000000002, 0.0268, 0.027, 0.027200000000000002, 0.0274, 0.027600000000000003, 0.027800000000000002, 0.028, 0.028200000000000003, 0.0284, 0.0286, 0.028800000000000003, 0.029, 0.0292, 0.029400000000000003, 0.0296, 0.0298, 0.030000000000000002, 0.0302, 0.0304, 0.030600000000000002, 0.0308, 0.031, 0.031200000000000002, 0.031400000000000004, 0.0316, 0.0318, 0.032, 0.0322, 0.0324, 0.032600000000000004, 0.0328, 0.033, 0.0332, 0.0334, 0.033600000000000005, 0.033800000000000004, 0.034, 0.0342, 0.0344, 0.0346, 0.034800000000000005, 0.035, 0.0352, 0.0354, 0.0356, 0.0358, 0.036000000000000004, 0.0362, 0.0364, 0.0366, 0.0368, 0.037000000000000005, 0.037200000000000004, 0.0374, 0.0376, 0.0378, 0.038, 0.038200000000000005, 0.038400000000000004, 0.0386, 0.0388, 0.039, 0.0392, 0.039400000000000004, 0.0396, 0.0398, 0.04, 0.0402, 0.040400000000000005, 0.040600000000000004, 0.0408, 0.041, 0.0412, 0.0414, 0.041600000000000005, 0.041800000000000004, 0.042, 0.0422, 0.0424, 0.0426, 0.042800000000000005, 0.043000000000000003, 0.0432, 0.0434, 0.0436, 0.0438, 0.044000000000000004, 0.0442, 0.0444, 0.0446, 0.0448, 0.045000000000000005, 0.045200000000000004, 0.0454, 0.0456, 0.0458, 0.046, 0.046200000000000005, 0.046400000000000004, 0.0466, 0.0468, 0.047, 0.0472, 0.047400000000000005, 0.0476, 0.0478, 0.048, 0.0482, 0.048400000000000006, 0.048600000000000004, 0.0488, 0.049, 0.0492, 0.0494, 0.049600000000000005, 0.049800000000000004, 0.05, 0.0502, 0.0504, 0.0506, 0.050800000000000005, 0.051000000000000004, 0.0512, 0.0514, 0.0516, 0.051800000000000006, 0.052000000000000005, 0.0522, 0.0524, 0.0526, 0.0528, 0.053000000000000005, 0.053200000000000004, 0.0534, 0.0536, 0.0538, 0.054, 0.054200000000000005, 0.054400000000000004, 0.0546, 0.0548, 0.055, 0.055200000000000006, 0.055400000000000005, 0.055600000000000004, 0.0558, 0.056, 0.0562, 0.056400000000000006, 0.056600000000000004, 0.0568, 0.057, 0.0572, 0.0574, 0.057600000000000005, 0.057800000000000004, 0.058, 0.0582, 0.0584, 0.058600000000000006, 0.058800000000000005, 0.059000000000000004, 0.0592, 0.0594, 0.0596, 0.059800000000000006, 0.060000000000000005, 0.060200000000000004, 0.0604, 0.0606, 0.0608, 0.061000000000000006, 0.061200000000000004, 0.0614, 0.0616, 0.0618, 0.062, 0.062200000000000005, 0.062400000000000004, 0.0626, 0.06280000000000001, 0.063, 0.0632, 0.0634, 0.0636, 0.06380000000000001, 0.064, 0.06420000000000001, 0.0644, 0.0646, 0.0648, 0.065, 0.06520000000000001, 0.0654, 0.0656, 0.0658, 0.066, 0.06620000000000001, 0.0664, 0.0666, 0.0668, 0.067, 0.06720000000000001, 0.0674, 0.06760000000000001, 0.0678, 0.068, 0.0682, 0.0684, 0.06860000000000001, 0.0688, 0.069, 0.0692, 0.0694, 0.06960000000000001, 0.0698, 0.07, 0.0702, 0.0704, 0.07060000000000001, 0.0708, 0.07100000000000001, 0.0712, 0.0714, 0.0716, 0.0718, 0.07200000000000001, 0.0722, 0.0724, 0.0726, 0.0728, 0.07300000000000001, 0.0732, 0.0734, 0.0736, 0.0738, 0.07400000000000001, 0.0742, 0.07440000000000001, 0.0746, 0.0748, 0.075, 0.0752, 0.07540000000000001, 0.0756, 0.0758, 0.076, 0.0762, 0.07640000000000001, 0.0766, 0.07680000000000001, 0.077, 0.0772, 0.07740000000000001, 0.0776, 0.07780000000000001, 0.078, 0.0782, 0.0784, 0.0786, 0.07880000000000001, 0.079, 0.0792, 0.0794, 0.0796, 0.07980000000000001, 0.08, 0.08020000000000001, 0.0804, 0.0806, 0.08080000000000001, 0.081, 0.08120000000000001, 0.0814, 0.0816, 0.0818, 0.082, 0.08220000000000001, 0.0824, 0.0826, 0.0828, 0.083, 0.08320000000000001, 0.0834, 0.08360000000000001, 0.0838, 0.084, 0.08420000000000001, 0.0844, 0.08460000000000001, 0.0848, 0.085, 0.0852, 0.0854, 0.08560000000000001, 0.0858, 0.08600000000000001, 0.0862, 0.0864, 0.08660000000000001, 0.0868, 0.08700000000000001, 0.0872, 0.0874, 0.0876, 0.0878, 0.08800000000000001, 0.0882, 0.0884, 0.0886, 0.0888, 0.08900000000000001, 0.0892, 0.08940000000000001, 0.0896, 0.0898, 0.09000000000000001, 0.0902, 0.09040000000000001, 0.0906, 0.0908, 0.091, 0.0912, 0.09140000000000001, 0.0916, 0.0918, 0.092, 0.0922, 0.09240000000000001, 0.0926, 0.09280000000000001, 0.093, 0.0932, 0.09340000000000001, 0.0936, 0.09380000000000001, 0.094, 0.0942, 0.0944, 0.0946, 0.09480000000000001, 0.095, 0.0952, 0.0954, 0.0956, 0.09580000000000001, 0.096, 0.09620000000000001, 0.0964, 0.0966, 0.09680000000000001, 0.097, 0.09720000000000001, 0.0974, 0.0976, 0.0978, 0.098, 0.09820000000000001, 0.0984, 0.09860000000000001, 0.0988, 0.099, 0.09920000000000001, 0.0994, 0.09960000000000001, 0.0998, 0.1, 0.10020000000000001, 0.1004, 0.10060000000000001, 0.1008, 0.101, 0.1012, 0.1014, 0.10160000000000001, 0.1018, 0.10200000000000001, 0.1022, 0.1024, 0.10260000000000001, 0.1028, 0.10300000000000001, 0.1032, 0.1034, 0.10360000000000001, 0.1038, 0.10400000000000001, 0.1042, 0.1044, 0.1046, 0.1048, 0.10500000000000001, 0.1052, 0.10540000000000001, 0.1056, 0.1058, 0.10600000000000001, 0.1062, 0.10640000000000001, 0.1066, 0.1068, 0.10700000000000001, 0.1072, 0.10740000000000001, 0.1076, 0.1078, 0.108, 0.1082, 0.10840000000000001, 0.1086, 0.10880000000000001, 0.109, 0.1092, 0.10940000000000001, 0.1096, 0.10980000000000001, 0.11, 0.1102, 0.11040000000000001, 0.1106, 0.11080000000000001, 0.111, 0.11120000000000001, 0.1114, 0.1116, 0.11180000000000001, 0.112, 0.11220000000000001, 0.1124, 0.1126, 0.11280000000000001, 0.113, 0.11320000000000001, 0.1134, 0.1136, 0.11380000000000001, 0.114, 0.11420000000000001, 0.1144, 0.11460000000000001, 0.1148, 0.115, 0.11520000000000001, 0.1154, 0.11560000000000001, 0.1158, 0.116, 0.11620000000000001, 0.1164, 0.11660000000000001, 0.1168, 0.117, 0.11720000000000001, 0.1174, 0.11760000000000001, 0.1178, 0.11800000000000001, 0.1182, 0.1184, 0.11860000000000001, 0.1188, 0.11900000000000001, 0.1192, 0.1194, 0.11960000000000001, 0.1198, 0.12000000000000001, 0.1202, 0.12040000000000001, 0.1206, 0.1208, 0.12100000000000001, 0.1212, 0.12140000000000001, 0.1216, 0.1218, 0.12200000000000001, 0.1222, 0.12240000000000001, 0.1226, 0.1228, 0.12300000000000001, 0.1232, 0.12340000000000001, 0.1236, 0.12380000000000001, 0.124, 0.1242, 0.12440000000000001, 0.1246, 0.12480000000000001, 0.125, 0.1252, 0.1254, 0.12560000000000002, 0.1258, 0.126, 0.1262, 0.1264, 0.12660000000000002, 0.1268, 0.127, 0.1272, 0.1274, 0.12760000000000002, 0.1278, 0.128, 0.1282, 0.12840000000000001, 0.12860000000000002, 0.1288, 0.129, 0.1292, 0.12940000000000002, 0.1296, 0.1298, 0.13, 0.1302, 0.13040000000000002, 0.1306, 0.1308, 0.131, 0.1312, 0.13140000000000002, 0.1316, 0.1318, 0.132, 0.1322, 0.13240000000000002, 0.1326, 0.1328, 0.133, 0.1332, 0.13340000000000002, 0.1336, 0.1338, 0.134, 0.1342, 0.13440000000000002, 0.1346, 0.1348, 0.135, 0.13520000000000001, 0.13540000000000002, 0.1356, 0.1358, 0.136, 0.13620000000000002, 0.1364, 0.1366, 0.1368, 0.137, 0.13720000000000002, 0.1374, 0.1376, 0.1378, 0.138, 0.13820000000000002, 0.1384, 0.1386, 0.1388, 0.139, 0.13920000000000002, 0.1394, 0.1396, 0.1398, 0.14, 0.14020000000000002, 0.1404, 0.1406, 0.1408, 0.14100000000000001, 0.14120000000000002, 0.1414, 0.1416, 0.1418, 0.14200000000000002, 0.1422, 0.1424, 0.1426, 0.1428, 0.14300000000000002, 0.1432, 0.1434, 0.1436, 0.1438, 0.14400000000000002, 0.1442, 0.1444, 0.1446, 0.1448, 0.14500000000000002, 0.1452, 0.1454, 0.1456, 0.1458, 0.14600000000000002, 0.1462, 0.1464, 0.1466, 0.1468, 0.14700000000000002, 0.1472, 0.1474, 0.1476, 0.14780000000000001, 0.14800000000000002, 0.1482, 0.1484, 0.1486, 0.14880000000000002, 0.149, 0.1492, 0.1494, 0.1496, 0.14980000000000002, 0.15, 0.1502, 0.1504, 0.1506, 0.15080000000000002, 0.151, 0.1512, 0.1514, 0.1516, 0.15180000000000002, 0.152, 0.1522, 0.1524, 0.1526, 0.15280000000000002, 0.153, 0.1532, 0.1534, 0.15360000000000001, 0.15380000000000002, 0.154, 0.1542, 0.1544, 0.15460000000000002, 0.15480000000000002, 0.155, 0.1552, 0.1554, 0.15560000000000002, 0.1558, 0.156, 0.1562, 0.1564, 0.15660000000000002, 0.1568, 0.157, 0.1572, 0.1574, 0.15760000000000002, 0.1578, 0.158, 0.1582, 0.1584, 0.15860000000000002, 0.1588, 0.159, 0.1592, 0.15940000000000001, 0.15960000000000002, 0.1598, 0.16, 0.1602, 0.16040000000000001, 0.16060000000000002, 0.1608, 0.161, 0.1612, 0.16140000000000002, 0.16160000000000002, 0.1618, 0.162, 0.1622, 0.16240000000000002, 0.1626, 0.1628, 0.163, 0.1632, 0.16340000000000002, 0.1636, 0.1638, 0.164, 0.1642, 0.16440000000000002, 0.1646, 0.1648, 0.165, 0.1652, 0.16540000000000002, 0.1656, 0.1658, 0.166, 0.16620000000000001, 0.16640000000000002, 0.1666, 0.1668, 0.167, 0.16720000000000002, 0.16740000000000002, 0.1676, 0.1678, 0.168, 0.16820000000000002, 0.16840000000000002, 0.1686, 0.1688, 0.169, 0.16920000000000002, 0.1694, 0.1696, 0.1698, 0.17, 0.17020000000000002, 0.1704, 0.1706, 0.1708, 0.171, 0.17120000000000002, 0.1714, 0.1716, 0.1718, 0.17200000000000001, 0.17220000000000002, 0.1724, 0.1726, 0.1728, 0.17300000000000001, 0.17320000000000002, 0.1734, 0.1736, 0.1738, 0.17400000000000002, 0.17420000000000002, 0.1744, 0.1746, 0.1748, 0.17500000000000002, 0.1752, 0.1754, 0.1756, 0.1758, 0.17600000000000002, 0.1762, 0.1764, 0.1766, 0.1768, 0.17700000000000002, 0.1772, 0.1774, 0.1776, 0.1778, 0.17800000000000002, 0.1782, 0.1784, 0.1786, 0.17880000000000001, 0.17900000000000002, 0.1792, 0.1794, 0.1796, 0.17980000000000002, 0.18000000000000002, 0.1802, 0.1804, 0.1806, 0.18080000000000002, 0.18100000000000002, 0.1812, 0.1814, 0.1816, 0.18180000000000002, 0.182, 0.1822, 0.1824, 0.1826, 0.18280000000000002, 0.183, 0.1832, 0.1834, 0.1836, 0.18380000000000002, 0.184, 0.1842, 0.1844, 0.18460000000000001, 0.18480000000000002, 0.185, 0.1852, 0.1854, 0.18560000000000001, 0.18580000000000002, 0.186, 0.1862, 0.1864, 0.18660000000000002, 0.18680000000000002, 0.187, 0.1872, 0.1874, 0.18760000000000002, 0.18780000000000002, 0.188, 0.1882, 0.1884, 0.18860000000000002, 0.1888, 0.189, 0.1892, 0.1894, 0.18960000000000002, 0.1898, 0.19, 0.1902, 0.1904, 0.19060000000000002, 0.1908, 0.191, 0.1912, 0.19140000000000001, 0.19160000000000002, 0.1918, 0.192, 0.1922, 0.19240000000000002, 0.19260000000000002, 0.1928, 0.193, 0.1932, 0.19340000000000002, 0.19360000000000002, 0.1938, 0.194, 0.1942, 0.19440000000000002, 0.19460000000000002, 0.1948, 0.195, 0.1952, 0.19540000000000002, 0.1956, 0.1958, 0.196, 0.1962, 0.19640000000000002, 0.1966, 0.1968, 0.197, 0.19720000000000001, 0.19740000000000002, 0.1976, 0.1978, 0.198, 0.19820000000000002, 0.19840000000000002, 0.1986, 0.1988, 0.199, 0.19920000000000002, 0.19940000000000002, 0.1996, 0.1998, 0.2, 0.20020000000000002, 0.20040000000000002, 0.2006, 0.2008, 0.201, 0.20120000000000002, 0.20140000000000002, 0.2016, 0.2018, 0.202, 0.20220000000000002, 0.2024, 0.2026, 0.2028, 0.203, 0.20320000000000002, 0.2034, 0.2036, 0.2038, 0.20400000000000001, 0.20420000000000002, 0.2044, 0.2046, 0.2048, 0.20500000000000002, 0.20520000000000002, 0.2054, 0.2056, 0.2058, 0.20600000000000002, 0.20620000000000002, 0.2064, 0.2066, 0.2068, 0.20700000000000002, 0.20720000000000002, 0.2074, 0.2076, 0.2078, 0.20800000000000002, 0.2082, 0.2084, 0.2086, 0.2088, 0.20900000000000002, 0.2092, 0.2094, 0.2096, 0.20980000000000001, 0.21000000000000002, 0.2102, 0.2104, 0.2106, 0.21080000000000002, 0.21100000000000002, 0.2112, 0.2114, 0.2116, 0.21180000000000002, 0.21200000000000002, 0.2122, 0.2124, 0.2126, 0.21280000000000002, 0.21300000000000002, 0.2132, 0.2134, 0.2136, 0.21380000000000002, 0.21400000000000002, 0.2142, 0.2144, 0.2146, 0.21480000000000002, 0.215, 0.2152, 0.2154, 0.2156, 0.21580000000000002, 0.216, 0.2162, 0.2164, 0.21660000000000001, 0.21680000000000002, 0.217, 0.2172, 0.2174, 0.21760000000000002, 0.21780000000000002, 0.218, 0.2182, 0.2184, 0.21860000000000002, 0.21880000000000002, 0.219, 0.2192, 0.2194, 0.21960000000000002, 0.21980000000000002, 0.22, 0.2202, 0.2204, 0.22060000000000002, 0.22080000000000002, 0.221, 0.2212, 0.2214, 0.22160000000000002, 0.2218, 0.222, 0.2222, 0.22240000000000001, 0.22260000000000002, 0.2228, 0.223, 0.2232, 0.22340000000000002, 0.22360000000000002, 0.2238, 0.224, 0.2242, 0.22440000000000002, 0.22460000000000002, 0.2248, 0.225, 0.2252, 0.22540000000000002, 0.22560000000000002, 0.2258, 0.226, 0.2262, 0.22640000000000002, 0.22660000000000002, 0.2268, 0.227, 0.2272, 0.22740000000000002, 0.22760000000000002, 0.2278, 0.228, 0.22820000000000001, 0.22840000000000002, 0.2286, 0.2288, 0.229, 0.22920000000000001, 0.22940000000000002, 0.2296, 0.2298, 0.23, 0.23020000000000002, 0.23040000000000002, 0.2306, 0.2308, 0.231, 0.23120000000000002, 0.23140000000000002, 0.2316, 0.2318, 0.232, 0.23220000000000002, 0.23240000000000002, 0.2326, 0.2328, 0.233, 0.23320000000000002, 0.23340000000000002, 0.2336, 0.2338, 0.234, 0.23420000000000002, 0.23440000000000003, 0.2346, 0.2348, 0.23500000000000001, 0.23520000000000002, 0.2354, 0.2356, 0.2358, 0.23600000000000002, 0.23620000000000002, 0.2364, 0.2366, 0.2368, 0.23700000000000002, 0.23720000000000002, 0.2374, 0.2376, 0.2378, 0.23800000000000002, 0.23820000000000002, 0.2384, 0.2386, 0.2388, 0.23900000000000002, 0.23920000000000002, 0.2394, 0.2396, 0.2398, 0.24000000000000002, 0.24020000000000002, 0.2404, 0.2406, 0.24080000000000001, 0.24100000000000002, 0.2412, 0.2414, 0.2416, 0.24180000000000001, 0.24200000000000002, 0.2422, 0.2424, 0.2426, 0.24280000000000002, 0.24300000000000002, 0.2432, 0.2434, 0.2436, 0.24380000000000002, 0.24400000000000002, 0.2442, 0.2444, 0.2446, 0.24480000000000002, 0.24500000000000002, 0.2452, 0.2454, 0.2456, 0.24580000000000002, 0.24600000000000002, 0.2462, 0.2464, 0.2466, 0.24680000000000002, 0.24700000000000003, 0.2472, 0.2474, 0.24760000000000001, 0.24780000000000002, 0.248, 0.2482, 0.2484, 0.24860000000000002, 0.24880000000000002, 0.249, 0.2492, 0.2494, 0.24960000000000002, 0.24980000000000002, 0.25, 0.25020000000000003, 0.2504, 0.2506, 0.2508, 0.251, 0.25120000000000003, 0.2514, 0.2516, 0.2518, 0.252, 0.25220000000000004, 0.2524, 0.2526, 0.2528, 0.253, 0.25320000000000004, 0.2534, 0.2536, 0.2538, 0.254, 0.25420000000000004, 0.2544, 0.2546, 0.2548, 0.255, 0.25520000000000004, 0.2554, 0.2556, 0.2558, 0.256, 0.25620000000000004, 0.2564, 0.2566, 0.25680000000000003, 0.257, 0.25720000000000004, 0.2574, 0.2576, 0.25780000000000003, 0.258, 0.2582, 0.2584, 0.2586, 0.25880000000000003, 0.259, 0.2592, 0.2594, 0.2596, 0.25980000000000003, 0.26, 0.2602, 0.2604, 0.2606, 0.26080000000000003, 0.261, 0.2612, 0.2614, 0.2616, 0.26180000000000003, 0.262, 0.2622, 0.2624, 0.2626, 0.26280000000000003, 0.263, 0.2632, 0.2634, 0.2636, 0.26380000000000003, 0.264, 0.2642, 0.2644, 0.2646, 0.26480000000000004, 0.265, 0.2652, 0.2654, 0.2656, 0.26580000000000004, 0.266, 0.2662, 0.2664, 0.2666, 0.26680000000000004, 0.267, 0.2672, 0.2674, 0.2676, 0.26780000000000004, 0.268, 0.2682, 0.2684, 0.2686, 0.26880000000000004, 0.269, 0.2692, 0.26940000000000003, 0.2696, 0.26980000000000004, 0.27, 0.2702, 0.27040000000000003, 0.2706, 0.27080000000000004, 0.271, 0.2712, 0.27140000000000003, 0.2716, 0.2718, 0.272, 0.2722, 0.27240000000000003, 0.2726, 0.2728, 0.273, 0.2732, 0.27340000000000003, 0.2736, 0.2738, 0.274, 0.2742, 0.27440000000000003, 0.2746, 0.2748, 0.275, 0.2752, 0.27540000000000003, 0.2756, 0.2758, 0.276, 0.2762, 0.27640000000000003, 0.2766, 0.2768, 0.277, 0.2772, 0.27740000000000004, 0.2776, 0.2778, 0.278, 0.2782, 0.27840000000000004, 0.2786, 0.2788, 0.279, 0.2792, 0.27940000000000004, 0.2796, 0.2798, 0.28, 0.2802, 0.28040000000000004, 0.2806, 0.2808, 0.281, 0.2812, 0.28140000000000004, 0.2816, 0.2818, 0.28200000000000003, 0.2822, 0.28240000000000004, 0.2826, 0.2828, 0.28300000000000003, 0.2832, 0.28340000000000004, 0.2836, 0.2838, 0.28400000000000003, 0.2842, 0.2844, 0.2846, 0.2848, 0.28500000000000003, 0.2852, 0.2854, 0.2856, 0.2858, 0.28600000000000003, 0.2862, 0.2864, 0.2866, 0.2868, 0.28700000000000003, 0.2872, 0.2874, 0.2876, 0.2878, 0.28800000000000003, 0.2882, 0.2884, 0.2886, 0.2888, 0.28900000000000003, 0.2892, 0.2894, 0.2896, 0.2898, 0.29000000000000004, 0.2902, 0.2904, 0.2906, 0.2908, 0.29100000000000004, 0.2912, 0.2914, 0.2916, 0.2918, 0.29200000000000004, 0.2922, 0.2924, 0.2926, 0.2928, 0.29300000000000004, 0.2932, 0.2934, 0.2936, 0.2938, 0.29400000000000004, 0.2942, 0.2944, 0.29460000000000003, 0.2948, 0.29500000000000004, 0.2952, 0.2954, 0.29560000000000003, 0.2958, 0.29600000000000004, 0.2962, 0.2964, 0.29660000000000003, 0.2968, 0.29700000000000004, 0.2972, 0.2974, 0.29760000000000003, 0.2978, 0.298, 0.2982, 0.2984, 0.29860000000000003, 0.2988, 0.299, 0.2992, 0.2994, 0.29960000000000003, 0.2998, 0.3, 0.3002, 0.3004, 0.30060000000000003, 0.3008, 0.301, 0.3012, 0.3014, 0.30160000000000003, 0.3018, 0.302, 0.3022, 0.3024, 0.30260000000000004, 0.3028, 0.303, 0.3032, 0.3034, 0.30360000000000004, 0.3038, 0.304, 0.3042, 0.3044, 0.30460000000000004, 0.3048, 0.305, 0.3052, 0.3054, 0.30560000000000004, 0.3058, 0.306, 0.3062, 0.3064, 0.30660000000000004, 0.3068, 0.307, 0.30720000000000003, 0.3074, 0.30760000000000004, 0.3078, 0.308, 0.30820000000000003, 0.3084, 0.30860000000000004, 0.3088, 0.309, 0.30920000000000003, 0.3094, 0.30960000000000004, 0.3098, 0.31, 0.31020000000000003, 0.3104, 0.3106, 0.3108, 0.311, 0.31120000000000003, 0.3114, 0.3116, 0.3118, 0.312, 0.31220000000000003, 0.3124, 0.3126, 0.3128, 0.313, 0.31320000000000003, 0.3134, 0.3136, 0.3138, 0.314, 0.31420000000000003, 0.3144, 0.3146, 0.3148, 0.315, 0.31520000000000004, 0.3154, 0.3156, 0.3158, 0.316, 0.31620000000000004, 0.3164, 0.3166, 0.3168, 0.317, 0.31720000000000004, 0.3174, 0.3176, 0.3178, 0.318, 0.31820000000000004, 0.3184, 0.3186, 0.31880000000000003, 0.319, 0.31920000000000004, 0.3194, 0.3196, 0.31980000000000003, 0.32, 0.32020000000000004, 0.3204, 0.3206, 0.32080000000000003, 0.321, 0.32120000000000004, 0.3214, 0.3216, 0.32180000000000003, 0.322, 0.32220000000000004, 0.3224, 0.3226, 0.32280000000000003, 0.323, 0.32320000000000004, 0.3234, 0.3236, 0.32380000000000003, 0.324, 0.3242, 0.3244, 0.3246, 0.32480000000000003, 0.325, 0.3252, 0.3254, 0.3256, 0.32580000000000003, 0.326, 0.3262, 0.3264, 0.3266, 0.32680000000000003, 0.327, 0.3272, 0.3274, 0.3276, 0.32780000000000004, 0.328, 0.3282, 0.3284, 0.3286, 0.32880000000000004, 0.329, 0.3292, 0.3294, 0.3296, 0.32980000000000004, 0.33, 0.3302, 0.3304, 0.3306, 0.33080000000000004, 0.331, 0.3312, 0.33140000000000003, 0.3316, 0.33180000000000004, 0.332, 0.3322, 0.33240000000000003, 0.3326, 0.33280000000000004, 0.333, 0.3332, 0.33340000000000003, 0.3336, 0.33380000000000004, 0.334, 0.3342, 0.33440000000000003, 0.3346, 0.33480000000000004, 0.335, 0.3352, 0.33540000000000003, 0.3356, 0.33580000000000004, 0.336, 0.3362, 0.33640000000000003, 0.3366, 0.33680000000000004, 0.337, 0.3372, 0.33740000000000003, 0.3376, 0.3378, 0.338, 0.3382, 0.33840000000000003, 0.3386, 0.3388, 0.339, 0.3392, 0.33940000000000003, 0.3396, 0.3398, 0.34, 0.3402, 0.34040000000000004, 0.3406, 0.3408, 0.341, 0.3412, 0.34140000000000004, 0.3416, 0.3418, 0.342, 0.3422, 0.34240000000000004, 0.3426, 0.3428, 0.343, 0.3432, 0.34340000000000004, 0.3436, 0.3438, 0.34400000000000003, 0.3442, 0.34440000000000004, 0.3446, 0.3448, 0.34500000000000003, 0.3452, 0.34540000000000004, 0.3456, 0.3458, 0.34600000000000003, 0.3462, 0.34640000000000004, 0.3466, 0.3468, 0.34700000000000003, 0.3472, 0.34740000000000004, 0.3476, 0.3478, 0.34800000000000003, 0.3482, 0.34840000000000004, 0.3486, 0.3488, 0.34900000000000003, 0.3492, 0.34940000000000004, 0.3496, 0.3498, 0.35000000000000003, 0.3502, 0.3504, 0.3506, 0.3508, 0.35100000000000003, 0.3512, 0.3514, 0.3516, 0.3518, 0.35200000000000004, 0.3522, 0.3524, 0.3526, 0.3528, 0.35300000000000004, 0.3532, 0.3534, 0.3536, 0.3538, 0.35400000000000004, 0.3542, 0.3544, 0.3546, 0.3548, 0.35500000000000004, 0.3552, 0.3554, 0.3556, 0.3558, 0.35600000000000004, 0.3562, 0.3564, 0.35660000000000003, 0.3568, 0.35700000000000004, 0.3572, 0.3574, 0.35760000000000003, 0.3578, 0.35800000000000004, 0.3582, 0.3584, 0.35860000000000003, 0.3588, 0.35900000000000004, 0.3592, 0.3594, 0.35960000000000003, 0.3598, 0.36000000000000004, 0.3602, 0.3604, 0.36060000000000003, 0.3608, 0.36100000000000004, 0.3612, 0.3614, 0.36160000000000003, 0.3618, 0.36200000000000004, 0.3622, 0.3624, 0.36260000000000003, 0.3628, 0.36300000000000004, 0.3632, 0.3634, 0.36360000000000003, 0.3638, 0.364, 0.3642, 0.3644, 0.36460000000000004, 0.3648, 0.365, 0.3652, 0.3654, 0.36560000000000004, 0.3658, 0.366, 0.3662, 0.3664, 0.36660000000000004, 0.3668, 0.367, 0.3672, 0.3674, 0.36760000000000004, 0.3678, 0.368, 0.3682, 0.3684, 0.36860000000000004, 0.3688, 0.369, 0.36920000000000003, 0.3694, 0.36960000000000004, 0.3698, 0.37, 0.37020000000000003, 0.3704, 0.37060000000000004, 0.3708, 0.371, 0.37120000000000003, 0.3714, 0.37160000000000004, 0.3718, 0.372, 0.37220000000000003, 0.3724, 0.37260000000000004, 0.3728, 0.373, 0.37320000000000003, 0.3734, 0.37360000000000004, 0.3738, 0.374, 0.37420000000000003, 0.3744, 0.37460000000000004, 0.3748, 0.375, 0.37520000000000003, 0.3754, 0.37560000000000004, 0.3758, 0.376, 0.37620000000000003, 0.3764, 0.3766, 0.3768, 0.377, 0.37720000000000004, 0.3774, 0.3776, 0.3778, 0.378, 0.37820000000000004, 0.3784, 0.3786, 0.3788, 0.379, 0.37920000000000004, 0.3794, 0.3796, 0.3798, 0.38, 0.38020000000000004, 0.3804, 0.3806, 0.3808, 0.381, 0.38120000000000004, 0.3814, 0.3816, 0.38180000000000003, 0.382, 0.38220000000000004, 0.3824, 0.3826, 0.38280000000000003, 0.383, 0.38320000000000004, 0.3834, 0.3836, 0.38380000000000003, 0.384, 0.38420000000000004, 0.3844, 0.3846, 0.38480000000000003, 0.385, 0.38520000000000004, 0.3854, 0.3856, 0.38580000000000003, 0.386, 0.38620000000000004, 0.3864, 0.3866, 0.38680000000000003, 0.387, 0.38720000000000004, 0.3874, 0.3876, 0.38780000000000003, 0.388, 0.38820000000000005, 0.3884, 0.3886, 0.38880000000000003, 0.389, 0.38920000000000005, 0.3894, 0.3896, 0.38980000000000004, 0.39, 0.3902, 0.3904, 0.3906, 0.39080000000000004, 0.391, 0.3912, 0.3914, 0.3916, 0.39180000000000004, 0.392, 0.3922, 0.3924, 0.3926, 0.39280000000000004, 0.393, 0.3932, 0.3934, 0.3936, 0.39380000000000004, 0.394, 0.3942, 0.39440000000000003, 0.3946, 0.39480000000000004, 0.395, 0.3952, 0.39540000000000003, 0.3956, 0.39580000000000004, 0.396, 0.3962, 0.39640000000000003, 0.3966, 0.39680000000000004, 0.397, 0.3972, 0.39740000000000003, 0.3976, 0.39780000000000004, 0.398, 0.3982, 0.39840000000000003, 0.3986, 0.39880000000000004, 0.399, 0.3992, 0.39940000000000003, 0.3996, 0.39980000000000004, 0.4, 0.4002, 0.40040000000000003, 0.4006, 0.40080000000000005, 0.401, 0.4012, 0.40140000000000003, 0.4016, 0.40180000000000005, 0.402, 0.4022, 0.40240000000000004, 0.4026, 0.40280000000000005, 0.403, 0.4032, 0.40340000000000004, 0.4036, 0.4038, 0.404, 0.4042, 0.40440000000000004, 0.4046, 0.4048, 0.405, 0.4052, 0.40540000000000004, 0.4056, 0.4058, 0.406, 0.4062, 0.40640000000000004, 0.4066, 0.4068, 0.40700000000000003, 0.4072, 0.40740000000000004, 0.4076, 0.4078, 0.40800000000000003, 0.4082, 0.40840000000000004, 0.4086, 0.4088, 0.40900000000000003, 0.4092, 0.40940000000000004, 0.4096, 0.4098, 0.41000000000000003, 0.4102, 0.41040000000000004, 0.4106, 0.4108, 0.41100000000000003, 0.4112, 0.41140000000000004, 0.4116, 0.4118, 0.41200000000000003, 0.4122, 0.41240000000000004, 0.4126, 0.4128, 0.41300000000000003, 0.4132, 0.41340000000000005, 0.4136, 0.4138, 0.41400000000000003, 0.4142, 0.41440000000000005, 0.4146, 0.4148, 0.41500000000000004, 0.4152, 0.41540000000000005, 0.4156, 0.4158, 0.41600000000000004, 0.4162, 0.4164, 0.4166, 0.4168, 0.41700000000000004, 0.4172, 0.4174, 0.4176, 0.4178, 0.41800000000000004, 0.4182, 0.4184, 0.4186, 0.4188, 0.41900000000000004, 0.4192, 0.4194, 0.41960000000000003, 0.4198, 0.42000000000000004, 0.4202, 0.4204, 0.42060000000000003, 0.4208, 0.42100000000000004, 0.4212, 0.4214, 0.42160000000000003, 0.4218, 0.42200000000000004, 0.4222, 0.4224, 0.42260000000000003, 0.4228, 0.42300000000000004, 0.4232, 0.4234, 0.42360000000000003, 0.4238, 0.42400000000000004, 0.4242, 0.4244, 0.42460000000000003, 0.4248, 0.42500000000000004, 0.4252, 0.4254, 0.42560000000000003, 0.4258, 0.42600000000000005, 0.4262, 0.4264, 0.42660000000000003, 0.4268, 0.42700000000000005, 0.4272, 0.4274, 0.42760000000000004, 0.4278, 0.42800000000000005, 0.4282, 0.4284, 0.42860000000000004, 0.4288, 0.42900000000000005, 0.4292, 0.4294, 0.42960000000000004, 0.4298, 0.43, 0.4302, 0.4304, 0.43060000000000004, 0.4308, 0.431, 0.4312, 0.4314, 0.43160000000000004, 0.4318, 0.432, 0.43220000000000003, 0.4324, 0.43260000000000004, 0.4328, 0.433, 0.43320000000000003, 0.4334, 0.43360000000000004, 0.4338, 0.434, 0.43420000000000003, 0.4344, 0.43460000000000004, 0.4348, 0.435, 0.43520000000000003, 0.4354, 0.43560000000000004, 0.4358, 0.436, 0.43620000000000003, 0.4364, 0.43660000000000004, 0.4368, 0.437, 0.43720000000000003, 0.4374, 0.43760000000000004, 0.4378, 0.438, 0.43820000000000003, 0.4384, 0.43860000000000005, 0.4388, 0.439, 0.43920000000000003, 0.4394, 0.43960000000000005, 0.4398, 0.44, 0.44020000000000004, 0.4404, 0.44060000000000005, 0.4408, 0.441, 0.44120000000000004, 0.4414, 0.44160000000000005, 0.4418, 0.442, 0.44220000000000004, 0.4424, 0.44260000000000005, 0.4428, 0.443, 0.44320000000000004, 0.4434, 0.4436, 0.44380000000000003, 0.444, 0.44420000000000004, 0.4444, 0.4446, 0.44480000000000003, 0.445, 0.44520000000000004, 0.4454, 0.4456, 0.44580000000000003, 0.446, 0.44620000000000004, 0.4464, 0.4466, 0.44680000000000003, 0.447, 0.44720000000000004, 0.4474, 0.4476, 0.44780000000000003, 0.448, 0.44820000000000004, 0.4484, 0.4486, 0.44880000000000003, 0.449, 0.44920000000000004, 0.4494, 0.4496, 0.44980000000000003, 0.45, 0.45020000000000004, 0.4504, 0.4506, 0.45080000000000003, 0.451, 0.45120000000000005, 0.4514, 0.4516, 0.45180000000000003, 0.452, 0.45220000000000005, 0.4524, 0.4526, 0.45280000000000004, 0.453, 0.45320000000000005, 0.4534, 0.4536, 0.45380000000000004, 0.454, 0.45420000000000005, 0.4544, 0.4546, 0.45480000000000004, 0.455, 0.45520000000000005, 0.4554, 0.4556, 0.45580000000000004, 0.456, 0.4562, 0.45640000000000003, 0.4566, 0.45680000000000004, 0.457, 0.4572, 0.45740000000000003, 0.4576, 0.45780000000000004, 0.458, 0.4582, 0.45840000000000003, 0.4586, 0.45880000000000004, 0.459, 0.4592, 0.45940000000000003, 0.4596, 0.45980000000000004, 0.46, 0.4602, 0.46040000000000003, 0.4606, 0.46080000000000004, 0.461, 0.4612, 0.46140000000000003, 0.4616, 0.46180000000000004, 0.462, 0.4622, 0.46240000000000003, 0.4626, 0.46280000000000004, 0.463, 0.4632, 0.46340000000000003, 0.4636, 0.46380000000000005, 0.464, 0.4642, 0.46440000000000003, 0.4646, 0.46480000000000005, 0.465, 0.4652, 0.46540000000000004, 0.4656, 0.46580000000000005, 0.466, 0.4662, 0.46640000000000004, 0.4666, 0.46680000000000005, 0.467, 0.4672, 0.46740000000000004, 0.4676, 0.46780000000000005, 0.468, 0.4682, 0.46840000000000004, 0.4686, 0.46880000000000005, 0.46900000000000003, 0.4692, 0.46940000000000004, 0.4696, 0.4698, 0.47000000000000003, 0.4702, 0.47040000000000004, 0.4706, 0.4708, 0.47100000000000003, 0.4712, 0.47140000000000004, 0.4716, 0.4718, 0.47200000000000003, 0.4722, 0.47240000000000004, 0.4726, 0.4728, 0.47300000000000003, 0.4732, 0.47340000000000004, 0.4736, 0.4738, 0.47400000000000003, 0.4742, 0.47440000000000004, 0.4746, 0.4748, 0.47500000000000003, 0.4752, 0.47540000000000004, 0.4756, 0.4758, 0.47600000000000003, 0.4762, 0.47640000000000005, 0.4766, 0.4768, 0.47700000000000004, 0.4772, 0.47740000000000005, 0.4776, 0.4778, 0.47800000000000004, 0.4782, 0.47840000000000005, 0.4786, 0.4788, 0.47900000000000004, 0.4792, 0.47940000000000005, 0.4796, 0.4798, 0.48000000000000004, 0.4802, 0.48040000000000005, 0.4806, 0.4808, 0.48100000000000004, 0.4812, 0.48140000000000005, 0.48160000000000003, 0.4818, 0.48200000000000004, 0.4822, 0.4824, 0.48260000000000003, 0.4828, 0.48300000000000004, 0.4832, 0.4834, 0.48360000000000003, 0.4838, 0.48400000000000004, 0.4842, 0.4844, 0.48460000000000003, 0.4848, 0.48500000000000004, 0.4852, 0.4854, 0.48560000000000003, 0.4858, 0.48600000000000004, 0.4862, 0.4864, 0.48660000000000003, 0.4868, 0.48700000000000004, 0.4872, 0.4874, 0.48760000000000003, 0.4878, 0.48800000000000004, 0.4882, 0.4884, 0.48860000000000003, 0.4888, 0.48900000000000005, 0.4892, 0.4894, 0.48960000000000004, 0.4898, 0.49000000000000005, 0.4902, 0.4904, 0.49060000000000004, 0.4908, 0.49100000000000005, 0.4912, 0.4914, 0.49160000000000004, 0.4918, 0.49200000000000005, 0.4922, 0.4924, 0.49260000000000004, 0.4928, 0.49300000000000005, 0.4932, 0.4934, 0.49360000000000004, 0.4938, 0.49400000000000005, 0.49420000000000003, 0.4944, 0.49460000000000004, 0.4948, 0.49500000000000005, 0.49520000000000003, 0.4954, 0.49560000000000004, 0.4958, 0.496, 0.49620000000000003, 0.4964, 0.49660000000000004, 0.4968, 0.497, 0.49720000000000003, 0.4974, 0.49760000000000004, 0.4978, 0.498, 0.49820000000000003, 0.4984, 0.49860000000000004, 0.4988, 0.499, 0.49920000000000003, 0.4994, 0.49960000000000004, 0.4998, 0.5, 0.5002, 0.5004000000000001, 0.5006, 0.5008, 0.501, 0.5012, 0.5014000000000001, 0.5016, 0.5018, 0.502, 0.5022, 0.5024000000000001, 0.5026, 0.5028, 0.503, 0.5032, 0.5034000000000001, 0.5036, 0.5038, 0.504, 0.5042, 0.5044000000000001, 0.5046, 0.5048, 0.505, 0.5052, 0.5054000000000001, 0.5056, 0.5058, 0.506, 0.5062, 0.5064000000000001, 0.5066, 0.5068, 0.507, 0.5072, 0.5074000000000001, 0.5076, 0.5078, 0.508, 0.5082, 0.5084000000000001, 0.5086, 0.5088, 0.509, 0.5092, 0.5094000000000001, 0.5096, 0.5098, 0.51, 0.5102, 0.5104000000000001, 0.5106, 0.5108, 0.511, 0.5112, 0.5114000000000001, 0.5116, 0.5118, 0.512, 0.5122, 0.5124000000000001, 0.5126000000000001, 0.5128, 0.513, 0.5132, 0.5134000000000001, 0.5136000000000001, 0.5138, 0.514, 0.5142, 0.5144000000000001, 0.5146000000000001, 0.5148, 0.515, 0.5152, 0.5154, 0.5156000000000001, 0.5158, 0.516, 0.5162, 0.5164, 0.5166000000000001, 0.5168, 0.517, 0.5172, 0.5174, 0.5176000000000001, 0.5178, 0.518, 0.5182, 0.5184, 0.5186000000000001, 0.5188, 0.519, 0.5192, 0.5194, 0.5196000000000001, 0.5198, 0.52, 0.5202, 0.5204, 0.5206000000000001, 0.5208, 0.521, 0.5212, 0.5214, 0.5216000000000001, 0.5218, 0.522, 0.5222, 0.5224, 0.5226000000000001, 0.5228, 0.523, 0.5232, 0.5234, 0.5236000000000001, 0.5238, 0.524, 0.5242, 0.5244, 0.5246000000000001, 0.5248, 0.525, 0.5252, 0.5254, 0.5256000000000001, 0.5258, 0.526, 0.5262, 0.5264, 0.5266000000000001, 0.5268, 0.527, 0.5272, 0.5274, 0.5276000000000001, 0.5278, 0.528, 0.5282, 0.5284, 0.5286000000000001, 0.5288, 0.529, 0.5292, 0.5294, 0.5296000000000001, 0.5298, 0.53, 0.5302, 0.5304, 0.5306000000000001, 0.5308, 0.531, 0.5312, 0.5314, 0.5316000000000001, 0.5318, 0.532, 0.5322, 0.5324, 0.5326000000000001, 0.5328, 0.533, 0.5332, 0.5334, 0.5336000000000001, 0.5338, 0.534, 0.5342, 0.5344, 0.5346000000000001, 0.5348, 0.535, 0.5352, 0.5354, 0.5356000000000001, 0.5358, 0.536, 0.5362, 0.5364, 0.5366000000000001, 0.5368, 0.537, 0.5372, 0.5374, 0.5376000000000001, 0.5378000000000001, 0.538, 0.5382, 0.5384, 0.5386000000000001, 0.5388000000000001, 0.539, 0.5392, 0.5394, 0.5396000000000001, 0.5398000000000001, 0.54, 0.5402, 0.5404, 0.5406000000000001, 0.5408000000000001, 0.541, 0.5412, 0.5414, 0.5416000000000001, 0.5418000000000001, 0.542, 0.5422, 0.5424, 0.5426, 0.5428000000000001, 0.543, 0.5432, 0.5434, 0.5436, 0.5438000000000001, 0.544, 0.5442, 0.5444, 0.5446, 0.5448000000000001, 0.545, 0.5452, 0.5454, 0.5456, 0.5458000000000001, 0.546, 0.5462, 0.5464, 0.5466, 0.5468000000000001, 0.547, 0.5472, 0.5474, 0.5476, 0.5478000000000001, 0.548, 0.5482, 0.5484, 0.5486, 0.5488000000000001, 0.549, 0.5492, 0.5494, 0.5496, 0.5498000000000001, 0.55, 0.5502, 0.5504, 0.5506, 0.5508000000000001, 0.551, 0.5512, 0.5514, 0.5516, 0.5518000000000001, 0.552, 0.5522, 0.5524, 0.5526, 0.5528000000000001, 0.553, 0.5532, 0.5534, 0.5536, 0.5538000000000001, 0.554, 0.5542, 0.5544, 0.5546, 0.5548000000000001, 0.555, 0.5552, 0.5554, 0.5556, 0.5558000000000001, 0.556, 0.5562, 0.5564, 0.5566, 0.5568000000000001, 0.557, 0.5572, 0.5574, 0.5576, 0.5578000000000001, 0.558, 0.5582, 0.5584, 0.5586, 0.5588000000000001, 0.559, 0.5592, 0.5594, 0.5596, 0.5598000000000001, 0.56, 0.5602, 0.5604, 0.5606, 0.5608000000000001, 0.561, 0.5612, 0.5614, 0.5616, 0.5618000000000001, 0.562, 0.5622, 0.5624, 0.5626, 0.5628000000000001, 0.5630000000000001, 0.5632, 0.5634, 0.5636, 0.5638000000000001, 0.5640000000000001, 0.5642, 0.5644, 0.5646, 0.5648000000000001, 0.5650000000000001, 0.5652, 0.5654, 0.5656, 0.5658000000000001, 0.5660000000000001, 0.5662, 0.5664, 0.5666, 0.5668000000000001, 0.5670000000000001, 0.5672, 0.5674, 0.5676, 0.5678000000000001, 0.5680000000000001, 0.5682, 0.5684, 0.5686, 0.5688, 0.5690000000000001, 0.5692, 0.5694, 0.5696, 0.5698, 0.5700000000000001, 0.5702, 0.5704, 0.5706, 0.5708, 0.5710000000000001, 0.5712, 0.5714, 0.5716, 0.5718, 0.5720000000000001, 0.5722, 0.5724, 0.5726, 0.5728, 0.5730000000000001, 0.5732, 0.5734, 0.5736, 0.5738, 0.5740000000000001, 0.5742, 0.5744, 0.5746, 0.5748, 0.5750000000000001, 0.5752, 0.5754, 0.5756, 0.5758, 0.5760000000000001, 0.5762, 0.5764, 0.5766, 0.5768, 0.5770000000000001, 0.5772, 0.5774, 0.5776, 0.5778, 0.5780000000000001, 0.5782, 0.5784, 0.5786, 0.5788, 0.5790000000000001, 0.5792, 0.5794, 0.5796, 0.5798, 0.5800000000000001, 0.5802, 0.5804, 0.5806, 0.5808, 0.5810000000000001, 0.5812, 0.5814, 0.5816, 0.5818, 0.5820000000000001, 0.5822, 0.5824, 0.5826, 0.5828, 0.5830000000000001, 0.5832, 0.5834, 0.5836, 0.5838, 0.5840000000000001, 0.5842, 0.5844, 0.5846, 0.5848, 0.5850000000000001, 0.5852, 0.5854, 0.5856, 0.5858, 0.5860000000000001, 0.5862, 0.5864, 0.5866, 0.5868, 0.5870000000000001, 0.5872, 0.5874, 0.5876, 0.5878, 0.5880000000000001, 0.5882000000000001, 0.5884, 0.5886, 0.5888, 0.5890000000000001, 0.5892000000000001, 0.5894, 0.5896, 0.5898, 0.5900000000000001, 0.5902000000000001, 0.5904, 0.5906, 0.5908, 0.5910000000000001, 0.5912000000000001, 0.5914, 0.5916, 0.5918, 0.5920000000000001, 0.5922000000000001, 0.5924, 0.5926, 0.5928, 0.5930000000000001, 0.5932000000000001, 0.5934, 0.5936, 0.5938, 0.5940000000000001, 0.5942000000000001, 0.5944, 0.5946, 0.5948, 0.595, 0.5952000000000001, 0.5954, 0.5956, 0.5958, 0.596, 0.5962000000000001, 0.5964, 0.5966, 0.5968, 0.597, 0.5972000000000001, 0.5974, 0.5976, 0.5978, 0.598, 0.5982000000000001, 0.5984, 0.5986, 0.5988, 0.599, 0.5992000000000001, 0.5994, 0.5996, 0.5998, 0.6, 0.6002000000000001, 0.6004, 0.6006, 0.6008, 0.601, 0.6012000000000001, 0.6014, 0.6016, 0.6018, 0.602, 0.6022000000000001, 0.6024, 0.6026, 0.6028, 0.603, 0.6032000000000001, 0.6034, 0.6036, 0.6038, 0.604, 0.6042000000000001, 0.6044, 0.6046, 0.6048, 0.605, 0.6052000000000001, 0.6054, 0.6056, 0.6058, 0.606, 0.6062000000000001, 0.6064, 0.6066, 0.6068, 0.607, 0.6072000000000001, 0.6074, 0.6076, 0.6078, 0.608, 0.6082000000000001, 0.6084, 0.6086, 0.6088, 0.609, 0.6092000000000001, 0.6094, 0.6096, 0.6098, 0.61, 0.6102000000000001, 0.6104, 0.6106, 0.6108, 0.611, 0.6112000000000001, 0.6114, 0.6116, 0.6118, 0.612, 0.6122000000000001, 0.6124, 0.6126, 0.6128, 0.613, 0.6132000000000001, 0.6134000000000001, 0.6136, 0.6138, 0.614, 0.6142000000000001, 0.6144000000000001, 0.6146, 0.6148, 0.615, 0.6152000000000001, 0.6154000000000001, 0.6156, 0.6158, 0.616, 0.6162000000000001, 0.6164000000000001, 0.6166, 0.6168, 0.617, 0.6172000000000001, 0.6174000000000001, 0.6176, 0.6178, 0.618, 0.6182000000000001, 0.6184000000000001, 0.6186, 0.6188, 0.619, 0.6192000000000001, 0.6194000000000001, 0.6196, 0.6198, 0.62, 0.6202000000000001, 0.6204000000000001, 0.6206, 0.6208, 0.621, 0.6212, 0.6214000000000001, 0.6216, 0.6218, 0.622, 0.6222, 0.6224000000000001, 0.6226, 0.6228, 0.623, 0.6232, 0.6234000000000001, 0.6236, 0.6238, 0.624, 0.6242, 0.6244000000000001, 0.6246, 0.6248, 0.625, 0.6252, 0.6254000000000001, 0.6256, 0.6258, 0.626, 0.6262, 0.6264000000000001, 0.6266, 0.6268, 0.627, 0.6272, 0.6274000000000001, 0.6276, 0.6278, 0.628, 0.6282, 0.6284000000000001, 0.6286, 0.6288, 0.629, 0.6292, 0.6294000000000001, 0.6296, 0.6298, 0.63, 0.6302, 0.6304000000000001, 0.6306, 0.6308, 0.631, 0.6312, 0.6314000000000001, 0.6316, 0.6318, 0.632, 0.6322, 0.6324000000000001, 0.6326, 0.6328, 0.633, 0.6332, 0.6334000000000001, 0.6336, 0.6338, 0.634, 0.6342, 0.6344000000000001, 0.6346, 0.6348, 0.635, 0.6352, 0.6354000000000001, 0.6356, 0.6358, 0.636, 0.6362, 0.6364000000000001, 0.6366, 0.6368, 0.637, 0.6372, 0.6374000000000001, 0.6376000000000001, 0.6378, 0.638, 0.6382, 0.6384000000000001, 0.6386000000000001, 0.6388, 0.639, 0.6392, 0.6394000000000001, 0.6396000000000001, 0.6398, 0.64, 0.6402, 0.6404000000000001, 0.6406000000000001, 0.6408, 0.641, 0.6412, 0.6414000000000001, 0.6416000000000001, 0.6418, 0.642, 0.6422, 0.6424000000000001, 0.6426000000000001, 0.6428, 0.643, 0.6432, 0.6434000000000001, 0.6436000000000001, 0.6438, 0.644, 0.6442, 0.6444000000000001, 0.6446000000000001, 0.6448, 0.645, 0.6452, 0.6454000000000001, 0.6456000000000001, 0.6458, 0.646, 0.6462, 0.6464000000000001, 0.6466000000000001, 0.6468, 0.647, 0.6472, 0.6474000000000001, 0.6476000000000001, 0.6478, 0.648, 0.6482, 0.6484, 0.6486000000000001, 0.6488, 0.649, 0.6492, 0.6494, 0.6496000000000001, 0.6498, 0.65, 0.6502, 0.6504, 0.6506000000000001, 0.6508, 0.651, 0.6512, 0.6514, 0.6516000000000001, 0.6518, 0.652, 0.6522, 0.6524, 0.6526000000000001, 0.6528, 0.653, 0.6532, 0.6534, 0.6536000000000001, 0.6538, 0.654, 0.6542, 0.6544, 0.6546000000000001, 0.6548, 0.655, 0.6552, 0.6554, 0.6556000000000001, 0.6558, 0.656, 0.6562, 0.6564, 0.6566000000000001, 0.6568, 0.657, 0.6572, 0.6574, 0.6576000000000001, 0.6578, 0.658, 0.6582, 0.6584, 0.6586000000000001, 0.6588, 0.659, 0.6592, 0.6594, 0.6596000000000001, 0.6598, 0.66, 0.6602, 0.6604, 0.6606000000000001, 0.6608, 0.661, 0.6612, 0.6614, 0.6616000000000001, 0.6618, 0.662, 0.6622, 0.6624, 0.6626000000000001, 0.6628000000000001, 0.663, 0.6632, 0.6634, 0.6636000000000001, 0.6638000000000001, 0.664, 0.6642, 0.6644, 0.6646000000000001, 0.6648000000000001, 0.665, 0.6652, 0.6654, 0.6656000000000001, 0.6658000000000001, 0.666, 0.6662, 0.6664, 0.6666000000000001, 0.6668000000000001, 0.667, 0.6672, 0.6674, 0.6676000000000001, 0.6678000000000001, 0.668, 0.6682, 0.6684, 0.6686000000000001, 0.6688000000000001, 0.669, 0.6692, 0.6694, 0.6696000000000001, 0.6698000000000001, 0.67, 0.6702, 0.6704, 0.6706000000000001, 0.6708000000000001, 0.671, 0.6712, 0.6714, 0.6716000000000001, 0.6718000000000001, 0.672, 0.6722, 0.6724, 0.6726000000000001, 0.6728000000000001, 0.673, 0.6732, 0.6734, 0.6736000000000001, 0.6738000000000001, 0.674, 0.6742, 0.6744, 0.6746, 0.6748000000000001, 0.675, 0.6752, 0.6754, 0.6756, 0.6758000000000001, 0.676, 0.6762, 0.6764, 0.6766, 0.6768000000000001, 0.677, 0.6772, 0.6774, 0.6776, 0.6778000000000001, 0.678, 0.6782, 0.6784, 0.6786, 0.6788000000000001, 0.679, 0.6792, 0.6794, 0.6796, 0.6798000000000001, 0.68, 0.6802, 0.6804, 0.6806, 0.6808000000000001, 0.681, 0.6812, 0.6814, 0.6816, 0.6818000000000001, 0.682, 0.6822, 0.6824, 0.6826, 0.6828000000000001, 0.683, 0.6832, 0.6834, 0.6836, 0.6838000000000001, 0.684, 0.6842, 0.6844, 0.6846, 0.6848000000000001, 0.685, 0.6852, 0.6854, 0.6856, 0.6858000000000001, 0.686, 0.6862, 0.6864, 0.6866, 0.6868000000000001, 0.687, 0.6872, 0.6874, 0.6876, 0.6878000000000001, 0.6880000000000001, 0.6882, 0.6884, 0.6886, 0.6888000000000001, 0.6890000000000001, 0.6892, 0.6894, 0.6896, 0.6898000000000001, 0.6900000000000001, 0.6902, 0.6904, 0.6906, 0.6908000000000001, 0.6910000000000001, 0.6912, 0.6914, 0.6916, 0.6918000000000001, 0.6920000000000001, 0.6922, 0.6924, 0.6926, 0.6928000000000001, 0.6930000000000001, 0.6932, 0.6934, 0.6936, 0.6938000000000001, 0.6940000000000001, 0.6942, 0.6944, 0.6946, 0.6948000000000001, 0.6950000000000001, 0.6952, 0.6954, 0.6956, 0.6958000000000001, 0.6960000000000001, 0.6962, 0.6964, 0.6966, 0.6968000000000001, 0.6970000000000001, 0.6972, 0.6974, 0.6976, 0.6978000000000001, 0.6980000000000001, 0.6982, 0.6984, 0.6986, 0.6988000000000001, 0.6990000000000001, 0.6992, 0.6994, 0.6996, 0.6998000000000001, 0.7000000000000001, 0.7002, 0.7004, 0.7006, 0.7008, 0.7010000000000001, 0.7012, 0.7014, 0.7016, 0.7018, 0.7020000000000001, 0.7022, 0.7024, 0.7026, 0.7028, 0.7030000000000001, 0.7032, 0.7034, 0.7036, 0.7038, 0.7040000000000001, 0.7042, 0.7044, 0.7046, 0.7048, 0.7050000000000001, 0.7052, 0.7054, 0.7056, 0.7058, 0.7060000000000001, 0.7062, 0.7064, 0.7066, 0.7068, 0.7070000000000001, 0.7072, 0.7074, 0.7076, 0.7078, 0.7080000000000001, 0.7082, 0.7084, 0.7086, 0.7088, 0.7090000000000001, 0.7092, 0.7094, 0.7096, 0.7098, 0.7100000000000001, 0.7102, 0.7104, 0.7106, 0.7108, 0.7110000000000001, 0.7112, 0.7114, 0.7116, 0.7118, 0.7120000000000001, 0.7122, 0.7124, 0.7126, 0.7128, 0.7130000000000001, 0.7132000000000001, 0.7134, 0.7136, 0.7138, 0.7140000000000001, 0.7142000000000001, 0.7144, 0.7146, 0.7148, 0.7150000000000001, 0.7152000000000001, 0.7154, 0.7156, 0.7158, 0.7160000000000001, 0.7162000000000001, 0.7164, 0.7166, 0.7168, 0.7170000000000001, 0.7172000000000001, 0.7174, 0.7176, 0.7178, 0.7180000000000001, 0.7182000000000001, 0.7184, 0.7186, 0.7188, 0.7190000000000001, 0.7192000000000001, 0.7194, 0.7196, 0.7198, 0.7200000000000001, 0.7202000000000001, 0.7204, 0.7206, 0.7208, 0.7210000000000001, 0.7212000000000001, 0.7214, 0.7216, 0.7218, 0.7220000000000001, 0.7222000000000001, 0.7224, 0.7226, 0.7228, 0.7230000000000001, 0.7232000000000001, 0.7234, 0.7236, 0.7238, 0.7240000000000001, 0.7242000000000001, 0.7244, 0.7246, 0.7248, 0.7250000000000001, 0.7252000000000001, 0.7254, 0.7256, 0.7258, 0.7260000000000001, 0.7262000000000001, 0.7264, 0.7266, 0.7268, 0.727, 0.7272000000000001, 0.7274, 0.7276, 0.7278, 0.728, 0.7282000000000001, 0.7284, 0.7286, 0.7288, 0.729, 0.7292000000000001, 0.7294, 0.7296, 0.7298, 0.73, 0.7302000000000001, 0.7304, 0.7306, 0.7308, 0.731, 0.7312000000000001, 0.7314, 0.7316, 0.7318, 0.732, 0.7322000000000001, 0.7324, 0.7326, 0.7328, 0.733, 0.7332000000000001, 0.7334, 0.7336, 0.7338, 0.734, 0.7342000000000001, 0.7344, 0.7346, 0.7348, 0.735, 0.7352000000000001, 0.7354, 0.7356, 0.7358, 0.736, 0.7362000000000001, 0.7364, 0.7366, 0.7368, 0.737, 0.7372000000000001, 0.7374, 0.7376, 0.7378, 0.738, 0.7382000000000001, 0.7384000000000001, 0.7386, 0.7388, 0.739, 0.7392000000000001, 0.7394000000000001, 0.7396, 0.7398, 0.74, 0.7402000000000001, 0.7404000000000001, 0.7406, 0.7408, 0.741, 0.7412000000000001, 0.7414000000000001, 0.7416, 0.7418, 0.742, 0.7422000000000001, 0.7424000000000001, 0.7426, 0.7428, 0.743, 0.7432000000000001, 0.7434000000000001, 0.7436, 0.7438, 0.744, 0.7442000000000001, 0.7444000000000001, 0.7446, 0.7448, 0.745, 0.7452000000000001, 0.7454000000000001, 0.7456, 0.7458, 0.746, 0.7462000000000001, 0.7464000000000001, 0.7466, 0.7468, 0.747, 0.7472000000000001, 0.7474000000000001, 0.7476, 0.7478, 0.748, 0.7482000000000001, 0.7484000000000001, 0.7486, 0.7488, 0.749, 0.7492000000000001, 0.7494000000000001, 0.7496, 0.7498, 0.75, 0.7502000000000001, 0.7504000000000001, 0.7506, 0.7508, 0.751, 0.7512000000000001, 0.7514000000000001, 0.7516, 0.7518, 0.752, 0.7522000000000001, 0.7524000000000001, 0.7526, 0.7528, 0.753, 0.7532, 0.7534000000000001, 0.7536, 0.7538, 0.754, 0.7542, 0.7544000000000001, 0.7546, 0.7548, 0.755, 0.7552, 0.7554000000000001, 0.7556, 0.7558, 0.756, 0.7562, 0.7564000000000001, 0.7566, 0.7568, 0.757, 0.7572, 0.7574000000000001, 0.7576, 0.7578, 0.758, 0.7582, 0.7584000000000001, 0.7586, 0.7588, 0.759, 0.7592, 0.7594000000000001, 0.7596, 0.7598, 0.76, 0.7602, 0.7604000000000001, 0.7606, 0.7608, 0.761, 0.7612, 0.7614000000000001, 0.7616, 0.7618, 0.762, 0.7622, 0.7624000000000001, 0.7626000000000001, 0.7628, 0.763, 0.7632, 0.7634000000000001, 0.7636000000000001, 0.7638, 0.764, 0.7642, 0.7644000000000001, 0.7646000000000001, 0.7648, 0.765, 0.7652, 0.7654000000000001, 0.7656000000000001, 0.7658, 0.766, 0.7662, 0.7664000000000001, 0.7666000000000001, 0.7668, 0.767, 0.7672, 0.7674000000000001, 0.7676000000000001, 0.7678, 0.768, 0.7682, 0.7684000000000001, 0.7686000000000001, 0.7688, 0.769, 0.7692, 0.7694000000000001, 0.7696000000000001, 0.7698, 0.77, 0.7702, 0.7704000000000001, 0.7706000000000001, 0.7708, 0.771, 0.7712, 0.7714000000000001, 0.7716000000000001, 0.7718, 0.772, 0.7722, 0.7724000000000001, 0.7726000000000001, 0.7728, 0.773, 0.7732, 0.7734000000000001, 0.7736000000000001, 0.7738, 0.774, 0.7742, 0.7744000000000001, 0.7746000000000001, 0.7748, 0.775, 0.7752, 0.7754000000000001, 0.7756000000000001, 0.7758, 0.776, 0.7762, 0.7764000000000001, 0.7766000000000001, 0.7768, 0.777, 0.7772, 0.7774000000000001, 0.7776000000000001, 0.7778, 0.778, 0.7782, 0.7784000000000001, 0.7786000000000001, 0.7788, 0.779, 0.7792, 0.7794000000000001, 0.7796000000000001, 0.7798, 0.78, 0.7802, 0.7804, 0.7806000000000001, 0.7808, 0.781, 0.7812, 0.7814, 0.7816000000000001, 0.7818, 0.782, 0.7822, 0.7824, 0.7826000000000001, 0.7828, 0.783, 0.7832, 0.7834, 0.7836000000000001, 0.7838, 0.784, 0.7842, 0.7844, 0.7846000000000001, 0.7848, 0.785, 0.7852, 0.7854, 0.7856000000000001, 0.7858, 0.786, 0.7862, 0.7864, 0.7866000000000001, 0.7868, 0.787, 0.7872, 0.7874, 0.7876000000000001, 0.7878000000000001, 0.788, 0.7882, 0.7884, 0.7886000000000001, 0.7888000000000001, 0.789, 0.7892, 0.7894, 0.7896000000000001, 0.7898000000000001, 0.79, 0.7902, 0.7904, 0.7906000000000001, 0.7908000000000001, 0.791, 0.7912, 0.7914, 0.7916000000000001, 0.7918000000000001, 0.792, 0.7922, 0.7924, 0.7926000000000001, 0.7928000000000001, 0.793, 0.7932, 0.7934, 0.7936000000000001, 0.7938000000000001, 0.794, 0.7942, 0.7944, 0.7946000000000001, 0.7948000000000001, 0.795, 0.7952, 0.7954, 0.7956000000000001, 0.7958000000000001, 0.796, 0.7962, 0.7964, 0.7966000000000001, 0.7968000000000001, 0.797, 0.7972, 0.7974, 0.7976000000000001, 0.7978000000000001, 0.798, 0.7982, 0.7984, 0.7986000000000001, 0.7988000000000001, 0.799, 0.7992, 0.7994, 0.7996000000000001, 0.7998000000000001, 0.8, 0.8002, 0.8004, 0.8006000000000001, 0.8008000000000001, 0.801, 0.8012, 0.8014, 0.8016000000000001, 0.8018000000000001, 0.802, 0.8022, 0.8024, 0.8026000000000001, 0.8028000000000001, 0.803, 0.8032, 0.8034, 0.8036000000000001, 0.8038000000000001, 0.804, 0.8042, 0.8044, 0.8046000000000001, 0.8048000000000001, 0.805, 0.8052, 0.8054, 0.8056000000000001, 0.8058000000000001, 0.806, 0.8062, 0.8064, 0.8066, 0.8068000000000001, 0.807, 0.8072, 0.8074, 0.8076, 0.8078000000000001, 0.808, 0.8082, 0.8084, 0.8086, 0.8088000000000001, 0.809, 0.8092, 0.8094, 0.8096, 0.8098000000000001, 0.81, 0.8102, 0.8104, 0.8106, 0.8108000000000001, 0.811, 0.8112, 0.8114, 0.8116, 0.8118000000000001, 0.812, 0.8122, 0.8124, 0.8126, 0.8128000000000001, 0.8130000000000001, 0.8132, 0.8134, 0.8136, 0.8138000000000001, 0.8140000000000001, 0.8142, 0.8144, 0.8146, 0.8148000000000001, 0.8150000000000001, 0.8152, 0.8154, 0.8156, 0.8158000000000001, 0.8160000000000001, 0.8162, 0.8164, 0.8166, 0.8168000000000001, 0.8170000000000001, 0.8172, 0.8174, 0.8176, 0.8178000000000001, 0.8180000000000001, 0.8182, 0.8184, 0.8186, 0.8188000000000001, 0.8190000000000001, 0.8192, 0.8194, 0.8196, 0.8198000000000001, 0.8200000000000001, 0.8202, 0.8204, 0.8206, 0.8208000000000001, 0.8210000000000001, 0.8212, 0.8214, 0.8216, 0.8218000000000001, 0.8220000000000001, 0.8222, 0.8224, 0.8226, 0.8228000000000001, 0.8230000000000001, 0.8232, 0.8234, 0.8236, 0.8238000000000001, 0.8240000000000001, 0.8242, 0.8244, 0.8246, 0.8248000000000001, 0.8250000000000001, 0.8252, 0.8254, 0.8256, 0.8258000000000001, 0.8260000000000001, 0.8262, 0.8264, 0.8266, 0.8268000000000001, 0.8270000000000001, 0.8272, 0.8274, 0.8276, 0.8278000000000001, 0.8280000000000001, 0.8282, 0.8284, 0.8286, 0.8288000000000001, 0.8290000000000001, 0.8292, 0.8294, 0.8296, 0.8298000000000001, 0.8300000000000001, 0.8302, 0.8304, 0.8306, 0.8308000000000001, 0.8310000000000001, 0.8312, 0.8314, 0.8316, 0.8318000000000001, 0.8320000000000001, 0.8322, 0.8324, 0.8326, 0.8328, 0.8330000000000001, 0.8332, 0.8334, 0.8336, 0.8338, 0.8340000000000001, 0.8342, 0.8344, 0.8346, 0.8348, 0.8350000000000001, 0.8352, 0.8354, 0.8356, 0.8358, 0.8360000000000001, 0.8362, 0.8364, 0.8366, 0.8368, 0.8370000000000001, 0.8372, 0.8374, 0.8376, 0.8378, 0.8380000000000001, 0.8382000000000001, 0.8384, 0.8386, 0.8388, 0.8390000000000001, 0.8392000000000001, 0.8394, 0.8396, 0.8398, 0.8400000000000001, 0.8402000000000001, 0.8404, 0.8406, 0.8408, 0.8410000000000001, 0.8412000000000001, 0.8414, 0.8416, 0.8418, 0.8420000000000001, 0.8422000000000001, 0.8424, 0.8426, 0.8428, 0.8430000000000001, 0.8432000000000001, 0.8434, 0.8436, 0.8438, 0.8440000000000001, 0.8442000000000001, 0.8444, 0.8446, 0.8448, 0.8450000000000001, 0.8452000000000001, 0.8454, 0.8456, 0.8458, 0.8460000000000001, 0.8462000000000001, 0.8464, 0.8466, 0.8468, 0.8470000000000001, 0.8472000000000001, 0.8474, 0.8476, 0.8478, 0.8480000000000001, 0.8482000000000001, 0.8484, 0.8486, 0.8488, 0.8490000000000001, 0.8492000000000001, 0.8494, 0.8496, 0.8498, 0.8500000000000001, 0.8502000000000001, 0.8504, 0.8506, 0.8508, 0.8510000000000001, 0.8512000000000001, 0.8514, 0.8516, 0.8518, 0.8520000000000001, 0.8522000000000001, 0.8524, 0.8526, 0.8528, 0.8530000000000001, 0.8532000000000001, 0.8534, 0.8536, 0.8538, 0.8540000000000001, 0.8542000000000001, 0.8544, 0.8546, 0.8548, 0.8550000000000001, 0.8552000000000001, 0.8554, 0.8556, 0.8558, 0.8560000000000001, 0.8562000000000001, 0.8564, 0.8566, 0.8568, 0.8570000000000001, 0.8572000000000001, 0.8574, 0.8576, 0.8578, 0.8580000000000001, 0.8582000000000001, 0.8584, 0.8586, 0.8588, 0.859, 0.8592000000000001, 0.8594, 0.8596, 0.8598, 0.86, 0.8602000000000001, 0.8604, 0.8606, 0.8608, 0.861, 0.8612000000000001, 0.8614, 0.8616, 0.8618, 0.862, 0.8622000000000001, 0.8624, 0.8626, 0.8628, 0.863, 0.8632000000000001, 0.8634000000000001, 0.8636, 0.8638, 0.864, 0.8642000000000001, 0.8644000000000001, 0.8646, 0.8648, 0.865, 0.8652000000000001, 0.8654000000000001, 0.8656, 0.8658, 0.866, 0.8662000000000001, 0.8664000000000001, 0.8666, 0.8668, 0.867, 0.8672000000000001, 0.8674000000000001, 0.8676, 0.8678, 0.868, 0.8682000000000001, 0.8684000000000001, 0.8686, 0.8688, 0.869, 0.8692000000000001, 0.8694000000000001, 0.8696, 0.8698, 0.87, 0.8702000000000001, 0.8704000000000001, 0.8706, 0.8708, 0.871, 0.8712000000000001, 0.8714000000000001, 0.8716, 0.8718, 0.872, 0.8722000000000001, 0.8724000000000001, 0.8726, 0.8728, 0.873, 0.8732000000000001, 0.8734000000000001, 0.8736, 0.8738, 0.874, 0.8742000000000001, 0.8744000000000001, 0.8746, 0.8748, 0.875, 0.8752000000000001, 0.8754000000000001, 0.8756, 0.8758, 0.876, 0.8762000000000001, 0.8764000000000001, 0.8766, 0.8768, 0.877, 0.8772000000000001, 0.8774000000000001, 0.8776, 0.8778, 0.878, 0.8782000000000001, 0.8784000000000001, 0.8786, 0.8788, 0.879, 0.8792000000000001, 0.8794000000000001, 0.8796, 0.8798, 0.88, 0.8802000000000001, 0.8804000000000001, 0.8806, 0.8808, 0.881, 0.8812000000000001, 0.8814000000000001, 0.8816, 0.8818, 0.882, 0.8822000000000001, 0.8824000000000001, 0.8826, 0.8828, 0.883, 0.8832000000000001, 0.8834000000000001, 0.8836, 0.8838, 0.884, 0.8842000000000001, 0.8844000000000001, 0.8846, 0.8848, 0.885, 0.8852000000000001, 0.8854000000000001, 0.8856, 0.8858, 0.886, 0.8862, 0.8864000000000001, 0.8866, 0.8868, 0.887, 0.8872, 0.8874000000000001, 0.8876000000000001, 0.8878, 0.888, 0.8882, 0.8884000000000001, 0.8886000000000001, 0.8888, 0.889, 0.8892, 0.8894000000000001, 0.8896000000000001, 0.8898, 0.89, 0.8902, 0.8904000000000001, 0.8906000000000001, 0.8908, 0.891, 0.8912, 0.8914000000000001, 0.8916000000000001, 0.8918, 0.892, 0.8922, 0.8924000000000001, 0.8926000000000001, 0.8928, 0.893, 0.8932, 0.8934000000000001, 0.8936000000000001, 0.8938, 0.894, 0.8942, 0.8944000000000001, 0.8946000000000001, 0.8948, 0.895, 0.8952, 0.8954000000000001, 0.8956000000000001, 0.8958, 0.896, 0.8962, 0.8964000000000001, 0.8966000000000001, 0.8968, 0.897, 0.8972, 0.8974000000000001, 0.8976000000000001, 0.8978, 0.898, 0.8982, 0.8984000000000001, 0.8986000000000001, 0.8988, 0.899, 0.8992, 0.8994000000000001, 0.8996000000000001, 0.8998, 0.9, 0.9002, 0.9004000000000001, 0.9006000000000001, 0.9008, 0.901, 0.9012, 0.9014000000000001, 0.9016000000000001, 0.9018, 0.902, 0.9022, 0.9024000000000001, 0.9026000000000001, 0.9028, 0.903, 0.9032, 0.9034000000000001, 0.9036000000000001, 0.9038, 0.904, 0.9042, 0.9044000000000001, 0.9046000000000001, 0.9048, 0.905, 0.9052, 0.9054000000000001, 0.9056000000000001, 0.9058, 0.906, 0.9062, 0.9064000000000001, 0.9066000000000001, 0.9068, 0.907, 0.9072, 0.9074000000000001, 0.9076000000000001, 0.9078, 0.908, 0.9082, 0.9084000000000001, 0.9086000000000001, 0.9088, 0.909, 0.9092, 0.9094000000000001, 0.9096000000000001, 0.9098, 0.91, 0.9102, 0.9104000000000001, 0.9106000000000001, 0.9108, 0.911, 0.9112, 0.9114000000000001, 0.9116000000000001, 0.9118, 0.912, 0.9122, 0.9124, 0.9126000000000001, 0.9128000000000001, 0.913, 0.9132, 0.9134, 0.9136000000000001, 0.9138000000000001, 0.914, 0.9142, 0.9144, 0.9146000000000001, 0.9148000000000001, 0.915, 0.9152, 0.9154, 0.9156000000000001, 0.9158000000000001, 0.916, 0.9162, 0.9164, 0.9166000000000001, 0.9168000000000001, 0.917, 0.9172, 0.9174, 0.9176000000000001, 0.9178000000000001, 0.918, 0.9182, 0.9184, 0.9186000000000001, 0.9188000000000001, 0.919, 0.9192, 0.9194, 0.9196000000000001, 0.9198000000000001, 0.92, 0.9202, 0.9204, 0.9206000000000001, 0.9208000000000001, 0.921, 0.9212, 0.9214, 0.9216000000000001, 0.9218000000000001, 0.922, 0.9222, 0.9224, 0.9226000000000001, 0.9228000000000001, 0.923, 0.9232, 0.9234, 0.9236000000000001, 0.9238000000000001, 0.924, 0.9242, 0.9244, 0.9246000000000001, 0.9248000000000001, 0.925, 0.9252, 0.9254, 0.9256000000000001, 0.9258000000000001, 0.926, 0.9262, 0.9264, 0.9266000000000001, 0.9268000000000001, 0.927, 0.9272, 0.9274, 0.9276000000000001, 0.9278000000000001, 0.928, 0.9282, 0.9284, 0.9286000000000001, 0.9288000000000001, 0.929, 0.9292, 0.9294, 0.9296000000000001, 0.9298000000000001, 0.93, 0.9302, 0.9304, 0.9306000000000001, 0.9308000000000001, 0.931, 0.9312, 0.9314, 0.9316000000000001, 0.9318000000000001, 0.932, 0.9322, 0.9324, 0.9326000000000001, 0.9328000000000001, 0.933, 0.9332, 0.9334, 0.9336000000000001, 0.9338000000000001, 0.934, 0.9342, 0.9344, 0.9346000000000001, 0.9348000000000001, 0.935, 0.9352, 0.9354, 0.9356000000000001, 0.9358000000000001, 0.936, 0.9362, 0.9364, 0.9366000000000001, 0.9368000000000001, 0.937, 0.9372, 0.9374, 0.9376000000000001, 0.9378000000000001, 0.9380000000000001, 0.9382, 0.9384, 0.9386, 0.9388000000000001, 0.9390000000000001, 0.9392, 0.9394, 0.9396, 0.9398000000000001, 0.9400000000000001, 0.9402, 0.9404, 0.9406, 0.9408000000000001, 0.9410000000000001, 0.9412, 0.9414, 0.9416, 0.9418000000000001, 0.9420000000000001, 0.9422, 0.9424, 0.9426, 0.9428000000000001, 0.9430000000000001, 0.9432, 0.9434, 0.9436, 0.9438000000000001, 0.9440000000000001, 0.9442, 0.9444, 0.9446, 0.9448000000000001, 0.9450000000000001, 0.9452, 0.9454, 0.9456, 0.9458000000000001, 0.9460000000000001, 0.9462, 0.9464, 0.9466, 0.9468000000000001, 0.9470000000000001, 0.9472, 0.9474, 0.9476, 0.9478000000000001, 0.9480000000000001, 0.9482, 0.9484, 0.9486, 0.9488000000000001, 0.9490000000000001, 0.9492, 0.9494, 0.9496, 0.9498000000000001, 0.9500000000000001, 0.9502, 0.9504, 0.9506, 0.9508000000000001, 0.9510000000000001, 0.9512, 0.9514, 0.9516, 0.9518000000000001, 0.9520000000000001, 0.9522, 0.9524, 0.9526, 0.9528000000000001, 0.9530000000000001, 0.9532, 0.9534, 0.9536, 0.9538000000000001, 0.9540000000000001, 0.9542, 0.9544, 0.9546, 0.9548000000000001, 0.9550000000000001, 0.9552, 0.9554, 0.9556, 0.9558000000000001, 0.9560000000000001, 0.9562, 0.9564, 0.9566, 0.9568000000000001, 0.9570000000000001, 0.9572, 0.9574, 0.9576, 0.9578000000000001, 0.9580000000000001, 0.9582, 0.9584, 0.9586, 0.9588000000000001, 0.9590000000000001, 0.9592, 0.9594, 0.9596, 0.9598000000000001, 0.9600000000000001, 0.9602, 0.9604, 0.9606, 0.9608000000000001, 0.9610000000000001, 0.9612, 0.9614, 0.9616, 0.9618000000000001, 0.9620000000000001, 0.9622, 0.9624, 0.9626, 0.9628000000000001, 0.9630000000000001, 0.9632000000000001, 0.9634, 0.9636, 0.9638000000000001, 0.9640000000000001, 0.9642000000000001, 0.9644, 0.9646, 0.9648, 0.9650000000000001, 0.9652000000000001, 0.9654, 0.9656, 0.9658, 0.9660000000000001, 0.9662000000000001, 0.9664, 0.9666, 0.9668, 0.9670000000000001, 0.9672000000000001, 0.9674, 0.9676, 0.9678, 0.9680000000000001, 0.9682000000000001, 0.9684, 0.9686, 0.9688, 0.9690000000000001, 0.9692000000000001, 0.9694, 0.9696, 0.9698, 0.9700000000000001, 0.9702000000000001, 0.9704, 0.9706, 0.9708, 0.9710000000000001, 0.9712000000000001, 0.9714, 0.9716, 0.9718, 0.9720000000000001, 0.9722000000000001, 0.9724, 0.9726, 0.9728, 0.9730000000000001, 0.9732000000000001, 0.9734, 0.9736, 0.9738, 0.9740000000000001, 0.9742000000000001, 0.9744, 0.9746, 0.9748, 0.9750000000000001, 0.9752000000000001, 0.9754, 0.9756, 0.9758, 0.9760000000000001, 0.9762000000000001, 0.9764, 0.9766, 0.9768, 0.9770000000000001, 0.9772000000000001, 0.9774, 0.9776, 0.9778, 0.9780000000000001, 0.9782000000000001, 0.9784, 0.9786, 0.9788, 0.9790000000000001, 0.9792000000000001, 0.9794, 0.9796, 0.9798, 0.9800000000000001, 0.9802000000000001, 0.9804, 0.9806, 0.9808, 0.9810000000000001, 0.9812000000000001, 0.9814, 0.9816, 0.9818, 0.9820000000000001, 0.9822000000000001, 0.9824, 0.9826, 0.9828, 0.9830000000000001, 0.9832000000000001, 0.9834, 0.9836, 0.9838, 0.9840000000000001, 0.9842000000000001, 0.9844, 0.9846, 0.9848, 0.9850000000000001, 0.9852000000000001, 0.9854, 0.9856, 0.9858, 0.9860000000000001, 0.9862000000000001, 0.9864, 0.9866, 0.9868, 0.9870000000000001, 0.9872000000000001, 0.9874, 0.9876, 0.9878, 0.9880000000000001, 0.9882000000000001, 0.9884000000000001, 0.9886, 0.9888, 0.9890000000000001, 0.9892000000000001, 0.9894000000000001, 0.9896, 0.9898, 0.9900000000000001, 0.9902000000000001, 0.9904000000000001, 0.9906, 0.9908, 0.991, 0.9912000000000001, 0.9914000000000001, 0.9916, 0.9918, 0.992, 0.9922000000000001, 0.9924000000000001, 0.9926, 0.9928, 0.993, 0.9932000000000001, 0.9934000000000001, 0.9936, 0.9938, 0.994, 0.9942000000000001, 0.9944000000000001, 0.9946, 0.9948, 0.995, 0.9952000000000001, 0.9954000000000001, 0.9956, 0.9958, 0.996, 0.9962000000000001, 0.9964000000000001, 0.9966, 0.9968, 0.997, 0.9972000000000001, 0.9974000000000001, 0.9976, 0.9978, 0.998, 0.9982000000000001, 0.9984000000000001, 0.9986, 0.9988, 0.999, 0.9992000000000001, 0.9994000000000001, 0.9996, 0.9998, 1.0, 1.0002, 1.0004, 1.0006000000000002, 1.0008000000000001, 1.0010000000000001, 1.0012, 1.0014, 1.0016, 1.0018, 1.002, 1.0022, 1.0024, 1.0026000000000002, 1.0028000000000001, 1.0030000000000001, 1.0032, 1.0034, 1.0036, 1.0038, 1.004, 1.0042, 1.0044, 1.0046, 1.0048000000000001, 1.0050000000000001, 1.0052, 1.0054, 1.0056, 1.0058, 1.006, 1.0062, 1.0064, 1.0066, 1.0068000000000001, 1.0070000000000001, 1.0072, 1.0074, 1.0076, 1.0078, 1.008, 1.0082, 1.0084, 1.0086, 1.0088000000000001, 1.0090000000000001, 1.0092, 1.0094, 1.0096, 1.0098, 1.01, 1.0102, 1.0104, 1.0106, 1.0108000000000001, 1.0110000000000001, 1.0112, 1.0114, 1.0116, 1.0118, 1.012, 1.0122, 1.0124, 1.0126, 1.0128000000000001, 1.0130000000000001, 1.0132, 1.0134, 1.0136, 1.0138, 1.014, 1.0142, 1.0144, 1.0146, 1.0148000000000001, 1.0150000000000001, 1.0152, 1.0154, 1.0156, 1.0158, 1.016, 1.0162, 1.0164, 1.0166, 1.0168000000000001, 1.0170000000000001, 1.0172, 1.0174, 1.0176, 1.0178, 1.018, 1.0182, 1.0184, 1.0186, 1.0188000000000001, 1.0190000000000001, 1.0192, 1.0194, 1.0196, 1.0198, 1.02, 1.0202, 1.0204, 1.0206, 1.0208000000000002, 1.0210000000000001, 1.0212, 1.0214, 1.0216, 1.0218, 1.022, 1.0222, 1.0224, 1.0226, 1.0228000000000002, 1.0230000000000001, 1.0232, 1.0234, 1.0236, 1.0238, 1.024, 1.0242, 1.0244, 1.0246, 1.0248000000000002, 1.0250000000000001, 1.0252000000000001, 1.0254, 1.0256, 1.0258, 1.026, 1.0262, 1.0264, 1.0266, 1.0268000000000002, 1.0270000000000001, 1.0272000000000001, 1.0274, 1.0276, 1.0278, 1.028, 1.0282, 1.0284, 1.0286, 1.0288000000000002, 1.0290000000000001, 1.0292000000000001, 1.0294, 1.0296, 1.0298, 1.03, 1.0302, 1.0304, 1.0306, 1.0308, 1.0310000000000001, 1.0312000000000001, 1.0314, 1.0316, 1.0318, 1.032, 1.0322, 1.0324, 1.0326, 1.0328, 1.0330000000000001, 1.0332000000000001, 1.0334, 1.0336, 1.0338, 1.034, 1.0342, 1.0344, 1.0346, 1.0348, 1.0350000000000001, 1.0352000000000001, 1.0354, 1.0356, 1.0358, 1.036, 1.0362, 1.0364, 1.0366, 1.0368, 1.0370000000000001, 1.0372000000000001, 1.0374, 1.0376, 1.0378, 1.038, 1.0382, 1.0384, 1.0386, 1.0388, 1.0390000000000001, 1.0392000000000001, 1.0394, 1.0396, 1.0398, 1.04, 1.0402, 1.0404, 1.0406, 1.0408, 1.0410000000000001, 1.0412000000000001, 1.0414, 1.0416, 1.0418, 1.042, 1.0422, 1.0424, 1.0426, 1.0428, 1.0430000000000001, 1.0432000000000001, 1.0434, 1.0436, 1.0438, 1.044, 1.0442, 1.0444, 1.0446, 1.0448, 1.0450000000000002, 1.0452000000000001, 1.0454, 1.0456, 1.0458, 1.046, 1.0462, 1.0464, 1.0466, 1.0468, 1.0470000000000002, 1.0472000000000001, 1.0474, 1.0476, 1.0478, 1.048, 1.0482, 1.0484, 1.0486, 1.0488, 1.0490000000000002, 1.0492000000000001, 1.0494, 1.0496, 1.0498, 1.05, 1.0502, 1.0504, 1.0506, 1.0508, 1.0510000000000002, 1.0512000000000001, 1.0514000000000001, 1.0516, 1.0518, 1.052, 1.0522, 1.0524, 1.0526, 1.0528, 1.0530000000000002, 1.0532000000000001, 1.0534000000000001, 1.0536, 1.0538, 1.054, 1.0542, 1.0544, 1.0546, 1.0548, 1.0550000000000002, 1.0552000000000001, 1.0554000000000001, 1.0556, 1.0558, 1.056, 1.0562, 1.0564, 1.0566, 1.0568, 1.0570000000000002, 1.0572000000000001, 1.0574000000000001, 1.0576, 1.0578, 1.058, 1.0582, 1.0584, 1.0586, 1.0588, 1.059, 1.0592000000000001, 1.0594000000000001, 1.0596, 1.0598, 1.06, 1.0602, 1.0604, 1.0606, 1.0608, 1.061, 1.0612000000000001, 1.0614000000000001, 1.0616, 1.0618, 1.062, 1.0622, 1.0624, 1.0626, 1.0628, 1.063, 1.0632000000000001, 1.0634000000000001, 1.0636, 1.0638, 1.064, 1.0642, 1.0644, 1.0646, 1.0648, 1.065, 1.0652000000000001, 1.0654000000000001, 1.0656, 1.0658, 1.066, 1.0662, 1.0664, 1.0666, 1.0668, 1.067, 1.0672000000000001, 1.0674000000000001, 1.0676, 1.0678, 1.068, 1.0682, 1.0684, 1.0686, 1.0688, 1.069, 1.0692000000000002, 1.0694000000000001, 1.0696, 1.0698, 1.07, 1.0702, 1.0704, 1.0706, 1.0708, 1.071, 1.0712000000000002, 1.0714000000000001, 1.0716, 1.0718, 1.072, 1.0722, 1.0724, 1.0726, 1.0728, 1.073, 1.0732000000000002, 1.0734000000000001, 1.0736, 1.0738, 1.074, 1.0742, 1.0744, 1.0746, 1.0748, 1.075, 1.0752000000000002, 1.0754000000000001, 1.0756000000000001, 1.0758, 1.076, 1.0762, 1.0764, 1.0766, 1.0768, 1.077, 1.0772000000000002, 1.0774000000000001, 1.0776000000000001, 1.0778, 1.078, 1.0782, 1.0784, 1.0786, 1.0788, 1.079, 1.0792000000000002, 1.0794000000000001, 1.0796000000000001, 1.0798, 1.08, 1.0802, 1.0804, 1.0806, 1.0808, 1.081, 1.0812000000000002, 1.0814000000000001, 1.0816000000000001, 1.0818, 1.082, 1.0822, 1.0824, 1.0826, 1.0828, 1.083, 1.0832000000000002, 1.0834000000000001, 1.0836000000000001, 1.0838, 1.084, 1.0842, 1.0844, 1.0846, 1.0848, 1.085, 1.0852, 1.0854000000000001, 1.0856000000000001, 1.0858, 1.086, 1.0862, 1.0864, 1.0866, 1.0868, 1.087, 1.0872, 1.0874000000000001, 1.0876000000000001, 1.0878, 1.088, 1.0882, 1.0884, 1.0886, 1.0888, 1.089, 1.0892, 1.0894000000000001, 1.0896000000000001, 1.0898, 1.09, 1.0902, 1.0904, 1.0906, 1.0908, 1.091, 1.0912, 1.0914000000000001, 1.0916000000000001, 1.0918, 1.092, 1.0922, 1.0924, 1.0926, 1.0928, 1.093, 1.0932, 1.0934000000000001, 1.0936000000000001, 1.0938, 1.094, 1.0942, 1.0944, 1.0946, 1.0948, 1.095, 1.0952, 1.0954000000000002, 1.0956000000000001, 1.0958, 1.096, 1.0962, 1.0964, 1.0966, 1.0968, 1.097, 1.0972, 1.0974000000000002, 1.0976000000000001, 1.0978, 1.098, 1.0982, 1.0984, 1.0986, 1.0988, 1.099, 1.0992, 1.0994000000000002, 1.0996000000000001, 1.0998, 1.1, 1.1002, 1.1004, 1.1006, 1.1008, 1.101, 1.1012, 1.1014000000000002, 1.1016000000000001, 1.1018000000000001, 1.102, 1.1022, 1.1024, 1.1026, 1.1028, 1.103, 1.1032, 1.1034000000000002, 1.1036000000000001, 1.1038000000000001, 1.104, 1.1042, 1.1044, 1.1046, 1.1048, 1.105, 1.1052, 1.1054000000000002, 1.1056000000000001, 1.1058000000000001, 1.106, 1.1062, 1.1064, 1.1066, 1.1068, 1.107, 1.1072, 1.1074000000000002, 1.1076000000000001, 1.1078000000000001, 1.108, 1.1082, 1.1084, 1.1086, 1.1088, 1.109, 1.1092, 1.1094000000000002, 1.1096000000000001, 1.1098000000000001, 1.11, 1.1102, 1.1104, 1.1106, 1.1108, 1.111, 1.1112, 1.1114, 1.1116000000000001, 1.1118000000000001, 1.112, 1.1122, 1.1124, 1.1126, 1.1128, 1.113, 1.1132, 1.1134, 1.1136000000000001, 1.1138000000000001, 1.114, 1.1142, 1.1144, 1.1146, 1.1148, 1.115, 1.1152, 1.1154, 1.1156000000000001, 1.1158000000000001, 1.116, 1.1162, 1.1164, 1.1166, 1.1168, 1.117, 1.1172, 1.1174, 1.1176000000000001, 1.1178000000000001, 1.118, 1.1182, 1.1184, 1.1186, 1.1188, 1.119, 1.1192, 1.1194, 1.1196000000000002, 1.1198000000000001, 1.12, 1.1202, 1.1204, 1.1206, 1.1208, 1.121, 1.1212, 1.1214, 1.1216000000000002, 1.1218000000000001, 1.122, 1.1222, 1.1224, 1.1226, 1.1228, 1.123, 1.1232, 1.1234, 1.1236000000000002, 1.1238000000000001, 1.124, 1.1242, 1.1244, 1.1246, 1.1248, 1.125, 1.1252, 1.1254, 1.1256000000000002, 1.1258000000000001, 1.1260000000000001, 1.1262, 1.1264, 1.1266, 1.1268, 1.127, 1.1272, 1.1274, 1.1276000000000002, 1.1278000000000001, 1.1280000000000001, 1.1282, 1.1284, 1.1286, 1.1288, 1.129, 1.1292, 1.1294, 1.1296000000000002, 1.1298000000000001, 1.1300000000000001, 1.1302, 1.1304, 1.1306, 1.1308, 1.131, 1.1312, 1.1314, 1.1316000000000002, 1.1318000000000001, 1.1320000000000001, 1.1322, 1.1324, 1.1326, 1.1328, 1.133, 1.1332, 1.1334, 1.1336000000000002, 1.1338000000000001, 1.1340000000000001, 1.1342, 1.1344, 1.1346, 1.1348, 1.135, 1.1352, 1.1354, 1.1356000000000002, 1.1358000000000001, 1.1360000000000001, 1.1362, 1.1364, 1.1366, 1.1368, 1.137, 1.1372, 1.1374, 1.1376, 1.1378000000000001, 1.1380000000000001, 1.1382, 1.1384, 1.1386, 1.1388, 1.139, 1.1392, 1.1394, 1.1396, 1.1398000000000001, 1.1400000000000001, 1.1402, 1.1404, 1.1406, 1.1408, 1.141, 1.1412, 1.1414, 1.1416, 1.1418000000000001, 1.1420000000000001, 1.1422, 1.1424, 1.1426, 1.1428, 1.143, 1.1432, 1.1434, 1.1436, 1.1438000000000001, 1.1440000000000001, 1.1442, 1.1444, 1.1446, 1.1448, 1.145, 1.1452, 1.1454, 1.1456, 1.1458000000000002, 1.1460000000000001, 1.1462, 1.1464, 1.1466, 1.1468, 1.147, 1.1472, 1.1474, 1.1476, 1.1478000000000002, 1.1480000000000001, 1.1482, 1.1484, 1.1486, 1.1488, 1.149, 1.1492, 1.1494, 1.1496, 1.1498000000000002, 1.1500000000000001, 1.1502000000000001, 1.1504, 1.1506, 1.1508, 1.151, 1.1512, 1.1514, 1.1516, 1.1518000000000002, 1.1520000000000001, 1.1522000000000001, 1.1524, 1.1526, 1.1528, 1.153, 1.1532, 1.1534, 1.1536, 1.1538000000000002, 1.1540000000000001, 1.1542000000000001, 1.1544, 1.1546, 1.1548, 1.155, 1.1552, 1.1554, 1.1556, 1.1558000000000002, 1.1560000000000001, 1.1562000000000001, 1.1564, 1.1566, 1.1568, 1.157, 1.1572, 1.1574, 1.1576, 1.1578000000000002, 1.1580000000000001, 1.1582000000000001, 1.1584, 1.1586, 1.1588, 1.159, 1.1592, 1.1594, 1.1596, 1.1598000000000002, 1.1600000000000001, 1.1602000000000001, 1.1604, 1.1606, 1.1608, 1.161, 1.1612, 1.1614, 1.1616, 1.1618000000000002, 1.1620000000000001, 1.1622000000000001, 1.1624, 1.1626, 1.1628, 1.163, 1.1632, 1.1634, 1.1636, 1.1638, 1.1640000000000001, 1.1642000000000001, 1.1644, 1.1646, 1.1648, 1.165, 1.1652, 1.1654, 1.1656, 1.1658, 1.1660000000000001, 1.1662000000000001, 1.1664, 1.1666, 1.1668, 1.167, 1.1672, 1.1674, 1.1676, 1.1678, 1.1680000000000001, 1.1682000000000001, 1.1684, 1.1686, 1.1688, 1.169, 1.1692, 1.1694, 1.1696, 1.1698, 1.1700000000000002, 1.1702000000000001, 1.1704, 1.1706, 1.1708, 1.171, 1.1712, 1.1714, 1.1716, 1.1718, 1.1720000000000002, 1.1722000000000001, 1.1724, 1.1726, 1.1728, 1.173, 1.1732, 1.1734, 1.1736, 1.1738, 1.1740000000000002, 1.1742000000000001, 1.1744, 1.1746, 1.1748, 1.175, 1.1752, 1.1754, 1.1756, 1.1758, 1.1760000000000002, 1.1762000000000001, 1.1764000000000001, 1.1766, 1.1768, 1.177, 1.1772, 1.1774, 1.1776, 1.1778, 1.1780000000000002, 1.1782000000000001, 1.1784000000000001, 1.1786, 1.1788, 1.179, 1.1792, 1.1794, 1.1796, 1.1798, 1.1800000000000002, 1.1802000000000001, 1.1804000000000001, 1.1806, 1.1808, 1.181, 1.1812, 1.1814, 1.1816, 1.1818, 1.1820000000000002, 1.1822000000000001, 1.1824000000000001, 1.1826, 1.1828, 1.183, 1.1832, 1.1834, 1.1836, 1.1838, 1.1840000000000002, 1.1842000000000001, 1.1844000000000001, 1.1846, 1.1848, 1.185, 1.1852, 1.1854, 1.1856, 1.1858, 1.1860000000000002, 1.1862000000000001, 1.1864000000000001, 1.1866, 1.1868, 1.187, 1.1872, 1.1874, 1.1876, 1.1878, 1.1880000000000002, 1.1882000000000001, 1.1884000000000001, 1.1886, 1.1888, 1.189, 1.1892, 1.1894, 1.1896, 1.1898, 1.19, 1.1902000000000001, 1.1904000000000001, 1.1906, 1.1908, 1.191, 1.1912, 1.1914, 1.1916, 1.1918, 1.192, 1.1922000000000001, 1.1924000000000001, 1.1926, 1.1928, 1.193, 1.1932, 1.1934, 1.1936, 1.1938, 1.194, 1.1942000000000002, 1.1944000000000001, 1.1946, 1.1948, 1.195, 1.1952, 1.1954, 1.1956, 1.1958, 1.196, 1.1962000000000002, 1.1964000000000001, 1.1966, 1.1968, 1.197, 1.1972, 1.1974, 1.1976, 1.1978, 1.198, 1.1982000000000002, 1.1984000000000001, 1.1986, 1.1988, 1.199, 1.1992, 1.1994, 1.1996, 1.1998, 1.2, 1.2002000000000002, 1.2004000000000001, 1.2006000000000001, 1.2008, 1.201, 1.2012, 1.2014, 1.2016, 1.2018, 1.202, 1.2022000000000002, 1.2024000000000001, 1.2026000000000001, 1.2028, 1.203, 1.2032, 1.2034, 1.2036, 1.2038, 1.204, 1.2042000000000002, 1.2044000000000001, 1.2046000000000001, 1.2048, 1.205, 1.2052, 1.2054, 1.2056, 1.2058, 1.206, 1.2062000000000002, 1.2064000000000001, 1.2066000000000001, 1.2068, 1.207, 1.2072, 1.2074, 1.2076, 1.2078, 1.208, 1.2082000000000002, 1.2084000000000001, 1.2086000000000001, 1.2088, 1.209, 1.2092, 1.2094, 1.2096, 1.2098, 1.21, 1.2102000000000002, 1.2104000000000001, 1.2106000000000001, 1.2108, 1.211, 1.2112, 1.2114, 1.2116, 1.2118, 1.212, 1.2122000000000002, 1.2124000000000001, 1.2126000000000001, 1.2128, 1.213, 1.2132, 1.2134, 1.2136, 1.2138, 1.214, 1.2142000000000002, 1.2144000000000001, 1.2146000000000001, 1.2148, 1.215, 1.2152, 1.2154, 1.2156, 1.2158, 1.216, 1.2162, 1.2164000000000001, 1.2166000000000001, 1.2168, 1.217, 1.2172, 1.2174, 1.2176, 1.2178, 1.218, 1.2182, 1.2184000000000001, 1.2186000000000001, 1.2188, 1.219, 1.2192, 1.2194, 1.2196, 1.2198, 1.22, 1.2202, 1.2204000000000002, 1.2206000000000001, 1.2208, 1.221, 1.2212, 1.2214, 1.2216, 1.2218, 1.222, 1.2222, 1.2224000000000002, 1.2226000000000001, 1.2228, 1.223, 1.2232, 1.2234, 1.2236, 1.2238, 1.224, 1.2242, 1.2244000000000002, 1.2246000000000001, 1.2248, 1.225, 1.2252, 1.2254, 1.2256, 1.2258, 1.226, 1.2262, 1.2264000000000002, 1.2266000000000001, 1.2268000000000001, 1.227, 1.2272, 1.2274, 1.2276, 1.2278, 1.228, 1.2282, 1.2284000000000002, 1.2286000000000001, 1.2288000000000001, 1.229, 1.2292, 1.2294, 1.2296, 1.2298, 1.23, 1.2302, 1.2304000000000002, 1.2306000000000001, 1.2308000000000001, 1.231, 1.2312, 1.2314, 1.2316, 1.2318, 1.232, 1.2322, 1.2324000000000002, 1.2326000000000001, 1.2328000000000001, 1.233, 1.2332, 1.2334, 1.2336, 1.2338, 1.234, 1.2342, 1.2344000000000002, 1.2346000000000001, 1.2348000000000001, 1.235, 1.2352, 1.2354, 1.2356, 1.2358, 1.236, 1.2362, 1.2364000000000002, 1.2366000000000001, 1.2368000000000001, 1.237, 1.2372, 1.2374, 1.2376, 1.2378, 1.238, 1.2382, 1.2384000000000002, 1.2386000000000001, 1.2388000000000001, 1.239, 1.2392, 1.2394, 1.2396, 1.2398, 1.24, 1.2402, 1.2404000000000002, 1.2406000000000001, 1.2408000000000001, 1.241, 1.2412, 1.2414, 1.2416, 1.2418, 1.242, 1.2422, 1.2424, 1.2426000000000001, 1.2428000000000001, 1.243, 1.2432, 1.2434, 1.2436, 1.2438, 1.244, 1.2442, 1.2444, 1.2446000000000002, 1.2448000000000001, 1.245, 1.2452, 1.2454, 1.2456, 1.2458, 1.246, 1.2462, 1.2464, 1.2466000000000002, 1.2468000000000001, 1.247, 1.2472, 1.2474, 1.2476, 1.2478, 1.248, 1.2482, 1.2484, 1.2486000000000002, 1.2488000000000001, 1.249, 1.2492, 1.2494, 1.2496, 1.2498, 1.25, 1.2502, 1.2504, 1.2506000000000002, 1.2508000000000001, 1.2510000000000001, 1.2512, 1.2514, 1.2516, 1.2518, 1.252, 1.2522, 1.2524, 1.2526000000000002, 1.2528000000000001, 1.2530000000000001, 1.2532, 1.2534, 1.2536, 1.2538, 1.254, 1.2542, 1.2544, 1.2546000000000002, 1.2548000000000001, 1.2550000000000001, 1.2552, 1.2554, 1.2556, 1.2558, 1.256, 1.2562, 1.2564, 1.2566000000000002, 1.2568000000000001, 1.2570000000000001, 1.2572, 1.2574, 1.2576, 1.2578, 1.258, 1.2582, 1.2584, 1.2586000000000002, 1.2588000000000001, 1.2590000000000001, 1.2592, 1.2594, 1.2596, 1.2598, 1.26, 1.2602, 1.2604, 1.2606000000000002, 1.2608000000000001, 1.2610000000000001, 1.2612, 1.2614, 1.2616, 1.2618, 1.262, 1.2622, 1.2624, 1.2626000000000002, 1.2628000000000001, 1.2630000000000001, 1.2632, 1.2634, 1.2636, 1.2638, 1.264, 1.2642, 1.2644, 1.2646000000000002, 1.2648000000000001, 1.2650000000000001, 1.2652, 1.2654, 1.2656, 1.2658, 1.266, 1.2662, 1.2664, 1.2666000000000002, 1.2668000000000001, 1.2670000000000001, 1.2672, 1.2674, 1.2676, 1.2678, 1.268, 1.2682, 1.2684, 1.2686, 1.2688000000000001, 1.2690000000000001, 1.2692, 1.2694, 1.2696, 1.2698, 1.27, 1.2702, 1.2704, 1.2706, 1.2708000000000002, 1.2710000000000001, 1.2712, 1.2714, 1.2716, 1.2718, 1.272, 1.2722, 1.2724, 1.2726, 1.2728000000000002, 1.2730000000000001, 1.2732, 1.2734, 1.2736, 1.2738, 1.274, 1.2742, 1.2744, 1.2746, 1.2748000000000002, 1.2750000000000001, 1.2752000000000001, 1.2754, 1.2756, 1.2758, 1.276, 1.2762, 1.2764, 1.2766, 1.2768000000000002, 1.2770000000000001, 1.2772000000000001, 1.2774, 1.2776, 1.2778, 1.278, 1.2782, 1.2784, 1.2786, 1.2788000000000002, 1.2790000000000001, 1.2792000000000001, 1.2794, 1.2796, 1.2798, 1.28, 1.2802, 1.2804, 1.2806, 1.2808000000000002, 1.2810000000000001, 1.2812000000000001, 1.2814, 1.2816, 1.2818, 1.282, 1.2822, 1.2824, 1.2826, 1.2828000000000002, 1.2830000000000001, 1.2832000000000001, 1.2834, 1.2836, 1.2838, 1.284, 1.2842, 1.2844, 1.2846, 1.2848000000000002, 1.2850000000000001, 1.2852000000000001, 1.2854, 1.2856, 1.2858, 1.286, 1.2862, 1.2864, 1.2866, 1.2868000000000002, 1.2870000000000001, 1.2872000000000001, 1.2874, 1.2876, 1.2878, 1.288, 1.2882, 1.2884, 1.2886, 1.2888000000000002, 1.2890000000000001, 1.2892000000000001, 1.2894, 1.2896, 1.2898, 1.29, 1.2902, 1.2904, 1.2906, 1.2908000000000002, 1.2910000000000001, 1.2912000000000001, 1.2914, 1.2916, 1.2918, 1.292, 1.2922, 1.2924, 1.2926, 1.2928000000000002, 1.2930000000000001, 1.2932000000000001, 1.2934, 1.2936, 1.2938, 1.294, 1.2942, 1.2944, 1.2946, 1.2948000000000002, 1.2950000000000002, 1.2952000000000001, 1.2954, 1.2956, 1.2958, 1.296, 1.2962, 1.2964, 1.2966, 1.2968, 1.2970000000000002, 1.2972000000000001, 1.2974, 1.2976, 1.2978, 1.298, 1.2982, 1.2984, 1.2986, 1.2988, 1.2990000000000002, 1.2992000000000001, 1.2994, 1.2996, 1.2998, 1.3, 1.3002, 1.3004, 1.3006, 1.3008, 1.3010000000000002, 1.3012000000000001, 1.3014000000000001, 1.3016, 1.3018, 1.302, 1.3022, 1.3024, 1.3026, 1.3028, 1.3030000000000002, 1.3032000000000001, 1.3034000000000001, 1.3036, 1.3038, 1.304, 1.3042, 1.3044, 1.3046, 1.3048, 1.3050000000000002, 1.3052000000000001, 1.3054000000000001, 1.3056, 1.3058, 1.306, 1.3062, 1.3064, 1.3066, 1.3068, 1.3070000000000002, 1.3072000000000001, 1.3074000000000001, 1.3076, 1.3078, 1.308, 1.3082, 1.3084, 1.3086, 1.3088, 1.3090000000000002, 1.3092000000000001, 1.3094000000000001, 1.3096, 1.3098, 1.31, 1.3102, 1.3104, 1.3106, 1.3108, 1.3110000000000002, 1.3112000000000001, 1.3114000000000001, 1.3116, 1.3118, 1.312, 1.3122, 1.3124, 1.3126, 1.3128, 1.3130000000000002, 1.3132000000000001, 1.3134000000000001, 1.3136, 1.3138, 1.314, 1.3142, 1.3144, 1.3146, 1.3148, 1.3150000000000002, 1.3152000000000001, 1.3154000000000001, 1.3156, 1.3158, 1.316, 1.3162, 1.3164, 1.3166, 1.3168, 1.3170000000000002, 1.3172000000000001, 1.3174000000000001, 1.3176, 1.3178, 1.318, 1.3182, 1.3184, 1.3186, 1.3188, 1.3190000000000002, 1.3192000000000002, 1.3194000000000001, 1.3196, 1.3198, 1.32, 1.3202, 1.3204, 1.3206, 1.3208, 1.3210000000000002, 1.3212000000000002, 1.3214000000000001, 1.3216, 1.3218, 1.322, 1.3222, 1.3224, 1.3226, 1.3228, 1.323, 1.3232000000000002, 1.3234000000000001, 1.3236, 1.3238, 1.324, 1.3242, 1.3244, 1.3246, 1.3248, 1.325, 1.3252000000000002, 1.3254000000000001, 1.3256000000000001, 1.3258, 1.326, 1.3262, 1.3264, 1.3266, 1.3268, 1.327, 1.3272000000000002, 1.3274000000000001, 1.3276000000000001, 1.3278, 1.328, 1.3282, 1.3284, 1.3286, 1.3288, 1.329, 1.3292000000000002, 1.3294000000000001, 1.3296000000000001, 1.3298, 1.33, 1.3302, 1.3304, 1.3306, 1.3308, 1.331, 1.3312000000000002, 1.3314000000000001, 1.3316000000000001, 1.3318, 1.332, 1.3322, 1.3324, 1.3326, 1.3328, 1.333, 1.3332000000000002, 1.3334000000000001, 1.3336000000000001, 1.3338, 1.334, 1.3342, 1.3344, 1.3346, 1.3348, 1.335, 1.3352000000000002, 1.3354000000000001, 1.3356000000000001, 1.3358, 1.336, 1.3362, 1.3364, 1.3366, 1.3368, 1.337, 1.3372000000000002, 1.3374000000000001, 1.3376000000000001, 1.3378, 1.338, 1.3382, 1.3384, 1.3386, 1.3388, 1.339, 1.3392000000000002, 1.3394000000000001, 1.3396000000000001, 1.3398, 1.34, 1.3402, 1.3404, 1.3406, 1.3408, 1.341, 1.3412000000000002, 1.3414000000000001, 1.3416000000000001, 1.3418, 1.342, 1.3422, 1.3424, 1.3426, 1.3428, 1.343, 1.3432000000000002, 1.3434000000000001, 1.3436000000000001, 1.3438, 1.344, 1.3442, 1.3444, 1.3446, 1.3448, 1.345, 1.3452000000000002, 1.3454000000000002, 1.3456000000000001, 1.3458, 1.346, 1.3462, 1.3464, 1.3466, 1.3468, 1.347, 1.3472000000000002, 1.3474000000000002, 1.3476000000000001, 1.3478, 1.348, 1.3482, 1.3484, 1.3486, 1.3488, 1.349, 1.3492, 1.3494000000000002, 1.3496000000000001, 1.3498, 1.35, 1.3502, 1.3504, 1.3506, 1.3508, 1.351, 1.3512, 1.3514000000000002, 1.3516000000000001, 1.3518000000000001, 1.352, 1.3522, 1.3524, 1.3526, 1.3528, 1.353, 1.3532, 1.3534000000000002, 1.3536000000000001, 1.3538000000000001, 1.354, 1.3542, 1.3544, 1.3546, 1.3548, 1.355, 1.3552, 1.3554000000000002, 1.3556000000000001, 1.3558000000000001, 1.356, 1.3562, 1.3564, 1.3566, 1.3568, 1.357, 1.3572, 1.3574000000000002, 1.3576000000000001, 1.3578000000000001, 1.358, 1.3582, 1.3584, 1.3586, 1.3588, 1.359, 1.3592, 1.3594000000000002, 1.3596000000000001, 1.3598000000000001, 1.36, 1.3602, 1.3604, 1.3606, 1.3608, 1.361, 1.3612, 1.3614000000000002, 1.3616000000000001, 1.3618000000000001, 1.362, 1.3622, 1.3624, 1.3626, 1.3628, 1.363, 1.3632, 1.3634000000000002, 1.3636000000000001, 1.3638000000000001, 1.364, 1.3642, 1.3644, 1.3646, 1.3648, 1.365, 1.3652, 1.3654000000000002, 1.3656000000000001, 1.3658000000000001, 1.366, 1.3662, 1.3664, 1.3666, 1.3668, 1.367, 1.3672, 1.3674000000000002, 1.3676000000000001, 1.3678000000000001, 1.368, 1.3682, 1.3684, 1.3686, 1.3688, 1.369, 1.3692, 1.3694000000000002, 1.3696000000000002, 1.3698000000000001, 1.37, 1.3702, 1.3704, 1.3706, 1.3708, 1.371, 1.3712, 1.3714000000000002, 1.3716000000000002, 1.3718000000000001, 1.372, 1.3722, 1.3724, 1.3726, 1.3728, 1.373, 1.3732, 1.3734000000000002, 1.3736000000000002, 1.3738000000000001, 1.374, 1.3742, 1.3744, 1.3746, 1.3748, 1.375, 1.3752, 1.3754, 1.3756000000000002, 1.3758000000000001, 1.3760000000000001, 1.3762, 1.3764, 1.3766, 1.3768, 1.377, 1.3772, 1.3774, 1.3776000000000002, 1.3778000000000001, 1.3780000000000001, 1.3782, 1.3784, 1.3786, 1.3788, 1.379, 1.3792, 1.3794, 1.3796000000000002, 1.3798000000000001, 1.3800000000000001, 1.3802, 1.3804, 1.3806, 1.3808, 1.381, 1.3812, 1.3814, 1.3816000000000002, 1.3818000000000001, 1.3820000000000001, 1.3822, 1.3824, 1.3826, 1.3828, 1.383, 1.3832, 1.3834, 1.3836000000000002, 1.3838000000000001, 1.3840000000000001, 1.3842, 1.3844, 1.3846, 1.3848, 1.385, 1.3852, 1.3854, 1.3856000000000002, 1.3858000000000001, 1.3860000000000001, 1.3862, 1.3864, 1.3866, 1.3868, 1.387, 1.3872, 1.3874, 1.3876000000000002, 1.3878000000000001, 1.3880000000000001, 1.3882, 1.3884, 1.3886, 1.3888, 1.389, 1.3892, 1.3894, 1.3896000000000002, 1.3898000000000001, 1.3900000000000001, 1.3902, 1.3904, 1.3906, 1.3908, 1.391, 1.3912, 1.3914, 1.3916000000000002, 1.3918000000000001, 1.3920000000000001, 1.3922, 1.3924, 1.3926, 1.3928, 1.393, 1.3932, 1.3934, 1.3936000000000002, 1.3938000000000001, 1.3940000000000001, 1.3942, 1.3944, 1.3946, 1.3948, 1.395, 1.3952, 1.3954, 1.3956000000000002, 1.3958000000000002, 1.3960000000000001, 1.3962, 1.3964, 1.3966, 1.3968, 1.397, 1.3972, 1.3974, 1.3976000000000002, 1.3978000000000002, 1.3980000000000001, 1.3982, 1.3984, 1.3986, 1.3988, 1.399, 1.3992, 1.3994, 1.3996000000000002, 1.3998000000000002, 1.4000000000000001, 1.4002000000000001, 1.4004, 1.4006, 1.4008, 1.401, 1.4012, 1.4014, 1.4016, 1.4018000000000002, 1.4020000000000001, 1.4022000000000001, 1.4024, 1.4026, 1.4028, 1.403, 1.4032, 1.4034, 1.4036, 1.4038000000000002, 1.4040000000000001, 1.4042000000000001, 1.4044, 1.4046, 1.4048, 1.405, 1.4052, 1.4054, 1.4056, 1.4058000000000002, 1.4060000000000001, 1.4062000000000001, 1.4064, 1.4066, 1.4068, 1.407, 1.4072, 1.4074, 1.4076, 1.4078000000000002, 1.4080000000000001, 1.4082000000000001, 1.4084, 1.4086, 1.4088, 1.409, 1.4092, 1.4094, 1.4096, 1.4098000000000002, 1.4100000000000001, 1.4102000000000001, 1.4104, 1.4106, 1.4108, 1.411, 1.4112, 1.4114, 1.4116, 1.4118000000000002, 1.4120000000000001, 1.4122000000000001, 1.4124, 1.4126, 1.4128, 1.413, 1.4132, 1.4134, 1.4136, 1.4138000000000002, 1.4140000000000001, 1.4142000000000001, 1.4144, 1.4146, 1.4148, 1.415, 1.4152, 1.4154, 1.4156, 1.4158000000000002, 1.4160000000000001, 1.4162000000000001, 1.4164, 1.4166, 1.4168, 1.417, 1.4172, 1.4174, 1.4176, 1.4178000000000002, 1.4180000000000001, 1.4182000000000001, 1.4184, 1.4186, 1.4188, 1.419, 1.4192, 1.4194, 1.4196, 1.4198000000000002, 1.4200000000000002, 1.4202000000000001, 1.4204, 1.4206, 1.4208, 1.421, 1.4212, 1.4214, 1.4216, 1.4218000000000002, 1.4220000000000002, 1.4222000000000001, 1.4224, 1.4226, 1.4228, 1.423, 1.4232, 1.4234, 1.4236, 1.4238000000000002, 1.4240000000000002, 1.4242000000000001, 1.4244, 1.4246, 1.4248, 1.425, 1.4252, 1.4254, 1.4256, 1.4258000000000002, 1.4260000000000002, 1.4262000000000001, 1.4264000000000001, 1.4266, 1.4268, 1.427, 1.4272, 1.4274, 1.4276, 1.4278, 1.4280000000000002, 1.4282000000000001, 1.4284000000000001, 1.4286, 1.4288, 1.429, 1.4292, 1.4294, 1.4296, 1.4298, 1.4300000000000002, 1.4302000000000001, 1.4304000000000001, 1.4306, 1.4308, 1.431, 1.4312, 1.4314, 1.4316, 1.4318, 1.4320000000000002, 1.4322000000000001, 1.4324000000000001, 1.4326, 1.4328, 1.433, 1.4332, 1.4334, 1.4336, 1.4338, 1.4340000000000002, 1.4342000000000001, 1.4344000000000001, 1.4346, 1.4348, 1.435, 1.4352, 1.4354, 1.4356, 1.4358, 1.4360000000000002, 1.4362000000000001, 1.4364000000000001, 1.4366, 1.4368, 1.437, 1.4372, 1.4374, 1.4376, 1.4378, 1.4380000000000002, 1.4382000000000001, 1.4384000000000001, 1.4386, 1.4388, 1.439, 1.4392, 1.4394, 1.4396, 1.4398, 1.4400000000000002, 1.4402000000000001, 1.4404000000000001, 1.4406, 1.4408, 1.441, 1.4412, 1.4414, 1.4416, 1.4418, 1.4420000000000002, 1.4422000000000001, 1.4424000000000001, 1.4426, 1.4428, 1.443, 1.4432, 1.4434, 1.4436, 1.4438, 1.4440000000000002, 1.4442000000000002, 1.4444000000000001, 1.4446, 1.4448, 1.445, 1.4452, 1.4454, 1.4456, 1.4458, 1.4460000000000002, 1.4462000000000002, 1.4464000000000001, 1.4466, 1.4468, 1.447, 1.4472, 1.4474, 1.4476, 1.4478, 1.4480000000000002, 1.4482000000000002, 1.4484000000000001, 1.4486, 1.4488, 1.449, 1.4492, 1.4494, 1.4496, 1.4498, 1.4500000000000002, 1.4502000000000002, 1.4504000000000001, 1.4506000000000001, 1.4508, 1.451, 1.4512, 1.4514, 1.4516, 1.4518, 1.4520000000000002, 1.4522000000000002, 1.4524000000000001, 1.4526000000000001, 1.4528, 1.453, 1.4532, 1.4534, 1.4536, 1.4538, 1.454, 1.4542000000000002, 1.4544000000000001, 1.4546000000000001, 1.4548, 1.455, 1.4552, 1.4554, 1.4556, 1.4558, 1.456, 1.4562000000000002, 1.4564000000000001, 1.4566000000000001, 1.4568, 1.457, 1.4572, 1.4574, 1.4576, 1.4578, 1.458, 1.4582000000000002, 1.4584000000000001, 1.4586000000000001, 1.4588, 1.459, 1.4592, 1.4594, 1.4596, 1.4598, 1.46, 1.4602000000000002, 1.4604000000000001, 1.4606000000000001, 1.4608, 1.461, 1.4612, 1.4614, 1.4616, 1.4618, 1.462, 1.4622000000000002, 1.4624000000000001, 1.4626000000000001, 1.4628, 1.463, 1.4632, 1.4634, 1.4636, 1.4638, 1.464, 1.4642000000000002, 1.4644000000000001, 1.4646000000000001, 1.4648, 1.465, 1.4652, 1.4654, 1.4656, 1.4658, 1.466, 1.4662000000000002, 1.4664000000000001, 1.4666000000000001, 1.4668, 1.467, 1.4672, 1.4674, 1.4676, 1.4678, 1.468, 1.4682000000000002, 1.4684000000000001, 1.4686000000000001, 1.4688, 1.469, 1.4692, 1.4694, 1.4696, 1.4698, 1.47, 1.4702000000000002, 1.4704000000000002, 1.4706000000000001, 1.4708, 1.471, 1.4712, 1.4714, 1.4716, 1.4718, 1.472, 1.4722000000000002, 1.4724000000000002, 1.4726000000000001, 1.4728, 1.473, 1.4732, 1.4734, 1.4736, 1.4738, 1.474, 1.4742000000000002, 1.4744000000000002, 1.4746000000000001, 1.4748, 1.475, 1.4752, 1.4754, 1.4756, 1.4758, 1.476, 1.4762000000000002, 1.4764000000000002, 1.4766000000000001, 1.4768000000000001, 1.477, 1.4772, 1.4774, 1.4776, 1.4778, 1.478, 1.4782000000000002, 1.4784000000000002, 1.4786000000000001, 1.4788000000000001, 1.479, 1.4792, 1.4794, 1.4796, 1.4798, 1.48, 1.4802, 1.4804000000000002, 1.4806000000000001, 1.4808000000000001, 1.481, 1.4812, 1.4814, 1.4816, 1.4818, 1.482, 1.4822, 1.4824000000000002, 1.4826000000000001, 1.4828000000000001, 1.483, 1.4832, 1.4834, 1.4836, 1.4838, 1.484, 1.4842, 1.4844000000000002, 1.4846000000000001, 1.4848000000000001, 1.485, 1.4852, 1.4854, 1.4856, 1.4858, 1.486, 1.4862, 1.4864000000000002, 1.4866000000000001, 1.4868000000000001, 1.487, 1.4872, 1.4874, 1.4876, 1.4878, 1.488, 1.4882, 1.4884000000000002, 1.4886000000000001, 1.4888000000000001, 1.489, 1.4892, 1.4894, 1.4896, 1.4898, 1.49, 1.4902, 1.4904000000000002, 1.4906000000000001, 1.4908000000000001, 1.491, 1.4912, 1.4914, 1.4916, 1.4918, 1.492, 1.4922, 1.4924000000000002, 1.4926000000000001, 1.4928000000000001, 1.493, 1.4932, 1.4934, 1.4936, 1.4938, 1.494, 1.4942, 1.4944000000000002, 1.4946000000000002, 1.4948000000000001, 1.495, 1.4952, 1.4954, 1.4956, 1.4958, 1.496, 1.4962, 1.4964000000000002, 1.4966000000000002, 1.4968000000000001, 1.497, 1.4972, 1.4974, 1.4976, 1.4978, 1.498, 1.4982, 1.4984000000000002, 1.4986000000000002, 1.4988000000000001, 1.499, 1.4992, 1.4994, 1.4996, 1.4998, 1.5, 1.5002, 1.5004000000000002, 1.5006000000000002, 1.5008000000000001, 1.5010000000000001, 1.5012, 1.5014, 1.5016, 1.5018, 1.502, 1.5022, 1.5024000000000002, 1.5026000000000002, 1.5028000000000001, 1.5030000000000001, 1.5032, 1.5034, 1.5036, 1.5038, 1.504, 1.5042, 1.5044000000000002, 1.5046000000000002, 1.5048000000000001, 1.5050000000000001, 1.5052, 1.5054, 1.5056, 1.5058, 1.506, 1.5062, 1.5064, 1.5066000000000002, 1.5068000000000001, 1.5070000000000001, 1.5072, 1.5074, 1.5076, 1.5078, 1.508, 1.5082, 1.5084, 1.5086000000000002, 1.5088000000000001, 1.5090000000000001, 1.5092, 1.5094, 1.5096, 1.5098, 1.51, 1.5102, 1.5104, 1.5106000000000002, 1.5108000000000001, 1.5110000000000001, 1.5112, 1.5114, 1.5116, 1.5118, 1.512, 1.5122, 1.5124, 1.5126000000000002, 1.5128000000000001, 1.5130000000000001, 1.5132, 1.5134, 1.5136, 1.5138, 1.514, 1.5142, 1.5144, 1.5146000000000002, 1.5148000000000001, 1.5150000000000001, 1.5152, 1.5154, 1.5156, 1.5158, 1.516, 1.5162, 1.5164, 1.5166000000000002, 1.5168000000000001, 1.5170000000000001, 1.5172, 1.5174, 1.5176, 1.5178, 1.518, 1.5182, 1.5184, 1.5186000000000002, 1.5188000000000001, 1.5190000000000001, 1.5192, 1.5194, 1.5196, 1.5198, 1.52, 1.5202, 1.5204, 1.5206000000000002, 1.5208000000000002, 1.5210000000000001, 1.5212, 1.5214, 1.5216, 1.5218, 1.522, 1.5222, 1.5224, 1.5226000000000002, 1.5228000000000002, 1.5230000000000001, 1.5232, 1.5234, 1.5236, 1.5238, 1.524, 1.5242, 1.5244, 1.5246000000000002, 1.5248000000000002, 1.5250000000000001, 1.5252000000000001, 1.5254, 1.5256, 1.5258, 1.526, 1.5262, 1.5264, 1.5266000000000002, 1.5268000000000002, 1.5270000000000001, 1.5272000000000001, 1.5274, 1.5276, 1.5278, 1.528, 1.5282, 1.5284, 1.5286000000000002, 1.5288000000000002, 1.5290000000000001, 1.5292000000000001, 1.5294, 1.5296, 1.5298, 1.53, 1.5302, 1.5304, 1.5306000000000002, 1.5308000000000002, 1.5310000000000001, 1.5312000000000001, 1.5314, 1.5316, 1.5318, 1.532, 1.5322, 1.5324, 1.5326000000000002, 1.5328000000000002, 1.5330000000000001, 1.5332000000000001, 1.5334, 1.5336, 1.5338, 1.534, 1.5342, 1.5344, 1.5346, 1.5348000000000002, 1.5350000000000001, 1.5352000000000001, 1.5354, 1.5356, 1.5358, 1.536, 1.5362, 1.5364, 1.5366, 1.5368000000000002, 1.5370000000000001, 1.5372000000000001, 1.5374, 1.5376, 1.5378, 1.538, 1.5382, 1.5384, 1.5386, 1.5388000000000002, 1.5390000000000001, 1.5392000000000001, 1.5394, 1.5396, 1.5398, 1.54, 1.5402, 1.5404, 1.5406, 1.5408000000000002, 1.5410000000000001, 1.5412000000000001, 1.5414, 1.5416, 1.5418, 1.542, 1.5422, 1.5424, 1.5426, 1.5428000000000002, 1.5430000000000001, 1.5432000000000001, 1.5434, 1.5436, 1.5438, 1.544, 1.5442, 1.5444, 1.5446, 1.5448000000000002, 1.5450000000000002, 1.5452000000000001, 1.5454, 1.5456, 1.5458, 1.546, 1.5462, 1.5464, 1.5466, 1.5468000000000002, 1.5470000000000002, 1.5472000000000001, 1.5474, 1.5476, 1.5478, 1.548, 1.5482, 1.5484, 1.5486, 1.5488000000000002, 1.5490000000000002, 1.5492000000000001, 1.5494, 1.5496, 1.5498, 1.55, 1.5502, 1.5504, 1.5506, 1.5508000000000002, 1.5510000000000002, 1.5512000000000001, 1.5514000000000001, 1.5516, 1.5518, 1.552, 1.5522, 1.5524, 1.5526, 1.5528000000000002, 1.5530000000000002, 1.5532000000000001, 1.5534000000000001, 1.5536, 1.5538, 1.554, 1.5542, 1.5544, 1.5546, 1.5548000000000002, 1.5550000000000002, 1.5552000000000001, 1.5554000000000001, 1.5556, 1.5558, 1.556, 1.5562, 1.5564, 1.5566, 1.5568000000000002, 1.5570000000000002, 1.5572000000000001, 1.5574000000000001, 1.5576, 1.5578, 1.558, 1.5582, 1.5584, 1.5586, 1.5588000000000002, 1.5590000000000002, 1.5592000000000001, 1.5594000000000001, 1.5596, 1.5598, 1.56, 1.5602, 1.5604, 1.5606, 1.5608, 1.5610000000000002, 1.5612000000000001, 1.5614000000000001, 1.5616, 1.5618, 1.562, 1.5622, 1.5624, 1.5626, 1.5628, 1.5630000000000002, 1.5632000000000001, 1.5634000000000001, 1.5636, 1.5638, 1.564, 1.5642, 1.5644, 1.5646, 1.5648, 1.5650000000000002, 1.5652000000000001, 1.5654000000000001, 1.5656, 1.5658, 1.566, 1.5662, 1.5664, 1.5666, 1.5668, 1.5670000000000002, 1.5672000000000001, 1.5674000000000001, 1.5676, 1.5678, 1.568, 1.5682, 1.5684, 1.5686, 1.5688, 1.5690000000000002, 1.5692000000000002, 1.5694000000000001, 1.5696, 1.5698, 1.57, 1.5702, 1.5704, 1.5706, 1.5708, 1.5710000000000002, 1.5712000000000002, 1.5714000000000001, 1.5716, 1.5718, 1.572, 1.5722, 1.5724, 1.5726, 1.5728, 1.5730000000000002, 1.5732000000000002, 1.5734000000000001, 1.5736, 1.5738, 1.574, 1.5742, 1.5744, 1.5746, 1.5748, 1.5750000000000002, 1.5752000000000002, 1.5754000000000001, 1.5756000000000001, 1.5758, 1.576, 1.5762, 1.5764, 1.5766, 1.5768, 1.5770000000000002, 1.5772000000000002, 1.5774000000000001, 1.5776000000000001, 1.5778, 1.578, 1.5782, 1.5784, 1.5786, 1.5788, 1.5790000000000002, 1.5792000000000002, 1.5794000000000001, 1.5796000000000001, 1.5798, 1.58, 1.5802, 1.5804, 1.5806, 1.5808, 1.5810000000000002, 1.5812000000000002, 1.5814000000000001, 1.5816000000000001, 1.5818, 1.582, 1.5822, 1.5824, 1.5826, 1.5828, 1.5830000000000002, 1.5832000000000002, 1.5834000000000001, 1.5836000000000001, 1.5838, 1.584, 1.5842, 1.5844, 1.5846, 1.5848, 1.5850000000000002, 1.5852000000000002, 1.5854000000000001, 1.5856000000000001, 1.5858, 1.586, 1.5862, 1.5864, 1.5866, 1.5868, 1.587, 1.5872000000000002, 1.5874000000000001, 1.5876000000000001, 1.5878, 1.588, 1.5882, 1.5884, 1.5886, 1.5888, 1.589, 1.5892000000000002, 1.5894000000000001, 1.5896000000000001, 1.5898, 1.59, 1.5902, 1.5904, 1.5906, 1.5908, 1.591, 1.5912000000000002, 1.5914000000000001, 1.5916000000000001, 1.5918, 1.592, 1.5922, 1.5924, 1.5926, 1.5928, 1.593, 1.5932000000000002, 1.5934000000000001, 1.5936000000000001, 1.5938, 1.594, 1.5942, 1.5944, 1.5946, 1.5948, 1.595, 1.5952000000000002, 1.5954000000000002, 1.5956000000000001, 1.5958, 1.596, 1.5962, 1.5964, 1.5966, 1.5968, 1.597, 1.5972000000000002, 1.5974000000000002, 1.5976000000000001, 1.5978, 1.598, 1.5982, 1.5984, 1.5986, 1.5988, 1.599, 1.5992000000000002, 1.5994000000000002, 1.5996000000000001, 1.5998, 1.6, 1.6002, 1.6004, 1.6006, 1.6008, 1.601, 1.6012000000000002, 1.6014000000000002, 1.6016000000000001, 1.6018000000000001, 1.602, 1.6022, 1.6024, 1.6026, 1.6028, 1.603, 1.6032000000000002, 1.6034000000000002, 1.6036000000000001, 1.6038000000000001, 1.604, 1.6042, 1.6044, 1.6046, 1.6048, 1.605, 1.6052000000000002, 1.6054000000000002, 1.6056000000000001, 1.6058000000000001, 1.606, 1.6062, 1.6064, 1.6066, 1.6068, 1.607, 1.6072000000000002, 1.6074000000000002, 1.6076000000000001, 1.6078000000000001, 1.608, 1.6082, 1.6084, 1.6086, 1.6088, 1.609, 1.6092000000000002, 1.6094000000000002, 1.6096000000000001, 1.6098000000000001, 1.61, 1.6102, 1.6104, 1.6106, 1.6108, 1.611, 1.6112000000000002, 1.6114000000000002, 1.6116000000000001, 1.6118000000000001, 1.612, 1.6122, 1.6124, 1.6126, 1.6128, 1.613, 1.6132, 1.6134000000000002, 1.6136000000000001, 1.6138000000000001, 1.614, 1.6142, 1.6144, 1.6146, 1.6148, 1.615, 1.6152, 1.6154000000000002, 1.6156000000000001, 1.6158000000000001, 1.616, 1.6162, 1.6164, 1.6166, 1.6168, 1.617, 1.6172, 1.6174000000000002, 1.6176000000000001, 1.6178000000000001, 1.618, 1.6182, 1.6184, 1.6186, 1.6188, 1.619, 1.6192, 1.6194000000000002, 1.6196000000000002, 1.6198000000000001, 1.62, 1.6202, 1.6204, 1.6206, 1.6208, 1.621, 1.6212, 1.6214000000000002, 1.6216000000000002, 1.6218000000000001, 1.622, 1.6222, 1.6224, 1.6226, 1.6228, 1.623, 1.6232, 1.6234000000000002, 1.6236000000000002, 1.6238000000000001, 1.624, 1.6242, 1.6244, 1.6246, 1.6248, 1.625, 1.6252, 1.6254000000000002, 1.6256000000000002, 1.6258000000000001, 1.6260000000000001, 1.6262, 1.6264, 1.6266, 1.6268, 1.627, 1.6272, 1.6274000000000002, 1.6276000000000002, 1.6278000000000001, 1.6280000000000001, 1.6282, 1.6284, 1.6286, 1.6288, 1.629, 1.6292, 1.6294000000000002, 1.6296000000000002, 1.6298000000000001, 1.6300000000000001, 1.6302, 1.6304, 1.6306, 1.6308, 1.631, 1.6312, 1.6314000000000002, 1.6316000000000002, 1.6318000000000001, 1.6320000000000001, 1.6322, 1.6324, 1.6326, 1.6328, 1.633, 1.6332, 1.6334000000000002, 1.6336000000000002, 1.6338000000000001, 1.6340000000000001, 1.6342, 1.6344, 1.6346, 1.6348, 1.635, 1.6352, 1.6354000000000002, 1.6356000000000002, 1.6358000000000001, 1.6360000000000001, 1.6362, 1.6364, 1.6366, 1.6368, 1.637, 1.6372, 1.6374000000000002, 1.6376000000000002, 1.6378000000000001, 1.6380000000000001, 1.6382, 1.6384, 1.6386, 1.6388, 1.639, 1.6392, 1.6394, 1.6396000000000002, 1.6398000000000001, 1.6400000000000001, 1.6402, 1.6404, 1.6406, 1.6408, 1.641, 1.6412, 1.6414, 1.6416000000000002, 1.6418000000000001, 1.6420000000000001, 1.6422, 1.6424, 1.6426, 1.6428, 1.643, 1.6432, 1.6434, 1.6436000000000002, 1.6438000000000001, 1.6440000000000001, 1.6442, 1.6444, 1.6446, 1.6448, 1.645, 1.6452, 1.6454, 1.6456000000000002, 1.6458000000000002, 1.6460000000000001, 1.6462, 1.6464, 1.6466, 1.6468, 1.647, 1.6472, 1.6474, 1.6476000000000002, 1.6478000000000002, 1.6480000000000001, 1.6482, 1.6484, 1.6486, 1.6488, 1.649, 1.6492, 1.6494, 1.6496000000000002, 1.6498000000000002, 1.6500000000000001, 1.6502000000000001, 1.6504, 1.6506, 1.6508, 1.651, 1.6512, 1.6514, 1.6516000000000002, 1.6518000000000002, 1.6520000000000001, 1.6522000000000001, 1.6524, 1.6526, 1.6528, 1.653, 1.6532, 1.6534, 1.6536000000000002, 1.6538000000000002, 1.6540000000000001, 1.6542000000000001, 1.6544, 1.6546, 1.6548, 1.655, 1.6552, 1.6554, 1.6556000000000002, 1.6558000000000002, 1.6560000000000001, 1.6562000000000001, 1.6564, 1.6566, 1.6568, 1.657, 1.6572, 1.6574, 1.6576000000000002, 1.6578000000000002, 1.6580000000000001, 1.6582000000000001, 1.6584, 1.6586, 1.6588, 1.659, 1.6592, 1.6594, 1.6596000000000002, 1.6598000000000002, 1.6600000000000001, 1.6602000000000001, 1.6604, 1.6606, 1.6608, 1.661, 1.6612, 1.6614, 1.6616000000000002, 1.6618000000000002, 1.6620000000000001, 1.6622000000000001, 1.6624, 1.6626, 1.6628, 1.663, 1.6632, 1.6634, 1.6636000000000002, 1.6638000000000002, 1.6640000000000001, 1.6642000000000001, 1.6644, 1.6646, 1.6648, 1.665, 1.6652, 1.6654, 1.6656, 1.6658000000000002, 1.6660000000000001, 1.6662000000000001, 1.6664, 1.6666, 1.6668, 1.667, 1.6672, 1.6674, 1.6676, 1.6678000000000002, 1.6680000000000001, 1.6682000000000001, 1.6684, 1.6686, 1.6688, 1.669, 1.6692, 1.6694, 1.6696, 1.6698000000000002, 1.6700000000000002, 1.6702000000000001, 1.6704, 1.6706, 1.6708, 1.671, 1.6712, 1.6714, 1.6716, 1.6718000000000002, 1.6720000000000002, 1.6722000000000001, 1.6724, 1.6726, 1.6728, 1.673, 1.6732, 1.6734, 1.6736, 1.6738000000000002, 1.6740000000000002, 1.6742000000000001, 1.6744, 1.6746, 1.6748, 1.675, 1.6752, 1.6754, 1.6756, 1.6758000000000002, 1.6760000000000002, 1.6762000000000001, 1.6764000000000001, 1.6766, 1.6768, 1.677, 1.6772, 1.6774, 1.6776, 1.6778000000000002, 1.6780000000000002, 1.6782000000000001, 1.6784000000000001, 1.6786, 1.6788, 1.679, 1.6792, 1.6794, 1.6796, 1.6798000000000002, 1.6800000000000002, 1.6802000000000001, 1.6804000000000001, 1.6806, 1.6808, 1.681, 1.6812, 1.6814, 1.6816, 1.6818000000000002, 1.6820000000000002, 1.6822000000000001, 1.6824000000000001, 1.6826, 1.6828, 1.683, 1.6832, 1.6834, 1.6836, 1.6838000000000002, 1.6840000000000002, 1.6842000000000001, 1.6844000000000001, 1.6846, 1.6848, 1.685, 1.6852, 1.6854, 1.6856, 1.6858000000000002, 1.6860000000000002, 1.6862000000000001, 1.6864000000000001, 1.6866, 1.6868, 1.687, 1.6872, 1.6874, 1.6876, 1.6878000000000002, 1.6880000000000002, 1.6882000000000001, 1.6884000000000001, 1.6886, 1.6888, 1.689, 1.6892, 1.6894, 1.6896, 1.6898000000000002, 1.6900000000000002, 1.6902000000000001, 1.6904000000000001, 1.6906, 1.6908, 1.691, 1.6912, 1.6914, 1.6916, 1.6918, 1.6920000000000002, 1.6922000000000001, 1.6924000000000001, 1.6926, 1.6928, 1.693, 1.6932, 1.6934, 1.6936, 1.6938, 1.6940000000000002, 1.6942000000000002, 1.6944000000000001, 1.6946, 1.6948, 1.695, 1.6952, 1.6954, 1.6956, 1.6958, 1.6960000000000002, 1.6962000000000002, 1.6964000000000001, 1.6966, 1.6968, 1.697, 1.6972, 1.6974, 1.6976, 1.6978, 1.6980000000000002, 1.6982000000000002, 1.6984000000000001, 1.6986, 1.6988, 1.699, 1.6992, 1.6994, 1.6996, 1.6998, 1.7000000000000002, 1.7002000000000002, 1.7004000000000001, 1.7006000000000001, 1.7008, 1.701, 1.7012, 1.7014, 1.7016, 1.7018, 1.7020000000000002, 1.7022000000000002, 1.7024000000000001, 1.7026000000000001, 1.7028, 1.703, 1.7032, 1.7034, 1.7036, 1.7038, 1.7040000000000002, 1.7042000000000002, 1.7044000000000001, 1.7046000000000001, 1.7048, 1.705, 1.7052, 1.7054, 1.7056, 1.7058, 1.7060000000000002, 1.7062000000000002, 1.7064000000000001, 1.7066000000000001, 1.7068, 1.707, 1.7072, 1.7074, 1.7076, 1.7078, 1.7080000000000002, 1.7082000000000002, 1.7084000000000001, 1.7086000000000001, 1.7088, 1.709, 1.7092, 1.7094, 1.7096, 1.7098, 1.7100000000000002, 1.7102000000000002, 1.7104000000000001, 1.7106000000000001, 1.7108, 1.711, 1.7112, 1.7114, 1.7116, 1.7118, 1.7120000000000002, 1.7122000000000002, 1.7124000000000001, 1.7126000000000001, 1.7128, 1.713, 1.7132, 1.7134, 1.7136, 1.7138, 1.7140000000000002, 1.7142000000000002, 1.7144000000000001, 1.7146000000000001, 1.7148, 1.715, 1.7152, 1.7154, 1.7156, 1.7158, 1.7160000000000002, 1.7162000000000002, 1.7164000000000001, 1.7166000000000001, 1.7168, 1.717, 1.7172, 1.7174, 1.7176, 1.7178, 1.718, 1.7182000000000002, 1.7184000000000001, 1.7186000000000001, 1.7188, 1.719, 1.7192, 1.7194, 1.7196, 1.7198, 1.72, 1.7202000000000002, 1.7204000000000002, 1.7206000000000001, 1.7208, 1.721, 1.7212, 1.7214, 1.7216, 1.7218, 1.722, 1.7222000000000002, 1.7224000000000002, 1.7226000000000001, 1.7228, 1.723, 1.7232, 1.7234, 1.7236, 1.7238, 1.724, 1.7242000000000002, 1.7244000000000002, 1.7246000000000001, 1.7248, 1.725, 1.7252, 1.7254, 1.7256, 1.7258, 1.726, 1.7262000000000002, 1.7264000000000002, 1.7266000000000001, 1.7268000000000001, 1.727, 1.7272, 1.7274, 1.7276, 1.7278, 1.728, 1.7282000000000002, 1.7284000000000002, 1.7286000000000001, 1.7288000000000001, 1.729, 1.7292, 1.7294, 1.7296, 1.7298, 1.73, 1.7302000000000002, 1.7304000000000002, 1.7306000000000001, 1.7308000000000001, 1.731, 1.7312, 1.7314, 1.7316, 1.7318, 1.732, 1.7322000000000002, 1.7324000000000002, 1.7326000000000001, 1.7328000000000001, 1.733, 1.7332, 1.7334, 1.7336, 1.7338, 1.734, 1.7342000000000002, 1.7344000000000002, 1.7346000000000001, 1.7348000000000001, 1.735, 1.7352, 1.7354, 1.7356, 1.7358, 1.736, 1.7362000000000002, 1.7364000000000002, 1.7366000000000001, 1.7368000000000001, 1.737, 1.7372, 1.7374, 1.7376, 1.7378, 1.738, 1.7382000000000002, 1.7384000000000002, 1.7386000000000001, 1.7388000000000001, 1.739, 1.7392, 1.7394, 1.7396, 1.7398, 1.74, 1.7402000000000002, 1.7404000000000002, 1.7406000000000001, 1.7408000000000001, 1.741, 1.7412, 1.7414, 1.7416, 1.7418, 1.742, 1.7422000000000002, 1.7424000000000002, 1.7426000000000001, 1.7428000000000001, 1.743, 1.7432, 1.7434, 1.7436, 1.7438, 1.744, 1.7442, 1.7444000000000002, 1.7446000000000002, 1.7448000000000001, 1.745, 1.7452, 1.7454, 1.7456, 1.7458, 1.746, 1.7462, 1.7464000000000002, 1.7466000000000002, 1.7468000000000001, 1.747, 1.7472, 1.7474, 1.7476, 1.7478, 1.748, 1.7482, 1.7484000000000002, 1.7486000000000002, 1.7488000000000001, 1.749, 1.7492, 1.7494, 1.7496, 1.7498, 1.75, 1.7502, 1.7504000000000002, 1.7506000000000002, 1.7508000000000001, 1.7510000000000001, 1.7512, 1.7514, 1.7516, 1.7518, 1.752, 1.7522, 1.7524000000000002, 1.7526000000000002, 1.7528000000000001, 1.7530000000000001, 1.7532, 1.7534, 1.7536, 1.7538, 1.754, 1.7542, 1.7544000000000002, 1.7546000000000002, 1.7548000000000001, 1.7550000000000001, 1.7552, 1.7554, 1.7556, 1.7558, 1.756, 1.7562, 1.7564000000000002, 1.7566000000000002, 1.7568000000000001, 1.7570000000000001, 1.7572, 1.7574, 1.7576, 1.7578, 1.758, 1.7582, 1.7584000000000002, 1.7586000000000002, 1.7588000000000001, 1.7590000000000001, 1.7592, 1.7594, 1.7596, 1.7598, 1.76, 1.7602, 1.7604000000000002, 1.7606000000000002, 1.7608000000000001, 1.7610000000000001, 1.7612, 1.7614, 1.7616, 1.7618, 1.762, 1.7622, 1.7624000000000002, 1.7626000000000002, 1.7628000000000001, 1.7630000000000001, 1.7632, 1.7634, 1.7636, 1.7638, 1.764, 1.7642, 1.7644000000000002, 1.7646000000000002, 1.7648000000000001, 1.7650000000000001, 1.7652, 1.7654, 1.7656, 1.7658, 1.766, 1.7662, 1.7664000000000002, 1.7666000000000002, 1.7668000000000001, 1.7670000000000001, 1.7672, 1.7674, 1.7676, 1.7678, 1.768, 1.7682, 1.7684000000000002, 1.7686000000000002, 1.7688000000000001, 1.7690000000000001, 1.7692, 1.7694, 1.7696, 1.7698, 1.77, 1.7702, 1.7704000000000002, 1.7706000000000002, 1.7708000000000002, 1.7710000000000001, 1.7712, 1.7714, 1.7716, 1.7718, 1.772, 1.7722, 1.7724, 1.7726000000000002, 1.7728000000000002, 1.7730000000000001, 1.7732, 1.7734, 1.7736, 1.7738, 1.774, 1.7742, 1.7744, 1.7746000000000002, 1.7748000000000002, 1.7750000000000001, 1.7752000000000001, 1.7754, 1.7756, 1.7758, 1.776, 1.7762, 1.7764, 1.7766000000000002, 1.7768000000000002, 1.7770000000000001, 1.7772000000000001, 1.7774, 1.7776, 1.7778, 1.778, 1.7782, 1.7784, 1.7786000000000002, 1.7788000000000002, 1.7790000000000001, 1.7792000000000001, 1.7794, 1.7796, 1.7798, 1.78, 1.7802, 1.7804, 1.7806000000000002, 1.7808000000000002, 1.7810000000000001, 1.7812000000000001, 1.7814, 1.7816, 1.7818, 1.782, 1.7822, 1.7824, 1.7826000000000002, 1.7828000000000002, 1.7830000000000001, 1.7832000000000001, 1.7834, 1.7836, 1.7838, 1.784, 1.7842, 1.7844, 1.7846000000000002, 1.7848000000000002, 1.7850000000000001, 1.7852000000000001, 1.7854, 1.7856, 1.7858, 1.786, 1.7862, 1.7864, 1.7866000000000002, 1.7868000000000002, 1.7870000000000001, 1.7872000000000001, 1.7874, 1.7876, 1.7878, 1.788, 1.7882, 1.7884, 1.7886000000000002, 1.7888000000000002, 1.7890000000000001, 1.7892000000000001, 1.7894, 1.7896, 1.7898, 1.79, 1.7902, 1.7904, 1.7906000000000002, 1.7908000000000002, 1.7910000000000001, 1.7912000000000001, 1.7914, 1.7916, 1.7918, 1.792, 1.7922, 1.7924, 1.7926000000000002, 1.7928000000000002, 1.7930000000000001, 1.7932000000000001, 1.7934, 1.7936, 1.7938, 1.794, 1.7942, 1.7944, 1.7946000000000002, 1.7948000000000002, 1.7950000000000002, 1.7952000000000001, 1.7954, 1.7956, 1.7958, 1.796, 1.7962, 1.7964, 1.7966000000000002, 1.7968000000000002, 1.7970000000000002, 1.7972000000000001, 1.7974, 1.7976, 1.7978, 1.798, 1.7982, 1.7984, 1.7986, 1.7988000000000002, 1.7990000000000002, 1.7992000000000001, 1.7994, 1.7996, 1.7998, 1.8, 1.8002, 1.8004, 1.8006, 1.8008000000000002, 1.8010000000000002, 1.8012000000000001, 1.8014000000000001, 1.8016, 1.8018, 1.802, 1.8022, 1.8024, 1.8026, 1.8028000000000002, 1.8030000000000002, 1.8032000000000001, 1.8034000000000001, 1.8036, 1.8038, 1.804, 1.8042, 1.8044, 1.8046, 1.8048000000000002, 1.8050000000000002, 1.8052000000000001, 1.8054000000000001, 1.8056, 1.8058, 1.806, 1.8062, 1.8064, 1.8066, 1.8068000000000002, 1.8070000000000002, 1.8072000000000001, 1.8074000000000001, 1.8076, 1.8078, 1.808, 1.8082, 1.8084, 1.8086, 1.8088000000000002, 1.8090000000000002, 1.8092000000000001, 1.8094000000000001, 1.8096, 1.8098, 1.81, 1.8102, 1.8104, 1.8106, 1.8108000000000002, 1.8110000000000002, 1.8112000000000001, 1.8114000000000001, 1.8116, 1.8118, 1.812, 1.8122, 1.8124, 1.8126, 1.8128000000000002, 1.8130000000000002, 1.8132000000000001, 1.8134000000000001, 1.8136, 1.8138, 1.814, 1.8142, 1.8144, 1.8146, 1.8148000000000002, 1.8150000000000002, 1.8152000000000001, 1.8154000000000001, 1.8156, 1.8158, 1.816, 1.8162, 1.8164, 1.8166, 1.8168000000000002, 1.8170000000000002, 1.8172000000000001, 1.8174000000000001, 1.8176, 1.8178, 1.818, 1.8182, 1.8184, 1.8186, 1.8188000000000002, 1.8190000000000002, 1.8192000000000002, 1.8194000000000001, 1.8196, 1.8198, 1.82, 1.8202, 1.8204, 1.8206, 1.8208000000000002, 1.8210000000000002, 1.8212000000000002, 1.8214000000000001, 1.8216, 1.8218, 1.822, 1.8222, 1.8224, 1.8226, 1.8228000000000002, 1.8230000000000002, 1.8232000000000002, 1.8234000000000001, 1.8236, 1.8238, 1.824, 1.8242, 1.8244, 1.8246, 1.8248, 1.8250000000000002, 1.8252000000000002, 1.8254000000000001, 1.8256000000000001, 1.8258, 1.826, 1.8262, 1.8264, 1.8266, 1.8268, 1.8270000000000002, 1.8272000000000002, 1.8274000000000001, 1.8276000000000001, 1.8278, 1.828, 1.8282, 1.8284, 1.8286, 1.8288, 1.8290000000000002, 1.8292000000000002, 1.8294000000000001, 1.8296000000000001, 1.8298, 1.83, 1.8302, 1.8304, 1.8306, 1.8308, 1.8310000000000002, 1.8312000000000002, 1.8314000000000001, 1.8316000000000001, 1.8318, 1.832, 1.8322, 1.8324, 1.8326, 1.8328, 1.8330000000000002, 1.8332000000000002, 1.8334000000000001, 1.8336000000000001, 1.8338, 1.834, 1.8342, 1.8344, 1.8346, 1.8348, 1.8350000000000002, 1.8352000000000002, 1.8354000000000001, 1.8356000000000001, 1.8358, 1.836, 1.8362, 1.8364, 1.8366, 1.8368, 1.8370000000000002, 1.8372000000000002, 1.8374000000000001, 1.8376000000000001, 1.8378, 1.838, 1.8382, 1.8384, 1.8386, 1.8388, 1.8390000000000002, 1.8392000000000002, 1.8394000000000001, 1.8396000000000001, 1.8398, 1.84, 1.8402, 1.8404, 1.8406, 1.8408, 1.8410000000000002, 1.8412000000000002, 1.8414000000000001, 1.8416000000000001, 1.8418, 1.842, 1.8422, 1.8424, 1.8426, 1.8428, 1.8430000000000002, 1.8432000000000002, 1.8434000000000001, 1.8436000000000001, 1.8438, 1.844, 1.8442, 1.8444, 1.8446, 1.8448, 1.8450000000000002, 1.8452000000000002, 1.8454000000000002, 1.8456000000000001, 1.8458, 1.846, 1.8462, 1.8464, 1.8466, 1.8468, 1.8470000000000002, 1.8472000000000002, 1.8474000000000002, 1.8476000000000001, 1.8478, 1.848, 1.8482, 1.8484, 1.8486, 1.8488, 1.8490000000000002, 1.8492000000000002, 1.8494000000000002, 1.8496000000000001, 1.8498, 1.85, 1.8502, 1.8504, 1.8506, 1.8508, 1.851, 1.8512000000000002, 1.8514000000000002, 1.8516000000000001, 1.8518000000000001, 1.852, 1.8522, 1.8524, 1.8526, 1.8528, 1.853, 1.8532000000000002, 1.8534000000000002, 1.8536000000000001, 1.8538000000000001, 1.854, 1.8542, 1.8544, 1.8546, 1.8548, 1.855, 1.8552000000000002, 1.8554000000000002, 1.8556000000000001, 1.8558000000000001, 1.856, 1.8562, 1.8564, 1.8566, 1.8568, 1.857, 1.8572000000000002, 1.8574000000000002, 1.8576000000000001, 1.8578000000000001, 1.858, 1.8582, 1.8584, 1.8586, 1.8588, 1.859, 1.8592000000000002, 1.8594000000000002, 1.8596000000000001, 1.8598000000000001, 1.86, 1.8602, 1.8604, 1.8606, 1.8608, 1.861, 1.8612000000000002, 1.8614000000000002, 1.8616000000000001, 1.8618000000000001, 1.862, 1.8622, 1.8624, 1.8626, 1.8628, 1.863, 1.8632000000000002, 1.8634000000000002, 1.8636000000000001, 1.8638000000000001, 1.864, 1.8642, 1.8644, 1.8646, 1.8648, 1.865, 1.8652000000000002, 1.8654000000000002, 1.8656000000000001, 1.8658000000000001, 1.866, 1.8662, 1.8664, 1.8666, 1.8668, 1.867, 1.8672000000000002, 1.8674000000000002, 1.8676000000000001, 1.8678000000000001, 1.868, 1.8682, 1.8684, 1.8686, 1.8688, 1.869, 1.8692000000000002, 1.8694000000000002, 1.8696000000000002, 1.8698000000000001, 1.87, 1.8702, 1.8704, 1.8706, 1.8708, 1.871, 1.8712000000000002, 1.8714000000000002, 1.8716000000000002, 1.8718000000000001, 1.872, 1.8722, 1.8724, 1.8726, 1.8728, 1.873, 1.8732000000000002, 1.8734000000000002, 1.8736000000000002, 1.8738000000000001, 1.874, 1.8742, 1.8744, 1.8746, 1.8748, 1.875, 1.8752000000000002, 1.8754000000000002, 1.8756000000000002, 1.8758000000000001, 1.8760000000000001, 1.8762, 1.8764, 1.8766, 1.8768, 1.877, 1.8772, 1.8774000000000002, 1.8776000000000002, 1.8778000000000001, 1.8780000000000001, 1.8782, 1.8784, 1.8786, 1.8788, 1.879, 1.8792, 1.8794000000000002, 1.8796000000000002, 1.8798000000000001, 1.8800000000000001, 1.8802, 1.8804, 1.8806, 1.8808, 1.881, 1.8812, 1.8814000000000002, 1.8816000000000002, 1.8818000000000001, 1.8820000000000001, 1.8822, 1.8824, 1.8826, 1.8828, 1.883, 1.8832, 1.8834000000000002, 1.8836000000000002, 1.8838000000000001, 1.8840000000000001, 1.8842, 1.8844, 1.8846, 1.8848, 1.885, 1.8852, 1.8854000000000002, 1.8856000000000002, 1.8858000000000001, 1.8860000000000001, 1.8862, 1.8864, 1.8866, 1.8868, 1.887, 1.8872, 1.8874000000000002, 1.8876000000000002, 1.8878000000000001, 1.8880000000000001, 1.8882, 1.8884, 1.8886, 1.8888, 1.889, 1.8892, 1.8894000000000002, 1.8896000000000002, 1.8898000000000001, 1.8900000000000001, 1.8902, 1.8904, 1.8906, 1.8908, 1.891, 1.8912, 1.8914000000000002, 1.8916000000000002, 1.8918000000000001, 1.8920000000000001, 1.8922, 1.8924, 1.8926, 1.8928, 1.893, 1.8932, 1.8934000000000002, 1.8936000000000002, 1.8938000000000001, 1.8940000000000001, 1.8942, 1.8944, 1.8946, 1.8948, 1.895, 1.8952, 1.8954000000000002, 1.8956000000000002, 1.8958000000000002, 1.8960000000000001, 1.8962, 1.8964, 1.8966, 1.8968, 1.897, 1.8972, 1.8974000000000002, 1.8976000000000002, 1.8978000000000002, 1.8980000000000001, 1.8982, 1.8984, 1.8986, 1.8988, 1.899, 1.8992, 1.8994000000000002, 1.8996000000000002, 1.8998000000000002, 1.9000000000000001, 1.9002000000000001, 1.9004, 1.9006, 1.9008, 1.901, 1.9012, 1.9014000000000002, 1.9016000000000002, 1.9018000000000002, 1.9020000000000001, 1.9022000000000001, 1.9024, 1.9026, 1.9028, 1.903, 1.9032, 1.9034, 1.9036000000000002, 1.9038000000000002, 1.9040000000000001, 1.9042000000000001, 1.9044, 1.9046, 1.9048, 1.905, 1.9052, 1.9054, 1.9056000000000002, 1.9058000000000002, 1.9060000000000001, 1.9062000000000001, 1.9064, 1.9066, 1.9068, 1.907, 1.9072, 1.9074, 1.9076000000000002, 1.9078000000000002, 1.9080000000000001, 1.9082000000000001, 1.9084, 1.9086, 1.9088, 1.909, 1.9092, 1.9094, 1.9096000000000002, 1.9098000000000002, 1.9100000000000001, 1.9102000000000001, 1.9104, 1.9106, 1.9108, 1.911, 1.9112, 1.9114, 1.9116000000000002, 1.9118000000000002, 1.9120000000000001, 1.9122000000000001, 1.9124, 1.9126, 1.9128, 1.913, 1.9132, 1.9134, 1.9136000000000002, 1.9138000000000002, 1.9140000000000001, 1.9142000000000001, 1.9144, 1.9146, 1.9148, 1.915, 1.9152, 1.9154, 1.9156000000000002, 1.9158000000000002, 1.9160000000000001, 1.9162000000000001, 1.9164, 1.9166, 1.9168, 1.917, 1.9172, 1.9174, 1.9176000000000002, 1.9178000000000002, 1.9180000000000001, 1.9182000000000001, 1.9184, 1.9186, 1.9188, 1.919, 1.9192, 1.9194, 1.9196000000000002, 1.9198000000000002, 1.9200000000000002, 1.9202000000000001, 1.9204, 1.9206, 1.9208, 1.921, 1.9212, 1.9214, 1.9216000000000002, 1.9218000000000002, 1.9220000000000002, 1.9222000000000001, 1.9224, 1.9226, 1.9228, 1.923, 1.9232, 1.9234, 1.9236000000000002, 1.9238000000000002, 1.9240000000000002, 1.9242000000000001, 1.9244, 1.9246, 1.9248, 1.925, 1.9252, 1.9254, 1.9256000000000002, 1.9258000000000002, 1.9260000000000002, 1.9262000000000001, 1.9264000000000001, 1.9266, 1.9268, 1.927, 1.9272, 1.9274, 1.9276000000000002, 1.9278000000000002, 1.9280000000000002, 1.9282000000000001, 1.9284000000000001, 1.9286, 1.9288, 1.929, 1.9292, 1.9294, 1.9296, 1.9298000000000002, 1.9300000000000002, 1.9302000000000001, 1.9304000000000001, 1.9306, 1.9308, 1.931, 1.9312, 1.9314, 1.9316, 1.9318000000000002, 1.9320000000000002, 1.9322000000000001, 1.9324000000000001, 1.9326, 1.9328, 1.933, 1.9332, 1.9334, 1.9336, 1.9338000000000002, 1.9340000000000002, 1.9342000000000001, 1.9344000000000001, 1.9346, 1.9348, 1.935, 1.9352, 1.9354, 1.9356, 1.9358000000000002, 1.9360000000000002, 1.9362000000000001, 1.9364000000000001, 1.9366, 1.9368, 1.937, 1.9372, 1.9374, 1.9376, 1.9378000000000002, 1.9380000000000002, 1.9382000000000001, 1.9384000000000001, 1.9386, 1.9388, 1.939, 1.9392, 1.9394, 1.9396, 1.9398000000000002, 1.9400000000000002, 1.9402000000000001, 1.9404000000000001, 1.9406, 1.9408, 1.941, 1.9412, 1.9414, 1.9416, 1.9418000000000002, 1.9420000000000002, 1.9422000000000001, 1.9424000000000001, 1.9426, 1.9428, 1.943, 1.9432, 1.9434, 1.9436, 1.9438000000000002, 1.9440000000000002, 1.9442000000000002, 1.9444000000000001, 1.9446, 1.9448, 1.945, 1.9452, 1.9454, 1.9456, 1.9458000000000002, 1.9460000000000002, 1.9462000000000002, 1.9464000000000001, 1.9466, 1.9468, 1.947, 1.9472, 1.9474, 1.9476, 1.9478000000000002, 1.9480000000000002, 1.9482000000000002, 1.9484000000000001, 1.9486, 1.9488, 1.949, 1.9492, 1.9494, 1.9496, 1.9498000000000002, 1.9500000000000002, 1.9502000000000002, 1.9504000000000001, 1.9506000000000001, 1.9508, 1.951, 1.9512, 1.9514, 1.9516, 1.9518000000000002, 1.9520000000000002, 1.9522000000000002, 1.9524000000000001, 1.9526000000000001, 1.9528, 1.953, 1.9532, 1.9534, 1.9536, 1.9538000000000002, 1.9540000000000002, 1.9542000000000002, 1.9544000000000001, 1.9546000000000001, 1.9548, 1.955, 1.9552, 1.9554, 1.9556, 1.9558, 1.9560000000000002, 1.9562000000000002, 1.9564000000000001, 1.9566000000000001, 1.9568, 1.957, 1.9572, 1.9574, 1.9576, 1.9578, 1.9580000000000002, 1.9582000000000002, 1.9584000000000001, 1.9586000000000001, 1.9588, 1.959, 1.9592, 1.9594, 1.9596, 1.9598, 1.9600000000000002, 1.9602000000000002, 1.9604000000000001, 1.9606000000000001, 1.9608, 1.961, 1.9612, 1.9614, 1.9616, 1.9618, 1.9620000000000002, 1.9622000000000002, 1.9624000000000001, 1.9626000000000001, 1.9628, 1.963, 1.9632, 1.9634, 1.9636, 1.9638, 1.9640000000000002, 1.9642000000000002, 1.9644000000000001, 1.9646000000000001, 1.9648, 1.965, 1.9652, 1.9654, 1.9656, 1.9658, 1.9660000000000002, 1.9662000000000002, 1.9664000000000001, 1.9666000000000001, 1.9668, 1.967, 1.9672, 1.9674, 1.9676, 1.9678, 1.9680000000000002, 1.9682000000000002, 1.9684000000000001, 1.9686000000000001, 1.9688, 1.969, 1.9692, 1.9694, 1.9696, 1.9698, 1.9700000000000002, 1.9702000000000002, 1.9704000000000002, 1.9706000000000001, 1.9708, 1.971, 1.9712, 1.9714, 1.9716, 1.9718, 1.9720000000000002, 1.9722000000000002, 1.9724000000000002, 1.9726000000000001, 1.9728, 1.973, 1.9732, 1.9734, 1.9736, 1.9738, 1.9740000000000002, 1.9742000000000002, 1.9744000000000002, 1.9746000000000001, 1.9748, 1.975, 1.9752, 1.9754, 1.9756, 1.9758, 1.9760000000000002, 1.9762000000000002, 1.9764000000000002, 1.9766000000000001, 1.9768000000000001, 1.977, 1.9772, 1.9774, 1.9776, 1.9778, 1.9780000000000002, 1.9782000000000002, 1.9784000000000002, 1.9786000000000001, 1.9788000000000001, 1.979, 1.9792, 1.9794, 1.9796, 1.9798, 1.9800000000000002, 1.9802000000000002, 1.9804000000000002, 1.9806000000000001, 1.9808000000000001, 1.981, 1.9812, 1.9814, 1.9816, 1.9818, 1.982, 1.9822000000000002, 1.9824000000000002, 1.9826000000000001, 1.9828000000000001, 1.983, 1.9832, 1.9834, 1.9836, 1.9838, 1.984, 1.9842000000000002, 1.9844000000000002, 1.9846000000000001, 1.9848000000000001, 1.985, 1.9852, 1.9854, 1.9856, 1.9858, 1.986, 1.9862000000000002, 1.9864000000000002, 1.9866000000000001, 1.9868000000000001, 1.987, 1.9872, 1.9874, 1.9876, 1.9878, 1.988, 1.9882000000000002, 1.9884000000000002, 1.9886000000000001, 1.9888000000000001, 1.989, 1.9892, 1.9894, 1.9896, 1.9898, 1.99, 1.9902000000000002, 1.9904000000000002, 1.9906000000000001, 1.9908000000000001, 1.991, 1.9912, 1.9914, 1.9916, 1.9918, 1.992, 1.9922000000000002, 1.9924000000000002, 1.9926000000000001, 1.9928000000000001, 1.993, 1.9932, 1.9934, 1.9936, 1.9938, 1.994, 1.9942000000000002, 1.9944000000000002, 1.9946000000000002, 1.9948000000000001, 1.995, 1.9952, 1.9954, 1.9956, 1.9958, 1.996, 1.9962000000000002, 1.9964000000000002, 1.9966000000000002, 1.9968000000000001, 1.997, 1.9972, 1.9974, 1.9976, 1.9978, 1.998, 1.9982000000000002, 1.9984000000000002, 1.9986000000000002, 1.9988000000000001, 1.999, 1.9992, 1.9994, 1.9996, 1.9998, 2.0, 0.0, 0.0002, 0.0004, 0.0006000000000000001, 0.0008, 0.001, 0.0012000000000000001, 0.0014, 0.0016, 0.0018000000000000002, 0.002, 0.0022, 0.0024000000000000002, 0.0026000000000000003, 0.0028, 0.003, 0.0032, 0.0034000000000000002, 0.0036000000000000003, 0.0038, 0.004, 0.004200000000000001, 0.0044, 0.0046, 0.0048000000000000004, 0.005, 0.005200000000000001, 0.0054, 0.0056, 0.0058000000000000005, 0.006, 0.006200000000000001, 0.0064, 0.0066, 0.0068000000000000005, 0.007, 0.007200000000000001, 0.0074, 0.0076, 0.0078000000000000005, 0.008, 0.0082, 0.008400000000000001, 0.0086, 0.0088, 0.009000000000000001, 0.0092, 0.0094, 0.009600000000000001, 0.0098, 0.01, 0.0102, 0.010400000000000001, 0.0106, 0.0108, 0.011000000000000001, 0.0112, 0.0114, 0.011600000000000001, 0.0118, 0.012, 0.0122, 0.012400000000000001, 0.0126, 0.0128, 0.013000000000000001, 0.0132, 0.0134, 0.013600000000000001, 0.013800000000000002, 0.014, 0.0142, 0.014400000000000001, 0.0146, 0.0148, 0.015000000000000001, 0.0152, 0.0154, 0.015600000000000001, 0.0158, 0.016, 0.0162, 0.0164, 0.0166, 0.016800000000000002, 0.017, 0.0172, 0.017400000000000002, 0.0176, 0.0178, 0.018000000000000002, 0.0182, 0.0184, 0.018600000000000002, 0.0188, 0.019, 0.019200000000000002, 0.0194, 0.0196, 0.0198, 0.02, 0.020200000000000003, 0.0204, 0.0206, 0.020800000000000003, 0.021, 0.0212, 0.021400000000000002, 0.0216, 0.0218, 0.022000000000000002, 0.0222, 0.0224, 0.022600000000000002, 0.0228, 0.023, 0.023200000000000002, 0.0234, 0.0236, 0.0238, 0.024, 0.024200000000000003, 0.0244, 0.0246, 0.024800000000000003, 0.025, 0.0252, 0.025400000000000002, 0.0256, 0.0258, 0.026000000000000002, 0.0262, 0.0264, 0.026600000000000002, 0.0268, 0.027, 0.027200000000000002, 0.0274, 0.027600000000000003, 0.027800000000000002, 0.028, 0.028200000000000003, 0.0284, 0.0286, 0.028800000000000003, 0.029, 0.0292, 0.029400000000000003, 0.0296, 0.0298, 0.030000000000000002, 0.0302, 0.0304, 0.030600000000000002, 0.0308, 0.031, 0.031200000000000002, 0.031400000000000004, 0.0316, 0.0318, 0.032, 0.0322, 0.0324, 0.032600000000000004, 0.0328, 0.033, 0.0332, 0.0334, 0.033600000000000005, 0.033800000000000004, 0.034, 0.0342, 0.0344, 0.0346, 0.034800000000000005, 0.035, 0.0352, 0.0354, 0.0356, 0.0358, 0.036000000000000004, 0.0362, 0.0364, 0.0366, 0.0368, 0.037000000000000005, 0.037200000000000004, 0.0374, 0.0376, 0.0378, 0.038, 0.038200000000000005, 0.038400000000000004, 0.0386, 0.0388, 0.039, 0.0392, 0.039400000000000004, 0.0396, 0.0398, 0.04, 0.0402, 0.040400000000000005, 0.040600000000000004, 0.0408, 0.041, 0.0412, 0.0414, 0.041600000000000005, 0.041800000000000004, 0.042, 0.0422, 0.0424, 0.0426, 0.042800000000000005, 0.043000000000000003, 0.0432, 0.0434, 0.0436, 0.0438, 0.044000000000000004, 0.0442, 0.0444, 0.0446, 0.0448, 0.045000000000000005, 0.045200000000000004, 0.0454, 0.0456, 0.0458, 0.046, 0.046200000000000005, 0.046400000000000004, 0.0466, 0.0468, 0.047, 0.0472, 0.047400000000000005, 0.0476, 0.0478, 0.048, 0.0482, 0.048400000000000006, 0.048600000000000004, 0.0488, 0.049, 0.0492, 0.0494, 0.049600000000000005, 0.049800000000000004, 0.05, 0.0502, 0.0504, 0.0506, 0.050800000000000005, 0.051000000000000004, 0.0512, 0.0514, 0.0516, 0.051800000000000006, 0.052000000000000005, 0.0522, 0.0524, 0.0526, 0.0528, 0.053000000000000005, 0.053200000000000004, 0.0534, 0.0536, 0.0538, 0.054, 0.054200000000000005, 0.054400000000000004, 0.0546, 0.0548, 0.055, 0.055200000000000006, 0.055400000000000005, 0.055600000000000004, 0.0558, 0.056, 0.0562, 0.056400000000000006, 0.056600000000000004, 0.0568, 0.057, 0.0572, 0.0574, 0.057600000000000005, 0.057800000000000004, 0.058, 0.0582, 0.0584, 0.058600000000000006, 0.058800000000000005, 0.059000000000000004, 0.0592, 0.0594, 0.0596, 0.059800000000000006, 0.060000000000000005, 0.060200000000000004, 0.0604, 0.0606, 0.0608, 0.061000000000000006, 0.061200000000000004, 0.0614, 0.0616, 0.0618, 0.062, 0.062200000000000005, 0.062400000000000004, 0.0626, 0.06280000000000001, 0.063, 0.0632, 0.0634, 0.0636, 0.06380000000000001, 0.064, 0.06420000000000001, 0.0644, 0.0646, 0.0648, 0.065, 0.06520000000000001, 0.0654, 0.0656, 0.0658, 0.066, 0.06620000000000001, 0.0664, 0.0666, 0.0668, 0.067, 0.06720000000000001, 0.0674, 0.06760000000000001, 0.0678, 0.068, 0.0682, 0.0684, 0.06860000000000001, 0.0688, 0.069, 0.0692, 0.0694, 0.06960000000000001, 0.0698, 0.07, 0.0702, 0.0704, 0.07060000000000001, 0.0708, 0.07100000000000001, 0.0712, 0.0714, 0.0716, 0.0718, 0.07200000000000001, 0.0722, 0.0724, 0.0726, 0.0728, 0.07300000000000001, 0.0732, 0.0734, 0.0736, 0.0738, 0.07400000000000001, 0.0742, 0.07440000000000001, 0.0746, 0.0748, 0.075, 0.0752, 0.07540000000000001, 0.0756, 0.0758, 0.076, 0.0762, 0.07640000000000001, 0.0766, 0.07680000000000001, 0.077, 0.0772, 0.07740000000000001, 0.0776, 0.07780000000000001, 0.078, 0.0782, 0.0784, 0.0786, 0.07880000000000001, 0.079, 0.0792, 0.0794, 0.0796, 0.07980000000000001, 0.08, 0.08020000000000001, 0.0804, 0.0806, 0.08080000000000001, 0.081, 0.08120000000000001, 0.0814, 0.0816, 0.0818, 0.082, 0.08220000000000001, 0.0824, 0.0826, 0.0828, 0.083, 0.08320000000000001, 0.0834, 0.08360000000000001, 0.0838, 0.084, 0.08420000000000001, 0.0844, 0.08460000000000001, 0.0848, 0.085, 0.0852, 0.0854, 0.08560000000000001, 0.0858, 0.08600000000000001, 0.0862, 0.0864, 0.08660000000000001, 0.0868, 0.08700000000000001, 0.0872, 0.0874, 0.0876, 0.0878, 0.08800000000000001, 0.0882, 0.0884, 0.0886, 0.0888, 0.08900000000000001, 0.0892, 0.08940000000000001, 0.0896, 0.0898, 0.09000000000000001, 0.0902, 0.09040000000000001, 0.0906, 0.0908, 0.091, 0.0912, 0.09140000000000001, 0.0916, 0.0918, 0.092, 0.0922, 0.09240000000000001, 0.0926, 0.09280000000000001, 0.093, 0.0932, 0.09340000000000001, 0.0936, 0.09380000000000001, 0.094, 0.0942, 0.0944, 0.0946, 0.09480000000000001, 0.095, 0.0952, 0.0954, 0.0956, 0.09580000000000001, 0.096, 0.09620000000000001, 0.0964, 0.0966, 0.09680000000000001, 0.097, 0.09720000000000001, 0.0974, 0.0976, 0.0978, 0.098, 0.09820000000000001, 0.0984, 0.09860000000000001, 0.0988, 0.099, 0.09920000000000001, 0.0994, 0.09960000000000001, 0.0998, 0.1, 0.10020000000000001, 0.1004, 0.10060000000000001, 0.1008, 0.101, 0.1012, 0.1014, 0.10160000000000001, 0.1018, 0.10200000000000001, 0.1022, 0.1024, 0.10260000000000001, 0.1028, 0.10300000000000001, 0.1032, 0.1034, 0.10360000000000001, 0.1038, 0.10400000000000001, 0.1042, 0.1044, 0.1046, 0.1048, 0.10500000000000001, 0.1052, 0.10540000000000001, 0.1056, 0.1058, 0.10600000000000001, 0.1062, 0.10640000000000001, 0.1066, 0.1068, 0.10700000000000001, 0.1072, 0.10740000000000001, 0.1076, 0.1078, 0.108, 0.1082, 0.10840000000000001, 0.1086, 0.10880000000000001, 0.109, 0.1092, 0.10940000000000001, 0.1096, 0.10980000000000001, 0.11, 0.1102, 0.11040000000000001, 0.1106, 0.11080000000000001, 0.111, 0.11120000000000001, 0.1114, 0.1116, 0.11180000000000001, 0.112, 0.11220000000000001, 0.1124, 0.1126, 0.11280000000000001, 0.113, 0.11320000000000001, 0.1134, 0.1136, 0.11380000000000001, 0.114, 0.11420000000000001, 0.1144, 0.11460000000000001, 0.1148, 0.115, 0.11520000000000001, 0.1154, 0.11560000000000001, 0.1158, 0.116, 0.11620000000000001, 0.1164, 0.11660000000000001, 0.1168, 0.117, 0.11720000000000001, 0.1174, 0.11760000000000001, 0.1178, 0.11800000000000001, 0.1182, 0.1184, 0.11860000000000001, 0.1188, 0.11900000000000001, 0.1192, 0.1194, 0.11960000000000001, 0.1198, 0.12000000000000001, 0.1202, 0.12040000000000001, 0.1206, 0.1208, 0.12100000000000001, 0.1212, 0.12140000000000001, 0.1216, 0.1218, 0.12200000000000001, 0.1222, 0.12240000000000001, 0.1226, 0.1228, 0.12300000000000001, 0.1232, 0.12340000000000001, 0.1236, 0.12380000000000001, 0.124, 0.1242, 0.12440000000000001, 0.1246, 0.12480000000000001, 0.125, 0.1252, 0.1254, 0.12560000000000002, 0.1258, 0.126, 0.1262, 0.1264, 0.12660000000000002, 0.1268, 0.127, 0.1272, 0.1274, 0.12760000000000002, 0.1278, 0.128, 0.1282, 0.12840000000000001, 0.12860000000000002, 0.1288, 0.129, 0.1292, 0.12940000000000002, 0.1296, 0.1298, 0.13, 0.1302, 0.13040000000000002, 0.1306, 0.1308, 0.131, 0.1312, 0.13140000000000002, 0.1316, 0.1318, 0.132, 0.1322, 0.13240000000000002, 0.1326, 0.1328, 0.133, 0.1332, 0.13340000000000002, 0.1336, 0.1338, 0.134, 0.1342, 0.13440000000000002, 0.1346, 0.1348, 0.135, 0.13520000000000001, 0.13540000000000002, 0.1356, 0.1358, 0.136, 0.13620000000000002, 0.1364, 0.1366, 0.1368, 0.137, 0.13720000000000002, 0.1374, 0.1376, 0.1378, 0.138, 0.13820000000000002, 0.1384, 0.1386, 0.1388, 0.139, 0.13920000000000002, 0.1394, 0.1396, 0.1398, 0.14, 0.14020000000000002, 0.1404, 0.1406, 0.1408, 0.14100000000000001, 0.14120000000000002, 0.1414, 0.1416, 0.1418, 0.14200000000000002, 0.1422, 0.1424, 0.1426, 0.1428, 0.14300000000000002, 0.1432, 0.1434, 0.1436, 0.1438, 0.14400000000000002, 0.1442, 0.1444, 0.1446, 0.1448, 0.14500000000000002, 0.1452, 0.1454, 0.1456, 0.1458, 0.14600000000000002, 0.1462, 0.1464, 0.1466, 0.1468, 0.14700000000000002, 0.1472, 0.1474, 0.1476, 0.14780000000000001, 0.14800000000000002, 0.1482, 0.1484, 0.1486, 0.14880000000000002, 0.149, 0.1492, 0.1494, 0.1496, 0.14980000000000002, 0.15, 0.1502, 0.1504, 0.1506, 0.15080000000000002, 0.151, 0.1512, 0.1514, 0.1516, 0.15180000000000002, 0.152, 0.1522, 0.1524, 0.1526, 0.15280000000000002, 0.153, 0.1532, 0.1534, 0.15360000000000001, 0.15380000000000002, 0.154, 0.1542, 0.1544, 0.15460000000000002, 0.15480000000000002, 0.155, 0.1552, 0.1554, 0.15560000000000002, 0.1558, 0.156, 0.1562, 0.1564, 0.15660000000000002, 0.1568, 0.157, 0.1572, 0.1574, 0.15760000000000002, 0.1578, 0.158, 0.1582, 0.1584, 0.15860000000000002, 0.1588, 0.159, 0.1592, 0.15940000000000001, 0.15960000000000002, 0.1598, 0.16, 0.1602, 0.16040000000000001, 0.16060000000000002, 0.1608, 0.161, 0.1612, 0.16140000000000002, 0.16160000000000002, 0.1618, 0.162, 0.1622, 0.16240000000000002, 0.1626, 0.1628, 0.163, 0.1632, 0.16340000000000002, 0.1636, 0.1638, 0.164, 0.1642, 0.16440000000000002, 0.1646, 0.1648, 0.165, 0.1652, 0.16540000000000002, 0.1656, 0.1658, 0.166, 0.16620000000000001, 0.16640000000000002, 0.1666, 0.1668, 0.167, 0.16720000000000002, 0.16740000000000002, 0.1676, 0.1678, 0.168, 0.16820000000000002, 0.16840000000000002, 0.1686, 0.1688, 0.169, 0.16920000000000002, 0.1694, 0.1696, 0.1698, 0.17, 0.17020000000000002, 0.1704, 0.1706, 0.1708, 0.171, 0.17120000000000002, 0.1714, 0.1716, 0.1718, 0.17200000000000001, 0.17220000000000002, 0.1724, 0.1726, 0.1728, 0.17300000000000001, 0.17320000000000002, 0.1734, 0.1736, 0.1738, 0.17400000000000002, 0.17420000000000002, 0.1744, 0.1746, 0.1748, 0.17500000000000002, 0.1752, 0.1754, 0.1756, 0.1758, 0.17600000000000002, 0.1762, 0.1764, 0.1766, 0.1768, 0.17700000000000002, 0.1772, 0.1774, 0.1776, 0.1778, 0.17800000000000002, 0.1782, 0.1784, 0.1786, 0.17880000000000001, 0.17900000000000002, 0.1792, 0.1794, 0.1796, 0.17980000000000002, 0.18000000000000002, 0.1802, 0.1804, 0.1806, 0.18080000000000002, 0.18100000000000002, 0.1812, 0.1814, 0.1816, 0.18180000000000002, 0.182, 0.1822, 0.1824, 0.1826, 0.18280000000000002, 0.183, 0.1832, 0.1834, 0.1836, 0.18380000000000002, 0.184, 0.1842, 0.1844, 0.18460000000000001, 0.18480000000000002, 0.185, 0.1852, 0.1854, 0.18560000000000001, 0.18580000000000002, 0.186, 0.1862, 0.1864, 0.18660000000000002, 0.18680000000000002, 0.187, 0.1872, 0.1874, 0.18760000000000002, 0.18780000000000002, 0.188, 0.1882, 0.1884, 0.18860000000000002, 0.1888, 0.189, 0.1892, 0.1894, 0.18960000000000002, 0.1898, 0.19, 0.1902, 0.1904, 0.19060000000000002, 0.1908, 0.191, 0.1912, 0.19140000000000001, 0.19160000000000002, 0.1918, 0.192, 0.1922, 0.19240000000000002, 0.19260000000000002, 0.1928, 0.193, 0.1932, 0.19340000000000002, 0.19360000000000002, 0.1938, 0.194, 0.1942, 0.19440000000000002, 0.19460000000000002, 0.1948, 0.195, 0.1952, 0.19540000000000002, 0.1956, 0.1958, 0.196, 0.1962, 0.19640000000000002, 0.1966, 0.1968, 0.197, 0.19720000000000001, 0.19740000000000002, 0.1976, 0.1978, 0.198, 0.19820000000000002, 0.19840000000000002, 0.1986, 0.1988, 0.199, 0.19920000000000002, 0.19940000000000002, 0.1996, 0.1998, 0.2, 0.20020000000000002, 0.20040000000000002, 0.2006, 0.2008, 0.201, 0.20120000000000002, 0.20140000000000002, 0.2016, 0.2018, 0.202, 0.20220000000000002, 0.2024, 0.2026, 0.2028, 0.203, 0.20320000000000002, 0.2034, 0.2036, 0.2038, 0.20400000000000001, 0.20420000000000002, 0.2044, 0.2046, 0.2048, 0.20500000000000002, 0.20520000000000002, 0.2054, 0.2056, 0.2058, 0.20600000000000002, 0.20620000000000002, 0.2064, 0.2066, 0.2068, 0.20700000000000002, 0.20720000000000002, 0.2074, 0.2076, 0.2078, 0.20800000000000002, 0.2082, 0.2084, 0.2086, 0.2088, 0.20900000000000002, 0.2092, 0.2094, 0.2096, 0.20980000000000001, 0.21000000000000002, 0.2102, 0.2104, 0.2106, 0.21080000000000002, 0.21100000000000002, 0.2112, 0.2114, 0.2116, 0.21180000000000002, 0.21200000000000002, 0.2122, 0.2124, 0.2126, 0.21280000000000002, 0.21300000000000002, 0.2132, 0.2134, 0.2136, 0.21380000000000002, 0.21400000000000002, 0.2142, 0.2144, 0.2146, 0.21480000000000002, 0.215, 0.2152, 0.2154, 0.2156, 0.21580000000000002, 0.216, 0.2162, 0.2164, 0.21660000000000001, 0.21680000000000002, 0.217, 0.2172, 0.2174, 0.21760000000000002, 0.21780000000000002, 0.218, 0.2182, 0.2184, 0.21860000000000002, 0.21880000000000002, 0.219, 0.2192, 0.2194, 0.21960000000000002, 0.21980000000000002, 0.22, 0.2202, 0.2204, 0.22060000000000002, 0.22080000000000002, 0.221, 0.2212, 0.2214, 0.22160000000000002, 0.2218, 0.222, 0.2222, 0.22240000000000001, 0.22260000000000002, 0.2228, 0.223, 0.2232, 0.22340000000000002, 0.22360000000000002, 0.2238, 0.224, 0.2242, 0.22440000000000002, 0.22460000000000002, 0.2248, 0.225, 0.2252, 0.22540000000000002, 0.22560000000000002, 0.2258, 0.226, 0.2262, 0.22640000000000002, 0.22660000000000002, 0.2268, 0.227, 0.2272, 0.22740000000000002, 0.22760000000000002, 0.2278, 0.228, 0.22820000000000001, 0.22840000000000002, 0.2286, 0.2288, 0.229, 0.22920000000000001, 0.22940000000000002, 0.2296, 0.2298, 0.23, 0.23020000000000002, 0.23040000000000002, 0.2306, 0.2308, 0.231, 0.23120000000000002, 0.23140000000000002, 0.2316, 0.2318, 0.232, 0.23220000000000002, 0.23240000000000002, 0.2326, 0.2328, 0.233, 0.23320000000000002, 0.23340000000000002, 0.2336, 0.2338, 0.234, 0.23420000000000002, 0.23440000000000003, 0.2346, 0.2348, 0.23500000000000001, 0.23520000000000002, 0.2354, 0.2356, 0.2358, 0.23600000000000002, 0.23620000000000002, 0.2364, 0.2366, 0.2368, 0.23700000000000002, 0.23720000000000002, 0.2374, 0.2376, 0.2378, 0.23800000000000002, 0.23820000000000002, 0.2384, 0.2386, 0.2388, 0.23900000000000002, 0.23920000000000002, 0.2394, 0.2396, 0.2398, 0.24000000000000002, 0.24020000000000002, 0.2404, 0.2406, 0.24080000000000001, 0.24100000000000002, 0.2412, 0.2414, 0.2416, 0.24180000000000001, 0.24200000000000002, 0.2422, 0.2424, 0.2426, 0.24280000000000002, 0.24300000000000002, 0.2432, 0.2434, 0.2436, 0.24380000000000002, 0.24400000000000002, 0.2442, 0.2444, 0.2446, 0.24480000000000002, 0.24500000000000002, 0.2452, 0.2454, 0.2456, 0.24580000000000002, 0.24600000000000002, 0.2462, 0.2464, 0.2466, 0.24680000000000002, 0.24700000000000003, 0.2472, 0.2474, 0.24760000000000001, 0.24780000000000002, 0.248, 0.2482, 0.2484, 0.24860000000000002, 0.24880000000000002, 0.249, 0.2492, 0.2494, 0.24960000000000002, 0.24980000000000002, 0.25, 0.25020000000000003, 0.2504, 0.2506, 0.2508, 0.251, 0.25120000000000003, 0.2514, 0.2516, 0.2518, 0.252, 0.25220000000000004, 0.2524, 0.2526, 0.2528, 0.253, 0.25320000000000004, 0.2534, 0.2536, 0.2538, 0.254, 0.25420000000000004, 0.2544, 0.2546, 0.2548, 0.255, 0.25520000000000004, 0.2554, 0.2556, 0.2558, 0.256, 0.25620000000000004, 0.2564, 0.2566, 0.25680000000000003, 0.257, 0.25720000000000004, 0.2574, 0.2576, 0.25780000000000003, 0.258, 0.2582, 0.2584, 0.2586, 0.25880000000000003, 0.259, 0.2592, 0.2594, 0.2596, 0.25980000000000003, 0.26, 0.2602, 0.2604, 0.2606, 0.26080000000000003, 0.261, 0.2612, 0.2614, 0.2616, 0.26180000000000003, 0.262, 0.2622, 0.2624, 0.2626, 0.26280000000000003, 0.263, 0.2632, 0.2634, 0.2636, 0.26380000000000003, 0.264, 0.2642, 0.2644, 0.2646, 0.26480000000000004, 0.265, 0.2652, 0.2654, 0.2656, 0.26580000000000004, 0.266, 0.2662, 0.2664, 0.2666, 0.26680000000000004, 0.267, 0.2672, 0.2674, 0.2676, 0.26780000000000004, 0.268, 0.2682, 0.2684, 0.2686, 0.26880000000000004, 0.269, 0.2692, 0.26940000000000003, 0.2696, 0.26980000000000004, 0.27, 0.2702, 0.27040000000000003, 0.2706, 0.27080000000000004, 0.271, 0.2712, 0.27140000000000003, 0.2716, 0.2718, 0.272, 0.2722, 0.27240000000000003, 0.2726, 0.2728, 0.273, 0.2732, 0.27340000000000003, 0.2736, 0.2738, 0.274, 0.2742, 0.27440000000000003, 0.2746, 0.2748, 0.275, 0.2752, 0.27540000000000003, 0.2756, 0.2758, 0.276, 0.2762, 0.27640000000000003, 0.2766, 0.2768, 0.277, 0.2772, 0.27740000000000004, 0.2776, 0.2778, 0.278, 0.2782, 0.27840000000000004, 0.2786, 0.2788, 0.279, 0.2792, 0.27940000000000004, 0.2796, 0.2798, 0.28, 0.2802, 0.28040000000000004, 0.2806, 0.2808, 0.281, 0.2812, 0.28140000000000004, 0.2816, 0.2818, 0.28200000000000003, 0.2822, 0.28240000000000004, 0.2826, 0.2828, 0.28300000000000003, 0.2832, 0.28340000000000004, 0.2836, 0.2838, 0.28400000000000003, 0.2842, 0.2844, 0.2846, 0.2848, 0.28500000000000003, 0.2852, 0.2854, 0.2856, 0.2858, 0.28600000000000003, 0.2862, 0.2864, 0.2866, 0.2868, 0.28700000000000003, 0.2872, 0.2874, 0.2876, 0.2878, 0.28800000000000003, 0.2882, 0.2884, 0.2886, 0.2888, 0.28900000000000003, 0.2892, 0.2894, 0.2896, 0.2898, 0.29000000000000004, 0.2902, 0.2904, 0.2906, 0.2908, 0.29100000000000004, 0.2912, 0.2914, 0.2916, 0.2918, 0.29200000000000004, 0.2922, 0.2924, 0.2926, 0.2928, 0.29300000000000004, 0.2932, 0.2934, 0.2936, 0.2938, 0.29400000000000004, 0.2942, 0.2944, 0.29460000000000003, 0.2948, 0.29500000000000004, 0.2952, 0.2954, 0.29560000000000003, 0.2958, 0.29600000000000004, 0.2962, 0.2964, 0.29660000000000003, 0.2968, 0.29700000000000004, 0.2972, 0.2974, 0.29760000000000003, 0.2978, 0.298, 0.2982, 0.2984, 0.29860000000000003, 0.2988, 0.299, 0.2992, 0.2994, 0.29960000000000003, 0.2998, 0.3, 0.3002, 0.3004, 0.30060000000000003, 0.3008, 0.301, 0.3012, 0.3014, 0.30160000000000003, 0.3018, 0.302, 0.3022, 0.3024, 0.30260000000000004, 0.3028, 0.303, 0.3032, 0.3034, 0.30360000000000004, 0.3038, 0.304, 0.3042, 0.3044, 0.30460000000000004, 0.3048, 0.305, 0.3052, 0.3054, 0.30560000000000004, 0.3058, 0.306, 0.3062, 0.3064, 0.30660000000000004, 0.3068, 0.307, 0.30720000000000003, 0.3074, 0.30760000000000004, 0.3078, 0.308, 0.30820000000000003, 0.3084, 0.30860000000000004, 0.3088, 0.309, 0.30920000000000003, 0.3094, 0.30960000000000004, 0.3098, 0.31, 0.31020000000000003, 0.3104, 0.3106, 0.3108, 0.311, 0.31120000000000003, 0.3114, 0.3116, 0.3118, 0.312, 0.31220000000000003, 0.3124, 0.3126, 0.3128, 0.313, 0.31320000000000003, 0.3134, 0.3136, 0.3138, 0.314, 0.31420000000000003, 0.3144, 0.3146, 0.3148, 0.315, 0.31520000000000004, 0.3154, 0.3156, 0.3158, 0.316, 0.31620000000000004, 0.3164, 0.3166, 0.3168, 0.317, 0.31720000000000004, 0.3174, 0.3176, 0.3178, 0.318, 0.31820000000000004, 0.3184, 0.3186, 0.31880000000000003, 0.319, 0.31920000000000004, 0.3194, 0.3196, 0.31980000000000003, 0.32, 0.32020000000000004, 0.3204, 0.3206, 0.32080000000000003, 0.321, 0.32120000000000004, 0.3214, 0.3216, 0.32180000000000003, 0.322, 0.32220000000000004, 0.3224, 0.3226, 0.32280000000000003, 0.323, 0.32320000000000004, 0.3234, 0.3236, 0.32380000000000003, 0.324, 0.3242, 0.3244, 0.3246, 0.32480000000000003, 0.325, 0.3252, 0.3254, 0.3256, 0.32580000000000003, 0.326, 0.3262, 0.3264, 0.3266, 0.32680000000000003, 0.327, 0.3272, 0.3274, 0.3276, 0.32780000000000004, 0.328, 0.3282, 0.3284, 0.3286, 0.32880000000000004, 0.329, 0.3292, 0.3294, 0.3296, 0.32980000000000004, 0.33, 0.3302, 0.3304, 0.3306, 0.33080000000000004, 0.331, 0.3312, 0.33140000000000003, 0.3316, 0.33180000000000004, 0.332, 0.3322, 0.33240000000000003, 0.3326, 0.33280000000000004, 0.333, 0.3332, 0.33340000000000003, 0.3336, 0.33380000000000004, 0.334, 0.3342, 0.33440000000000003, 0.3346, 0.33480000000000004, 0.335, 0.3352, 0.33540000000000003, 0.3356, 0.33580000000000004, 0.336, 0.3362, 0.33640000000000003, 0.3366, 0.33680000000000004, 0.337, 0.3372, 0.33740000000000003, 0.3376, 0.3378, 0.338, 0.3382, 0.33840000000000003, 0.3386, 0.3388, 0.339, 0.3392, 0.33940000000000003, 0.3396, 0.3398, 0.34, 0.3402, 0.34040000000000004, 0.3406, 0.3408, 0.341, 0.3412, 0.34140000000000004, 0.3416, 0.3418, 0.342, 0.3422, 0.34240000000000004, 0.3426, 0.3428, 0.343, 0.3432, 0.34340000000000004, 0.3436, 0.3438, 0.34400000000000003, 0.3442, 0.34440000000000004, 0.3446, 0.3448, 0.34500000000000003, 0.3452, 0.34540000000000004, 0.3456, 0.3458, 0.34600000000000003, 0.3462, 0.34640000000000004, 0.3466, 0.3468, 0.34700000000000003, 0.3472, 0.34740000000000004, 0.3476, 0.3478, 0.34800000000000003, 0.3482, 0.34840000000000004, 0.3486, 0.3488, 0.34900000000000003, 0.3492, 0.34940000000000004, 0.3496, 0.3498, 0.35000000000000003, 0.3502, 0.3504, 0.3506, 0.3508, 0.35100000000000003, 0.3512, 0.3514, 0.3516, 0.3518, 0.35200000000000004, 0.3522, 0.3524, 0.3526, 0.3528, 0.35300000000000004, 0.3532, 0.3534, 0.3536, 0.3538, 0.35400000000000004, 0.3542, 0.3544, 0.3546, 0.3548, 0.35500000000000004, 0.3552, 0.3554, 0.3556, 0.3558, 0.35600000000000004, 0.3562, 0.3564, 0.35660000000000003, 0.3568, 0.35700000000000004, 0.3572, 0.3574, 0.35760000000000003, 0.3578, 0.35800000000000004, 0.3582, 0.3584, 0.35860000000000003, 0.3588, 0.35900000000000004, 0.3592, 0.3594, 0.35960000000000003, 0.3598, 0.36000000000000004, 0.3602, 0.3604, 0.36060000000000003, 0.3608, 0.36100000000000004, 0.3612, 0.3614, 0.36160000000000003, 0.3618, 0.36200000000000004, 0.3622, 0.3624, 0.36260000000000003, 0.3628, 0.36300000000000004, 0.3632, 0.3634, 0.36360000000000003, 0.3638, 0.364, 0.3642, 0.3644, 0.36460000000000004, 0.3648, 0.365, 0.3652, 0.3654, 0.36560000000000004, 0.3658, 0.366, 0.3662, 0.3664, 0.36660000000000004, 0.3668, 0.367, 0.3672, 0.3674, 0.36760000000000004, 0.3678, 0.368, 0.3682, 0.3684, 0.36860000000000004, 0.3688, 0.369, 0.36920000000000003, 0.3694, 0.36960000000000004, 0.3698, 0.37, 0.37020000000000003, 0.3704, 0.37060000000000004, 0.3708, 0.371, 0.37120000000000003, 0.3714, 0.37160000000000004, 0.3718, 0.372, 0.37220000000000003, 0.3724, 0.37260000000000004, 0.3728, 0.373, 0.37320000000000003, 0.3734, 0.37360000000000004, 0.3738, 0.374, 0.37420000000000003, 0.3744, 0.37460000000000004, 0.3748, 0.375, 0.37520000000000003, 0.3754, 0.37560000000000004, 0.3758, 0.376, 0.37620000000000003, 0.3764, 0.3766, 0.3768, 0.377, 0.37720000000000004, 0.3774, 0.3776, 0.3778, 0.378, 0.37820000000000004, 0.3784, 0.3786, 0.3788, 0.379, 0.37920000000000004, 0.3794, 0.3796, 0.3798, 0.38, 0.38020000000000004, 0.3804, 0.3806, 0.3808, 0.381, 0.38120000000000004, 0.3814, 0.3816, 0.38180000000000003, 0.382, 0.38220000000000004, 0.3824, 0.3826, 0.38280000000000003, 0.383, 0.38320000000000004, 0.3834, 0.3836, 0.38380000000000003, 0.384, 0.38420000000000004, 0.3844, 0.3846, 0.38480000000000003, 0.385, 0.38520000000000004, 0.3854, 0.3856, 0.38580000000000003, 0.386, 0.38620000000000004, 0.3864, 0.3866, 0.38680000000000003, 0.387, 0.38720000000000004, 0.3874, 0.3876, 0.38780000000000003, 0.388, 0.38820000000000005, 0.3884, 0.3886, 0.38880000000000003, 0.389, 0.38920000000000005, 0.3894, 0.3896, 0.38980000000000004, 0.39, 0.3902, 0.3904, 0.3906, 0.39080000000000004, 0.391, 0.3912, 0.3914, 0.3916, 0.39180000000000004, 0.392, 0.3922, 0.3924, 0.3926, 0.39280000000000004, 0.393, 0.3932, 0.3934, 0.3936, 0.39380000000000004, 0.394, 0.3942, 0.39440000000000003, 0.3946, 0.39480000000000004, 0.395, 0.3952, 0.39540000000000003, 0.3956, 0.39580000000000004, 0.396, 0.3962, 0.39640000000000003, 0.3966, 0.39680000000000004, 0.397, 0.3972, 0.39740000000000003, 0.3976, 0.39780000000000004, 0.398, 0.3982, 0.39840000000000003, 0.3986, 0.39880000000000004, 0.399, 0.3992, 0.39940000000000003, 0.3996, 0.39980000000000004, 0.4, 0.4002, 0.40040000000000003, 0.4006, 0.40080000000000005, 0.401, 0.4012, 0.40140000000000003, 0.4016, 0.40180000000000005, 0.402, 0.4022, 0.40240000000000004, 0.4026, 0.40280000000000005, 0.403, 0.4032, 0.40340000000000004, 0.4036, 0.4038, 0.404, 0.4042, 0.40440000000000004, 0.4046, 0.4048, 0.405, 0.4052, 0.40540000000000004, 0.4056, 0.4058, 0.406, 0.4062, 0.40640000000000004, 0.4066, 0.4068, 0.40700000000000003, 0.4072, 0.40740000000000004, 0.4076, 0.4078, 0.40800000000000003, 0.4082, 0.40840000000000004, 0.4086, 0.4088, 0.40900000000000003, 0.4092, 0.40940000000000004, 0.4096, 0.4098, 0.41000000000000003, 0.4102, 0.41040000000000004, 0.4106, 0.4108, 0.41100000000000003, 0.4112, 0.41140000000000004, 0.4116, 0.4118, 0.41200000000000003, 0.4122, 0.41240000000000004, 0.4126, 0.4128, 0.41300000000000003, 0.4132, 0.41340000000000005, 0.4136, 0.4138, 0.41400000000000003, 0.4142, 0.41440000000000005, 0.4146, 0.4148, 0.41500000000000004, 0.4152, 0.41540000000000005, 0.4156, 0.4158, 0.41600000000000004, 0.4162, 0.4164, 0.4166, 0.4168, 0.41700000000000004, 0.4172, 0.4174, 0.4176, 0.4178, 0.41800000000000004, 0.4182, 0.4184, 0.4186, 0.4188, 0.41900000000000004, 0.4192, 0.4194, 0.41960000000000003, 0.4198, 0.42000000000000004, 0.4202, 0.4204, 0.42060000000000003, 0.4208, 0.42100000000000004, 0.4212, 0.4214, 0.42160000000000003, 0.4218, 0.42200000000000004, 0.4222, 0.4224, 0.42260000000000003, 0.4228, 0.42300000000000004, 0.4232, 0.4234, 0.42360000000000003, 0.4238, 0.42400000000000004, 0.4242, 0.4244, 0.42460000000000003, 0.4248, 0.42500000000000004, 0.4252, 0.4254, 0.42560000000000003, 0.4258, 0.42600000000000005, 0.4262, 0.4264, 0.42660000000000003, 0.4268, 0.42700000000000005, 0.4272, 0.4274, 0.42760000000000004, 0.4278, 0.42800000000000005, 0.4282, 0.4284, 0.42860000000000004, 0.4288, 0.42900000000000005, 0.4292, 0.4294, 0.42960000000000004, 0.4298, 0.43, 0.4302, 0.4304, 0.43060000000000004, 0.4308, 0.431, 0.4312, 0.4314, 0.43160000000000004, 0.4318, 0.432, 0.43220000000000003, 0.4324, 0.43260000000000004, 0.4328, 0.433, 0.43320000000000003, 0.4334, 0.43360000000000004, 0.4338, 0.434, 0.43420000000000003, 0.4344, 0.43460000000000004, 0.4348, 0.435, 0.43520000000000003, 0.4354, 0.43560000000000004, 0.4358, 0.436, 0.43620000000000003, 0.4364, 0.43660000000000004, 0.4368, 0.437, 0.43720000000000003, 0.4374, 0.43760000000000004, 0.4378, 0.438, 0.43820000000000003, 0.4384, 0.43860000000000005, 0.4388, 0.439, 0.43920000000000003, 0.4394, 0.43960000000000005, 0.4398, 0.44, 0.44020000000000004, 0.4404, 0.44060000000000005, 0.4408, 0.441, 0.44120000000000004, 0.4414, 0.44160000000000005, 0.4418, 0.442, 0.44220000000000004, 0.4424, 0.44260000000000005, 0.4428, 0.443, 0.44320000000000004, 0.4434, 0.4436, 0.44380000000000003, 0.444, 0.44420000000000004, 0.4444, 0.4446, 0.44480000000000003, 0.445, 0.44520000000000004, 0.4454, 0.4456, 0.44580000000000003, 0.446, 0.44620000000000004, 0.4464, 0.4466, 0.44680000000000003, 0.447, 0.44720000000000004, 0.4474, 0.4476, 0.44780000000000003, 0.448, 0.44820000000000004, 0.4484, 0.4486, 0.44880000000000003, 0.449, 0.44920000000000004, 0.4494, 0.4496, 0.44980000000000003, 0.45, 0.45020000000000004, 0.4504, 0.4506, 0.45080000000000003, 0.451, 0.45120000000000005, 0.4514, 0.4516, 0.45180000000000003, 0.452, 0.45220000000000005, 0.4524, 0.4526, 0.45280000000000004, 0.453, 0.45320000000000005, 0.4534, 0.4536, 0.45380000000000004, 0.454, 0.45420000000000005, 0.4544, 0.4546, 0.45480000000000004, 0.455, 0.45520000000000005, 0.4554, 0.4556, 0.45580000000000004, 0.456, 0.4562, 0.45640000000000003, 0.4566, 0.45680000000000004, 0.457, 0.4572, 0.45740000000000003, 0.4576, 0.45780000000000004, 0.458, 0.4582, 0.45840000000000003, 0.4586, 0.45880000000000004, 0.459, 0.4592, 0.45940000000000003, 0.4596, 0.45980000000000004, 0.46, 0.4602, 0.46040000000000003, 0.4606, 0.46080000000000004, 0.461, 0.4612, 0.46140000000000003, 0.4616, 0.46180000000000004, 0.462, 0.4622, 0.46240000000000003, 0.4626, 0.46280000000000004, 0.463, 0.4632, 0.46340000000000003, 0.4636, 0.46380000000000005, 0.464, 0.4642, 0.46440000000000003, 0.4646, 0.46480000000000005, 0.465, 0.4652, 0.46540000000000004, 0.4656, 0.46580000000000005, 0.466, 0.4662, 0.46640000000000004, 0.4666, 0.46680000000000005, 0.467, 0.4672, 0.46740000000000004, 0.4676, 0.46780000000000005, 0.468, 0.4682, 0.46840000000000004, 0.4686, 0.46880000000000005, 0.46900000000000003, 0.4692, 0.46940000000000004, 0.4696, 0.4698, 0.47000000000000003, 0.4702, 0.47040000000000004, 0.4706, 0.4708, 0.47100000000000003, 0.4712, 0.47140000000000004, 0.4716, 0.4718, 0.47200000000000003, 0.4722, 0.47240000000000004, 0.4726, 0.4728, 0.47300000000000003, 0.4732, 0.47340000000000004, 0.4736, 0.4738, 0.47400000000000003, 0.4742, 0.47440000000000004, 0.4746, 0.4748, 0.47500000000000003, 0.4752, 0.47540000000000004, 0.4756, 0.4758, 0.47600000000000003, 0.4762, 0.47640000000000005, 0.4766, 0.4768, 0.47700000000000004, 0.4772, 0.47740000000000005, 0.4776, 0.4778, 0.47800000000000004, 0.4782, 0.47840000000000005, 0.4786, 0.4788, 0.47900000000000004, 0.4792, 0.47940000000000005, 0.4796, 0.4798, 0.48000000000000004, 0.4802, 0.48040000000000005, 0.4806, 0.4808, 0.48100000000000004, 0.4812, 0.48140000000000005, 0.48160000000000003, 0.4818, 0.48200000000000004, 0.4822, 0.4824, 0.48260000000000003, 0.4828, 0.48300000000000004, 0.4832, 0.4834, 0.48360000000000003, 0.4838, 0.48400000000000004, 0.4842, 0.4844, 0.48460000000000003, 0.4848, 0.48500000000000004, 0.4852, 0.4854, 0.48560000000000003, 0.4858, 0.48600000000000004, 0.4862, 0.4864, 0.48660000000000003, 0.4868, 0.48700000000000004, 0.4872, 0.4874, 0.48760000000000003, 0.4878, 0.48800000000000004, 0.4882, 0.4884, 0.48860000000000003, 0.4888, 0.48900000000000005, 0.4892, 0.4894, 0.48960000000000004, 0.4898, 0.49000000000000005, 0.4902, 0.4904, 0.49060000000000004, 0.4908, 0.49100000000000005, 0.4912, 0.4914, 0.49160000000000004, 0.4918, 0.49200000000000005, 0.4922, 0.4924, 0.49260000000000004, 0.4928, 0.49300000000000005, 0.4932, 0.4934, 0.49360000000000004, 0.4938, 0.49400000000000005, 0.49420000000000003, 0.4944, 0.49460000000000004, 0.4948, 0.49500000000000005, 0.49520000000000003, 0.4954, 0.49560000000000004, 0.4958, 0.496, 0.49620000000000003, 0.4964, 0.49660000000000004, 0.4968, 0.497, 0.49720000000000003, 0.4974, 0.49760000000000004, 0.4978, 0.498, 0.49820000000000003, 0.4984, 0.49860000000000004, 0.4988, 0.499, 0.49920000000000003, 0.4994, 0.49960000000000004, 0.4998, 0.5, 0.5002, 0.5004000000000001, 0.5006, 0.5008, 0.501, 0.5012, 0.5014000000000001, 0.5016, 0.5018, 0.502, 0.5022, 0.5024000000000001, 0.5026, 0.5028, 0.503, 0.5032, 0.5034000000000001, 0.5036, 0.5038, 0.504, 0.5042, 0.5044000000000001, 0.5046, 0.5048, 0.505, 0.5052, 0.5054000000000001, 0.5056, 0.5058, 0.506, 0.5062, 0.5064000000000001, 0.5066, 0.5068, 0.507, 0.5072, 0.5074000000000001, 0.5076, 0.5078, 0.508, 0.5082, 0.5084000000000001, 0.5086, 0.5088, 0.509, 0.5092, 0.5094000000000001, 0.5096, 0.5098, 0.51, 0.5102, 0.5104000000000001, 0.5106, 0.5108, 0.511, 0.5112, 0.5114000000000001, 0.5116, 0.5118, 0.512, 0.5122, 0.5124000000000001, 0.5126000000000001, 0.5128, 0.513, 0.5132, 0.5134000000000001, 0.5136000000000001, 0.5138, 0.514, 0.5142, 0.5144000000000001, 0.5146000000000001, 0.5148, 0.515, 0.5152, 0.5154, 0.5156000000000001, 0.5158, 0.516, 0.5162, 0.5164, 0.5166000000000001, 0.5168, 0.517, 0.5172, 0.5174, 0.5176000000000001, 0.5178, 0.518, 0.5182, 0.5184, 0.5186000000000001, 0.5188, 0.519, 0.5192, 0.5194, 0.5196000000000001, 0.5198, 0.52, 0.5202, 0.5204, 0.5206000000000001, 0.5208, 0.521, 0.5212, 0.5214, 0.5216000000000001, 0.5218, 0.522, 0.5222, 0.5224, 0.5226000000000001, 0.5228, 0.523, 0.5232, 0.5234, 0.5236000000000001, 0.5238, 0.524, 0.5242, 0.5244, 0.5246000000000001, 0.5248, 0.525, 0.5252, 0.5254, 0.5256000000000001, 0.5258, 0.526, 0.5262, 0.5264, 0.5266000000000001, 0.5268, 0.527, 0.5272, 0.5274, 0.5276000000000001, 0.5278, 0.528, 0.5282, 0.5284, 0.5286000000000001, 0.5288, 0.529, 0.5292, 0.5294, 0.5296000000000001, 0.5298, 0.53, 0.5302, 0.5304, 0.5306000000000001, 0.5308, 0.531, 0.5312, 0.5314, 0.5316000000000001, 0.5318, 0.532, 0.5322, 0.5324, 0.5326000000000001, 0.5328, 0.533, 0.5332, 0.5334, 0.5336000000000001, 0.5338, 0.534, 0.5342, 0.5344, 0.5346000000000001, 0.5348, 0.535, 0.5352, 0.5354, 0.5356000000000001, 0.5358, 0.536, 0.5362, 0.5364, 0.5366000000000001, 0.5368, 0.537, 0.5372, 0.5374, 0.5376000000000001, 0.5378000000000001, 0.538, 0.5382, 0.5384, 0.5386000000000001, 0.5388000000000001, 0.539, 0.5392, 0.5394, 0.5396000000000001, 0.5398000000000001, 0.54, 0.5402, 0.5404, 0.5406000000000001, 0.5408000000000001, 0.541, 0.5412, 0.5414, 0.5416000000000001, 0.5418000000000001, 0.542, 0.5422, 0.5424, 0.5426, 0.5428000000000001, 0.543, 0.5432, 0.5434, 0.5436, 0.5438000000000001, 0.544, 0.5442, 0.5444, 0.5446, 0.5448000000000001, 0.545, 0.5452, 0.5454, 0.5456, 0.5458000000000001, 0.546, 0.5462, 0.5464, 0.5466, 0.5468000000000001, 0.547, 0.5472, 0.5474, 0.5476, 0.5478000000000001, 0.548, 0.5482, 0.5484, 0.5486, 0.5488000000000001, 0.549, 0.5492, 0.5494, 0.5496, 0.5498000000000001, 0.55, 0.5502, 0.5504, 0.5506, 0.5508000000000001, 0.551, 0.5512, 0.5514, 0.5516, 0.5518000000000001, 0.552, 0.5522, 0.5524, 0.5526, 0.5528000000000001, 0.553, 0.5532, 0.5534, 0.5536, 0.5538000000000001, 0.554, 0.5542, 0.5544, 0.5546, 0.5548000000000001, 0.555, 0.5552, 0.5554, 0.5556, 0.5558000000000001, 0.556, 0.5562, 0.5564, 0.5566, 0.5568000000000001, 0.557, 0.5572, 0.5574, 0.5576, 0.5578000000000001, 0.558, 0.5582, 0.5584, 0.5586, 0.5588000000000001, 0.559, 0.5592, 0.5594, 0.5596, 0.5598000000000001, 0.56, 0.5602, 0.5604, 0.5606, 0.5608000000000001, 0.561, 0.5612, 0.5614, 0.5616, 0.5618000000000001, 0.562, 0.5622, 0.5624, 0.5626, 0.5628000000000001, 0.5630000000000001, 0.5632, 0.5634, 0.5636, 0.5638000000000001, 0.5640000000000001, 0.5642, 0.5644, 0.5646, 0.5648000000000001, 0.5650000000000001, 0.5652, 0.5654, 0.5656, 0.5658000000000001, 0.5660000000000001, 0.5662, 0.5664, 0.5666, 0.5668000000000001, 0.5670000000000001, 0.5672, 0.5674, 0.5676, 0.5678000000000001, 0.5680000000000001, 0.5682, 0.5684, 0.5686, 0.5688, 0.5690000000000001, 0.5692, 0.5694, 0.5696, 0.5698, 0.5700000000000001, 0.5702, 0.5704, 0.5706, 0.5708, 0.5710000000000001, 0.5712, 0.5714, 0.5716, 0.5718, 0.5720000000000001, 0.5722, 0.5724, 0.5726, 0.5728, 0.5730000000000001, 0.5732, 0.5734, 0.5736, 0.5738, 0.5740000000000001, 0.5742, 0.5744, 0.5746, 0.5748, 0.5750000000000001, 0.5752, 0.5754, 0.5756, 0.5758, 0.5760000000000001, 0.5762, 0.5764, 0.5766, 0.5768, 0.5770000000000001, 0.5772, 0.5774, 0.5776, 0.5778, 0.5780000000000001, 0.5782, 0.5784, 0.5786, 0.5788, 0.5790000000000001, 0.5792, 0.5794, 0.5796, 0.5798, 0.5800000000000001, 0.5802, 0.5804, 0.5806, 0.5808, 0.5810000000000001, 0.5812, 0.5814, 0.5816, 0.5818, 0.5820000000000001, 0.5822, 0.5824, 0.5826, 0.5828, 0.5830000000000001, 0.5832, 0.5834, 0.5836, 0.5838, 0.5840000000000001, 0.5842, 0.5844, 0.5846, 0.5848, 0.5850000000000001, 0.5852, 0.5854, 0.5856, 0.5858, 0.5860000000000001, 0.5862, 0.5864, 0.5866, 0.5868, 0.5870000000000001, 0.5872, 0.5874, 0.5876, 0.5878, 0.5880000000000001, 0.5882000000000001, 0.5884, 0.5886, 0.5888, 0.5890000000000001, 0.5892000000000001, 0.5894, 0.5896, 0.5898, 0.5900000000000001, 0.5902000000000001, 0.5904, 0.5906, 0.5908, 0.5910000000000001, 0.5912000000000001, 0.5914, 0.5916, 0.5918, 0.5920000000000001, 0.5922000000000001, 0.5924, 0.5926, 0.5928, 0.5930000000000001, 0.5932000000000001, 0.5934, 0.5936, 0.5938, 0.5940000000000001, 0.5942000000000001, 0.5944, 0.5946, 0.5948, 0.595, 0.5952000000000001, 0.5954, 0.5956, 0.5958, 0.596, 0.5962000000000001, 0.5964, 0.5966, 0.5968, 0.597, 0.5972000000000001, 0.5974, 0.5976, 0.5978, 0.598, 0.5982000000000001, 0.5984, 0.5986, 0.5988, 0.599, 0.5992000000000001, 0.5994, 0.5996, 0.5998, 0.6, 0.6002000000000001, 0.6004, 0.6006, 0.6008, 0.601, 0.6012000000000001, 0.6014, 0.6016, 0.6018, 0.602, 0.6022000000000001, 0.6024, 0.6026, 0.6028, 0.603, 0.6032000000000001, 0.6034, 0.6036, 0.6038, 0.604, 0.6042000000000001, 0.6044, 0.6046, 0.6048, 0.605, 0.6052000000000001, 0.6054, 0.6056, 0.6058, 0.606, 0.6062000000000001, 0.6064, 0.6066, 0.6068, 0.607, 0.6072000000000001, 0.6074, 0.6076, 0.6078, 0.608, 0.6082000000000001, 0.6084, 0.6086, 0.6088, 0.609, 0.6092000000000001, 0.6094, 0.6096, 0.6098, 0.61, 0.6102000000000001, 0.6104, 0.6106, 0.6108, 0.611, 0.6112000000000001, 0.6114, 0.6116, 0.6118, 0.612, 0.6122000000000001, 0.6124, 0.6126, 0.6128, 0.613, 0.6132000000000001, 0.6134000000000001, 0.6136, 0.6138, 0.614, 0.6142000000000001, 0.6144000000000001, 0.6146, 0.6148, 0.615, 0.6152000000000001, 0.6154000000000001, 0.6156, 0.6158, 0.616, 0.6162000000000001, 0.6164000000000001, 0.6166, 0.6168, 0.617, 0.6172000000000001, 0.6174000000000001, 0.6176, 0.6178, 0.618, 0.6182000000000001, 0.6184000000000001, 0.6186, 0.6188, 0.619, 0.6192000000000001, 0.6194000000000001, 0.6196, 0.6198, 0.62, 0.6202000000000001, 0.6204000000000001, 0.6206, 0.6208, 0.621, 0.6212, 0.6214000000000001, 0.6216, 0.6218, 0.622, 0.6222, 0.6224000000000001, 0.6226, 0.6228, 0.623, 0.6232, 0.6234000000000001, 0.6236, 0.6238, 0.624, 0.6242, 0.6244000000000001, 0.6246, 0.6248, 0.625, 0.6252, 0.6254000000000001, 0.6256, 0.6258, 0.626, 0.6262, 0.6264000000000001, 0.6266, 0.6268, 0.627, 0.6272, 0.6274000000000001, 0.6276, 0.6278, 0.628, 0.6282, 0.6284000000000001, 0.6286, 0.6288, 0.629, 0.6292, 0.6294000000000001, 0.6296, 0.6298, 0.63, 0.6302, 0.6304000000000001, 0.6306, 0.6308, 0.631, 0.6312, 0.6314000000000001, 0.6316, 0.6318, 0.632, 0.6322, 0.6324000000000001, 0.6326, 0.6328, 0.633, 0.6332, 0.6334000000000001, 0.6336, 0.6338, 0.634, 0.6342, 0.6344000000000001, 0.6346, 0.6348, 0.635, 0.6352, 0.6354000000000001, 0.6356, 0.6358, 0.636, 0.6362, 0.6364000000000001, 0.6366, 0.6368, 0.637, 0.6372, 0.6374000000000001, 0.6376000000000001, 0.6378, 0.638, 0.6382, 0.6384000000000001, 0.6386000000000001, 0.6388, 0.639, 0.6392, 0.6394000000000001, 0.6396000000000001, 0.6398, 0.64, 0.6402, 0.6404000000000001, 0.6406000000000001, 0.6408, 0.641, 0.6412, 0.6414000000000001, 0.6416000000000001, 0.6418, 0.642, 0.6422, 0.6424000000000001, 0.6426000000000001, 0.6428, 0.643, 0.6432, 0.6434000000000001, 0.6436000000000001, 0.6438, 0.644, 0.6442, 0.6444000000000001, 0.6446000000000001, 0.6448, 0.645, 0.6452, 0.6454000000000001, 0.6456000000000001, 0.6458, 0.646, 0.6462, 0.6464000000000001, 0.6466000000000001, 0.6468, 0.647, 0.6472, 0.6474000000000001, 0.6476000000000001, 0.6478, 0.648, 0.6482, 0.6484, 0.6486000000000001, 0.6488, 0.649, 0.6492, 0.6494, 0.6496000000000001, 0.6498, 0.65, 0.6502, 0.6504, 0.6506000000000001, 0.6508, 0.651, 0.6512, 0.6514, 0.6516000000000001, 0.6518, 0.652, 0.6522, 0.6524, 0.6526000000000001, 0.6528, 0.653, 0.6532, 0.6534, 0.6536000000000001, 0.6538, 0.654, 0.6542, 0.6544, 0.6546000000000001, 0.6548, 0.655, 0.6552, 0.6554, 0.6556000000000001, 0.6558, 0.656, 0.6562, 0.6564, 0.6566000000000001, 0.6568, 0.657, 0.6572, 0.6574, 0.6576000000000001, 0.6578, 0.658, 0.6582, 0.6584, 0.6586000000000001, 0.6588, 0.659, 0.6592, 0.6594, 0.6596000000000001, 0.6598, 0.66, 0.6602, 0.6604, 0.6606000000000001, 0.6608, 0.661, 0.6612, 0.6614, 0.6616000000000001, 0.6618, 0.662, 0.6622, 0.6624, 0.6626000000000001, 0.6628000000000001, 0.663, 0.6632, 0.6634, 0.6636000000000001, 0.6638000000000001, 0.664, 0.6642, 0.6644, 0.6646000000000001, 0.6648000000000001, 0.665, 0.6652, 0.6654, 0.6656000000000001, 0.6658000000000001, 0.666, 0.6662, 0.6664, 0.6666000000000001, 0.6668000000000001, 0.667, 0.6672, 0.6674, 0.6676000000000001, 0.6678000000000001, 0.668, 0.6682, 0.6684, 0.6686000000000001, 0.6688000000000001, 0.669, 0.6692, 0.6694, 0.6696000000000001, 0.6698000000000001, 0.67, 0.6702, 0.6704, 0.6706000000000001, 0.6708000000000001, 0.671, 0.6712, 0.6714, 0.6716000000000001, 0.6718000000000001, 0.672, 0.6722, 0.6724, 0.6726000000000001, 0.6728000000000001, 0.673, 0.6732, 0.6734, 0.6736000000000001, 0.6738000000000001, 0.674, 0.6742, 0.6744, 0.6746, 0.6748000000000001, 0.675, 0.6752, 0.6754, 0.6756, 0.6758000000000001, 0.676, 0.6762, 0.6764, 0.6766, 0.6768000000000001, 0.677, 0.6772, 0.6774, 0.6776, 0.6778000000000001, 0.678, 0.6782, 0.6784, 0.6786, 0.6788000000000001, 0.679, 0.6792, 0.6794, 0.6796, 0.6798000000000001, 0.68, 0.6802, 0.6804, 0.6806, 0.6808000000000001, 0.681, 0.6812, 0.6814, 0.6816, 0.6818000000000001, 0.682, 0.6822, 0.6824, 0.6826, 0.6828000000000001, 0.683, 0.6832, 0.6834, 0.6836, 0.6838000000000001, 0.684, 0.6842, 0.6844, 0.6846, 0.6848000000000001, 0.685, 0.6852, 0.6854, 0.6856, 0.6858000000000001, 0.686, 0.6862, 0.6864, 0.6866, 0.6868000000000001, 0.687, 0.6872, 0.6874, 0.6876, 0.6878000000000001, 0.6880000000000001, 0.6882, 0.6884, 0.6886, 0.6888000000000001, 0.6890000000000001, 0.6892, 0.6894, 0.6896, 0.6898000000000001, 0.6900000000000001, 0.6902, 0.6904, 0.6906, 0.6908000000000001, 0.6910000000000001, 0.6912, 0.6914, 0.6916, 0.6918000000000001, 0.6920000000000001, 0.6922, 0.6924, 0.6926, 0.6928000000000001, 0.6930000000000001, 0.6932, 0.6934, 0.6936, 0.6938000000000001, 0.6940000000000001, 0.6942, 0.6944, 0.6946, 0.6948000000000001, 0.6950000000000001, 0.6952, 0.6954, 0.6956, 0.6958000000000001, 0.6960000000000001, 0.6962, 0.6964, 0.6966, 0.6968000000000001, 0.6970000000000001, 0.6972, 0.6974, 0.6976, 0.6978000000000001, 0.6980000000000001, 0.6982, 0.6984, 0.6986, 0.6988000000000001, 0.6990000000000001, 0.6992, 0.6994, 0.6996, 0.6998000000000001, 0.7000000000000001, 0.7002, 0.7004, 0.7006, 0.7008, 0.7010000000000001, 0.7012, 0.7014, 0.7016, 0.7018, 0.7020000000000001, 0.7022, 0.7024, 0.7026, 0.7028, 0.7030000000000001, 0.7032, 0.7034, 0.7036, 0.7038, 0.7040000000000001, 0.7042, 0.7044, 0.7046, 0.7048, 0.7050000000000001, 0.7052, 0.7054, 0.7056, 0.7058, 0.7060000000000001, 0.7062, 0.7064, 0.7066, 0.7068, 0.7070000000000001, 0.7072, 0.7074, 0.7076, 0.7078, 0.7080000000000001, 0.7082, 0.7084, 0.7086, 0.7088, 0.7090000000000001, 0.7092, 0.7094, 0.7096, 0.7098, 0.7100000000000001, 0.7102, 0.7104, 0.7106, 0.7108, 0.7110000000000001, 0.7112, 0.7114, 0.7116, 0.7118, 0.7120000000000001, 0.7122, 0.7124, 0.7126, 0.7128, 0.7130000000000001, 0.7132000000000001, 0.7134, 0.7136, 0.7138, 0.7140000000000001, 0.7142000000000001, 0.7144, 0.7146, 0.7148, 0.7150000000000001, 0.7152000000000001, 0.7154, 0.7156, 0.7158, 0.7160000000000001, 0.7162000000000001, 0.7164, 0.7166, 0.7168, 0.7170000000000001, 0.7172000000000001, 0.7174, 0.7176, 0.7178, 0.7180000000000001, 0.7182000000000001, 0.7184, 0.7186, 0.7188, 0.7190000000000001, 0.7192000000000001, 0.7194, 0.7196, 0.7198, 0.7200000000000001, 0.7202000000000001, 0.7204, 0.7206, 0.7208, 0.7210000000000001, 0.7212000000000001, 0.7214, 0.7216, 0.7218, 0.7220000000000001, 0.7222000000000001, 0.7224, 0.7226, 0.7228, 0.7230000000000001, 0.7232000000000001, 0.7234, 0.7236, 0.7238, 0.7240000000000001, 0.7242000000000001, 0.7244, 0.7246, 0.7248, 0.7250000000000001, 0.7252000000000001, 0.7254, 0.7256, 0.7258, 0.7260000000000001, 0.7262000000000001, 0.7264, 0.7266, 0.7268, 0.727, 0.7272000000000001, 0.7274, 0.7276, 0.7278, 0.728, 0.7282000000000001, 0.7284, 0.7286, 0.7288, 0.729, 0.7292000000000001, 0.7294, 0.7296, 0.7298, 0.73, 0.7302000000000001, 0.7304, 0.7306, 0.7308, 0.731, 0.7312000000000001, 0.7314, 0.7316, 0.7318, 0.732, 0.7322000000000001, 0.7324, 0.7326, 0.7328, 0.733, 0.7332000000000001, 0.7334, 0.7336, 0.7338, 0.734, 0.7342000000000001, 0.7344, 0.7346, 0.7348, 0.735, 0.7352000000000001, 0.7354, 0.7356, 0.7358, 0.736, 0.7362000000000001, 0.7364, 0.7366, 0.7368, 0.737, 0.7372000000000001, 0.7374, 0.7376, 0.7378, 0.738, 0.7382000000000001, 0.7384000000000001, 0.7386, 0.7388, 0.739, 0.7392000000000001, 0.7394000000000001, 0.7396, 0.7398, 0.74, 0.7402000000000001, 0.7404000000000001, 0.7406, 0.7408, 0.741, 0.7412000000000001, 0.7414000000000001, 0.7416, 0.7418, 0.742, 0.7422000000000001, 0.7424000000000001, 0.7426, 0.7428, 0.743, 0.7432000000000001, 0.7434000000000001, 0.7436, 0.7438, 0.744, 0.7442000000000001, 0.7444000000000001, 0.7446, 0.7448, 0.745, 0.7452000000000001, 0.7454000000000001, 0.7456, 0.7458, 0.746, 0.7462000000000001, 0.7464000000000001, 0.7466, 0.7468, 0.747, 0.7472000000000001, 0.7474000000000001, 0.7476, 0.7478, 0.748, 0.7482000000000001, 0.7484000000000001, 0.7486, 0.7488, 0.749, 0.7492000000000001, 0.7494000000000001, 0.7496, 0.7498, 0.75, 0.7502000000000001, 0.7504000000000001, 0.7506, 0.7508, 0.751, 0.7512000000000001, 0.7514000000000001, 0.7516, 0.7518, 0.752, 0.7522000000000001, 0.7524000000000001, 0.7526, 0.7528, 0.753, 0.7532, 0.7534000000000001, 0.7536, 0.7538, 0.754, 0.7542, 0.7544000000000001, 0.7546, 0.7548, 0.755, 0.7552, 0.7554000000000001, 0.7556, 0.7558, 0.756, 0.7562, 0.7564000000000001, 0.7566, 0.7568, 0.757, 0.7572, 0.7574000000000001, 0.7576, 0.7578, 0.758, 0.7582, 0.7584000000000001, 0.7586, 0.7588, 0.759, 0.7592, 0.7594000000000001, 0.7596, 0.7598, 0.76, 0.7602, 0.7604000000000001, 0.7606, 0.7608, 0.761, 0.7612, 0.7614000000000001, 0.7616, 0.7618, 0.762, 0.7622, 0.7624000000000001, 0.7626000000000001, 0.7628, 0.763, 0.7632, 0.7634000000000001, 0.7636000000000001, 0.7638, 0.764, 0.7642, 0.7644000000000001, 0.7646000000000001, 0.7648, 0.765, 0.7652, 0.7654000000000001, 0.7656000000000001, 0.7658, 0.766, 0.7662, 0.7664000000000001, 0.7666000000000001, 0.7668, 0.767, 0.7672, 0.7674000000000001, 0.7676000000000001, 0.7678, 0.768, 0.7682, 0.7684000000000001, 0.7686000000000001, 0.7688, 0.769, 0.7692, 0.7694000000000001, 0.7696000000000001, 0.7698, 0.77, 0.7702, 0.7704000000000001, 0.7706000000000001, 0.7708, 0.771, 0.7712, 0.7714000000000001, 0.7716000000000001, 0.7718, 0.772, 0.7722, 0.7724000000000001, 0.7726000000000001, 0.7728, 0.773, 0.7732, 0.7734000000000001, 0.7736000000000001, 0.7738, 0.774, 0.7742, 0.7744000000000001, 0.7746000000000001, 0.7748, 0.775, 0.7752, 0.7754000000000001, 0.7756000000000001, 0.7758, 0.776, 0.7762, 0.7764000000000001, 0.7766000000000001, 0.7768, 0.777, 0.7772, 0.7774000000000001, 0.7776000000000001, 0.7778, 0.778, 0.7782, 0.7784000000000001, 0.7786000000000001, 0.7788, 0.779, 0.7792, 0.7794000000000001, 0.7796000000000001, 0.7798, 0.78, 0.7802, 0.7804, 0.7806000000000001, 0.7808, 0.781, 0.7812, 0.7814, 0.7816000000000001, 0.7818, 0.782, 0.7822, 0.7824, 0.7826000000000001, 0.7828, 0.783, 0.7832, 0.7834, 0.7836000000000001, 0.7838, 0.784, 0.7842, 0.7844, 0.7846000000000001, 0.7848, 0.785, 0.7852, 0.7854, 0.7856000000000001, 0.7858, 0.786, 0.7862, 0.7864, 0.7866000000000001, 0.7868, 0.787, 0.7872, 0.7874, 0.7876000000000001, 0.7878000000000001, 0.788, 0.7882, 0.7884, 0.7886000000000001, 0.7888000000000001, 0.789, 0.7892, 0.7894, 0.7896000000000001, 0.7898000000000001, 0.79, 0.7902, 0.7904, 0.7906000000000001, 0.7908000000000001, 0.791, 0.7912, 0.7914, 0.7916000000000001, 0.7918000000000001, 0.792, 0.7922, 0.7924, 0.7926000000000001, 0.7928000000000001, 0.793, 0.7932, 0.7934, 0.7936000000000001, 0.7938000000000001, 0.794, 0.7942, 0.7944, 0.7946000000000001, 0.7948000000000001, 0.795, 0.7952, 0.7954, 0.7956000000000001, 0.7958000000000001, 0.796, 0.7962, 0.7964, 0.7966000000000001, 0.7968000000000001, 0.797, 0.7972, 0.7974, 0.7976000000000001, 0.7978000000000001, 0.798, 0.7982, 0.7984, 0.7986000000000001, 0.7988000000000001, 0.799, 0.7992, 0.7994, 0.7996000000000001, 0.7998000000000001, 0.8, 0.8002, 0.8004, 0.8006000000000001, 0.8008000000000001, 0.801, 0.8012, 0.8014, 0.8016000000000001, 0.8018000000000001, 0.802, 0.8022, 0.8024, 0.8026000000000001, 0.8028000000000001, 0.803, 0.8032, 0.8034, 0.8036000000000001, 0.8038000000000001, 0.804, 0.8042, 0.8044, 0.8046000000000001, 0.8048000000000001, 0.805, 0.8052, 0.8054, 0.8056000000000001, 0.8058000000000001, 0.806, 0.8062, 0.8064, 0.8066, 0.8068000000000001, 0.807, 0.8072, 0.8074, 0.8076, 0.8078000000000001, 0.808, 0.8082, 0.8084, 0.8086, 0.8088000000000001, 0.809, 0.8092, 0.8094, 0.8096, 0.8098000000000001, 0.81, 0.8102, 0.8104, 0.8106, 0.8108000000000001, 0.811, 0.8112, 0.8114, 0.8116, 0.8118000000000001, 0.812, 0.8122, 0.8124, 0.8126, 0.8128000000000001, 0.8130000000000001, 0.8132, 0.8134, 0.8136, 0.8138000000000001, 0.8140000000000001, 0.8142, 0.8144, 0.8146, 0.8148000000000001, 0.8150000000000001, 0.8152, 0.8154, 0.8156, 0.8158000000000001, 0.8160000000000001, 0.8162, 0.8164, 0.8166, 0.8168000000000001, 0.8170000000000001, 0.8172, 0.8174, 0.8176, 0.8178000000000001, 0.8180000000000001, 0.8182, 0.8184, 0.8186, 0.8188000000000001, 0.8190000000000001, 0.8192, 0.8194, 0.8196, 0.8198000000000001, 0.8200000000000001, 0.8202, 0.8204, 0.8206, 0.8208000000000001, 0.8210000000000001, 0.8212, 0.8214, 0.8216, 0.8218000000000001, 0.8220000000000001, 0.8222, 0.8224, 0.8226, 0.8228000000000001, 0.8230000000000001, 0.8232, 0.8234, 0.8236, 0.8238000000000001, 0.8240000000000001, 0.8242, 0.8244, 0.8246, 0.8248000000000001, 0.8250000000000001, 0.8252, 0.8254, 0.8256, 0.8258000000000001, 0.8260000000000001, 0.8262, 0.8264, 0.8266, 0.8268000000000001, 0.8270000000000001, 0.8272, 0.8274, 0.8276, 0.8278000000000001, 0.8280000000000001, 0.8282, 0.8284, 0.8286, 0.8288000000000001, 0.8290000000000001, 0.8292, 0.8294, 0.8296, 0.8298000000000001, 0.8300000000000001, 0.8302, 0.8304, 0.8306, 0.8308000000000001, 0.8310000000000001, 0.8312, 0.8314, 0.8316, 0.8318000000000001, 0.8320000000000001, 0.8322, 0.8324, 0.8326, 0.8328, 0.8330000000000001, 0.8332, 0.8334, 0.8336, 0.8338, 0.8340000000000001, 0.8342, 0.8344, 0.8346, 0.8348, 0.8350000000000001, 0.8352, 0.8354, 0.8356, 0.8358, 0.8360000000000001, 0.8362, 0.8364, 0.8366, 0.8368, 0.8370000000000001, 0.8372, 0.8374, 0.8376, 0.8378, 0.8380000000000001, 0.8382000000000001, 0.8384, 0.8386, 0.8388, 0.8390000000000001, 0.8392000000000001, 0.8394, 0.8396, 0.8398, 0.8400000000000001, 0.8402000000000001, 0.8404, 0.8406, 0.8408, 0.8410000000000001, 0.8412000000000001, 0.8414, 0.8416, 0.8418, 0.8420000000000001, 0.8422000000000001, 0.8424, 0.8426, 0.8428, 0.8430000000000001, 0.8432000000000001, 0.8434, 0.8436, 0.8438, 0.8440000000000001, 0.8442000000000001, 0.8444, 0.8446, 0.8448, 0.8450000000000001, 0.8452000000000001, 0.8454, 0.8456, 0.8458, 0.8460000000000001, 0.8462000000000001, 0.8464, 0.8466, 0.8468, 0.8470000000000001, 0.8472000000000001, 0.8474, 0.8476, 0.8478, 0.8480000000000001, 0.8482000000000001, 0.8484, 0.8486, 0.8488, 0.8490000000000001, 0.8492000000000001, 0.8494, 0.8496, 0.8498, 0.8500000000000001, 0.8502000000000001, 0.8504, 0.8506, 0.8508, 0.8510000000000001, 0.8512000000000001, 0.8514, 0.8516, 0.8518, 0.8520000000000001, 0.8522000000000001, 0.8524, 0.8526, 0.8528, 0.8530000000000001, 0.8532000000000001, 0.8534, 0.8536, 0.8538, 0.8540000000000001, 0.8542000000000001, 0.8544, 0.8546, 0.8548, 0.8550000000000001, 0.8552000000000001, 0.8554, 0.8556, 0.8558, 0.8560000000000001, 0.8562000000000001, 0.8564, 0.8566, 0.8568, 0.8570000000000001, 0.8572000000000001, 0.8574, 0.8576, 0.8578, 0.8580000000000001, 0.8582000000000001, 0.8584, 0.8586, 0.8588, 0.859, 0.8592000000000001, 0.8594, 0.8596, 0.8598, 0.86, 0.8602000000000001, 0.8604, 0.8606, 0.8608, 0.861, 0.8612000000000001, 0.8614, 0.8616, 0.8618, 0.862, 0.8622000000000001, 0.8624, 0.8626, 0.8628, 0.863, 0.8632000000000001, 0.8634000000000001, 0.8636, 0.8638, 0.864, 0.8642000000000001, 0.8644000000000001, 0.8646, 0.8648, 0.865, 0.8652000000000001, 0.8654000000000001, 0.8656, 0.8658, 0.866, 0.8662000000000001, 0.8664000000000001, 0.8666, 0.8668, 0.867, 0.8672000000000001, 0.8674000000000001, 0.8676, 0.8678, 0.868, 0.8682000000000001, 0.8684000000000001, 0.8686, 0.8688, 0.869, 0.8692000000000001, 0.8694000000000001, 0.8696, 0.8698, 0.87, 0.8702000000000001, 0.8704000000000001, 0.8706, 0.8708, 0.871, 0.8712000000000001, 0.8714000000000001, 0.8716, 0.8718, 0.872, 0.8722000000000001, 0.8724000000000001, 0.8726, 0.8728, 0.873, 0.8732000000000001, 0.8734000000000001, 0.8736, 0.8738, 0.874, 0.8742000000000001, 0.8744000000000001, 0.8746, 0.8748, 0.875, 0.8752000000000001, 0.8754000000000001, 0.8756, 0.8758, 0.876, 0.8762000000000001, 0.8764000000000001, 0.8766, 0.8768, 0.877, 0.8772000000000001, 0.8774000000000001, 0.8776, 0.8778, 0.878, 0.8782000000000001, 0.8784000000000001, 0.8786, 0.8788, 0.879, 0.8792000000000001, 0.8794000000000001, 0.8796, 0.8798, 0.88, 0.8802000000000001, 0.8804000000000001, 0.8806, 0.8808, 0.881, 0.8812000000000001, 0.8814000000000001, 0.8816, 0.8818, 0.882, 0.8822000000000001, 0.8824000000000001, 0.8826, 0.8828, 0.883, 0.8832000000000001, 0.8834000000000001, 0.8836, 0.8838, 0.884, 0.8842000000000001, 0.8844000000000001, 0.8846, 0.8848, 0.885, 0.8852000000000001, 0.8854000000000001, 0.8856, 0.8858, 0.886, 0.8862, 0.8864000000000001, 0.8866, 0.8868, 0.887, 0.8872, 0.8874000000000001, 0.8876000000000001, 0.8878, 0.888, 0.8882, 0.8884000000000001, 0.8886000000000001, 0.8888, 0.889, 0.8892, 0.8894000000000001, 0.8896000000000001, 0.8898, 0.89, 0.8902, 0.8904000000000001, 0.8906000000000001, 0.8908, 0.891, 0.8912, 0.8914000000000001, 0.8916000000000001, 0.8918, 0.892, 0.8922, 0.8924000000000001, 0.8926000000000001, 0.8928, 0.893, 0.8932, 0.8934000000000001, 0.8936000000000001, 0.8938, 0.894, 0.8942, 0.8944000000000001, 0.8946000000000001, 0.8948, 0.895, 0.8952, 0.8954000000000001, 0.8956000000000001, 0.8958, 0.896, 0.8962, 0.8964000000000001, 0.8966000000000001, 0.8968, 0.897, 0.8972, 0.8974000000000001, 0.8976000000000001, 0.8978, 0.898, 0.8982, 0.8984000000000001, 0.8986000000000001, 0.8988, 0.899, 0.8992, 0.8994000000000001, 0.8996000000000001, 0.8998, 0.9, 0.9002, 0.9004000000000001, 0.9006000000000001, 0.9008, 0.901, 0.9012, 0.9014000000000001, 0.9016000000000001, 0.9018, 0.902, 0.9022, 0.9024000000000001, 0.9026000000000001, 0.9028, 0.903, 0.9032, 0.9034000000000001, 0.9036000000000001, 0.9038, 0.904, 0.9042, 0.9044000000000001, 0.9046000000000001, 0.9048, 0.905, 0.9052, 0.9054000000000001, 0.9056000000000001, 0.9058, 0.906, 0.9062, 0.9064000000000001, 0.9066000000000001, 0.9068, 0.907, 0.9072, 0.9074000000000001, 0.9076000000000001, 0.9078, 0.908, 0.9082, 0.9084000000000001, 0.9086000000000001, 0.9088, 0.909, 0.9092, 0.9094000000000001, 0.9096000000000001, 0.9098, 0.91, 0.9102, 0.9104000000000001, 0.9106000000000001, 0.9108, 0.911, 0.9112, 0.9114000000000001, 0.9116000000000001, 0.9118, 0.912, 0.9122, 0.9124, 0.9126000000000001, 0.9128000000000001, 0.913, 0.9132, 0.9134, 0.9136000000000001, 0.9138000000000001, 0.914, 0.9142, 0.9144, 0.9146000000000001, 0.9148000000000001, 0.915, 0.9152, 0.9154, 0.9156000000000001, 0.9158000000000001, 0.916, 0.9162, 0.9164, 0.9166000000000001, 0.9168000000000001, 0.917, 0.9172, 0.9174, 0.9176000000000001, 0.9178000000000001, 0.918, 0.9182, 0.9184, 0.9186000000000001, 0.9188000000000001, 0.919, 0.9192, 0.9194, 0.9196000000000001, 0.9198000000000001, 0.92, 0.9202, 0.9204, 0.9206000000000001, 0.9208000000000001, 0.921, 0.9212, 0.9214, 0.9216000000000001, 0.9218000000000001, 0.922, 0.9222, 0.9224, 0.9226000000000001, 0.9228000000000001, 0.923, 0.9232, 0.9234, 0.9236000000000001, 0.9238000000000001, 0.924, 0.9242, 0.9244, 0.9246000000000001, 0.9248000000000001, 0.925, 0.9252, 0.9254, 0.9256000000000001, 0.9258000000000001, 0.926, 0.9262, 0.9264, 0.9266000000000001, 0.9268000000000001, 0.927, 0.9272, 0.9274, 0.9276000000000001, 0.9278000000000001, 0.928, 0.9282, 0.9284, 0.9286000000000001, 0.9288000000000001, 0.929, 0.9292, 0.9294, 0.9296000000000001, 0.9298000000000001, 0.93, 0.9302, 0.9304, 0.9306000000000001, 0.9308000000000001, 0.931, 0.9312, 0.9314, 0.9316000000000001, 0.9318000000000001, 0.932, 0.9322, 0.9324, 0.9326000000000001, 0.9328000000000001, 0.933, 0.9332, 0.9334, 0.9336000000000001, 0.9338000000000001, 0.934, 0.9342, 0.9344, 0.9346000000000001, 0.9348000000000001, 0.935, 0.9352, 0.9354, 0.9356000000000001, 0.9358000000000001, 0.936, 0.9362, 0.9364, 0.9366000000000001, 0.9368000000000001, 0.937, 0.9372, 0.9374, 0.9376000000000001, 0.9378000000000001, 0.9380000000000001, 0.9382, 0.9384, 0.9386, 0.9388000000000001, 0.9390000000000001, 0.9392, 0.9394, 0.9396, 0.9398000000000001, 0.9400000000000001, 0.9402, 0.9404, 0.9406, 0.9408000000000001, 0.9410000000000001, 0.9412, 0.9414, 0.9416, 0.9418000000000001, 0.9420000000000001, 0.9422, 0.9424, 0.9426, 0.9428000000000001, 0.9430000000000001, 0.9432, 0.9434, 0.9436, 0.9438000000000001, 0.9440000000000001, 0.9442, 0.9444, 0.9446, 0.9448000000000001, 0.9450000000000001, 0.9452, 0.9454, 0.9456, 0.9458000000000001, 0.9460000000000001, 0.9462, 0.9464, 0.9466, 0.9468000000000001, 0.9470000000000001, 0.9472, 0.9474, 0.9476, 0.9478000000000001, 0.9480000000000001, 0.9482, 0.9484, 0.9486, 0.9488000000000001, 0.9490000000000001, 0.9492, 0.9494, 0.9496, 0.9498000000000001, 0.9500000000000001, 0.9502, 0.9504, 0.9506, 0.9508000000000001, 0.9510000000000001, 0.9512, 0.9514, 0.9516, 0.9518000000000001, 0.9520000000000001, 0.9522, 0.9524, 0.9526, 0.9528000000000001, 0.9530000000000001, 0.9532, 0.9534, 0.9536, 0.9538000000000001, 0.9540000000000001, 0.9542, 0.9544, 0.9546, 0.9548000000000001, 0.9550000000000001, 0.9552, 0.9554, 0.9556, 0.9558000000000001, 0.9560000000000001, 0.9562, 0.9564, 0.9566, 0.9568000000000001, 0.9570000000000001, 0.9572, 0.9574, 0.9576, 0.9578000000000001, 0.9580000000000001, 0.9582, 0.9584, 0.9586, 0.9588000000000001, 0.9590000000000001, 0.9592, 0.9594, 0.9596, 0.9598000000000001, 0.9600000000000001, 0.9602, 0.9604, 0.9606, 0.9608000000000001, 0.9610000000000001, 0.9612, 0.9614, 0.9616, 0.9618000000000001, 0.9620000000000001, 0.9622, 0.9624, 0.9626, 0.9628000000000001, 0.9630000000000001, 0.9632000000000001, 0.9634, 0.9636, 0.9638000000000001, 0.9640000000000001, 0.9642000000000001, 0.9644, 0.9646, 0.9648, 0.9650000000000001, 0.9652000000000001, 0.9654, 0.9656, 0.9658, 0.9660000000000001, 0.9662000000000001, 0.9664, 0.9666, 0.9668, 0.9670000000000001, 0.9672000000000001, 0.9674, 0.9676, 0.9678, 0.9680000000000001, 0.9682000000000001, 0.9684, 0.9686, 0.9688, 0.9690000000000001, 0.9692000000000001, 0.9694, 0.9696, 0.9698, 0.9700000000000001, 0.9702000000000001, 0.9704, 0.9706, 0.9708, 0.9710000000000001, 0.9712000000000001, 0.9714, 0.9716, 0.9718, 0.9720000000000001, 0.9722000000000001, 0.9724, 0.9726, 0.9728, 0.9730000000000001, 0.9732000000000001, 0.9734, 0.9736, 0.9738, 0.9740000000000001, 0.9742000000000001, 0.9744, 0.9746, 0.9748, 0.9750000000000001, 0.9752000000000001, 0.9754, 0.9756, 0.9758, 0.9760000000000001, 0.9762000000000001, 0.9764, 0.9766, 0.9768, 0.9770000000000001, 0.9772000000000001, 0.9774, 0.9776, 0.9778, 0.9780000000000001, 0.9782000000000001, 0.9784, 0.9786, 0.9788, 0.9790000000000001, 0.9792000000000001, 0.9794, 0.9796, 0.9798, 0.9800000000000001, 0.9802000000000001, 0.9804, 0.9806, 0.9808, 0.9810000000000001, 0.9812000000000001, 0.9814, 0.9816, 0.9818, 0.9820000000000001, 0.9822000000000001, 0.9824, 0.9826, 0.9828, 0.9830000000000001, 0.9832000000000001, 0.9834, 0.9836, 0.9838, 0.9840000000000001, 0.9842000000000001, 0.9844, 0.9846, 0.9848, 0.9850000000000001, 0.9852000000000001, 0.9854, 0.9856, 0.9858, 0.9860000000000001, 0.9862000000000001, 0.9864, 0.9866, 0.9868, 0.9870000000000001, 0.9872000000000001, 0.9874, 0.9876, 0.9878, 0.9880000000000001, 0.9882000000000001, 0.9884000000000001, 0.9886, 0.9888, 0.9890000000000001, 0.9892000000000001, 0.9894000000000001, 0.9896, 0.9898, 0.9900000000000001, 0.9902000000000001, 0.9904000000000001, 0.9906, 0.9908, 0.991, 0.9912000000000001, 0.9914000000000001, 0.9916, 0.9918, 0.992, 0.9922000000000001, 0.9924000000000001, 0.9926, 0.9928, 0.993, 0.9932000000000001, 0.9934000000000001, 0.9936, 0.9938, 0.994, 0.9942000000000001, 0.9944000000000001, 0.9946, 0.9948, 0.995, 0.9952000000000001, 0.9954000000000001, 0.9956, 0.9958, 0.996, 0.9962000000000001, 0.9964000000000001, 0.9966, 0.9968, 0.997, 0.9972000000000001, 0.9974000000000001, 0.9976, 0.9978, 0.998, 0.9982000000000001, 0.9984000000000001, 0.9986, 0.9988, 0.999, 0.9992000000000001, 0.9994000000000001, 0.9996, 0.9998, 1.0, 1.0002, 1.0004, 1.0006000000000002, 1.0008000000000001, 1.0010000000000001, 1.0012, 1.0014, 1.0016, 1.0018, 1.002, 1.0022, 1.0024, 1.0026000000000002, 1.0028000000000001, 1.0030000000000001, 1.0032, 1.0034, 1.0036, 1.0038, 1.004, 1.0042, 1.0044, 1.0046, 1.0048000000000001, 1.0050000000000001, 1.0052, 1.0054, 1.0056, 1.0058, 1.006, 1.0062, 1.0064, 1.0066, 1.0068000000000001, 1.0070000000000001, 1.0072, 1.0074, 1.0076, 1.0078, 1.008, 1.0082, 1.0084, 1.0086, 1.0088000000000001, 1.0090000000000001, 1.0092, 1.0094, 1.0096, 1.0098, 1.01, 1.0102, 1.0104, 1.0106, 1.0108000000000001, 1.0110000000000001, 1.0112, 1.0114, 1.0116, 1.0118, 1.012, 1.0122, 1.0124, 1.0126, 1.0128000000000001, 1.0130000000000001, 1.0132, 1.0134, 1.0136, 1.0138, 1.014, 1.0142, 1.0144, 1.0146, 1.0148000000000001, 1.0150000000000001, 1.0152, 1.0154, 1.0156, 1.0158, 1.016, 1.0162, 1.0164, 1.0166, 1.0168000000000001, 1.0170000000000001, 1.0172, 1.0174, 1.0176, 1.0178, 1.018, 1.0182, 1.0184, 1.0186, 1.0188000000000001, 1.0190000000000001, 1.0192, 1.0194, 1.0196, 1.0198, 1.02, 1.0202, 1.0204, 1.0206, 1.0208000000000002, 1.0210000000000001, 1.0212, 1.0214, 1.0216, 1.0218, 1.022, 1.0222, 1.0224, 1.0226, 1.0228000000000002, 1.0230000000000001, 1.0232, 1.0234, 1.0236, 1.0238, 1.024, 1.0242, 1.0244, 1.0246, 1.0248000000000002, 1.0250000000000001, 1.0252000000000001, 1.0254, 1.0256, 1.0258, 1.026, 1.0262, 1.0264, 1.0266, 1.0268000000000002, 1.0270000000000001, 1.0272000000000001, 1.0274, 1.0276, 1.0278, 1.028, 1.0282, 1.0284, 1.0286, 1.0288000000000002, 1.0290000000000001, 1.0292000000000001, 1.0294, 1.0296, 1.0298, 1.03, 1.0302, 1.0304, 1.0306, 1.0308, 1.0310000000000001, 1.0312000000000001, 1.0314, 1.0316, 1.0318, 1.032, 1.0322, 1.0324, 1.0326, 1.0328, 1.0330000000000001, 1.0332000000000001, 1.0334, 1.0336, 1.0338, 1.034, 1.0342, 1.0344, 1.0346, 1.0348, 1.0350000000000001, 1.0352000000000001, 1.0354, 1.0356, 1.0358, 1.036, 1.0362, 1.0364, 1.0366, 1.0368, 1.0370000000000001, 1.0372000000000001, 1.0374, 1.0376, 1.0378, 1.038, 1.0382, 1.0384, 1.0386, 1.0388, 1.0390000000000001, 1.0392000000000001, 1.0394, 1.0396, 1.0398, 1.04, 1.0402, 1.0404, 1.0406, 1.0408, 1.0410000000000001, 1.0412000000000001, 1.0414, 1.0416, 1.0418, 1.042, 1.0422, 1.0424, 1.0426, 1.0428, 1.0430000000000001, 1.0432000000000001, 1.0434, 1.0436, 1.0438, 1.044, 1.0442, 1.0444, 1.0446, 1.0448, 1.0450000000000002, 1.0452000000000001, 1.0454, 1.0456, 1.0458, 1.046, 1.0462, 1.0464, 1.0466, 1.0468, 1.0470000000000002, 1.0472000000000001, 1.0474, 1.0476, 1.0478, 1.048, 1.0482, 1.0484, 1.0486, 1.0488, 1.0490000000000002, 1.0492000000000001, 1.0494, 1.0496, 1.0498, 1.05, 1.0502, 1.0504, 1.0506, 1.0508, 1.0510000000000002, 1.0512000000000001, 1.0514000000000001, 1.0516, 1.0518, 1.052, 1.0522, 1.0524, 1.0526, 1.0528, 1.0530000000000002, 1.0532000000000001, 1.0534000000000001, 1.0536, 1.0538, 1.054, 1.0542, 1.0544, 1.0546, 1.0548, 1.0550000000000002, 1.0552000000000001, 1.0554000000000001, 1.0556, 1.0558, 1.056, 1.0562, 1.0564, 1.0566, 1.0568, 1.0570000000000002, 1.0572000000000001, 1.0574000000000001, 1.0576, 1.0578, 1.058, 1.0582, 1.0584, 1.0586, 1.0588, 1.059, 1.0592000000000001, 1.0594000000000001, 1.0596, 1.0598, 1.06, 1.0602, 1.0604, 1.0606, 1.0608, 1.061, 1.0612000000000001, 1.0614000000000001, 1.0616, 1.0618, 1.062, 1.0622, 1.0624, 1.0626, 1.0628, 1.063, 1.0632000000000001, 1.0634000000000001, 1.0636, 1.0638, 1.064, 1.0642, 1.0644, 1.0646, 1.0648, 1.065, 1.0652000000000001, 1.0654000000000001, 1.0656, 1.0658, 1.066, 1.0662, 1.0664, 1.0666, 1.0668, 1.067, 1.0672000000000001, 1.0674000000000001, 1.0676, 1.0678, 1.068, 1.0682, 1.0684, 1.0686, 1.0688, 1.069, 1.0692000000000002, 1.0694000000000001, 1.0696, 1.0698, 1.07, 1.0702, 1.0704, 1.0706, 1.0708, 1.071, 1.0712000000000002, 1.0714000000000001, 1.0716, 1.0718, 1.072, 1.0722, 1.0724, 1.0726, 1.0728, 1.073, 1.0732000000000002, 1.0734000000000001, 1.0736, 1.0738, 1.074, 1.0742, 1.0744, 1.0746, 1.0748, 1.075, 1.0752000000000002, 1.0754000000000001, 1.0756000000000001, 1.0758, 1.076, 1.0762, 1.0764, 1.0766, 1.0768, 1.077, 1.0772000000000002, 1.0774000000000001, 1.0776000000000001, 1.0778, 1.078, 1.0782, 1.0784, 1.0786, 1.0788, 1.079, 1.0792000000000002, 1.0794000000000001, 1.0796000000000001, 1.0798, 1.08, 1.0802, 1.0804, 1.0806, 1.0808, 1.081, 1.0812000000000002, 1.0814000000000001, 1.0816000000000001, 1.0818, 1.082, 1.0822, 1.0824, 1.0826, 1.0828, 1.083, 1.0832000000000002, 1.0834000000000001, 1.0836000000000001, 1.0838, 1.084, 1.0842, 1.0844, 1.0846, 1.0848, 1.085, 1.0852, 1.0854000000000001, 1.0856000000000001, 1.0858, 1.086, 1.0862, 1.0864, 1.0866, 1.0868, 1.087, 1.0872, 1.0874000000000001, 1.0876000000000001, 1.0878, 1.088, 1.0882, 1.0884, 1.0886, 1.0888, 1.089, 1.0892, 1.0894000000000001, 1.0896000000000001, 1.0898, 1.09, 1.0902, 1.0904, 1.0906, 1.0908, 1.091, 1.0912, 1.0914000000000001, 1.0916000000000001, 1.0918, 1.092, 1.0922, 1.0924, 1.0926, 1.0928, 1.093, 1.0932, 1.0934000000000001, 1.0936000000000001, 1.0938, 1.094, 1.0942, 1.0944, 1.0946, 1.0948, 1.095, 1.0952, 1.0954000000000002, 1.0956000000000001, 1.0958, 1.096, 1.0962, 1.0964, 1.0966, 1.0968, 1.097, 1.0972, 1.0974000000000002, 1.0976000000000001, 1.0978, 1.098, 1.0982, 1.0984, 1.0986, 1.0988, 1.099, 1.0992, 1.0994000000000002, 1.0996000000000001, 1.0998, 1.1, 1.1002, 1.1004, 1.1006, 1.1008, 1.101, 1.1012, 1.1014000000000002, 1.1016000000000001, 1.1018000000000001, 1.102, 1.1022, 1.1024, 1.1026, 1.1028, 1.103, 1.1032, 1.1034000000000002, 1.1036000000000001, 1.1038000000000001, 1.104, 1.1042, 1.1044, 1.1046, 1.1048, 1.105, 1.1052, 1.1054000000000002, 1.1056000000000001, 1.1058000000000001, 1.106, 1.1062, 1.1064, 1.1066, 1.1068, 1.107, 1.1072, 1.1074000000000002, 1.1076000000000001, 1.1078000000000001, 1.108, 1.1082, 1.1084, 1.1086, 1.1088, 1.109, 1.1092, 1.1094000000000002, 1.1096000000000001, 1.1098000000000001, 1.11, 1.1102, 1.1104, 1.1106, 1.1108, 1.111, 1.1112, 1.1114, 1.1116000000000001, 1.1118000000000001, 1.112, 1.1122, 1.1124, 1.1126, 1.1128, 1.113, 1.1132, 1.1134, 1.1136000000000001, 1.1138000000000001, 1.114, 1.1142, 1.1144, 1.1146, 1.1148, 1.115, 1.1152, 1.1154, 1.1156000000000001, 1.1158000000000001, 1.116, 1.1162, 1.1164, 1.1166, 1.1168, 1.117, 1.1172, 1.1174, 1.1176000000000001, 1.1178000000000001, 1.118, 1.1182, 1.1184, 1.1186, 1.1188, 1.119, 1.1192, 1.1194, 1.1196000000000002, 1.1198000000000001, 1.12, 1.1202, 1.1204, 1.1206, 1.1208, 1.121, 1.1212, 1.1214, 1.1216000000000002, 1.1218000000000001, 1.122, 1.1222, 1.1224, 1.1226, 1.1228, 1.123, 1.1232, 1.1234, 1.1236000000000002, 1.1238000000000001, 1.124, 1.1242, 1.1244, 1.1246, 1.1248, 1.125, 1.1252, 1.1254, 1.1256000000000002, 1.1258000000000001, 1.1260000000000001, 1.1262, 1.1264, 1.1266, 1.1268, 1.127, 1.1272, 1.1274, 1.1276000000000002, 1.1278000000000001, 1.1280000000000001, 1.1282, 1.1284, 1.1286, 1.1288, 1.129, 1.1292, 1.1294, 1.1296000000000002, 1.1298000000000001, 1.1300000000000001, 1.1302, 1.1304, 1.1306, 1.1308, 1.131, 1.1312, 1.1314, 1.1316000000000002, 1.1318000000000001, 1.1320000000000001, 1.1322, 1.1324, 1.1326, 1.1328, 1.133, 1.1332, 1.1334, 1.1336000000000002, 1.1338000000000001, 1.1340000000000001, 1.1342, 1.1344, 1.1346, 1.1348, 1.135, 1.1352, 1.1354, 1.1356000000000002, 1.1358000000000001, 1.1360000000000001, 1.1362, 1.1364, 1.1366, 1.1368, 1.137, 1.1372, 1.1374, 1.1376, 1.1378000000000001, 1.1380000000000001, 1.1382, 1.1384, 1.1386, 1.1388, 1.139, 1.1392, 1.1394, 1.1396, 1.1398000000000001, 1.1400000000000001, 1.1402, 1.1404, 1.1406, 1.1408, 1.141, 1.1412, 1.1414, 1.1416, 1.1418000000000001, 1.1420000000000001, 1.1422, 1.1424, 1.1426, 1.1428, 1.143, 1.1432, 1.1434, 1.1436, 1.1438000000000001, 1.1440000000000001, 1.1442, 1.1444, 1.1446, 1.1448, 1.145, 1.1452, 1.1454, 1.1456, 1.1458000000000002, 1.1460000000000001, 1.1462, 1.1464, 1.1466, 1.1468, 1.147, 1.1472, 1.1474, 1.1476, 1.1478000000000002, 1.1480000000000001, 1.1482, 1.1484, 1.1486, 1.1488, 1.149, 1.1492, 1.1494, 1.1496, 1.1498000000000002, 1.1500000000000001, 1.1502000000000001, 1.1504, 1.1506, 1.1508, 1.151, 1.1512, 1.1514, 1.1516, 1.1518000000000002, 1.1520000000000001, 1.1522000000000001, 1.1524, 1.1526, 1.1528, 1.153, 1.1532, 1.1534, 1.1536, 1.1538000000000002, 1.1540000000000001, 1.1542000000000001, 1.1544, 1.1546, 1.1548, 1.155, 1.1552, 1.1554, 1.1556, 1.1558000000000002, 1.1560000000000001, 1.1562000000000001, 1.1564, 1.1566, 1.1568, 1.157, 1.1572, 1.1574, 1.1576, 1.1578000000000002, 1.1580000000000001, 1.1582000000000001, 1.1584, 1.1586, 1.1588, 1.159, 1.1592, 1.1594, 1.1596, 1.1598000000000002, 1.1600000000000001, 1.1602000000000001, 1.1604, 1.1606, 1.1608, 1.161, 1.1612, 1.1614, 1.1616, 1.1618000000000002, 1.1620000000000001, 1.1622000000000001, 1.1624, 1.1626, 1.1628, 1.163, 1.1632, 1.1634, 1.1636, 1.1638, 1.1640000000000001, 1.1642000000000001, 1.1644, 1.1646, 1.1648, 1.165, 1.1652, 1.1654, 1.1656, 1.1658, 1.1660000000000001, 1.1662000000000001, 1.1664, 1.1666, 1.1668, 1.167, 1.1672, 1.1674, 1.1676, 1.1678, 1.1680000000000001, 1.1682000000000001, 1.1684, 1.1686, 1.1688, 1.169, 1.1692, 1.1694, 1.1696, 1.1698, 1.1700000000000002, 1.1702000000000001, 1.1704, 1.1706, 1.1708, 1.171, 1.1712, 1.1714, 1.1716, 1.1718, 1.1720000000000002, 1.1722000000000001, 1.1724, 1.1726, 1.1728, 1.173, 1.1732, 1.1734, 1.1736, 1.1738, 1.1740000000000002, 1.1742000000000001, 1.1744, 1.1746, 1.1748, 1.175, 1.1752, 1.1754, 1.1756, 1.1758, 1.1760000000000002, 1.1762000000000001, 1.1764000000000001, 1.1766, 1.1768, 1.177, 1.1772, 1.1774, 1.1776, 1.1778, 1.1780000000000002, 1.1782000000000001, 1.1784000000000001, 1.1786, 1.1788, 1.179, 1.1792, 1.1794, 1.1796, 1.1798, 1.1800000000000002, 1.1802000000000001, 1.1804000000000001, 1.1806, 1.1808, 1.181, 1.1812, 1.1814, 1.1816, 1.1818, 1.1820000000000002, 1.1822000000000001, 1.1824000000000001, 1.1826, 1.1828, 1.183, 1.1832, 1.1834, 1.1836, 1.1838, 1.1840000000000002, 1.1842000000000001, 1.1844000000000001, 1.1846, 1.1848, 1.185, 1.1852, 1.1854, 1.1856, 1.1858, 1.1860000000000002, 1.1862000000000001, 1.1864000000000001, 1.1866, 1.1868, 1.187, 1.1872, 1.1874, 1.1876, 1.1878, 1.1880000000000002, 1.1882000000000001, 1.1884000000000001, 1.1886, 1.1888, 1.189, 1.1892, 1.1894, 1.1896, 1.1898, 1.19, 1.1902000000000001, 1.1904000000000001, 1.1906, 1.1908, 1.191, 1.1912, 1.1914, 1.1916, 1.1918, 1.192, 1.1922000000000001, 1.1924000000000001, 1.1926, 1.1928, 1.193, 1.1932, 1.1934, 1.1936, 1.1938, 1.194, 1.1942000000000002, 1.1944000000000001, 1.1946, 1.1948, 1.195, 1.1952, 1.1954, 1.1956, 1.1958, 1.196, 1.1962000000000002, 1.1964000000000001, 1.1966, 1.1968, 1.197, 1.1972, 1.1974, 1.1976, 1.1978, 1.198, 1.1982000000000002, 1.1984000000000001, 1.1986, 1.1988, 1.199, 1.1992, 1.1994, 1.1996, 1.1998, 1.2, 1.2002000000000002, 1.2004000000000001, 1.2006000000000001, 1.2008, 1.201, 1.2012, 1.2014, 1.2016, 1.2018, 1.202, 1.2022000000000002, 1.2024000000000001, 1.2026000000000001, 1.2028, 1.203, 1.2032, 1.2034, 1.2036, 1.2038, 1.204, 1.2042000000000002, 1.2044000000000001, 1.2046000000000001, 1.2048, 1.205, 1.2052, 1.2054, 1.2056, 1.2058, 1.206, 1.2062000000000002, 1.2064000000000001, 1.2066000000000001, 1.2068, 1.207, 1.2072, 1.2074, 1.2076, 1.2078, 1.208, 1.2082000000000002, 1.2084000000000001, 1.2086000000000001, 1.2088, 1.209, 1.2092, 1.2094, 1.2096, 1.2098, 1.21, 1.2102000000000002, 1.2104000000000001, 1.2106000000000001, 1.2108, 1.211, 1.2112, 1.2114, 1.2116, 1.2118, 1.212, 1.2122000000000002, 1.2124000000000001, 1.2126000000000001, 1.2128, 1.213, 1.2132, 1.2134, 1.2136, 1.2138, 1.214, 1.2142000000000002, 1.2144000000000001, 1.2146000000000001, 1.2148, 1.215, 1.2152, 1.2154, 1.2156, 1.2158, 1.216, 1.2162, 1.2164000000000001, 1.2166000000000001, 1.2168, 1.217, 1.2172, 1.2174, 1.2176, 1.2178, 1.218, 1.2182, 1.2184000000000001, 1.2186000000000001, 1.2188, 1.219, 1.2192, 1.2194, 1.2196, 1.2198, 1.22, 1.2202, 1.2204000000000002, 1.2206000000000001, 1.2208, 1.221, 1.2212, 1.2214, 1.2216, 1.2218, 1.222, 1.2222, 1.2224000000000002, 1.2226000000000001, 1.2228, 1.223, 1.2232, 1.2234, 1.2236, 1.2238, 1.224, 1.2242, 1.2244000000000002, 1.2246000000000001, 1.2248, 1.225, 1.2252, 1.2254, 1.2256, 1.2258, 1.226, 1.2262, 1.2264000000000002, 1.2266000000000001, 1.2268000000000001, 1.227, 1.2272, 1.2274, 1.2276, 1.2278, 1.228, 1.2282, 1.2284000000000002, 1.2286000000000001, 1.2288000000000001, 1.229, 1.2292, 1.2294, 1.2296, 1.2298, 1.23, 1.2302, 1.2304000000000002, 1.2306000000000001, 1.2308000000000001, 1.231, 1.2312, 1.2314, 1.2316, 1.2318, 1.232, 1.2322, 1.2324000000000002, 1.2326000000000001, 1.2328000000000001, 1.233, 1.2332, 1.2334, 1.2336, 1.2338, 1.234, 1.2342, 1.2344000000000002, 1.2346000000000001, 1.2348000000000001, 1.235, 1.2352, 1.2354, 1.2356, 1.2358, 1.236, 1.2362, 1.2364000000000002, 1.2366000000000001, 1.2368000000000001, 1.237, 1.2372, 1.2374, 1.2376, 1.2378, 1.238, 1.2382, 1.2384000000000002, 1.2386000000000001, 1.2388000000000001, 1.239, 1.2392, 1.2394, 1.2396, 1.2398, 1.24, 1.2402, 1.2404000000000002, 1.2406000000000001, 1.2408000000000001, 1.241, 1.2412, 1.2414, 1.2416, 1.2418, 1.242, 1.2422, 1.2424, 1.2426000000000001, 1.2428000000000001, 1.243, 1.2432, 1.2434, 1.2436, 1.2438, 1.244, 1.2442, 1.2444, 1.2446000000000002, 1.2448000000000001, 1.245, 1.2452, 1.2454, 1.2456, 1.2458, 1.246, 1.2462, 1.2464, 1.2466000000000002, 1.2468000000000001, 1.247, 1.2472, 1.2474, 1.2476, 1.2478, 1.248, 1.2482, 1.2484, 1.2486000000000002, 1.2488000000000001, 1.249, 1.2492, 1.2494, 1.2496, 1.2498, 1.25, 1.2502, 1.2504, 1.2506000000000002, 1.2508000000000001, 1.2510000000000001, 1.2512, 1.2514, 1.2516, 1.2518, 1.252, 1.2522, 1.2524, 1.2526000000000002, 1.2528000000000001, 1.2530000000000001, 1.2532, 1.2534, 1.2536, 1.2538, 1.254, 1.2542, 1.2544, 1.2546000000000002, 1.2548000000000001, 1.2550000000000001, 1.2552, 1.2554, 1.2556, 1.2558, 1.256, 1.2562, 1.2564, 1.2566000000000002, 1.2568000000000001, 1.2570000000000001, 1.2572, 1.2574, 1.2576, 1.2578, 1.258, 1.2582, 1.2584, 1.2586000000000002, 1.2588000000000001, 1.2590000000000001, 1.2592, 1.2594, 1.2596, 1.2598, 1.26, 1.2602, 1.2604, 1.2606000000000002, 1.2608000000000001, 1.2610000000000001, 1.2612, 1.2614, 1.2616, 1.2618, 1.262, 1.2622, 1.2624, 1.2626000000000002, 1.2628000000000001, 1.2630000000000001, 1.2632, 1.2634, 1.2636, 1.2638, 1.264, 1.2642, 1.2644, 1.2646000000000002, 1.2648000000000001, 1.2650000000000001, 1.2652, 1.2654, 1.2656, 1.2658, 1.266, 1.2662, 1.2664, 1.2666000000000002, 1.2668000000000001, 1.2670000000000001, 1.2672, 1.2674, 1.2676, 1.2678, 1.268, 1.2682, 1.2684, 1.2686, 1.2688000000000001, 1.2690000000000001, 1.2692, 1.2694, 1.2696, 1.2698, 1.27, 1.2702, 1.2704, 1.2706, 1.2708000000000002, 1.2710000000000001, 1.2712, 1.2714, 1.2716, 1.2718, 1.272, 1.2722, 1.2724, 1.2726, 1.2728000000000002, 1.2730000000000001, 1.2732, 1.2734, 1.2736, 1.2738, 1.274, 1.2742, 1.2744, 1.2746, 1.2748000000000002, 1.2750000000000001, 1.2752000000000001, 1.2754, 1.2756, 1.2758, 1.276, 1.2762, 1.2764, 1.2766, 1.2768000000000002, 1.2770000000000001, 1.2772000000000001, 1.2774, 1.2776, 1.2778, 1.278, 1.2782, 1.2784, 1.2786, 1.2788000000000002, 1.2790000000000001, 1.2792000000000001, 1.2794, 1.2796, 1.2798, 1.28, 1.2802, 1.2804, 1.2806, 1.2808000000000002, 1.2810000000000001, 1.2812000000000001, 1.2814, 1.2816, 1.2818, 1.282, 1.2822, 1.2824, 1.2826, 1.2828000000000002, 1.2830000000000001, 1.2832000000000001, 1.2834, 1.2836, 1.2838, 1.284, 1.2842, 1.2844, 1.2846, 1.2848000000000002, 1.2850000000000001, 1.2852000000000001, 1.2854, 1.2856, 1.2858, 1.286, 1.2862, 1.2864, 1.2866, 1.2868000000000002, 1.2870000000000001, 1.2872000000000001, 1.2874, 1.2876, 1.2878, 1.288, 1.2882, 1.2884, 1.2886, 1.2888000000000002, 1.2890000000000001, 1.2892000000000001, 1.2894, 1.2896, 1.2898, 1.29, 1.2902, 1.2904, 1.2906, 1.2908000000000002, 1.2910000000000001, 1.2912000000000001, 1.2914, 1.2916, 1.2918, 1.292, 1.2922, 1.2924, 1.2926, 1.2928000000000002, 1.2930000000000001, 1.2932000000000001, 1.2934, 1.2936, 1.2938, 1.294, 1.2942, 1.2944, 1.2946, 1.2948000000000002, 1.2950000000000002, 1.2952000000000001, 1.2954, 1.2956, 1.2958, 1.296, 1.2962, 1.2964, 1.2966, 1.2968, 1.2970000000000002, 1.2972000000000001, 1.2974, 1.2976, 1.2978, 1.298, 1.2982, 1.2984, 1.2986, 1.2988, 1.2990000000000002, 1.2992000000000001, 1.2994, 1.2996, 1.2998, 1.3, 1.3002, 1.3004, 1.3006, 1.3008, 1.3010000000000002, 1.3012000000000001, 1.3014000000000001, 1.3016, 1.3018, 1.302, 1.3022, 1.3024, 1.3026, 1.3028, 1.3030000000000002, 1.3032000000000001, 1.3034000000000001, 1.3036, 1.3038, 1.304, 1.3042, 1.3044, 1.3046, 1.3048, 1.3050000000000002, 1.3052000000000001, 1.3054000000000001, 1.3056, 1.3058, 1.306, 1.3062, 1.3064, 1.3066, 1.3068, 1.3070000000000002, 1.3072000000000001, 1.3074000000000001, 1.3076, 1.3078, 1.308, 1.3082, 1.3084, 1.3086, 1.3088, 1.3090000000000002, 1.3092000000000001, 1.3094000000000001, 1.3096, 1.3098, 1.31, 1.3102, 1.3104, 1.3106, 1.3108, 1.3110000000000002, 1.3112000000000001, 1.3114000000000001, 1.3116, 1.3118, 1.312, 1.3122, 1.3124, 1.3126, 1.3128, 1.3130000000000002, 1.3132000000000001, 1.3134000000000001, 1.3136, 1.3138, 1.314, 1.3142, 1.3144, 1.3146, 1.3148, 1.3150000000000002, 1.3152000000000001, 1.3154000000000001, 1.3156, 1.3158, 1.316, 1.3162, 1.3164, 1.3166, 1.3168, 1.3170000000000002, 1.3172000000000001, 1.3174000000000001, 1.3176, 1.3178, 1.318, 1.3182, 1.3184, 1.3186, 1.3188, 1.3190000000000002, 1.3192000000000002, 1.3194000000000001, 1.3196, 1.3198, 1.32, 1.3202, 1.3204, 1.3206, 1.3208, 1.3210000000000002, 1.3212000000000002, 1.3214000000000001, 1.3216, 1.3218, 1.322, 1.3222, 1.3224, 1.3226, 1.3228, 1.323, 1.3232000000000002, 1.3234000000000001, 1.3236, 1.3238, 1.324, 1.3242, 1.3244, 1.3246, 1.3248, 1.325, 1.3252000000000002, 1.3254000000000001, 1.3256000000000001, 1.3258, 1.326, 1.3262, 1.3264, 1.3266, 1.3268, 1.327, 1.3272000000000002, 1.3274000000000001, 1.3276000000000001, 1.3278, 1.328, 1.3282, 1.3284, 1.3286, 1.3288, 1.329, 1.3292000000000002, 1.3294000000000001, 1.3296000000000001, 1.3298, 1.33, 1.3302, 1.3304, 1.3306, 1.3308, 1.331, 1.3312000000000002, 1.3314000000000001, 1.3316000000000001, 1.3318, 1.332, 1.3322, 1.3324, 1.3326, 1.3328, 1.333, 1.3332000000000002, 1.3334000000000001, 1.3336000000000001, 1.3338, 1.334, 1.3342, 1.3344, 1.3346, 1.3348, 1.335, 1.3352000000000002, 1.3354000000000001, 1.3356000000000001, 1.3358, 1.336, 1.3362, 1.3364, 1.3366, 1.3368, 1.337, 1.3372000000000002, 1.3374000000000001, 1.3376000000000001, 1.3378, 1.338, 1.3382, 1.3384, 1.3386, 1.3388, 1.339, 1.3392000000000002, 1.3394000000000001, 1.3396000000000001, 1.3398, 1.34, 1.3402, 1.3404, 1.3406, 1.3408, 1.341, 1.3412000000000002, 1.3414000000000001, 1.3416000000000001, 1.3418, 1.342, 1.3422, 1.3424, 1.3426, 1.3428, 1.343, 1.3432000000000002, 1.3434000000000001, 1.3436000000000001, 1.3438, 1.344, 1.3442, 1.3444, 1.3446, 1.3448, 1.345, 1.3452000000000002, 1.3454000000000002, 1.3456000000000001, 1.3458, 1.346, 1.3462, 1.3464, 1.3466, 1.3468, 1.347, 1.3472000000000002, 1.3474000000000002, 1.3476000000000001, 1.3478, 1.348, 1.3482, 1.3484, 1.3486, 1.3488, 1.349, 1.3492, 1.3494000000000002, 1.3496000000000001, 1.3498, 1.35, 1.3502, 1.3504, 1.3506, 1.3508, 1.351, 1.3512, 1.3514000000000002, 1.3516000000000001, 1.3518000000000001, 1.352, 1.3522, 1.3524, 1.3526, 1.3528, 1.353, 1.3532, 1.3534000000000002, 1.3536000000000001, 1.3538000000000001, 1.354, 1.3542, 1.3544, 1.3546, 1.3548, 1.355, 1.3552, 1.3554000000000002, 1.3556000000000001, 1.3558000000000001, 1.356, 1.3562, 1.3564, 1.3566, 1.3568, 1.357, 1.3572, 1.3574000000000002, 1.3576000000000001, 1.3578000000000001, 1.358, 1.3582, 1.3584, 1.3586, 1.3588, 1.359, 1.3592, 1.3594000000000002, 1.3596000000000001, 1.3598000000000001, 1.36, 1.3602, 1.3604, 1.3606, 1.3608, 1.361, 1.3612, 1.3614000000000002, 1.3616000000000001, 1.3618000000000001, 1.362, 1.3622, 1.3624, 1.3626, 1.3628, 1.363, 1.3632, 1.3634000000000002, 1.3636000000000001, 1.3638000000000001, 1.364, 1.3642, 1.3644, 1.3646, 1.3648, 1.365, 1.3652, 1.3654000000000002, 1.3656000000000001, 1.3658000000000001, 1.366, 1.3662, 1.3664, 1.3666, 1.3668, 1.367, 1.3672, 1.3674000000000002, 1.3676000000000001, 1.3678000000000001, 1.368, 1.3682, 1.3684, 1.3686, 1.3688, 1.369, 1.3692, 1.3694000000000002, 1.3696000000000002, 1.3698000000000001, 1.37, 1.3702, 1.3704, 1.3706, 1.3708, 1.371, 1.3712, 1.3714000000000002, 1.3716000000000002, 1.3718000000000001, 1.372, 1.3722, 1.3724, 1.3726, 1.3728, 1.373, 1.3732, 1.3734000000000002, 1.3736000000000002, 1.3738000000000001, 1.374, 1.3742, 1.3744, 1.3746, 1.3748, 1.375, 1.3752, 1.3754, 1.3756000000000002, 1.3758000000000001, 1.3760000000000001, 1.3762, 1.3764, 1.3766, 1.3768, 1.377, 1.3772, 1.3774, 1.3776000000000002, 1.3778000000000001, 1.3780000000000001, 1.3782, 1.3784, 1.3786, 1.3788, 1.379, 1.3792, 1.3794, 1.3796000000000002, 1.3798000000000001, 1.3800000000000001, 1.3802, 1.3804, 1.3806, 1.3808, 1.381, 1.3812, 1.3814, 1.3816000000000002, 1.3818000000000001, 1.3820000000000001, 1.3822, 1.3824, 1.3826, 1.3828, 1.383, 1.3832, 1.3834, 1.3836000000000002, 1.3838000000000001, 1.3840000000000001, 1.3842, 1.3844, 1.3846, 1.3848, 1.385, 1.3852, 1.3854, 1.3856000000000002, 1.3858000000000001, 1.3860000000000001, 1.3862, 1.3864, 1.3866, 1.3868, 1.387, 1.3872, 1.3874, 1.3876000000000002, 1.3878000000000001, 1.3880000000000001, 1.3882, 1.3884, 1.3886, 1.3888, 1.389, 1.3892, 1.3894, 1.3896000000000002, 1.3898000000000001, 1.3900000000000001, 1.3902, 1.3904, 1.3906, 1.3908, 1.391, 1.3912, 1.3914, 1.3916000000000002, 1.3918000000000001, 1.3920000000000001, 1.3922, 1.3924, 1.3926, 1.3928, 1.393, 1.3932, 1.3934, 1.3936000000000002, 1.3938000000000001, 1.3940000000000001, 1.3942, 1.3944, 1.3946, 1.3948, 1.395, 1.3952, 1.3954, 1.3956000000000002, 1.3958000000000002, 1.3960000000000001, 1.3962, 1.3964, 1.3966, 1.3968, 1.397, 1.3972, 1.3974, 1.3976000000000002, 1.3978000000000002, 1.3980000000000001, 1.3982, 1.3984, 1.3986, 1.3988, 1.399, 1.3992, 1.3994, 1.3996000000000002, 1.3998000000000002, 1.4000000000000001, 1.4002000000000001, 1.4004, 1.4006, 1.4008, 1.401, 1.4012, 1.4014, 1.4016, 1.4018000000000002, 1.4020000000000001, 1.4022000000000001, 1.4024, 1.4026, 1.4028, 1.403, 1.4032, 1.4034, 1.4036, 1.4038000000000002, 1.4040000000000001, 1.4042000000000001, 1.4044, 1.4046, 1.4048, 1.405, 1.4052, 1.4054, 1.4056, 1.4058000000000002, 1.4060000000000001, 1.4062000000000001, 1.4064, 1.4066, 1.4068, 1.407, 1.4072, 1.4074, 1.4076, 1.4078000000000002, 1.4080000000000001, 1.4082000000000001, 1.4084, 1.4086, 1.4088, 1.409, 1.4092, 1.4094, 1.4096, 1.4098000000000002, 1.4100000000000001, 1.4102000000000001, 1.4104, 1.4106, 1.4108, 1.411, 1.4112, 1.4114, 1.4116, 1.4118000000000002, 1.4120000000000001, 1.4122000000000001, 1.4124, 1.4126, 1.4128, 1.413, 1.4132, 1.4134, 1.4136, 1.4138000000000002, 1.4140000000000001, 1.4142000000000001, 1.4144, 1.4146, 1.4148, 1.415, 1.4152, 1.4154, 1.4156, 1.4158000000000002, 1.4160000000000001, 1.4162000000000001, 1.4164, 1.4166, 1.4168, 1.417, 1.4172, 1.4174, 1.4176, 1.4178000000000002, 1.4180000000000001, 1.4182000000000001, 1.4184, 1.4186, 1.4188, 1.419, 1.4192, 1.4194, 1.4196, 1.4198000000000002, 1.4200000000000002, 1.4202000000000001, 1.4204, 1.4206, 1.4208, 1.421, 1.4212, 1.4214, 1.4216, 1.4218000000000002, 1.4220000000000002, 1.4222000000000001, 1.4224, 1.4226, 1.4228, 1.423, 1.4232, 1.4234, 1.4236, 1.4238000000000002, 1.4240000000000002, 1.4242000000000001, 1.4244, 1.4246, 1.4248, 1.425, 1.4252, 1.4254, 1.4256, 1.4258000000000002, 1.4260000000000002, 1.4262000000000001, 1.4264000000000001, 1.4266, 1.4268, 1.427, 1.4272, 1.4274, 1.4276, 1.4278, 1.4280000000000002, 1.4282000000000001, 1.4284000000000001, 1.4286, 1.4288, 1.429, 1.4292, 1.4294, 1.4296, 1.4298, 1.4300000000000002, 1.4302000000000001, 1.4304000000000001, 1.4306, 1.4308, 1.431, 1.4312, 1.4314, 1.4316, 1.4318, 1.4320000000000002, 1.4322000000000001, 1.4324000000000001, 1.4326, 1.4328, 1.433, 1.4332, 1.4334, 1.4336, 1.4338, 1.4340000000000002, 1.4342000000000001, 1.4344000000000001, 1.4346, 1.4348, 1.435, 1.4352, 1.4354, 1.4356, 1.4358, 1.4360000000000002, 1.4362000000000001, 1.4364000000000001, 1.4366, 1.4368, 1.437, 1.4372, 1.4374, 1.4376, 1.4378, 1.4380000000000002, 1.4382000000000001, 1.4384000000000001, 1.4386, 1.4388, 1.439, 1.4392, 1.4394, 1.4396, 1.4398, 1.4400000000000002, 1.4402000000000001, 1.4404000000000001, 1.4406, 1.4408, 1.441, 1.4412, 1.4414, 1.4416, 1.4418, 1.4420000000000002, 1.4422000000000001, 1.4424000000000001, 1.4426, 1.4428, 1.443, 1.4432, 1.4434, 1.4436, 1.4438, 1.4440000000000002, 1.4442000000000002, 1.4444000000000001, 1.4446, 1.4448, 1.445, 1.4452, 1.4454, 1.4456, 1.4458, 1.4460000000000002, 1.4462000000000002, 1.4464000000000001, 1.4466, 1.4468, 1.447, 1.4472, 1.4474, 1.4476, 1.4478, 1.4480000000000002, 1.4482000000000002, 1.4484000000000001, 1.4486, 1.4488, 1.449, 1.4492, 1.4494, 1.4496, 1.4498, 1.4500000000000002, 1.4502000000000002, 1.4504000000000001, 1.4506000000000001, 1.4508, 1.451, 1.4512, 1.4514, 1.4516, 1.4518, 1.4520000000000002, 1.4522000000000002, 1.4524000000000001, 1.4526000000000001, 1.4528, 1.453, 1.4532, 1.4534, 1.4536, 1.4538, 1.454, 1.4542000000000002, 1.4544000000000001, 1.4546000000000001, 1.4548, 1.455, 1.4552, 1.4554, 1.4556, 1.4558, 1.456, 1.4562000000000002, 1.4564000000000001, 1.4566000000000001, 1.4568, 1.457, 1.4572, 1.4574, 1.4576, 1.4578, 1.458, 1.4582000000000002, 1.4584000000000001, 1.4586000000000001, 1.4588, 1.459, 1.4592, 1.4594, 1.4596, 1.4598, 1.46, 1.4602000000000002, 1.4604000000000001, 1.4606000000000001, 1.4608, 1.461, 1.4612, 1.4614, 1.4616, 1.4618, 1.462, 1.4622000000000002, 1.4624000000000001, 1.4626000000000001, 1.4628, 1.463, 1.4632, 1.4634, 1.4636, 1.4638, 1.464, 1.4642000000000002, 1.4644000000000001, 1.4646000000000001, 1.4648, 1.465, 1.4652, 1.4654, 1.4656, 1.4658, 1.466, 1.4662000000000002, 1.4664000000000001, 1.4666000000000001, 1.4668, 1.467, 1.4672, 1.4674, 1.4676, 1.4678, 1.468, 1.4682000000000002, 1.4684000000000001, 1.4686000000000001, 1.4688, 1.469, 1.4692, 1.4694, 1.4696, 1.4698, 1.47, 1.4702000000000002, 1.4704000000000002, 1.4706000000000001, 1.4708, 1.471, 1.4712, 1.4714, 1.4716, 1.4718, 1.472, 1.4722000000000002, 1.4724000000000002, 1.4726000000000001, 1.4728, 1.473, 1.4732, 1.4734, 1.4736, 1.4738, 1.474, 1.4742000000000002, 1.4744000000000002, 1.4746000000000001, 1.4748, 1.475, 1.4752, 1.4754, 1.4756, 1.4758, 1.476, 1.4762000000000002, 1.4764000000000002, 1.4766000000000001, 1.4768000000000001, 1.477, 1.4772, 1.4774, 1.4776, 1.4778, 1.478, 1.4782000000000002, 1.4784000000000002, 1.4786000000000001, 1.4788000000000001, 1.479, 1.4792, 1.4794, 1.4796, 1.4798, 1.48, 1.4802, 1.4804000000000002, 1.4806000000000001, 1.4808000000000001, 1.481, 1.4812, 1.4814, 1.4816, 1.4818, 1.482, 1.4822, 1.4824000000000002, 1.4826000000000001, 1.4828000000000001, 1.483, 1.4832, 1.4834, 1.4836, 1.4838, 1.484, 1.4842, 1.4844000000000002, 1.4846000000000001, 1.4848000000000001, 1.485, 1.4852, 1.4854, 1.4856, 1.4858, 1.486, 1.4862, 1.4864000000000002, 1.4866000000000001, 1.4868000000000001, 1.487, 1.4872, 1.4874, 1.4876, 1.4878, 1.488, 1.4882, 1.4884000000000002, 1.4886000000000001, 1.4888000000000001, 1.489, 1.4892, 1.4894, 1.4896, 1.4898, 1.49, 1.4902, 1.4904000000000002, 1.4906000000000001, 1.4908000000000001, 1.491, 1.4912, 1.4914, 1.4916, 1.4918, 1.492, 1.4922, 1.4924000000000002, 1.4926000000000001, 1.4928000000000001, 1.493, 1.4932, 1.4934, 1.4936, 1.4938, 1.494, 1.4942, 1.4944000000000002, 1.4946000000000002, 1.4948000000000001, 1.495, 1.4952, 1.4954, 1.4956, 1.4958, 1.496, 1.4962, 1.4964000000000002, 1.4966000000000002, 1.4968000000000001, 1.497, 1.4972, 1.4974, 1.4976, 1.4978, 1.498, 1.4982, 1.4984000000000002, 1.4986000000000002, 1.4988000000000001, 1.499, 1.4992, 1.4994, 1.4996, 1.4998, 1.5, 1.5002, 1.5004000000000002, 1.5006000000000002, 1.5008000000000001, 1.5010000000000001, 1.5012, 1.5014, 1.5016, 1.5018, 1.502, 1.5022, 1.5024000000000002, 1.5026000000000002, 1.5028000000000001, 1.5030000000000001, 1.5032, 1.5034, 1.5036, 1.5038, 1.504, 1.5042, 1.5044000000000002, 1.5046000000000002, 1.5048000000000001, 1.5050000000000001, 1.5052, 1.5054, 1.5056, 1.5058, 1.506, 1.5062, 1.5064, 1.5066000000000002, 1.5068000000000001, 1.5070000000000001, 1.5072, 1.5074, 1.5076, 1.5078, 1.508, 1.5082, 1.5084, 1.5086000000000002, 1.5088000000000001, 1.5090000000000001, 1.5092, 1.5094, 1.5096, 1.5098, 1.51, 1.5102, 1.5104, 1.5106000000000002, 1.5108000000000001, 1.5110000000000001, 1.5112, 1.5114, 1.5116, 1.5118, 1.512, 1.5122, 1.5124, 1.5126000000000002, 1.5128000000000001, 1.5130000000000001, 1.5132, 1.5134, 1.5136, 1.5138, 1.514, 1.5142, 1.5144, 1.5146000000000002, 1.5148000000000001, 1.5150000000000001, 1.5152, 1.5154, 1.5156, 1.5158, 1.516, 1.5162, 1.5164, 1.5166000000000002, 1.5168000000000001, 1.5170000000000001, 1.5172, 1.5174, 1.5176, 1.5178, 1.518, 1.5182, 1.5184, 1.5186000000000002, 1.5188000000000001, 1.5190000000000001, 1.5192, 1.5194, 1.5196, 1.5198, 1.52, 1.5202, 1.5204, 1.5206000000000002, 1.5208000000000002, 1.5210000000000001, 1.5212, 1.5214, 1.5216, 1.5218, 1.522, 1.5222, 1.5224, 1.5226000000000002, 1.5228000000000002, 1.5230000000000001, 1.5232, 1.5234, 1.5236, 1.5238, 1.524, 1.5242, 1.5244, 1.5246000000000002, 1.5248000000000002, 1.5250000000000001, 1.5252000000000001, 1.5254, 1.5256, 1.5258, 1.526, 1.5262, 1.5264, 1.5266000000000002, 1.5268000000000002, 1.5270000000000001, 1.5272000000000001, 1.5274, 1.5276, 1.5278, 1.528, 1.5282, 1.5284, 1.5286000000000002, 1.5288000000000002, 1.5290000000000001, 1.5292000000000001, 1.5294, 1.5296, 1.5298, 1.53, 1.5302, 1.5304, 1.5306000000000002, 1.5308000000000002, 1.5310000000000001, 1.5312000000000001, 1.5314, 1.5316, 1.5318, 1.532, 1.5322, 1.5324, 1.5326000000000002, 1.5328000000000002, 1.5330000000000001, 1.5332000000000001, 1.5334, 1.5336, 1.5338, 1.534, 1.5342, 1.5344, 1.5346, 1.5348000000000002, 1.5350000000000001, 1.5352000000000001, 1.5354, 1.5356, 1.5358, 1.536, 1.5362, 1.5364, 1.5366, 1.5368000000000002, 1.5370000000000001, 1.5372000000000001, 1.5374, 1.5376, 1.5378, 1.538, 1.5382, 1.5384, 1.5386, 1.5388000000000002, 1.5390000000000001, 1.5392000000000001, 1.5394, 1.5396, 1.5398, 1.54, 1.5402, 1.5404, 1.5406, 1.5408000000000002, 1.5410000000000001, 1.5412000000000001, 1.5414, 1.5416, 1.5418, 1.542, 1.5422, 1.5424, 1.5426, 1.5428000000000002, 1.5430000000000001, 1.5432000000000001, 1.5434, 1.5436, 1.5438, 1.544, 1.5442, 1.5444, 1.5446, 1.5448000000000002, 1.5450000000000002, 1.5452000000000001, 1.5454, 1.5456, 1.5458, 1.546, 1.5462, 1.5464, 1.5466, 1.5468000000000002, 1.5470000000000002, 1.5472000000000001, 1.5474, 1.5476, 1.5478, 1.548, 1.5482, 1.5484, 1.5486, 1.5488000000000002, 1.5490000000000002, 1.5492000000000001, 1.5494, 1.5496, 1.5498, 1.55, 1.5502, 1.5504, 1.5506, 1.5508000000000002, 1.5510000000000002, 1.5512000000000001, 1.5514000000000001, 1.5516, 1.5518, 1.552, 1.5522, 1.5524, 1.5526, 1.5528000000000002, 1.5530000000000002, 1.5532000000000001, 1.5534000000000001, 1.5536, 1.5538, 1.554, 1.5542, 1.5544, 1.5546, 1.5548000000000002, 1.5550000000000002, 1.5552000000000001, 1.5554000000000001, 1.5556, 1.5558, 1.556, 1.5562, 1.5564, 1.5566, 1.5568000000000002, 1.5570000000000002, 1.5572000000000001, 1.5574000000000001, 1.5576, 1.5578, 1.558, 1.5582, 1.5584, 1.5586, 1.5588000000000002, 1.5590000000000002, 1.5592000000000001, 1.5594000000000001, 1.5596, 1.5598, 1.56, 1.5602, 1.5604, 1.5606, 1.5608, 1.5610000000000002, 1.5612000000000001, 1.5614000000000001, 1.5616, 1.5618, 1.562, 1.5622, 1.5624, 1.5626, 1.5628, 1.5630000000000002, 1.5632000000000001, 1.5634000000000001, 1.5636, 1.5638, 1.564, 1.5642, 1.5644, 1.5646, 1.5648, 1.5650000000000002, 1.5652000000000001, 1.5654000000000001, 1.5656, 1.5658, 1.566, 1.5662, 1.5664, 1.5666, 1.5668, 1.5670000000000002, 1.5672000000000001, 1.5674000000000001, 1.5676, 1.5678, 1.568, 1.5682, 1.5684, 1.5686, 1.5688, 1.5690000000000002, 1.5692000000000002, 1.5694000000000001, 1.5696, 1.5698, 1.57, 1.5702, 1.5704, 1.5706, 1.5708, 1.5710000000000002, 1.5712000000000002, 1.5714000000000001, 1.5716, 1.5718, 1.572, 1.5722, 1.5724, 1.5726, 1.5728, 1.5730000000000002, 1.5732000000000002, 1.5734000000000001, 1.5736, 1.5738, 1.574, 1.5742, 1.5744, 1.5746, 1.5748, 1.5750000000000002, 1.5752000000000002, 1.5754000000000001, 1.5756000000000001, 1.5758, 1.576, 1.5762, 1.5764, 1.5766, 1.5768, 1.5770000000000002, 1.5772000000000002, 1.5774000000000001, 1.5776000000000001, 1.5778, 1.578, 1.5782, 1.5784, 1.5786, 1.5788, 1.5790000000000002, 1.5792000000000002, 1.5794000000000001, 1.5796000000000001, 1.5798, 1.58, 1.5802, 1.5804, 1.5806, 1.5808, 1.5810000000000002, 1.5812000000000002, 1.5814000000000001, 1.5816000000000001, 1.5818, 1.582, 1.5822, 1.5824, 1.5826, 1.5828, 1.5830000000000002, 1.5832000000000002, 1.5834000000000001, 1.5836000000000001, 1.5838, 1.584, 1.5842, 1.5844, 1.5846, 1.5848, 1.5850000000000002, 1.5852000000000002, 1.5854000000000001, 1.5856000000000001, 1.5858, 1.586, 1.5862, 1.5864, 1.5866, 1.5868, 1.587, 1.5872000000000002, 1.5874000000000001, 1.5876000000000001, 1.5878, 1.588, 1.5882, 1.5884, 1.5886, 1.5888, 1.589, 1.5892000000000002, 1.5894000000000001, 1.5896000000000001, 1.5898, 1.59, 1.5902, 1.5904, 1.5906, 1.5908, 1.591, 1.5912000000000002, 1.5914000000000001, 1.5916000000000001, 1.5918, 1.592, 1.5922, 1.5924, 1.5926, 1.5928, 1.593, 1.5932000000000002, 1.5934000000000001, 1.5936000000000001, 1.5938, 1.594, 1.5942, 1.5944, 1.5946, 1.5948, 1.595, 1.5952000000000002, 1.5954000000000002, 1.5956000000000001, 1.5958, 1.596, 1.5962, 1.5964, 1.5966, 1.5968, 1.597, 1.5972000000000002, 1.5974000000000002, 1.5976000000000001, 1.5978, 1.598, 1.5982, 1.5984, 1.5986, 1.5988, 1.599, 1.5992000000000002, 1.5994000000000002, 1.5996000000000001, 1.5998, 1.6, 1.6002, 1.6004, 1.6006, 1.6008, 1.601, 1.6012000000000002, 1.6014000000000002, 1.6016000000000001, 1.6018000000000001, 1.602, 1.6022, 1.6024, 1.6026, 1.6028, 1.603, 1.6032000000000002, 1.6034000000000002, 1.6036000000000001, 1.6038000000000001, 1.604, 1.6042, 1.6044, 1.6046, 1.6048, 1.605, 1.6052000000000002, 1.6054000000000002, 1.6056000000000001, 1.6058000000000001, 1.606, 1.6062, 1.6064, 1.6066, 1.6068, 1.607, 1.6072000000000002, 1.6074000000000002, 1.6076000000000001, 1.6078000000000001, 1.608, 1.6082, 1.6084, 1.6086, 1.6088, 1.609, 1.6092000000000002, 1.6094000000000002, 1.6096000000000001, 1.6098000000000001, 1.61, 1.6102, 1.6104, 1.6106, 1.6108, 1.611, 1.6112000000000002, 1.6114000000000002, 1.6116000000000001, 1.6118000000000001, 1.612, 1.6122, 1.6124, 1.6126, 1.6128, 1.613, 1.6132, 1.6134000000000002, 1.6136000000000001, 1.6138000000000001, 1.614, 1.6142, 1.6144, 1.6146, 1.6148, 1.615, 1.6152, 1.6154000000000002, 1.6156000000000001, 1.6158000000000001, 1.616, 1.6162, 1.6164, 1.6166, 1.6168, 1.617, 1.6172, 1.6174000000000002, 1.6176000000000001, 1.6178000000000001, 1.618, 1.6182, 1.6184, 1.6186, 1.6188, 1.619, 1.6192, 1.6194000000000002, 1.6196000000000002, 1.6198000000000001, 1.62, 1.6202, 1.6204, 1.6206, 1.6208, 1.621, 1.6212, 1.6214000000000002, 1.6216000000000002, 1.6218000000000001, 1.622, 1.6222, 1.6224, 1.6226, 1.6228, 1.623, 1.6232, 1.6234000000000002, 1.6236000000000002, 1.6238000000000001, 1.624, 1.6242, 1.6244, 1.6246, 1.6248, 1.625, 1.6252, 1.6254000000000002, 1.6256000000000002, 1.6258000000000001, 1.6260000000000001, 1.6262, 1.6264, 1.6266, 1.6268, 1.627, 1.6272, 1.6274000000000002, 1.6276000000000002, 1.6278000000000001, 1.6280000000000001, 1.6282, 1.6284, 1.6286, 1.6288, 1.629, 1.6292, 1.6294000000000002, 1.6296000000000002, 1.6298000000000001, 1.6300000000000001, 1.6302, 1.6304, 1.6306, 1.6308, 1.631, 1.6312, 1.6314000000000002, 1.6316000000000002, 1.6318000000000001, 1.6320000000000001, 1.6322, 1.6324, 1.6326, 1.6328, 1.633, 1.6332, 1.6334000000000002, 1.6336000000000002, 1.6338000000000001, 1.6340000000000001, 1.6342, 1.6344, 1.6346, 1.6348, 1.635, 1.6352, 1.6354000000000002, 1.6356000000000002, 1.6358000000000001, 1.6360000000000001, 1.6362, 1.6364, 1.6366, 1.6368, 1.637, 1.6372, 1.6374000000000002, 1.6376000000000002, 1.6378000000000001, 1.6380000000000001, 1.6382, 1.6384, 1.6386, 1.6388, 1.639, 1.6392, 1.6394, 1.6396000000000002, 1.6398000000000001, 1.6400000000000001, 1.6402, 1.6404, 1.6406, 1.6408, 1.641, 1.6412, 1.6414, 1.6416000000000002, 1.6418000000000001, 1.6420000000000001, 1.6422, 1.6424, 1.6426, 1.6428, 1.643, 1.6432, 1.6434, 1.6436000000000002, 1.6438000000000001, 1.6440000000000001, 1.6442, 1.6444, 1.6446, 1.6448, 1.645, 1.6452, 1.6454, 1.6456000000000002, 1.6458000000000002, 1.6460000000000001, 1.6462, 1.6464, 1.6466, 1.6468, 1.647, 1.6472, 1.6474, 1.6476000000000002, 1.6478000000000002, 1.6480000000000001, 1.6482, 1.6484, 1.6486, 1.6488, 1.649, 1.6492, 1.6494, 1.6496000000000002, 1.6498000000000002, 1.6500000000000001, 1.6502000000000001, 1.6504, 1.6506, 1.6508, 1.651, 1.6512, 1.6514, 1.6516000000000002, 1.6518000000000002, 1.6520000000000001, 1.6522000000000001, 1.6524, 1.6526, 1.6528, 1.653, 1.6532, 1.6534, 1.6536000000000002, 1.6538000000000002, 1.6540000000000001, 1.6542000000000001, 1.6544, 1.6546, 1.6548, 1.655, 1.6552, 1.6554, 1.6556000000000002, 1.6558000000000002, 1.6560000000000001, 1.6562000000000001, 1.6564, 1.6566, 1.6568, 1.657, 1.6572, 1.6574, 1.6576000000000002, 1.6578000000000002, 1.6580000000000001, 1.6582000000000001, 1.6584, 1.6586, 1.6588, 1.659, 1.6592, 1.6594, 1.6596000000000002, 1.6598000000000002, 1.6600000000000001, 1.6602000000000001, 1.6604, 1.6606, 1.6608, 1.661, 1.6612, 1.6614, 1.6616000000000002, 1.6618000000000002, 1.6620000000000001, 1.6622000000000001, 1.6624, 1.6626, 1.6628, 1.663, 1.6632, 1.6634, 1.6636000000000002, 1.6638000000000002, 1.6640000000000001, 1.6642000000000001, 1.6644, 1.6646, 1.6648, 1.665, 1.6652, 1.6654, 1.6656, 1.6658000000000002, 1.6660000000000001, 1.6662000000000001, 1.6664, 1.6666, 1.6668, 1.667, 1.6672, 1.6674, 1.6676, 1.6678000000000002, 1.6680000000000001, 1.6682000000000001, 1.6684, 1.6686, 1.6688, 1.669, 1.6692, 1.6694, 1.6696, 1.6698000000000002, 1.6700000000000002, 1.6702000000000001, 1.6704, 1.6706, 1.6708, 1.671, 1.6712, 1.6714, 1.6716, 1.6718000000000002, 1.6720000000000002, 1.6722000000000001, 1.6724, 1.6726, 1.6728, 1.673, 1.6732, 1.6734, 1.6736, 1.6738000000000002, 1.6740000000000002, 1.6742000000000001, 1.6744, 1.6746, 1.6748, 1.675, 1.6752, 1.6754, 1.6756, 1.6758000000000002, 1.6760000000000002, 1.6762000000000001, 1.6764000000000001, 1.6766, 1.6768, 1.677, 1.6772, 1.6774, 1.6776, 1.6778000000000002, 1.6780000000000002, 1.6782000000000001, 1.6784000000000001, 1.6786, 1.6788, 1.679, 1.6792, 1.6794, 1.6796, 1.6798000000000002, 1.6800000000000002, 1.6802000000000001, 1.6804000000000001, 1.6806, 1.6808, 1.681, 1.6812, 1.6814, 1.6816, 1.6818000000000002, 1.6820000000000002, 1.6822000000000001, 1.6824000000000001, 1.6826, 1.6828, 1.683, 1.6832, 1.6834, 1.6836, 1.6838000000000002, 1.6840000000000002, 1.6842000000000001, 1.6844000000000001, 1.6846, 1.6848, 1.685, 1.6852, 1.6854, 1.6856, 1.6858000000000002, 1.6860000000000002, 1.6862000000000001, 1.6864000000000001, 1.6866, 1.6868, 1.687, 1.6872, 1.6874, 1.6876, 1.6878000000000002, 1.6880000000000002, 1.6882000000000001, 1.6884000000000001, 1.6886, 1.6888, 1.689, 1.6892, 1.6894, 1.6896, 1.6898000000000002, 1.6900000000000002, 1.6902000000000001, 1.6904000000000001, 1.6906, 1.6908, 1.691, 1.6912, 1.6914, 1.6916, 1.6918, 1.6920000000000002, 1.6922000000000001, 1.6924000000000001, 1.6926, 1.6928, 1.693, 1.6932, 1.6934, 1.6936, 1.6938, 1.6940000000000002, 1.6942000000000002, 1.6944000000000001, 1.6946, 1.6948, 1.695, 1.6952, 1.6954, 1.6956, 1.6958, 1.6960000000000002, 1.6962000000000002, 1.6964000000000001, 1.6966, 1.6968, 1.697, 1.6972, 1.6974, 1.6976, 1.6978, 1.6980000000000002, 1.6982000000000002, 1.6984000000000001, 1.6986, 1.6988, 1.699, 1.6992, 1.6994, 1.6996, 1.6998, 1.7000000000000002, 1.7002000000000002, 1.7004000000000001, 1.7006000000000001, 1.7008, 1.701, 1.7012, 1.7014, 1.7016, 1.7018, 1.7020000000000002, 1.7022000000000002, 1.7024000000000001, 1.7026000000000001, 1.7028, 1.703, 1.7032, 1.7034, 1.7036, 1.7038, 1.7040000000000002, 1.7042000000000002, 1.7044000000000001, 1.7046000000000001, 1.7048, 1.705, 1.7052, 1.7054, 1.7056, 1.7058, 1.7060000000000002, 1.7062000000000002, 1.7064000000000001, 1.7066000000000001, 1.7068, 1.707, 1.7072, 1.7074, 1.7076, 1.7078, 1.7080000000000002, 1.7082000000000002, 1.7084000000000001, 1.7086000000000001, 1.7088, 1.709, 1.7092, 1.7094, 1.7096, 1.7098, 1.7100000000000002, 1.7102000000000002, 1.7104000000000001, 1.7106000000000001, 1.7108, 1.711, 1.7112, 1.7114, 1.7116, 1.7118, 1.7120000000000002, 1.7122000000000002, 1.7124000000000001, 1.7126000000000001, 1.7128, 1.713, 1.7132, 1.7134, 1.7136, 1.7138, 1.7140000000000002, 1.7142000000000002, 1.7144000000000001, 1.7146000000000001, 1.7148, 1.715, 1.7152, 1.7154, 1.7156, 1.7158, 1.7160000000000002, 1.7162000000000002, 1.7164000000000001, 1.7166000000000001, 1.7168, 1.717, 1.7172, 1.7174, 1.7176, 1.7178, 1.718, 1.7182000000000002, 1.7184000000000001, 1.7186000000000001, 1.7188, 1.719, 1.7192, 1.7194, 1.7196, 1.7198, 1.72, 1.7202000000000002, 1.7204000000000002, 1.7206000000000001, 1.7208, 1.721, 1.7212, 1.7214, 1.7216, 1.7218, 1.722, 1.7222000000000002, 1.7224000000000002, 1.7226000000000001, 1.7228, 1.723, 1.7232, 1.7234, 1.7236, 1.7238, 1.724, 1.7242000000000002, 1.7244000000000002, 1.7246000000000001, 1.7248, 1.725, 1.7252, 1.7254, 1.7256, 1.7258, 1.726, 1.7262000000000002, 1.7264000000000002, 1.7266000000000001, 1.7268000000000001, 1.727, 1.7272, 1.7274, 1.7276, 1.7278, 1.728, 1.7282000000000002, 1.7284000000000002, 1.7286000000000001, 1.7288000000000001, 1.729, 1.7292, 1.7294, 1.7296, 1.7298, 1.73, 1.7302000000000002, 1.7304000000000002, 1.7306000000000001, 1.7308000000000001, 1.731, 1.7312, 1.7314, 1.7316, 1.7318, 1.732, 1.7322000000000002, 1.7324000000000002, 1.7326000000000001, 1.7328000000000001, 1.733, 1.7332, 1.7334, 1.7336, 1.7338, 1.734, 1.7342000000000002, 1.7344000000000002, 1.7346000000000001, 1.7348000000000001, 1.735, 1.7352, 1.7354, 1.7356, 1.7358, 1.736, 1.7362000000000002, 1.7364000000000002, 1.7366000000000001, 1.7368000000000001, 1.737, 1.7372, 1.7374, 1.7376, 1.7378, 1.738, 1.7382000000000002, 1.7384000000000002, 1.7386000000000001, 1.7388000000000001, 1.739, 1.7392, 1.7394, 1.7396, 1.7398, 1.74, 1.7402000000000002, 1.7404000000000002, 1.7406000000000001, 1.7408000000000001, 1.741, 1.7412, 1.7414, 1.7416, 1.7418, 1.742, 1.7422000000000002, 1.7424000000000002, 1.7426000000000001, 1.7428000000000001, 1.743, 1.7432, 1.7434, 1.7436, 1.7438, 1.744, 1.7442, 1.7444000000000002, 1.7446000000000002, 1.7448000000000001, 1.745, 1.7452, 1.7454, 1.7456, 1.7458, 1.746, 1.7462, 1.7464000000000002, 1.7466000000000002, 1.7468000000000001, 1.747, 1.7472, 1.7474, 1.7476, 1.7478, 1.748, 1.7482, 1.7484000000000002, 1.7486000000000002, 1.7488000000000001, 1.749, 1.7492, 1.7494, 1.7496, 1.7498, 1.75, 1.7502, 1.7504000000000002, 1.7506000000000002, 1.7508000000000001, 1.7510000000000001, 1.7512, 1.7514, 1.7516, 1.7518, 1.752, 1.7522, 1.7524000000000002, 1.7526000000000002, 1.7528000000000001, 1.7530000000000001, 1.7532, 1.7534, 1.7536, 1.7538, 1.754, 1.7542, 1.7544000000000002, 1.7546000000000002, 1.7548000000000001, 1.7550000000000001, 1.7552, 1.7554, 1.7556, 1.7558, 1.756, 1.7562, 1.7564000000000002, 1.7566000000000002, 1.7568000000000001, 1.7570000000000001, 1.7572, 1.7574, 1.7576, 1.7578, 1.758, 1.7582, 1.7584000000000002, 1.7586000000000002, 1.7588000000000001, 1.7590000000000001, 1.7592, 1.7594, 1.7596, 1.7598, 1.76, 1.7602, 1.7604000000000002, 1.7606000000000002, 1.7608000000000001, 1.7610000000000001, 1.7612, 1.7614, 1.7616, 1.7618, 1.762, 1.7622, 1.7624000000000002, 1.7626000000000002, 1.7628000000000001, 1.7630000000000001, 1.7632, 1.7634, 1.7636, 1.7638, 1.764, 1.7642, 1.7644000000000002, 1.7646000000000002, 1.7648000000000001, 1.7650000000000001, 1.7652, 1.7654, 1.7656, 1.7658, 1.766, 1.7662, 1.7664000000000002, 1.7666000000000002, 1.7668000000000001, 1.7670000000000001, 1.7672, 1.7674, 1.7676, 1.7678, 1.768, 1.7682, 1.7684000000000002, 1.7686000000000002, 1.7688000000000001, 1.7690000000000001, 1.7692, 1.7694, 1.7696, 1.7698, 1.77, 1.7702, 1.7704000000000002, 1.7706000000000002, 1.7708000000000002, 1.7710000000000001, 1.7712, 1.7714, 1.7716, 1.7718, 1.772, 1.7722, 1.7724, 1.7726000000000002, 1.7728000000000002, 1.7730000000000001, 1.7732, 1.7734, 1.7736, 1.7738, 1.774, 1.7742, 1.7744, 1.7746000000000002, 1.7748000000000002, 1.7750000000000001, 1.7752000000000001, 1.7754, 1.7756, 1.7758, 1.776, 1.7762, 1.7764, 1.7766000000000002, 1.7768000000000002, 1.7770000000000001, 1.7772000000000001, 1.7774, 1.7776, 1.7778, 1.778, 1.7782, 1.7784, 1.7786000000000002, 1.7788000000000002, 1.7790000000000001, 1.7792000000000001, 1.7794, 1.7796, 1.7798, 1.78, 1.7802, 1.7804, 1.7806000000000002, 1.7808000000000002, 1.7810000000000001, 1.7812000000000001, 1.7814, 1.7816, 1.7818, 1.782, 1.7822, 1.7824, 1.7826000000000002, 1.7828000000000002, 1.7830000000000001, 1.7832000000000001, 1.7834, 1.7836, 1.7838, 1.784, 1.7842, 1.7844, 1.7846000000000002, 1.7848000000000002, 1.7850000000000001, 1.7852000000000001, 1.7854, 1.7856, 1.7858, 1.786, 1.7862, 1.7864, 1.7866000000000002, 1.7868000000000002, 1.7870000000000001, 1.7872000000000001, 1.7874, 1.7876, 1.7878, 1.788, 1.7882, 1.7884, 1.7886000000000002, 1.7888000000000002, 1.7890000000000001, 1.7892000000000001, 1.7894, 1.7896, 1.7898, 1.79, 1.7902, 1.7904, 1.7906000000000002, 1.7908000000000002, 1.7910000000000001, 1.7912000000000001, 1.7914, 1.7916, 1.7918, 1.792, 1.7922, 1.7924, 1.7926000000000002, 1.7928000000000002, 1.7930000000000001, 1.7932000000000001, 1.7934, 1.7936, 1.7938, 1.794, 1.7942, 1.7944, 1.7946000000000002, 1.7948000000000002, 1.7950000000000002, 1.7952000000000001, 1.7954, 1.7956, 1.7958, 1.796, 1.7962, 1.7964, 1.7966000000000002, 1.7968000000000002, 1.7970000000000002, 1.7972000000000001, 1.7974, 1.7976, 1.7978, 1.798, 1.7982, 1.7984, 1.7986, 1.7988000000000002, 1.7990000000000002, 1.7992000000000001, 1.7994, 1.7996, 1.7998, 1.8, 1.8002, 1.8004, 1.8006, 1.8008000000000002, 1.8010000000000002, 1.8012000000000001, 1.8014000000000001, 1.8016, 1.8018, 1.802, 1.8022, 1.8024, 1.8026, 1.8028000000000002, 1.8030000000000002, 1.8032000000000001, 1.8034000000000001, 1.8036, 1.8038, 1.804, 1.8042, 1.8044, 1.8046, 1.8048000000000002, 1.8050000000000002, 1.8052000000000001, 1.8054000000000001, 1.8056, 1.8058, 1.806, 1.8062, 1.8064, 1.8066, 1.8068000000000002, 1.8070000000000002, 1.8072000000000001, 1.8074000000000001, 1.8076, 1.8078, 1.808, 1.8082, 1.8084, 1.8086, 1.8088000000000002, 1.8090000000000002, 1.8092000000000001, 1.8094000000000001, 1.8096, 1.8098, 1.81, 1.8102, 1.8104, 1.8106, 1.8108000000000002, 1.8110000000000002, 1.8112000000000001, 1.8114000000000001, 1.8116, 1.8118, 1.812, 1.8122, 1.8124, 1.8126, 1.8128000000000002, 1.8130000000000002, 1.8132000000000001, 1.8134000000000001, 1.8136, 1.8138, 1.814, 1.8142, 1.8144, 1.8146, 1.8148000000000002, 1.8150000000000002, 1.8152000000000001, 1.8154000000000001, 1.8156, 1.8158, 1.816, 1.8162, 1.8164, 1.8166, 1.8168000000000002, 1.8170000000000002, 1.8172000000000001, 1.8174000000000001, 1.8176, 1.8178, 1.818, 1.8182, 1.8184, 1.8186, 1.8188000000000002, 1.8190000000000002, 1.8192000000000002, 1.8194000000000001, 1.8196, 1.8198, 1.82, 1.8202, 1.8204, 1.8206, 1.8208000000000002, 1.8210000000000002, 1.8212000000000002, 1.8214000000000001, 1.8216, 1.8218, 1.822, 1.8222, 1.8224, 1.8226, 1.8228000000000002, 1.8230000000000002, 1.8232000000000002, 1.8234000000000001, 1.8236, 1.8238, 1.824, 1.8242, 1.8244, 1.8246, 1.8248, 1.8250000000000002, 1.8252000000000002, 1.8254000000000001, 1.8256000000000001, 1.8258, 1.826, 1.8262, 1.8264, 1.8266, 1.8268, 1.8270000000000002, 1.8272000000000002, 1.8274000000000001, 1.8276000000000001, 1.8278, 1.828, 1.8282, 1.8284, 1.8286, 1.8288, 1.8290000000000002, 1.8292000000000002, 1.8294000000000001, 1.8296000000000001, 1.8298, 1.83, 1.8302, 1.8304, 1.8306, 1.8308, 1.8310000000000002, 1.8312000000000002, 1.8314000000000001, 1.8316000000000001, 1.8318, 1.832, 1.8322, 1.8324, 1.8326, 1.8328, 1.8330000000000002, 1.8332000000000002, 1.8334000000000001, 1.8336000000000001, 1.8338, 1.834, 1.8342, 1.8344, 1.8346, 1.8348, 1.8350000000000002, 1.8352000000000002, 1.8354000000000001, 1.8356000000000001, 1.8358, 1.836, 1.8362, 1.8364, 1.8366, 1.8368, 1.8370000000000002, 1.8372000000000002, 1.8374000000000001, 1.8376000000000001, 1.8378, 1.838, 1.8382, 1.8384, 1.8386, 1.8388, 1.8390000000000002, 1.8392000000000002, 1.8394000000000001, 1.8396000000000001, 1.8398, 1.84, 1.8402, 1.8404, 1.8406, 1.8408, 1.8410000000000002, 1.8412000000000002, 1.8414000000000001, 1.8416000000000001, 1.8418, 1.842, 1.8422, 1.8424, 1.8426, 1.8428, 1.8430000000000002, 1.8432000000000002, 1.8434000000000001, 1.8436000000000001, 1.8438, 1.844, 1.8442, 1.8444, 1.8446, 1.8448, 1.8450000000000002, 1.8452000000000002, 1.8454000000000002, 1.8456000000000001, 1.8458, 1.846, 1.8462, 1.8464, 1.8466, 1.8468, 1.8470000000000002, 1.8472000000000002, 1.8474000000000002, 1.8476000000000001, 1.8478, 1.848, 1.8482, 1.8484, 1.8486, 1.8488, 1.8490000000000002, 1.8492000000000002, 1.8494000000000002, 1.8496000000000001, 1.8498, 1.85, 1.8502, 1.8504, 1.8506, 1.8508, 1.851, 1.8512000000000002, 1.8514000000000002, 1.8516000000000001, 1.8518000000000001, 1.852, 1.8522, 1.8524, 1.8526, 1.8528, 1.853, 1.8532000000000002, 1.8534000000000002, 1.8536000000000001, 1.8538000000000001, 1.854, 1.8542, 1.8544, 1.8546, 1.8548, 1.855, 1.8552000000000002, 1.8554000000000002, 1.8556000000000001, 1.8558000000000001, 1.856, 1.8562, 1.8564, 1.8566, 1.8568, 1.857, 1.8572000000000002, 1.8574000000000002, 1.8576000000000001, 1.8578000000000001, 1.858, 1.8582, 1.8584, 1.8586, 1.8588, 1.859, 1.8592000000000002, 1.8594000000000002, 1.8596000000000001, 1.8598000000000001, 1.86, 1.8602, 1.8604, 1.8606, 1.8608, 1.861, 1.8612000000000002, 1.8614000000000002, 1.8616000000000001, 1.8618000000000001, 1.862, 1.8622, 1.8624, 1.8626, 1.8628, 1.863, 1.8632000000000002, 1.8634000000000002, 1.8636000000000001, 1.8638000000000001, 1.864, 1.8642, 1.8644, 1.8646, 1.8648, 1.865, 1.8652000000000002, 1.8654000000000002, 1.8656000000000001, 1.8658000000000001, 1.866, 1.8662, 1.8664, 1.8666, 1.8668, 1.867, 1.8672000000000002, 1.8674000000000002, 1.8676000000000001, 1.8678000000000001, 1.868, 1.8682, 1.8684, 1.8686, 1.8688, 1.869, 1.8692000000000002, 1.8694000000000002, 1.8696000000000002, 1.8698000000000001, 1.87, 1.8702, 1.8704, 1.8706, 1.8708, 1.871, 1.8712000000000002, 1.8714000000000002, 1.8716000000000002, 1.8718000000000001, 1.872, 1.8722, 1.8724, 1.8726, 1.8728, 1.873, 1.8732000000000002, 1.8734000000000002, 1.8736000000000002, 1.8738000000000001, 1.874, 1.8742, 1.8744, 1.8746, 1.8748, 1.875, 1.8752000000000002, 1.8754000000000002, 1.8756000000000002, 1.8758000000000001, 1.8760000000000001, 1.8762, 1.8764, 1.8766, 1.8768, 1.877, 1.8772, 1.8774000000000002, 1.8776000000000002, 1.8778000000000001, 1.8780000000000001, 1.8782, 1.8784, 1.8786, 1.8788, 1.879, 1.8792, 1.8794000000000002, 1.8796000000000002, 1.8798000000000001, 1.8800000000000001, 1.8802, 1.8804, 1.8806, 1.8808, 1.881, 1.8812, 1.8814000000000002, 1.8816000000000002, 1.8818000000000001, 1.8820000000000001, 1.8822, 1.8824, 1.8826, 1.8828, 1.883, 1.8832, 1.8834000000000002, 1.8836000000000002, 1.8838000000000001, 1.8840000000000001, 1.8842, 1.8844, 1.8846, 1.8848, 1.885, 1.8852, 1.8854000000000002, 1.8856000000000002, 1.8858000000000001, 1.8860000000000001, 1.8862, 1.8864, 1.8866, 1.8868, 1.887, 1.8872, 1.8874000000000002, 1.8876000000000002, 1.8878000000000001, 1.8880000000000001, 1.8882, 1.8884, 1.8886, 1.8888, 1.889, 1.8892, 1.8894000000000002, 1.8896000000000002, 1.8898000000000001, 1.8900000000000001, 1.8902, 1.8904, 1.8906, 1.8908, 1.891, 1.8912, 1.8914000000000002, 1.8916000000000002, 1.8918000000000001, 1.8920000000000001, 1.8922, 1.8924, 1.8926, 1.8928, 1.893, 1.8932, 1.8934000000000002, 1.8936000000000002, 1.8938000000000001, 1.8940000000000001, 1.8942, 1.8944, 1.8946, 1.8948, 1.895, 1.8952, 1.8954000000000002, 1.8956000000000002, 1.8958000000000002, 1.8960000000000001, 1.8962, 1.8964, 1.8966, 1.8968, 1.897, 1.8972, 1.8974000000000002, 1.8976000000000002, 1.8978000000000002, 1.8980000000000001, 1.8982, 1.8984, 1.8986, 1.8988, 1.899, 1.8992, 1.8994000000000002, 1.8996000000000002, 1.8998000000000002, 1.9000000000000001, 1.9002000000000001, 1.9004, 1.9006, 1.9008, 1.901, 1.9012, 1.9014000000000002, 1.9016000000000002, 1.9018000000000002, 1.9020000000000001, 1.9022000000000001, 1.9024, 1.9026, 1.9028, 1.903, 1.9032, 1.9034, 1.9036000000000002, 1.9038000000000002, 1.9040000000000001, 1.9042000000000001, 1.9044, 1.9046, 1.9048, 1.905, 1.9052, 1.9054, 1.9056000000000002, 1.9058000000000002, 1.9060000000000001, 1.9062000000000001, 1.9064, 1.9066, 1.9068, 1.907, 1.9072, 1.9074, 1.9076000000000002, 1.9078000000000002, 1.9080000000000001, 1.9082000000000001, 1.9084, 1.9086, 1.9088, 1.909, 1.9092, 1.9094, 1.9096000000000002, 1.9098000000000002, 1.9100000000000001, 1.9102000000000001, 1.9104, 1.9106, 1.9108, 1.911, 1.9112, 1.9114, 1.9116000000000002, 1.9118000000000002, 1.9120000000000001, 1.9122000000000001, 1.9124, 1.9126, 1.9128, 1.913, 1.9132, 1.9134, 1.9136000000000002, 1.9138000000000002, 1.9140000000000001, 1.9142000000000001, 1.9144, 1.9146, 1.9148, 1.915, 1.9152, 1.9154, 1.9156000000000002, 1.9158000000000002, 1.9160000000000001, 1.9162000000000001, 1.9164, 1.9166, 1.9168, 1.917, 1.9172, 1.9174, 1.9176000000000002, 1.9178000000000002, 1.9180000000000001, 1.9182000000000001, 1.9184, 1.9186, 1.9188, 1.919, 1.9192, 1.9194, 1.9196000000000002, 1.9198000000000002, 1.9200000000000002, 1.9202000000000001, 1.9204, 1.9206, 1.9208, 1.921, 1.9212, 1.9214, 1.9216000000000002, 1.9218000000000002, 1.9220000000000002, 1.9222000000000001, 1.9224, 1.9226, 1.9228, 1.923, 1.9232, 1.9234, 1.9236000000000002, 1.9238000000000002, 1.9240000000000002, 1.9242000000000001, 1.9244, 1.9246, 1.9248, 1.925, 1.9252, 1.9254, 1.9256000000000002, 1.9258000000000002, 1.9260000000000002, 1.9262000000000001, 1.9264000000000001, 1.9266, 1.9268, 1.927, 1.9272, 1.9274, 1.9276000000000002, 1.9278000000000002, 1.9280000000000002, 1.9282000000000001, 1.9284000000000001, 1.9286, 1.9288, 1.929, 1.9292, 1.9294, 1.9296, 1.9298000000000002, 1.9300000000000002, 1.9302000000000001, 1.9304000000000001, 1.9306, 1.9308, 1.931, 1.9312, 1.9314, 1.9316, 1.9318000000000002, 1.9320000000000002, 1.9322000000000001, 1.9324000000000001, 1.9326, 1.9328, 1.933, 1.9332, 1.9334, 1.9336, 1.9338000000000002, 1.9340000000000002, 1.9342000000000001, 1.9344000000000001, 1.9346, 1.9348, 1.935, 1.9352, 1.9354, 1.9356, 1.9358000000000002, 1.9360000000000002, 1.9362000000000001, 1.9364000000000001, 1.9366, 1.9368, 1.937, 1.9372, 1.9374, 1.9376, 1.9378000000000002, 1.9380000000000002, 1.9382000000000001, 1.9384000000000001, 1.9386, 1.9388, 1.939, 1.9392, 1.9394, 1.9396, 1.9398000000000002, 1.9400000000000002, 1.9402000000000001, 1.9404000000000001, 1.9406, 1.9408, 1.941, 1.9412, 1.9414, 1.9416, 1.9418000000000002, 1.9420000000000002, 1.9422000000000001, 1.9424000000000001, 1.9426, 1.9428, 1.943, 1.9432, 1.9434, 1.9436, 1.9438000000000002, 1.9440000000000002, 1.9442000000000002, 1.9444000000000001, 1.9446, 1.9448, 1.945, 1.9452, 1.9454, 1.9456, 1.9458000000000002, 1.9460000000000002, 1.9462000000000002, 1.9464000000000001, 1.9466, 1.9468, 1.947, 1.9472, 1.9474, 1.9476, 1.9478000000000002, 1.9480000000000002, 1.9482000000000002, 1.9484000000000001, 1.9486, 1.9488, 1.949, 1.9492, 1.9494, 1.9496, 1.9498000000000002, 1.9500000000000002, 1.9502000000000002, 1.9504000000000001, 1.9506000000000001, 1.9508, 1.951, 1.9512, 1.9514, 1.9516, 1.9518000000000002, 1.9520000000000002, 1.9522000000000002, 1.9524000000000001, 1.9526000000000001, 1.9528, 1.953, 1.9532, 1.9534, 1.9536, 1.9538000000000002, 1.9540000000000002, 1.9542000000000002, 1.9544000000000001, 1.9546000000000001, 1.9548, 1.955, 1.9552, 1.9554, 1.9556, 1.9558, 1.9560000000000002, 1.9562000000000002, 1.9564000000000001, 1.9566000000000001, 1.9568, 1.957, 1.9572, 1.9574, 1.9576, 1.9578, 1.9580000000000002, 1.9582000000000002, 1.9584000000000001, 1.9586000000000001, 1.9588, 1.959, 1.9592, 1.9594, 1.9596, 1.9598, 1.9600000000000002, 1.9602000000000002, 1.9604000000000001, 1.9606000000000001, 1.9608, 1.961, 1.9612, 1.9614, 1.9616, 1.9618, 1.9620000000000002, 1.9622000000000002, 1.9624000000000001, 1.9626000000000001, 1.9628, 1.963, 1.9632, 1.9634, 1.9636, 1.9638, 1.9640000000000002, 1.9642000000000002, 1.9644000000000001, 1.9646000000000001, 1.9648, 1.965, 1.9652, 1.9654, 1.9656, 1.9658, 1.9660000000000002, 1.9662000000000002, 1.9664000000000001, 1.9666000000000001, 1.9668, 1.967, 1.9672, 1.9674, 1.9676, 1.9678, 1.9680000000000002, 1.9682000000000002, 1.9684000000000001, 1.9686000000000001, 1.9688, 1.969, 1.9692, 1.9694, 1.9696, 1.9698, 1.9700000000000002, 1.9702000000000002, 1.9704000000000002, 1.9706000000000001, 1.9708, 1.971, 1.9712, 1.9714, 1.9716, 1.9718, 1.9720000000000002, 1.9722000000000002, 1.9724000000000002, 1.9726000000000001, 1.9728, 1.973, 1.9732, 1.9734, 1.9736, 1.9738, 1.9740000000000002, 1.9742000000000002, 1.9744000000000002, 1.9746000000000001, 1.9748, 1.975, 1.9752, 1.9754, 1.9756, 1.9758, 1.9760000000000002, 1.9762000000000002, 1.9764000000000002, 1.9766000000000001, 1.9768000000000001, 1.977, 1.9772, 1.9774, 1.9776, 1.9778, 1.9780000000000002, 1.9782000000000002, 1.9784000000000002, 1.9786000000000001, 1.9788000000000001, 1.979, 1.9792, 1.9794, 1.9796, 1.9798, 1.9800000000000002, 1.9802000000000002, 1.9804000000000002, 1.9806000000000001, 1.9808000000000001, 1.981, 1.9812, 1.9814, 1.9816, 1.9818, 1.982, 1.9822000000000002, 1.9824000000000002, 1.9826000000000001, 1.9828000000000001, 1.983, 1.9832, 1.9834, 1.9836, 1.9838, 1.984, 1.9842000000000002, 1.9844000000000002, 1.9846000000000001, 1.9848000000000001, 1.985, 1.9852, 1.9854, 1.9856, 1.9858, 1.986, 1.9862000000000002, 1.9864000000000002, 1.9866000000000001, 1.9868000000000001, 1.987, 1.9872, 1.9874, 1.9876, 1.9878, 1.988, 1.9882000000000002, 1.9884000000000002, 1.9886000000000001, 1.9888000000000001, 1.989, 1.9892, 1.9894, 1.9896, 1.9898, 1.99, 1.9902000000000002, 1.9904000000000002, 1.9906000000000001, 1.9908000000000001, 1.991, 1.9912, 1.9914, 1.9916, 1.9918, 1.992, 1.9922000000000002, 1.9924000000000002, 1.9926000000000001, 1.9928000000000001, 1.993, 1.9932, 1.9934, 1.9936, 1.9938, 1.994, 1.9942000000000002, 1.9944000000000002, 1.9946000000000002, 1.9948000000000001, 1.995, 1.9952, 1.9954, 1.9956, 1.9958, 1.996, 1.9962000000000002, 1.9964000000000002, 1.9966000000000002, 1.9968000000000001, 1.997, 1.9972, 1.9974, 1.9976, 1.9978, 1.998, 1.9982000000000002, 1.9984000000000002, 1.9986000000000002, 1.9988000000000001, 1.999, 1.9992, 1.9994, 1.9996, 1.9998, 2.0]\n"
     ]
    }
   ],
   "source": [
    "y = np.sin(x)\n"
   ]
  },
  {
   "cell_type": "markdown",
   "metadata": {
    "slideshow": {
     "slide_type": "subslide"
    },
    "tags": []
   },
   "source": [
    "In the latter case, the loop over all elements is now performed in an efficient C-function. Instead of using Python `for`-loops, operations on whole arrays are called vectorisation, and they are a very **convenient**, **efficient**, and therefore an **important** programming technique to master."
   ]
  },
  {
   "cell_type": "markdown",
   "metadata": {
    "slideshow": {
     "slide_type": "subslide"
    },
    "tags": []
   },
   "source": [
    "Let us consider a simple vectorisation example: a loop to compute $x$ coordinates (`x2`) and $y=f(x)$ coordinates (`y2`) along a function curve:"
   ]
  },
  {
   "cell_type": "code",
   "execution_count": 146,
   "metadata": {
    "execution": {
     "iopub.execute_input": "2025-08-13T09:01:54.468233Z",
     "iopub.status.busy": "2025-08-13T09:01:54.468080Z",
     "iopub.status.idle": "2025-08-13T09:01:54.470907Z",
     "shell.execute_reply": "2025-08-13T09:01:54.470397Z"
    },
    "slideshow": {
     "slide_type": "fragment"
    },
    "tags": []
   },
   "outputs": [],
   "source": [
    "x2 = np.linspace(0, 1, n)\n",
    "y2 = np.zeros(n)\n",
    "for i in range(n):\n",
    "    y2[i] = f(x2[i])"
   ]
  },
  {
   "cell_type": "markdown",
   "metadata": {
    "slideshow": {
     "slide_type": "fragment"
    },
    "tags": []
   },
   "source": [
    "This computation can be replaced by:"
   ]
  },
  {
   "cell_type": "code",
   "execution_count": 147,
   "metadata": {
    "execution": {
     "iopub.execute_input": "2025-08-13T09:01:54.472412Z",
     "iopub.status.busy": "2025-08-13T09:01:54.472261Z",
     "iopub.status.idle": "2025-08-13T09:01:54.474827Z",
     "shell.execute_reply": "2025-08-13T09:01:54.474307Z"
    },
    "slideshow": {
     "slide_type": "fragment"
    },
    "tags": []
   },
   "outputs": [],
   "source": [
    "x2 = np.linspace(0, 1, n)\n",
    "y2 = f(x2)"
   ]
  },
  {
   "cell_type": "markdown",
   "metadata": {
    "slideshow": {
     "slide_type": "subslide"
    },
    "tags": []
   },
   "source": [
    "The advantage of this approach is:\n",
    "\n",
    "* There is no need to allocate space for `y2` (via the NumPy *zeros* function).\n",
    "* There is no need for a loop.\n",
    "* It is *much faster*."
   ]
  },
  {
   "cell_type": "markdown",
   "metadata": {
    "slideshow": {
     "slide_type": "slide"
    },
    "tags": []
   },
   "source": [
    "## How vectorised functions work\n",
    "Consider the function"
   ]
  },
  {
   "cell_type": "code",
   "execution_count": null,
   "metadata": {
    "execution": {
     "iopub.execute_input": "2025-08-13T09:01:54.476400Z",
     "iopub.status.busy": "2025-08-13T09:01:54.476246Z",
     "iopub.status.idle": "2025-08-13T09:01:54.478726Z",
     "shell.execute_reply": "2025-08-13T09:01:54.478141Z"
    },
    "slideshow": {
     "slide_type": "fragment"
    },
    "tags": []
   },
   "outputs": [],
   "source": [
    "def f(x):\n",
    "    return x**3"
   ]
  },
  {
   "cell_type": "markdown",
   "metadata": {
    "slideshow": {
     "slide_type": "subslide"
    },
    "tags": []
   },
   "source": [
    "$f(x)$ is intended for a number $x$, i.e. a *scalar*. So, what happens when we call `f(x2)`, where `x2` is a NumPy array? **The function evaluates $x^3$ for an array $x$**. NumPy supports arithmetic operations on arrays, which correspond to the equivalent operations on each element. For example,"
   ]
  },
  {
   "cell_type": "code",
   "execution_count": 145,
   "metadata": {
    "execution": {
     "iopub.execute_input": "2025-08-13T09:01:54.480472Z",
     "iopub.status.busy": "2025-08-13T09:01:54.480312Z",
     "iopub.status.idle": "2025-08-13T09:01:54.484223Z",
     "shell.execute_reply": "2025-08-13T09:01:54.483661Z"
    },
    "slideshow": {
     "slide_type": "fragment"
    },
    "tags": []
   },
   "outputs": [],
   "source": [
    "r1 = x**3                   # x[i]**3 for all i\n",
    "r2 = np.cos(x)              # cos(x[i]) for all i\n",
    "r3 = x**3 + x*np.cos(x)     # x[i]**3 + x[i]*cos(x[i]) for all i\n",
    "r4 = x/3*np.exp(-x*0.5)     # x[i]/3*exp(-x[i]*0.5) for all i"
   ]
  },
  {
   "cell_type": "markdown",
   "metadata": {
    "slideshow": {
     "slide_type": "subslide"
    },
    "tags": []
   },
   "source": [
    "In each of these cases, a highly optimised C-function is actually called to evaluate the expression. In this example, the `cos` function called for an `array` is imported from NumPy rather than from the `math` module which only acts on scalars.\n",
    "\n",
    "Notes:\n",
    "\n",
    "* Functions that can operate on arrays are called **vectorised functions**.\n",
    "* Vectorisation is the process of turning a non-vectorised expression/algorithm into a vectorised expression/algorithm.\n",
    "* Mathematical functions in Python automatically work for both scalar and array (vector) arguments, i.e. no vectorisation is needed by the programmer."
   ]
  },
  {
   "cell_type": "markdown",
   "metadata": {
    "slideshow": {
     "slide_type": "slide"
    },
    "tags": []
   },
   "source": [
    "### Watch out for references vs. copies of arrays!\n",
    "Consider this code:"
   ]
  },
  {
   "cell_type": "code",
   "execution_count": 56,
   "metadata": {
    "execution": {
     "iopub.execute_input": "2025-08-13T09:01:54.485961Z",
     "iopub.status.busy": "2025-08-13T09:01:54.485764Z",
     "iopub.status.idle": "2025-08-13T09:01:54.488851Z",
     "shell.execute_reply": "2025-08-13T09:01:54.488292Z"
    },
    "slideshow": {
     "slide_type": "fragment"
    },
    "tags": []
   },
   "outputs": [
    {
     "name": "stdout",
     "output_type": "stream",
     "text": [
      "42\n"
     ]
    }
   ],
   "source": [
    "a = x\n",
    "a[-1] = 42\n",
    "print(x[-1])"
   ]
  },
  {
   "cell_type": "markdown",
   "metadata": {
    "slideshow": {
     "slide_type": "subslide"
    },
    "tags": []
   },
   "source": [
    "Notice what happened here - we changed a value in `a`, but the corresponding value in `x` was also changed! This is because `a` refers to the same array as `x`. If we want a separate copy of `x`, then we have to make an explicit copy:"
   ]
  },
  {
   "cell_type": "code",
   "execution_count": 60,
   "metadata": {
    "execution": {
     "iopub.execute_input": "2025-08-13T09:01:54.490514Z",
     "iopub.status.busy": "2025-08-13T09:01:54.490352Z",
     "iopub.status.idle": "2025-08-13T09:01:54.493025Z",
     "shell.execute_reply": "2025-08-13T09:01:54.492500Z"
    },
    "slideshow": {
     "slide_type": "fragment"
    },
    "tags": []
   },
   "outputs": [
    {
     "name": "stdout",
     "output_type": "stream",
     "text": [
      "42\n"
     ]
    }
   ],
   "source": [
    "a = x.copy()\n",
    "a[1] = 42\n",
    "print(a[1])"
   ]
  },
  {
   "cell_type": "markdown",
   "metadata": {
    "slideshow": {
     "slide_type": ""
    },
    "tags": []
   },
   "source": [
    "We will discuss the references later in lecture 4."
   ]
  },
  {
   "cell_type": "markdown",
   "metadata": {
    "slideshow": {
     "slide_type": "slide"
    },
    "tags": []
   },
   "source": [
    "## Exercise 2.8: Fill lists and arrays with function values\n",
    "\n",
    "A function with many applications in science is defined as:\n",
    "\n",
    "$$h(x) = \\frac{1}{\\sqrt{2\\pi}}\\text{e}^{-\\frac{1}{2}x^2}$$\n",
    "\n",
    "* Implement the above formula as a Python function. Call the function `h` and it should take just one argument, `x`.\n",
    "* Create a NumPy array (call it `x`) that has 9 uniformly spaced points in $[−4, 4]$.\n",
    "* Create a second NumPy array (call it `y`) with the function `h(x)`."
   ]
  },
  {
   "cell_type": "code",
   "execution_count": 177,
   "metadata": {
    "execution": {
     "iopub.execute_input": "2025-08-13T09:01:54.494776Z",
     "iopub.status.busy": "2025-08-13T09:01:54.494608Z",
     "iopub.status.idle": "2025-08-13T09:01:54.497096Z",
     "shell.execute_reply": "2025-08-13T09:01:54.496534Z"
    },
    "slideshow": {
     "slide_type": "subslide"
    },
    "tags": []
   },
   "outputs": [
    {
     "name": "stdout",
     "output_type": "stream",
     "text": [
      "[1.33830226e-04 4.43184841e-03 5.39909665e-02 2.41970725e-01\n",
      " 3.98942280e-01 2.41970725e-01 5.39909665e-02 4.43184841e-03\n",
      " 1.33830226e-04]\n"
     ]
    }
   ],
   "source": [
    "# Uncomment and complete this code - keep the names the same for testing purposes.\n",
    "\n",
    "def h(x):\n",
    "    return (1/np.sqrt(2*np.pi))*np.exp(-0.5*x**2)\n",
    "x = np.linspace(-4,4,9)\n",
    "y=h(x)\n",
    "print(y)\n"
   ]
  },
  {
   "cell_type": "code",
   "execution_count": null,
   "metadata": {
    "execution": {
     "iopub.execute_input": "2025-08-13T09:01:54.503386Z",
     "iopub.status.busy": "2025-08-13T09:01:54.503231Z",
     "iopub.status.idle": "2025-08-13T09:01:54.512321Z",
     "shell.execute_reply": "2025-08-13T09:01:54.511727Z"
    },
    "slideshow": {
     "slide_type": ""
    },
    "tags": [
     "pybryt"
    ]
   },
   "outputs": [],
   "source": [
    "with pybryt.check(pybryt_reference(2, 8)):\n",
    "    h(5), x, y"
   ]
  },
  {
   "cell_type": "code",
   "execution_count": 93,
   "metadata": {
    "execution": {
     "iopub.execute_input": "2025-08-13T09:01:54.514067Z",
     "iopub.status.busy": "2025-08-13T09:01:54.513900Z",
     "iopub.status.idle": "2025-08-13T09:01:54.518332Z",
     "shell.execute_reply": "2025-08-13T09:01:54.517671Z"
    },
    "slideshow": {
     "slide_type": ""
    },
    "tags": [
     "nbgrader"
    ]
   },
   "outputs": [],
   "source": [
    "import numbers\n",
    "import numpy as np\n",
    "\n",
    "assert isinstance(h(10), numbers.Real)\n",
    "assert np.isclose(h(0), 1/np.sqrt(2*np.pi))\n",
    "assert x.shape == y.shape == (9,)\n",
    "assert np.isclose(x[0], -4)\n",
    "assert np.isclose(x[-1], 4)\n",
    "\n",
    "### BEGIN HIDDEN TESTS\n",
    "assert callable(h)\n",
    "assert all([isinstance(i, np.ndarray) for i in [x, y]])\n",
    "\n",
    "for i in np.linspace(-100, 100, 51):\n",
    "    assert isinstance(h(i), numbers.Real)\n",
    "### END HIDDEN TESTS"
   ]
  },
  {
   "cell_type": "markdown",
   "metadata": {
    "slideshow": {
     "slide_type": "slide"
    },
    "tags": []
   },
   "source": [
    "## Generalised array indexing\n",
    "\n",
    "We can select a slice of an array using `a[start:stop:inc]`, where the slice `start:stop:inc` implies a set of indices starting from `start`, up to `stop` in increments `inc`. Any integer list or array can be used to indicate a set of indices:"
   ]
  },
  {
   "cell_type": "code",
   "execution_count": 80,
   "metadata": {
    "execution": {
     "iopub.execute_input": "2025-08-13T09:01:54.520176Z",
     "iopub.status.busy": "2025-08-13T09:01:54.520004Z",
     "iopub.status.idle": "2025-08-13T09:01:54.523315Z",
     "shell.execute_reply": "2025-08-13T09:01:54.522813Z"
    },
    "slideshow": {
     "slide_type": "fragment"
    },
    "tags": []
   },
   "outputs": [
    {
     "name": "stdout",
     "output_type": "stream",
     "text": [
      "[1. 2. 3. 4. 5. 6. 7. 8.]\n",
      "[1. 3. 5. 7.]\n"
     ]
    }
   ],
   "source": [
    "a = np.linspace(1, 8, 8)\n",
    "print(a)\n",
    "print(a[0:8:2])#start, stop, inc"
   ]
  },
  {
   "cell_type": "code",
   "execution_count": 69,
   "metadata": {
    "execution": {
     "iopub.execute_input": "2025-08-13T09:01:54.524783Z",
     "iopub.status.busy": "2025-08-13T09:01:54.524628Z",
     "iopub.status.idle": "2025-08-13T09:01:54.527653Z",
     "shell.execute_reply": "2025-08-13T09:01:54.527151Z"
    },
    "slideshow": {
     "slide_type": "subslide"
    },
    "tags": []
   },
   "outputs": [
    {
     "name": "stdout",
     "output_type": "stream",
     "text": [
      "[ 1. 10.  3.  4.  5.  6. 10. 10.]\n"
     ]
    }
   ],
   "source": [
    "a[[1, 6, 7]] = 10  # i.e. set the elements with indicies 1, 6, and 7 in the array to 10. Using the list as the identifier\n",
    "print(a)"
   ]
  },
  {
   "cell_type": "code",
   "execution_count": 81,
   "metadata": {
    "execution": {
     "iopub.execute_input": "2025-08-13T09:01:54.529176Z",
     "iopub.status.busy": "2025-08-13T09:01:54.529026Z",
     "iopub.status.idle": "2025-08-13T09:01:54.532016Z",
     "shell.execute_reply": "2025-08-13T09:01:54.531501Z"
    },
    "slideshow": {
     "slide_type": "fragment"
    },
    "tags": []
   },
   "outputs": [
    {
     "name": "stdout",
     "output_type": "stream",
     "text": [
      "[ 1.  2. -2.  4.  5. -2.  7.  8.]\n"
     ]
    }
   ],
   "source": [
    "a[range(2, 8, 3)] = -2   # same as a[2:8:3] = -2\n",
    "print(a)"
   ]
  },
  {
   "cell_type": "markdown",
   "metadata": {
    "slideshow": {
     "slide_type": "subslide"
    },
    "tags": []
   },
   "source": [
    "Even boolean expressions can be used to select part of an array(!)"
   ]
  },
  {
   "cell_type": "code",
   "execution_count": 82,
   "metadata": {
    "execution": {
     "iopub.execute_input": "2025-08-13T09:01:54.533488Z",
     "iopub.status.busy": "2025-08-13T09:01:54.533339Z",
     "iopub.status.idle": "2025-08-13T09:01:54.536351Z",
     "shell.execute_reply": "2025-08-13T09:01:54.535843Z"
    },
    "slideshow": {
     "slide_type": "fragment"
    },
    "tags": []
   },
   "outputs": [
    {
     "name": "stdout",
     "output_type": "stream",
     "text": [
      "[-2. -2.]\n"
     ]
    }
   ],
   "source": [
    "#a=list(a)\n",
    "#print(type(a))\n",
    "print(a[a < 0])  # pick out all negative elements, not possible for lists"
   ]
  },
  {
   "cell_type": "code",
   "execution_count": 83,
   "metadata": {
    "execution": {
     "iopub.execute_input": "2025-08-13T09:01:54.537840Z",
     "iopub.status.busy": "2025-08-13T09:01:54.537667Z",
     "iopub.status.idle": "2025-08-13T09:01:54.540659Z",
     "shell.execute_reply": "2025-08-13T09:01:54.540154Z"
    },
    "slideshow": {
     "slide_type": "fragment"
    },
    "tags": []
   },
   "outputs": [
    {
     "name": "stdout",
     "output_type": "stream",
     "text": [
      "[1. 2. 8. 4. 5. 8. 7. 8.]\n"
     ]
    }
   ],
   "source": [
    "a[a < 0] = a.max()  # if a[i]<0, set a[i]=10\n",
    "print(a)"
   ]
  },
  {
   "cell_type": "markdown",
   "metadata": {
    "slideshow": {
     "slide_type": "slide"
    },
    "tags": []
   },
   "source": [
    "## Exercise 2.9: Explore array slicing\n",
    "\n",
    "* Create a NumPy array called `w` with 31 uniformly spaced values ranging from 0 to 3.\n",
    "* Using array slicing, create a NumPy array called `wbits` that starts from the $4^{th}$ element of `w`, excludes the final element of `w` and selects every $3^{rd}$ element."
   ]
  },
  {
   "cell_type": "code",
   "execution_count": 85,
   "metadata": {
    "execution": {
     "iopub.execute_input": "2025-08-13T09:01:54.542230Z",
     "iopub.status.busy": "2025-08-13T09:01:54.542081Z",
     "iopub.status.idle": "2025-08-13T09:01:54.544299Z",
     "shell.execute_reply": "2025-08-13T09:01:54.543808Z"
    },
    "slideshow": {
     "slide_type": ""
    },
    "tags": []
   },
   "outputs": [],
   "source": [
    "# Uncomment and complete this code - keep the names the same for testing purposes.\n",
    "\n",
    "w = np.linspace(0,3,31)\n",
    "wbits = w[3:-2:3]"
   ]
  },
  {
   "cell_type": "code",
   "execution_count": null,
   "metadata": {
    "execution": {
     "iopub.execute_input": "2025-08-13T09:01:54.549934Z",
     "iopub.status.busy": "2025-08-13T09:01:54.549754Z",
     "iopub.status.idle": "2025-08-13T09:01:54.556818Z",
     "shell.execute_reply": "2025-08-13T09:01:54.556255Z"
    },
    "slideshow": {
     "slide_type": ""
    },
    "tags": [
     "pybryt"
    ]
   },
   "outputs": [],
   "source": [
    "with pybryt.check(pybryt_reference(2, 9)):\n",
    "    w, wbits"
   ]
  },
  {
   "cell_type": "code",
   "execution_count": 94,
   "metadata": {
    "execution": {
     "iopub.execute_input": "2025-08-13T09:01:54.558498Z",
     "iopub.status.busy": "2025-08-13T09:01:54.558339Z",
     "iopub.status.idle": "2025-08-13T09:01:54.561916Z",
     "shell.execute_reply": "2025-08-13T09:01:54.561355Z"
    },
    "slideshow": {
     "slide_type": ""
    },
    "tags": [
     "nbgrader"
    ]
   },
   "outputs": [],
   "source": [
    "import numbers\n",
    "import numpy as np\n",
    "\n",
    "assert all(isinstance(i, np.ndarray) for i in [w, wbits])\n",
    "assert w.shape == (31,)\n",
    "assert wbits.shape == (9,)\n",
    "assert np.isclose(w[-1] - w[0], 3)\n",
    "\n",
    "### BEGIN HIDDEN TESTS\n",
    "assert np.allclose(wbits, [0.3, 0.6, 0.9, 1.2, 1.5, 1.8, 2.1, 2.4, 2.7])\n",
    "### END HIDDEN TESTS"
   ]
  },
  {
   "cell_type": "markdown",
   "metadata": {
    "slideshow": {
     "slide_type": "slide"
    },
    "tags": []
   },
   "source": [
    "## 2D arrays\n",
    "When we have a table of numbers,\n",
    "\n",
    "$$\n",
    "\\left\\lbrack\\begin{array}{cccc}\n",
    "0 & 12 & -1 & 5\\cr\n",
    "-1 & -1 & -1 & 0\\cr\n",
    "11 & 5 & 5 & -2\n",
    "\\end{array}\\right\\rbrack\n",
    "$$\n",
    "\n",
    "(i.e. a *matrix*) it is natural to use a two-dimensional array $A_{i, j}$ with one index for the rows and one for the columns:\n",
    "\n",
    "$$\n",
    "A = \n",
    "\\left\\lbrack\\begin{array}{ccc}\n",
    "A_{0,0} & \\cdots &  A_{0,n-1}\\cr\n",
    "\\vdots & \\ddots &  \\vdots\\cr\n",
    "A_{m-1,0} & \\cdots & A_{m-1,n-1}\n",
    "\\end{array}\\right\\rbrack\n",
    "$$\n",
    "\n",
    "Let us recreate this array using NumPy:"
   ]
  },
  {
   "cell_type": "code",
   "execution_count": 96,
   "metadata": {
    "execution": {
     "iopub.execute_input": "2025-08-13T09:01:54.563491Z",
     "iopub.status.busy": "2025-08-13T09:01:54.563339Z",
     "iopub.status.idle": "2025-08-13T09:01:54.567478Z",
     "shell.execute_reply": "2025-08-13T09:01:54.566973Z"
    },
    "slideshow": {
     "slide_type": "subslide"
    },
    "tags": []
   },
   "outputs": [
    {
     "name": "stdout",
     "output_type": "stream",
     "text": [
      "[[ 0. 12. -1.  5.]\n",
      " [-1. -1. -1.  0.]\n",
      " [11.  5.  5. -2.]]\n"
     ]
    }
   ],
   "source": [
    "A = np.zeros((3, 4))  # we create a 2-dimensional (3 x 4) array filled with zeros\n",
    "\n",
    "A[0, 0] = 0\n",
    "A[1, 0] = -1\n",
    "A[2, 0] = 11\n",
    "\n",
    "A[0, 1] = 12\n",
    "A[1, 1] = -1\n",
    "A[2, 1] = 5\n",
    "\n",
    "A[0, 2] = -1\n",
    "A[1, 2] = -1\n",
    "A[2, 2] = 5\n",
    "\n",
    "# we can also use the same syntax that we used for nested lists\n",
    "\n",
    "A[0][3] = 5\n",
    "A[1][3] = 0\n",
    "A[2][3] = -2\n",
    "\n",
    "print(A)"
   ]
  },
  {
   "cell_type": "markdown",
   "metadata": {
    "slideshow": {
     "slide_type": "subslide"
    },
    "tags": []
   },
   "source": [
    "Next, let us create a nested list and then convert into a 2D array:"
   ]
  },
  {
   "cell_type": "code",
   "execution_count": 97,
   "metadata": {
    "execution": {
     "iopub.execute_input": "2025-08-13T09:01:54.569060Z",
     "iopub.status.busy": "2025-08-13T09:01:54.568908Z",
     "iopub.status.idle": "2025-08-13T09:01:54.572246Z",
     "shell.execute_reply": "2025-08-13T09:01:54.571726Z"
    },
    "slideshow": {
     "slide_type": "fragment"
    },
    "tags": []
   },
   "outputs": [
    {
     "name": "stdout",
     "output_type": "stream",
     "text": [
      "range(0, 101, 10)\n",
      "[[0, 32.0], [10, 50.0], [20, 68.0], [30, 86.0], [40, 104.0], [50, 122.0], [60, 140.0], [70, 158.0], [80, 176.0], [90, 194.0], [100, 212.0]]\n"
     ]
    }
   ],
   "source": [
    "Cdegrees = range(0, 101, 10)\n",
    "Fdegrees = [9/5*C + 32 for C in Cdegrees]\n",
    "table = [[C, F] for C, F in zip(Cdegrees, Fdegrees)]  # create a nested list\n",
    "print(table)"
   ]
  },
  {
   "cell_type": "code",
   "execution_count": 98,
   "metadata": {
    "execution": {
     "iopub.execute_input": "2025-08-13T09:01:54.573767Z",
     "iopub.status.busy": "2025-08-13T09:01:54.573618Z",
     "iopub.status.idle": "2025-08-13T09:01:54.576679Z",
     "shell.execute_reply": "2025-08-13T09:01:54.576192Z"
    },
    "slideshow": {
     "slide_type": "subslide"
    },
    "tags": []
   },
   "outputs": [
    {
     "name": "stdout",
     "output_type": "stream",
     "text": [
      "[[  0.  32.]\n",
      " [ 10.  50.]\n",
      " [ 20.  68.]\n",
      " [ 30.  86.]\n",
      " [ 40. 104.]\n",
      " [ 50. 122.]\n",
      " [ 60. 140.]\n",
      " [ 70. 158.]\n",
      " [ 80. 176.]\n",
      " [ 90. 194.]\n",
      " [100. 212.]]\n"
     ]
    }
   ],
   "source": [
    "# Convert this nested list into a NumPy array:\n",
    "table2 = np.array(table)\n",
    "print(table2)"
   ]
  },
  {
   "cell_type": "markdown",
   "metadata": {
    "slideshow": {
     "slide_type": "subslide"
    },
    "tags": []
   },
   "source": [
    "To see the number of elements in each dimension we ask for array's `shape`:"
   ]
  },
  {
   "cell_type": "code",
   "execution_count": 99,
   "metadata": {
    "execution": {
     "iopub.execute_input": "2025-08-13T09:01:54.578186Z",
     "iopub.status.busy": "2025-08-13T09:01:54.578039Z",
     "iopub.status.idle": "2025-08-13T09:01:54.580587Z",
     "shell.execute_reply": "2025-08-13T09:01:54.580250Z"
    },
    "slideshow": {
     "slide_type": "fragment"
    },
    "tags": []
   },
   "outputs": [
    {
     "name": "stdout",
     "output_type": "stream",
     "text": [
      "(11, 2)\n"
     ]
    }
   ],
   "source": [
    "print(table2.shape)"
   ]
  },
  {
   "cell_type": "markdown",
   "metadata": {
    "slideshow": {
     "slide_type": "fragment"
    },
    "tags": []
   },
   "source": [
    "i.e. our table has 11 rows and 2 columns.\n",
    "\n",
    "Let us write a loop over all array elements of A:"
   ]
  },
  {
   "cell_type": "code",
   "execution_count": 100,
   "metadata": {
    "execution": {
     "iopub.execute_input": "2025-08-13T09:01:54.581996Z",
     "iopub.status.busy": "2025-08-13T09:01:54.581863Z",
     "iopub.status.idle": "2025-08-13T09:01:54.584905Z",
     "shell.execute_reply": "2025-08-13T09:01:54.584512Z"
    },
    "slideshow": {
     "slide_type": "fragment"
    },
    "tags": []
   },
   "outputs": [
    {
     "name": "stdout",
     "output_type": "stream",
     "text": [
      "table2[0, 0] = 0.0\n",
      "table2[0, 1] = 32.0\n",
      "table2[1, 0] = 10.0\n",
      "table2[1, 1] = 50.0\n",
      "table2[2, 0] = 20.0\n",
      "table2[2, 1] = 68.0\n",
      "table2[3, 0] = 30.0\n",
      "table2[3, 1] = 86.0\n",
      "table2[4, 0] = 40.0\n",
      "table2[4, 1] = 104.0\n",
      "table2[5, 0] = 50.0\n",
      "table2[5, 1] = 122.0\n",
      "table2[6, 0] = 60.0\n",
      "table2[6, 1] = 140.0\n",
      "table2[7, 0] = 70.0\n",
      "table2[7, 1] = 158.0\n",
      "table2[8, 0] = 80.0\n",
      "table2[8, 1] = 176.0\n",
      "table2[9, 0] = 90.0\n",
      "table2[9, 1] = 194.0\n",
      "table2[10, 0] = 100.0\n",
      "table2[10, 1] = 212.0\n"
     ]
    }
   ],
   "source": [
    "for i in range(table2.shape[0]):\n",
    "    for j in range(table2.shape[1]):\n",
    "        print(f\"table2[{i}, {j}] = {table2[i, j]}\")"
   ]
  },
  {
   "cell_type": "markdown",
   "metadata": {
    "slideshow": {
     "slide_type": "subslide"
    },
    "tags": []
   },
   "source": [
    "Alternatively:"
   ]
  },
  {
   "cell_type": "code",
   "execution_count": 101,
   "metadata": {
    "execution": {
     "iopub.execute_input": "2025-08-13T09:01:54.586368Z",
     "iopub.status.busy": "2025-08-13T09:01:54.586230Z",
     "iopub.status.idle": "2025-08-13T09:01:54.589419Z",
     "shell.execute_reply": "2025-08-13T09:01:54.588883Z"
    },
    "slideshow": {
     "slide_type": "fragment"
    },
    "tags": []
   },
   "outputs": [
    {
     "name": "stdout",
     "output_type": "stream",
     "text": [
      "index (0, 0) has value 0.0\n",
      "index (0, 1) has value 32.0\n",
      "index (1, 0) has value 10.0\n",
      "index (1, 1) has value 50.0\n",
      "index (2, 0) has value 20.0\n",
      "index (2, 1) has value 68.0\n",
      "index (3, 0) has value 30.0\n",
      "index (3, 1) has value 86.0\n",
      "index (4, 0) has value 40.0\n",
      "index (4, 1) has value 104.0\n",
      "index (5, 0) has value 50.0\n",
      "index (5, 1) has value 122.0\n",
      "index (6, 0) has value 60.0\n",
      "index (6, 1) has value 140.0\n",
      "index (7, 0) has value 70.0\n",
      "index (7, 1) has value 158.0\n",
      "index (8, 0) has value 80.0\n",
      "index (8, 1) has value 176.0\n",
      "index (9, 0) has value 90.0\n",
      "index (9, 1) has value 194.0\n",
      "index (10, 0) has value 100.0\n",
      "index (10, 1) has value 212.0\n"
     ]
    }
   ],
   "source": [
    "for index_tuple, value in np.ndenumerate(table2):\n",
    "    print(f\"index {index_tuple} has value {value}\")"
   ]
  },
  {
   "cell_type": "markdown",
   "metadata": {
    "slideshow": {
     "slide_type": "subslide"
    },
    "tags": []
   },
   "source": [
    "We can also extract slices from multi-dimensional arrays as before. For example, extract the second column:"
   ]
  },
  {
   "cell_type": "code",
   "execution_count": 102,
   "metadata": {
    "execution": {
     "iopub.execute_input": "2025-08-13T09:01:54.591021Z",
     "iopub.status.busy": "2025-08-13T09:01:54.590861Z",
     "iopub.status.idle": "2025-08-13T09:01:54.594044Z",
     "shell.execute_reply": "2025-08-13T09:01:54.593548Z"
    },
    "slideshow": {
     "slide_type": "fragment"
    },
    "tags": []
   },
   "outputs": [
    {
     "name": "stdout",
     "output_type": "stream",
     "text": [
      "[ 32.  50.  68.  86. 104. 122. 140. 158. 176. 194. 212.]\n"
     ]
    }
   ],
   "source": [
    "print(table2[:, 1])  # 2nd column (index 1) #colon means get all of the rows"
   ]
  },
  {
   "cell_type": "markdown",
   "metadata": {
    "slideshow": {
     "slide_type": "subslide"
    },
    "tags": []
   },
   "source": [
    "Play with this more complicated example:"
   ]
  },
  {
   "cell_type": "code",
   "execution_count": 113,
   "metadata": {
    "execution": {
     "iopub.execute_input": "2025-08-13T09:01:54.595920Z",
     "iopub.status.busy": "2025-08-13T09:01:54.595712Z",
     "iopub.status.idle": "2025-08-13T09:01:54.599101Z",
     "shell.execute_reply": "2025-08-13T09:01:54.598679Z"
    },
    "slideshow": {
     "slide_type": "fragment"
    },
    "tags": []
   },
   "outputs": [
    {
     "name": "stdout",
     "output_type": "stream",
     "text": [
      "[[ 1.  2.  3.  4.  5.  6.]\n",
      " [ 7.  8.  9. 10. 11. 12.]\n",
      " [13. 14. 15. 16. 17. 18.]\n",
      " [19. 20. 21. 22. 23. 24.]\n",
      " [25. 26. 27. 28. 29. 30.]]\n"
     ]
    }
   ],
   "source": [
    "t = np.linspace(1, 30, 30).reshape(5, 6)\n",
    "\n",
    "print(t)\n",
    "\n"
   ]
  },
  {
   "cell_type": "code",
   "execution_count": 114,
   "metadata": {
    "execution": {
     "iopub.execute_input": "2025-08-13T09:01:54.600633Z",
     "iopub.status.busy": "2025-08-13T09:01:54.600473Z",
     "iopub.status.idle": "2025-08-13T09:01:54.603504Z",
     "shell.execute_reply": "2025-08-13T09:01:54.603113Z"
    },
    "slideshow": {
     "slide_type": "fragment"
    },
    "tags": []
   },
   "outputs": [
    {
     "name": "stdout",
     "output_type": "stream",
     "text": [
      "[[ 9. 10. 11. 12.]\n",
      " [21. 22. 23. 24.]]\n"
     ]
    }
   ],
   "source": [
    "print(t[1:-1:2, 2:])"
   ]
  },
  {
   "cell_type": "markdown",
   "metadata": {
    "slideshow": {
     "slide_type": "slide"
    },
    "tags": []
   },
   "source": [
    "## Exercise 2.10: Matrix-vector multiplication\n",
    "A matrix $\\mathbf{A}$ and a vector $\\mathbf{b}$, represented in Python as a 2D array and a 1D array, respectively, are given by:\n",
    "\n",
    "$$\n",
    "\\mathbf{A} = \\left\\lbrack\\begin{array}{ccc}\n",
    "0 & 12 & -1\\cr\n",
    "-1 & -1 & -1\\cr\n",
    "11 & 5 & 5\n",
    "\\end{array}\\right\\rbrack\n",
    "$$\n",
    "\n",
    "$$\n",
    "\\mathbf{b} = \\left\\lbrack\\begin{array}{c}\n",
    "-2\\cr\n",
    "1\\cr\n",
    "7\n",
    "\\end{array}\\right\\rbrack\n",
    "$$\n",
    "\n",
    "Multiplying a matrix by a vector results in another vector $\\mathbf{c}$, whose components are defined by the general rule:\n",
    "\n",
    "$$\\mathbf{c}_i = \\sum_j\\mathbf{A}_{i, j}\\mathbf{b}_j$$\n",
    "\n",
    "* Define $\\mathbf{A}$ and $\\mathbf{b}$ as NumPy arrays\n",
    "* Write a function called `multiply` that takes two arguments, a matrix and a vector in the form of NumPy arrays, and returns a NumPy array containing their product.\n",
    "* Call this function on $\\mathbf{A}$ and $\\mathbf{b}$, and store the result in a variable $c$."
   ]
  },
  {
   "cell_type": "code",
   "execution_count": null,
   "metadata": {
    "slideshow": {
     "slide_type": ""
    },
    "tags": []
   },
   "outputs": [
    {
     "name": "stdout",
     "output_type": "stream",
     "text": [
      "[76 10 36]\n",
      "[ 5 -6 18]\n"
     ]
    }
   ],
   "source": [
    "# Uncomment and complete this code - keep the names the same for testing purposes.\n",
    "import numpy as np\n",
    "def multiply(A, b):\n",
    "    \n",
    "    return np.array([sum(A[j,:]*b) for j in range(b.shape[0])])\n",
    "\n",
    "A = np.array([[0,12,-1],[-1,-1,-1],[11,5,5]])\n",
    "b = np.array([-2,1,7])\n",
    "\n",
    "c = multiply(A,b)\n",
    "print(c)"
   ]
  },
  {
   "cell_type": "code",
   "execution_count": null,
   "metadata": {
    "execution": {
     "iopub.execute_input": "2025-08-13T09:01:54.613423Z",
     "iopub.status.busy": "2025-08-13T09:01:54.613287Z",
     "iopub.status.idle": "2025-08-13T09:01:54.639035Z",
     "shell.execute_reply": "2025-08-13T09:01:54.638513Z"
    },
    "slideshow": {
     "slide_type": ""
    },
    "tags": [
     "pybryt"
    ]
   },
   "outputs": [],
   "source": [
    "with pybryt.check(pybryt_reference(2, 10)):\n",
    "    A, b, c, multiply(A, b)"
   ]
  },
  {
   "cell_type": "code",
   "execution_count": 163,
   "metadata": {
    "execution": {
     "iopub.execute_input": "2025-08-13T09:01:54.640680Z",
     "iopub.status.busy": "2025-08-13T09:01:54.640526Z",
     "iopub.status.idle": "2025-08-13T09:01:54.645460Z",
     "shell.execute_reply": "2025-08-13T09:01:54.644933Z"
    },
    "slideshow": {
     "slide_type": ""
    },
    "tags": [
     "nbgrader"
    ]
   },
   "outputs": [],
   "source": [
    "import numbers\n",
    "import numpy as np\n",
    "\n",
    "assert all([isinstance(i, np.ndarray) for i in [A, b, c]])\n",
    "assert b.shape == c.shape\n",
    "assert A.shape == (3, 3)\n",
    "assert np.allclose(multiply(A, b), c)\n",
    "assert np.allclose(multiply(np.identity(3), np.array([5, 9, -11.1])), [5, 9, -11.1])\n",
    "\n",
    "### BEGIN HIDDEN TESTS\n",
    "assert callable(multiply)\n",
    "\n",
    "assert np.allclose(c, [5, -6, 18])\n",
    "\n",
    "assert all([isinstance(i, numbers.Real) for i in A.flatten()])\n",
    "assert all([isinstance(i, numbers.Real) for i in b])\n",
    "assert all([isinstance(i, numbers.Real) for i in c])\n",
    "\n",
    "assert np.allclose(multiply(np.array([[0]]), np.array([0])), [0])\n",
    "### END HIDDEN TESTS"
   ]
  },
  {
   "cell_type": "markdown",
   "metadata": {
    "slideshow": {
     "slide_type": ""
    },
    "tags": []
   },
   "source": [
    "## `@` operator\n",
    "\n",
    "Matrix-matrix or matrix-vector multiplication is a very common operation in computational and data science. Therefore, NumPy provides a convenience operator `@` that can be applied between arrays of compatible shapes for multiplication. For example,"
   ]
  },
  {
   "cell_type": "code",
   "execution_count": 138,
   "metadata": {
    "execution": {
     "iopub.execute_input": "2025-08-13T09:01:54.647147Z",
     "iopub.status.busy": "2025-08-13T09:01:54.646990Z",
     "iopub.status.idle": "2025-08-13T09:01:54.650864Z",
     "shell.execute_reply": "2025-08-13T09:01:54.650109Z"
    },
    "slideshow": {
     "slide_type": ""
    },
    "tags": []
   },
   "outputs": [
    {
     "name": "stdout",
     "output_type": "stream",
     "text": [
      "A = array([[1, 1],\n",
      "       [2, 1]])\n",
      "b = array([1, 2])\n",
      "Ab = array([3, 4])\n"
     ]
    }
   ],
   "source": [
    "A = np.array([[1, 1], [2, 1]])\n",
    "b = np.array([1, 2])\n",
    "Ab = A @ b\n",
    "\n",
    "print(f\"{A = }\")\n",
    "print(f\"{b = }\")\n",
    "print(f\"{Ab = }\")"
   ]
  },
  {
   "cell_type": "markdown",
   "metadata": {
    "slideshow": {
     "slide_type": ""
    },
    "tags": []
   },
   "source": [
    "## Exercise 2.11: Vectorised function\n",
    "\n",
    "Let $A_{33}$ be the two-dimensional array\n",
    "\n",
    "$$\n",
    "\\mathbf{A_{33}} = \\left\\lbrack\\begin{array}{ccc}\n",
    "0 & 12 & -1\\cr\n",
    "-1 & -1 & -1\\cr\n",
    "11 & 5 & 5\n",
    "\\end{array}\\right\\rbrack\n",
    "$$\n",
    "\n",
    "Implement and apply the function\n",
    "\n",
    "$$f(x) = x^3 + xe^x + 1$$\n",
    "\n",
    "to each element in $A_{33}$. Then calculate the result of the array expression ${A_{33}}^3 + A_{33}e^{A_{33}} + 1$, and demonstrate that the end result of the two methods are the same."
   ]
  },
  {
   "cell_type": "code",
   "execution_count": null,
   "metadata": {
    "slideshow": {
     "slide_type": ""
    },
    "tags": []
   },
   "outputs": [
    {
     "name": "stdout",
     "output_type": "stream",
     "text": [
      "[[ 1.00000000e+00  1.95478650e+06 -3.67879441e-01]\n",
      " [-3.67879441e-01 -3.67879441e-01 -3.67879441e-01]\n",
      " [ 6.59947559e+05  8.68065796e+02  8.68065796e+02]]\n"
     ]
    }
   ],
   "source": [
    "# Uncomment and complete this code - keep the names the same for testing purposes.\n",
    "\n",
    "from numpy import exp\n",
    "A33 = np.array([[0,12,-1],[-1,-1,-1],[11,5,5]])\n",
    "\n",
    "def f_cubic(A33):\n",
    "    res = np.zeros((len(A33),len(A33[1])))\n",
    "    for i,row in enumerate(A33):\n",
    "        for j, val in enumerate(row):\n",
    "            res[i,j] = val**3 + val*exp(val)+1\n",
    "    return res\n",
    "\n",
    "\n",
    "    \n",
    "    \n",
    "A33 = f_cubic(A33)\n",
    "print(A33)\n",
    "print(A**3+A*exp(A)+1)"
   ]
  },
  {
   "cell_type": "code",
   "execution_count": null,
   "metadata": {
    "execution": {
     "iopub.execute_input": "2025-08-13T09:01:54.661149Z",
     "iopub.status.busy": "2025-08-13T09:01:54.660998Z",
     "iopub.status.idle": "2025-08-13T09:01:54.675330Z",
     "shell.execute_reply": "2025-08-13T09:01:54.674833Z"
    },
    "slideshow": {
     "slide_type": ""
    },
    "tags": [
     "pybryt"
    ]
   },
   "outputs": [],
   "source": [
    "with pybryt.check(pybryt_reference(2, 11)):\n",
    "    f_cubic(np.array([[1, 2, -6], [2, 2, -5]])), A33"
   ]
  },
  {
   "cell_type": "code",
   "execution_count": 23,
   "metadata": {
    "slideshow": {
     "slide_type": ""
    },
    "tags": [
     "nbgrader"
    ]
   },
   "outputs": [
    {
     "name": "stderr",
     "output_type": "stream",
     "text": [
      "C:\\Users\\jm4122\\AppData\\Local\\Temp\\ipykernel_11896\\1354696469.py:6: RuntimeWarning: overflow encountered in exp\n",
      "  return A**3+A*exp(A)+1\n"
     ]
    },
    {
     "ename": "AssertionError",
     "evalue": "",
     "output_type": "error",
     "traceback": [
      "\u001b[1;31m---------------------------------------------------------------------------\u001b[0m",
      "\u001b[1;31mAssertionError\u001b[0m                            Traceback (most recent call last)",
      "Cell \u001b[1;32mIn[23], line 8\u001b[0m\n\u001b[0;32m      6\u001b[0m \u001b[38;5;28;01massert\u001b[39;00m \u001b[38;5;28mall\u001b[39m([\u001b[38;5;28misinstance\u001b[39m(i, numbers\u001b[38;5;241m.\u001b[39mReal) \u001b[38;5;28;01mfor\u001b[39;00m i \u001b[38;5;129;01min\u001b[39;00m A33\u001b[38;5;241m.\u001b[39mflatten()])\n\u001b[0;32m      7\u001b[0m \u001b[38;5;28;01massert\u001b[39;00m A33\u001b[38;5;241m.\u001b[39mshape \u001b[38;5;241m==\u001b[39m f_cubic(A33)\u001b[38;5;241m.\u001b[39mshape \u001b[38;5;241m==\u001b[39m (\u001b[38;5;241m3\u001b[39m, \u001b[38;5;241m3\u001b[39m)\n\u001b[1;32m----> 8\u001b[0m \u001b[38;5;28;01massert\u001b[39;00m np\u001b[38;5;241m.\u001b[39misclose(np\u001b[38;5;241m.\u001b[39msum(A33), \u001b[38;5;241m29\u001b[39m)\n\u001b[0;32m     10\u001b[0m \u001b[38;5;66;03m### BEGIN HIDDEN TESTS\u001b[39;00m\n\u001b[0;32m     11\u001b[0m \u001b[38;5;28;01massert\u001b[39;00m \u001b[38;5;28mcallable\u001b[39m(f_cubic)\n",
      "\u001b[1;31mAssertionError\u001b[0m: "
     ]
    }
   ],
   "source": [
    "import numbers\n",
    "import numpy as np\n",
    "\n",
    "res = f_cubic(A33)\n",
    "assert isinstance(A33, np.ndarray)\n",
    "assert all([isinstance(i, numbers.Real) for i in A33.flatten()])\n",
    "assert A33.shape == f_cubic(A33).shape == (3, 3)\n",
    "assert np.isclose(np.sum(A33), 29)\n",
    "\n",
    "### BEGIN HIDDEN TESTS\n",
    "assert callable(f_cubic)\n",
    "assert np.allclose(f_cubic(A33), np.power(A33, 3) + np.multiply(A33, np.exp(A33)) + 1)\n",
    "assert all([isinstance(i, numbers.Real) for i in res.flatten()])\n",
    "assert np.allclose(f_cubic(np.array([0])), 1)\n",
    "### END HIDDEN TESTS"
   ]
  },
  {
   "cell_type": "markdown",
   "metadata": {
    "slideshow": {
     "slide_type": ""
    },
    "tags": []
   },
   "source": [
    "## Exercise 2.12: Matrix-matrix multiplication\n",
    "\n",
    "The general rule for multiplying an $n \\times m$ matrix $\\mathbf{A}$ by a $m \\times p$ matrix $\\mathbf{B}$ results in a $n \\times p$ matrix $\\mathbf{C}$, whose components are defined by the general rule\n",
    "\n",
    "$$\\mathbf{C}_{i,j} = \\sum^m_{k=1}\\mathbf{A}_{i,k}\\mathbf{B}_{k,j}$$\n",
    "\n",
    "Again let $\\mathbf{A}$ be the two-dimensional array\n",
    "\n",
    "$$\n",
    "\\mathbf{A} = \\left\\lbrack\\begin{array}{ccc}\n",
    "0 & 12 & -1\\cr\n",
    "-1 & -1 & -1\\cr\n",
    "11 & 5 & 5\n",
    "\\end{array}\\right\\rbrack\n",
    "$$\n",
    "\n",
    "and let $\\mathbf{B}$ be the two-dimensional array\n",
    "\n",
    "$$\n",
    "\\mathbf{B} = \\left\\lbrack\\begin{array}{ccc}\n",
    "-2 & 1 & 7\\cr\n",
    "3 & 0 & 6\\cr\n",
    "2 & 3 & 5\n",
    "\\end{array}\\right\\rbrack.\n",
    "$$\n",
    "\n",
    "Define `A` and `B` as NumPy arrays, and write a function `f_mult` which multiplies them together using the above rule. Save the result of multiplication `f_mult(A, B)` in variable `C`."
   ]
  },
  {
   "cell_type": "code",
   "execution_count": 15,
   "metadata": {
    "slideshow": {
     "slide_type": ""
    },
    "tags": []
   },
   "outputs": [
    {
     "name": "stdout",
     "output_type": "stream",
     "text": [
      "34\n",
      "-3\n",
      "67\n",
      "-3\n",
      "-4\n",
      "-18\n",
      "3\n",
      "26\n",
      "132\n",
      "[[ 34.  -3.  67.]\n",
      " [ -3.  -4. -18.]\n",
      " [  3.  26. 132.]]\n"
     ]
    }
   ],
   "source": [
    "# Uncomment and complete this code - keep the names the same for testing purposes.\n",
    "\n",
    "def f_mult(A, B):\n",
    "    if A.shape[1] != B.shape[0]:\n",
    "        raise RuntimeError('Matrix A should have the same number of columns as B has rows.')\n",
    "    res = np.zeros([A.shape[0], B.shape[1]])\n",
    "    \n",
    "    for i in range(A.shape[0]):\n",
    "        for j in range(B.shape[1]):\n",
    "            total = 0\n",
    "            for k in range(A.shape[1]):\n",
    "                \n",
    "                total += A[i,k]*np.transpose(B)[j,k]\n",
    "            print(total) \n",
    "            res[i,j] = total\n",
    "    return res\n",
    "\n",
    "A = np.array([[0,12,-1],[-1,-1,-1],[11,5,5]])\n",
    "B = np.array([[-2,1,7],[3,0,6],[2,3,5]])\n",
    "C = f_mult(A, B)\n",
    "print(C)"
   ]
  },
  {
   "cell_type": "code",
   "execution_count": null,
   "metadata": {
    "execution": {
     "iopub.execute_input": "2025-08-13T09:01:54.693511Z",
     "iopub.status.busy": "2025-08-13T09:01:54.693338Z",
     "iopub.status.idle": "2025-08-13T09:01:54.717563Z",
     "shell.execute_reply": "2025-08-13T09:01:54.717016Z"
    },
    "slideshow": {
     "slide_type": ""
    },
    "tags": [
     "pybryt"
    ]
   },
   "outputs": [],
   "source": [
    "with pybryt.check(pybryt_reference(2, 12)):\n",
    "    f_mult(np.array([[5, 6], [11, 17]]), np.array([[91, -6], [21, 14]])), A, B"
   ]
  },
  {
   "cell_type": "code",
   "execution_count": 27,
   "metadata": {
    "slideshow": {
     "slide_type": ""
    },
    "tags": [
     "nbgrader"
    ]
   },
   "outputs": [
    {
     "name": "stdout",
     "output_type": "stream",
     "text": [
      "34\n",
      "-3\n",
      "67\n",
      "-3\n",
      "-4\n",
      "-18\n",
      "3\n",
      "26\n",
      "132\n",
      "0.0\n",
      "0.0\n",
      "0.0\n",
      "0.0\n",
      "0.0\n",
      "0.0\n",
      "0.0\n",
      "0.0\n",
      "0.0\n",
      "1.0\n",
      "0.0\n",
      "0.0\n",
      "0.0\n",
      "0.0\n",
      "0.0\n",
      "0.0\n",
      "0.0\n",
      "0.0\n",
      "0.0\n",
      "0.0\n",
      "1.0\n",
      "0.0\n",
      "0.0\n",
      "0.0\n",
      "0.0\n",
      "0.0\n",
      "0.0\n",
      "0.0\n",
      "0.0\n",
      "0.0\n",
      "0.0\n",
      "1.0\n",
      "0.0\n",
      "0.0\n",
      "0.0\n",
      "0.0\n",
      "0.0\n",
      "0.0\n",
      "0.0\n",
      "0.0\n",
      "0.0\n",
      "0.0\n",
      "1.0\n",
      "0.0\n",
      "0.0\n",
      "0.0\n",
      "0.0\n",
      "0.0\n",
      "0.0\n",
      "0.0\n",
      "0.0\n",
      "0.0\n",
      "0.0\n",
      "1.0\n",
      "0.0\n",
      "0.0\n",
      "0.0\n",
      "0.0\n",
      "0.0\n",
      "0.0\n",
      "0.0\n",
      "0.0\n",
      "0.0\n",
      "0.0\n",
      "1.0\n",
      "0.0\n",
      "0.0\n",
      "0.0\n",
      "0.0\n",
      "0.0\n",
      "0.0\n",
      "0.0\n",
      "0.0\n",
      "0.0\n",
      "0.0\n",
      "1.0\n",
      "0.0\n",
      "0.0\n",
      "0.0\n",
      "0.0\n",
      "0.0\n",
      "0.0\n",
      "0.0\n",
      "0.0\n",
      "0.0\n",
      "0.0\n",
      "1.0\n",
      "0.0\n",
      "0.0\n",
      "0.0\n",
      "0.0\n",
      "0.0\n",
      "0.0\n",
      "0.0\n",
      "0.0\n",
      "0.0\n",
      "0.0\n",
      "1.0\n",
      "0.0\n",
      "0.0\n",
      "0.0\n",
      "0.0\n",
      "0.0\n",
      "0.0\n",
      "0.0\n",
      "0.0\n",
      "0.0\n",
      "0.0\n",
      "1.0\n"
     ]
    }
   ],
   "source": [
    "import numbers\n",
    "import numpy as np\n",
    "\n",
    "assert all([isinstance(i, np.ndarray) for i in [A, B, C]])\n",
    "assert A.shape == B.shape == C.shape == (3, 3)\n",
    "assert np.isclose(np.sum(A), 29)\n",
    "assert np.isclose(np.sum(B), 25)\n",
    "\n",
    "assert all([isinstance(i, numbers.Real) for i in A.flatten()])\n",
    "assert all([isinstance(i, numbers.Real) for i in B.flatten()])\n",
    "assert all([isinstance(i, numbers.Real) for i in C.flatten()])\n",
    "\n",
    "#assert A33.shape == f_cubic(A33).shape == (3, 3)\n",
    "#assert np.isclose(np.sum(A33), 29)\n",
    "\n",
    "### BEGIN HIDDEN TESTS\n",
    "assert callable(f_mult)\n",
    "assert np.allclose(C, np.array([[34, -3, 67], [-3, -4, -18], [3, 26, 132]]))\n",
    "assert np.allclose(C, f_mult(A, B))\n",
    "assert np.allclose(f_mult(np.zeros((3, 3)), np.zeros((3, 3))), 0)\n",
    "assert np.allclose(f_mult(np.identity(10), np.identity(10)), np.identity(10))\n",
    "### END HIDDEN TESTS"
   ]
  },
  {
   "cell_type": "markdown",
   "metadata": {
    "slideshow": {
     "slide_type": ""
    },
    "tags": []
   },
   "source": [
    "## Exercise 2.13: 2D array slicing\n",
    "\n",
    "\n",
    "* Create a 1D NumPy array called `odd` with all of the odd numbers from 1 to 55\n",
    "* Create a 2D NumPy array called `odd_sq` with all of the odd numbers from 1 to 55 in a matrix with 4 rows and 7 columns\n",
    "* Using array slicing, create a 2D NumPy array called, `odd_bits`, that starts from the $2^{nd}$ column of `odd_sq` and selects every other column, of only the $2^{nd}$ and $3^{rd}$ rows of `odd_sq`."
   ]
  },
  {
   "cell_type": "code",
   "execution_count": null,
   "metadata": {
    "slideshow": {
     "slide_type": ""
    },
    "tags": []
   },
   "outputs": [
    {
     "name": "stdout",
     "output_type": "stream",
     "text": [
      "[[ 1  3  5  7  9 11 13]\n",
      " [15 17 19 21 23 25 27]\n",
      " [29 31 33 35 37 39 41]\n",
      " [43 45 47 49 51 53 55]]\n",
      "[[33 37 41]]\n"
     ]
    }
   ],
   "source": [
    "# Uncomment and complete this code - keep the names the same for testing purposes.\n",
    "\n",
    "import numpy as np\n",
    "\n",
    "odd = np.array([i for i in range(1,56,2)])\n",
    "print(type(odd))\n",
    "odd_sq = odd.reshape(4,7)\n",
    "print(odd_sq)\n",
    "odd_bits =odd_sq[1:3,1::2]\n",
    "print(odd_bits)"
   ]
  },
  {
   "cell_type": "code",
   "execution_count": null,
   "metadata": {
    "execution": {
     "iopub.execute_input": "2025-08-13T09:01:54.735815Z",
     "iopub.status.busy": "2025-08-13T09:01:54.735636Z",
     "iopub.status.idle": "2025-08-13T09:01:54.744064Z",
     "shell.execute_reply": "2025-08-13T09:01:54.743484Z"
    },
    "slideshow": {
     "slide_type": ""
    },
    "tags": [
     "pybryt"
    ]
   },
   "outputs": [],
   "source": [
    "with pybryt.check(pybryt_reference(2, 13)):\n",
    "    odd, odd_sq, odd_bits"
   ]
  },
  {
   "cell_type": "code",
   "execution_count": 47,
   "metadata": {
    "slideshow": {
     "slide_type": ""
    },
    "tags": [
     "nbgrader"
    ]
   },
   "outputs": [
    {
     "ename": "AssertionError",
     "evalue": "",
     "output_type": "error",
     "traceback": [
      "\u001b[1;31m---------------------------------------------------------------------------\u001b[0m",
      "\u001b[1;31mAssertionError\u001b[0m                            Traceback (most recent call last)",
      "Cell \u001b[1;32mIn[47], line 7\u001b[0m\n\u001b[0;32m      5\u001b[0m \u001b[38;5;28;01massert\u001b[39;00m odd\u001b[38;5;241m.\u001b[39mshape \u001b[38;5;241m==\u001b[39m (\u001b[38;5;241m28\u001b[39m,)\n\u001b[0;32m      6\u001b[0m \u001b[38;5;28;01massert\u001b[39;00m odd_sq\u001b[38;5;241m.\u001b[39mshape \u001b[38;5;241m==\u001b[39m (\u001b[38;5;241m4\u001b[39m, \u001b[38;5;241m7\u001b[39m)\n\u001b[1;32m----> 7\u001b[0m \u001b[38;5;28;01massert\u001b[39;00m odd_bits\u001b[38;5;241m.\u001b[39mshape \u001b[38;5;241m==\u001b[39m (\u001b[38;5;241m2\u001b[39m, \u001b[38;5;241m3\u001b[39m)\n\u001b[0;32m      8\u001b[0m \u001b[38;5;28;01massert\u001b[39;00m \u001b[38;5;28mall\u001b[39m([i \u001b[38;5;241m%\u001b[39m \u001b[38;5;241m2\u001b[39m \u001b[38;5;28;01mfor\u001b[39;00m i \u001b[38;5;129;01min\u001b[39;00m odd])\n\u001b[0;32m     10\u001b[0m \u001b[38;5;66;03m### BEGIN HIDDEN TESTS\u001b[39;00m\n",
      "\u001b[1;31mAssertionError\u001b[0m: "
     ]
    }
   ],
   "source": [
    "import numbers\n",
    "import numpy as np\n",
    "\n",
    "assert all(isinstance(i, np.ndarray) for i in [odd, odd_sq, odd_bits])\n",
    "assert odd.shape == (28,)\n",
    "assert odd_sq.shape == (4, 7)\n",
    "assert odd_bits.shape == (2, 3)\n",
    "assert all([i % 2 for i in odd])\n",
    "\n",
    "### BEGIN HIDDEN TESTS\n",
    "res = np.arange(1, 56, 2)\n",
    "assert np.allclose(odd, np.arange(1, 56, 2))\n",
    "assert np.allclose(odd_sq, np.arange(1, 56, 2).reshape(4, 7))\n",
    "assert np.allclose(odd_bits, np.arange(1, 56, 2).reshape(4, 7)[1:3, 1::2])\n",
    "### END HIDDEN TESTS"
   ]
  }
 ],
 "metadata": {
  "celltoolbar": "Tags",
  "kernelspec": {
   "display_name": "Python [conda env:base] *",
   "language": "python",
   "name": "conda-base-py"
  },
  "language_info": {
   "codemirror_mode": {
    "name": "ipython",
    "version": 3
   },
   "file_extension": ".py",
   "mimetype": "text/x-python",
   "name": "python",
   "nbconvert_exporter": "python",
   "pygments_lexer": "ipython3",
   "version": "3.12.3"
  }
 },
 "nbformat": 4,
 "nbformat_minor": 4
}
